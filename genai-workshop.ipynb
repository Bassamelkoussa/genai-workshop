{
 "cells": [
  {
   "cell_type": "markdown",
   "source": [
    "# Neo4j Generative AI Workshop"
   ],
   "metadata": {
    "collapsed": false,
    "id": "I8F3XGz_dyXc"
   }
  },
  {
   "cell_type": "markdown",
   "source": [
    "## Setup"
   ],
   "metadata": {
    "collapsed": false,
    "id": "cmjr1dz8dyXd"
   }
  },
  {
   "cell_type": "code",
   "execution_count": 1,
   "outputs": [],
   "source": [
    "%%capture\n",
    "%pip install sentence_transformers langchain openai tiktoken python-dotenv gradio graphdatascience"
   ],
   "metadata": {
    "id": "OOR5YnnkdyXd"
   }
  },
  {
   "cell_type": "code",
   "execution_count": 107,
   "outputs": [],
   "source": [
    "from graphdatascience import GraphDataScience\n",
    "from dotenv import load_dotenv\n",
    "import os\n",
    "import pandas as pd\n",
    "import numpy as np\n",
    "from datetime import datetime, timedelta\n",
    "from langchain.embeddings import OpenAIEmbeddings, BedrockEmbeddings, SentenceTransformerEmbeddings"
   ],
   "metadata": {
    "id": "7psF1otOdyXe"
   }
  },
  {
   "cell_type": "markdown",
   "source": [
    "### Setup Credentials and Environment Variables\n",
    "\n",
    "To make this easy, you can write the credentials and env variables directly into the below cell\n",
    "\n",
    "If you like you can use an environments file instead by copying `ws.env.template` to `ws.env` and filling credentials and variables in there. This is a best practice for the future, but fine to skip for this workshop."
   ],
   "metadata": {
    "collapsed": false,
    "id": "_ar1ZFhPdyXe"
   }
  },
  {
   "cell_type": "code",
   "execution_count": 108,
   "outputs": [],
   "source": [
    "# Neo4j\n",
    "NEO4J_URI = 'bolt://localhost:7687' #change this\n",
    "NEO4J_PASSWORD = 'password' #cahnge this\n",
    "NEO4J_USERNAME = 'neo4j'\n",
    "AURA_DS = False\n",
    "\n",
    "# AI\n",
    "EMBEDDING_MODEL = 'openai' #or sentence_transformer or aws\n",
    "LLM = 'gpt-3.5' #LLM=gpt-3.5 #or gpt-4 or claudev2\n",
    "\n",
    "# OpenAI - Required when using OpenAI models\n",
    "os.environ['OPENAI_API_KEY'] = 'sk-...' #cahnge this\n",
    "\n",
    "# AWS - Only required when using AWS Bedrock models\n",
    "#os.environ['AWS_ACCESS_KEY_ID'] =\n",
    "#os.environ['AWS_SECRET_ACCESS_KEY'] =\n",
    "#os.environ['AWS_DEFAULT_REGION=us-east-1'] ="
   ],
   "metadata": {
    "collapsed": false
   }
  },
  {
   "cell_type": "code",
   "execution_count": 109,
   "outputs": [],
   "source": [
    "# You can skip this if not using a ws.env file\n",
    "if os.path.exists('ws.env'):\n",
    "    load_dotenv('ws.env', override=True)\n",
    "\n",
    "    # Neo4j\n",
    "    NEO4J_URI = os.getenv('NEO4J_URI')\n",
    "    NEO4J_USERNAME = os.getenv('NEO4J_USERNAME')\n",
    "    NEO4J_PASSWORD = os.getenv('NEO4J_PASSWORD')\n",
    "    AURA_DS = eval(os.getenv('AURA_DS').title())\n",
    "\n",
    "    # AI\n",
    "    EMBEDDING_MODEL = os.getenv('EMBEDDING_MODEL')\n",
    "    LLM = os.getenv('LLM')"
   ],
   "metadata": {
    "id": "o-98NuINdyXe"
   }
  },
  {
   "cell_type": "markdown",
   "source": [
    "## Knowledge Graph Building"
   ],
   "metadata": {
    "collapsed": false,
    "id": "67Tm1p3LdyXe"
   }
  },
  {
   "cell_type": "markdown",
   "source": [
    "### Get Source Data"
   ],
   "metadata": {
    "collapsed": false,
    "id": "Jgp5iwPGdyXe"
   }
  },
  {
   "cell_type": "code",
   "execution_count": 110,
   "outputs": [
    {
     "data": {
      "text/plain": "     departmentNo              departmentName  sectionNo  \\\n0            1676                Jersey Basic         16   \n1            1339              Clean Lingerie         61   \n2            3608                Tights basic         62   \n3            5883                Jersey Basic         26   \n4            2032                      Jersey          8   \n..            ...                         ...        ...   \n261          7510                       Woven         28   \n262          3420  Small Accessories Extended         66   \n263          5231                      Jacket         31   \n264          8090       Promotion/Other/Offer         29   \n265          5888                      Blanks         26   \n\n                        sectionName  \n0            Womens Everyday Basics  \n1                   Womens Lingerie  \n2    Womens Nightwear, Socks & Tigh  \n3                     Men Underwear  \n4                              Mama  \n..                              ...  \n261                     Men Edition  \n262        Womens Small accessories  \n263                  Mens Outerwear  \n264                       Men Other  \n265                   Men Underwear  \n\n[266 rows x 4 columns]",
      "text/html": "<div>\n<style scoped>\n    .dataframe tbody tr th:only-of-type {\n        vertical-align: middle;\n    }\n\n    .dataframe tbody tr th {\n        vertical-align: top;\n    }\n\n    .dataframe thead th {\n        text-align: right;\n    }\n</style>\n<table border=\"1\" class=\"dataframe\">\n  <thead>\n    <tr style=\"text-align: right;\">\n      <th></th>\n      <th>departmentNo</th>\n      <th>departmentName</th>\n      <th>sectionNo</th>\n      <th>sectionName</th>\n    </tr>\n  </thead>\n  <tbody>\n    <tr>\n      <th>0</th>\n      <td>1676</td>\n      <td>Jersey Basic</td>\n      <td>16</td>\n      <td>Womens Everyday Basics</td>\n    </tr>\n    <tr>\n      <th>1</th>\n      <td>1339</td>\n      <td>Clean Lingerie</td>\n      <td>61</td>\n      <td>Womens Lingerie</td>\n    </tr>\n    <tr>\n      <th>2</th>\n      <td>3608</td>\n      <td>Tights basic</td>\n      <td>62</td>\n      <td>Womens Nightwear, Socks &amp; Tigh</td>\n    </tr>\n    <tr>\n      <th>3</th>\n      <td>5883</td>\n      <td>Jersey Basic</td>\n      <td>26</td>\n      <td>Men Underwear</td>\n    </tr>\n    <tr>\n      <th>4</th>\n      <td>2032</td>\n      <td>Jersey</td>\n      <td>8</td>\n      <td>Mama</td>\n    </tr>\n    <tr>\n      <th>...</th>\n      <td>...</td>\n      <td>...</td>\n      <td>...</td>\n      <td>...</td>\n    </tr>\n    <tr>\n      <th>261</th>\n      <td>7510</td>\n      <td>Woven</td>\n      <td>28</td>\n      <td>Men Edition</td>\n    </tr>\n    <tr>\n      <th>262</th>\n      <td>3420</td>\n      <td>Small Accessories Extended</td>\n      <td>66</td>\n      <td>Womens Small accessories</td>\n    </tr>\n    <tr>\n      <th>263</th>\n      <td>5231</td>\n      <td>Jacket</td>\n      <td>31</td>\n      <td>Mens Outerwear</td>\n    </tr>\n    <tr>\n      <th>264</th>\n      <td>8090</td>\n      <td>Promotion/Other/Offer</td>\n      <td>29</td>\n      <td>Men Other</td>\n    </tr>\n    <tr>\n      <th>265</th>\n      <td>5888</td>\n      <td>Blanks</td>\n      <td>26</td>\n      <td>Men Underwear</td>\n    </tr>\n  </tbody>\n</table>\n<p>266 rows × 4 columns</p>\n</div>"
     },
     "execution_count": 110,
     "metadata": {},
     "output_type": "execute_result"
    }
   ],
   "source": [
    "department_df = pd.read_csv('https://storage.googleapis.com/neo4j-workshop-data/genai-hm/department.csv')\n",
    "department_df"
   ],
   "metadata": {
    "id": "R-ihbseCdyXe",
    "outputId": "cee470cd-305b-43ed-88fa-2c179e63dc92"
   }
  },
  {
   "cell_type": "code",
   "execution_count": 111,
   "outputs": [
    {
     "data": {
      "text/plain": "      productCode                   prodName  productTypeNo   productTypeName  \\\n0          108775                  Strap top            253          Vest top   \n1          110065          OP T-shirt (Idro)            306               Bra   \n2          111565        20 den 1p Stockings            304  Underwear Tights   \n3          111586  Shape Up 30 den 1p Tights            273   Leggings/Tights   \n4          111593   Support 40 den 1p Tights            304  Underwear Tights   \n...           ...                        ...            ...               ...   \n8039       936862            EDC Marla dress            265             Dress   \n8040       936979     Class Filippa Necklace             77          Necklace   \n8041       937138   Flirty Albin bracelet pk             68          Bracelet   \n8042       942187               ED Sasha tee            255           T-shirt   \n8043       952938                  Elton top            254               Top   \n\n        productGroupName  garmentGroupNo   garmentGroupName  \\\n0     Garment Upper body            1002       Jersey Basic   \n1              Underwear            1017  Under-, Nightwear   \n2         Socks & Tights            1021   Socks and Tights   \n3     Garment Lower body            1021   Socks and Tights   \n4         Socks & Tights            1021   Socks and Tights   \n...                  ...             ...                ...   \n8039   Garment Full body            1023     Special Offers   \n8040         Accessories            1019        Accessories   \n8041         Accessories            1019        Accessories   \n8042  Garment Upper body            1005       Jersey Fancy   \n8043  Garment Upper body            1005       Jersey Fancy   \n\n                                             detailDesc  \n0               Jersey top with narrow shoulder straps.  \n1     Microfibre T-shirt bra with underwired, moulde...  \n2     Semi shiny nylon stockings with a wide, reinfo...  \n3     Tights with built-in support to lift the botto...  \n4     Semi shiny tights that shape the tummy, thighs...  \n...                                                 ...  \n8039  Calf-length dress in a patterned Tencel™ lyoce...  \n8040  Metal chain necklace with a pendant. Adjustabl...  \n8041  Metal chain bracelets. Two plain and two with ...  \n8042  Oversized, straight-cut T-shirt in a soft moda...  \n8043  Fitted top in jersey with a round neckline and...  \n\n[8044 rows x 8 columns]",
      "text/html": "<div>\n<style scoped>\n    .dataframe tbody tr th:only-of-type {\n        vertical-align: middle;\n    }\n\n    .dataframe tbody tr th {\n        vertical-align: top;\n    }\n\n    .dataframe thead th {\n        text-align: right;\n    }\n</style>\n<table border=\"1\" class=\"dataframe\">\n  <thead>\n    <tr style=\"text-align: right;\">\n      <th></th>\n      <th>productCode</th>\n      <th>prodName</th>\n      <th>productTypeNo</th>\n      <th>productTypeName</th>\n      <th>productGroupName</th>\n      <th>garmentGroupNo</th>\n      <th>garmentGroupName</th>\n      <th>detailDesc</th>\n    </tr>\n  </thead>\n  <tbody>\n    <tr>\n      <th>0</th>\n      <td>108775</td>\n      <td>Strap top</td>\n      <td>253</td>\n      <td>Vest top</td>\n      <td>Garment Upper body</td>\n      <td>1002</td>\n      <td>Jersey Basic</td>\n      <td>Jersey top with narrow shoulder straps.</td>\n    </tr>\n    <tr>\n      <th>1</th>\n      <td>110065</td>\n      <td>OP T-shirt (Idro)</td>\n      <td>306</td>\n      <td>Bra</td>\n      <td>Underwear</td>\n      <td>1017</td>\n      <td>Under-, Nightwear</td>\n      <td>Microfibre T-shirt bra with underwired, moulde...</td>\n    </tr>\n    <tr>\n      <th>2</th>\n      <td>111565</td>\n      <td>20 den 1p Stockings</td>\n      <td>304</td>\n      <td>Underwear Tights</td>\n      <td>Socks &amp; Tights</td>\n      <td>1021</td>\n      <td>Socks and Tights</td>\n      <td>Semi shiny nylon stockings with a wide, reinfo...</td>\n    </tr>\n    <tr>\n      <th>3</th>\n      <td>111586</td>\n      <td>Shape Up 30 den 1p Tights</td>\n      <td>273</td>\n      <td>Leggings/Tights</td>\n      <td>Garment Lower body</td>\n      <td>1021</td>\n      <td>Socks and Tights</td>\n      <td>Tights with built-in support to lift the botto...</td>\n    </tr>\n    <tr>\n      <th>4</th>\n      <td>111593</td>\n      <td>Support 40 den 1p Tights</td>\n      <td>304</td>\n      <td>Underwear Tights</td>\n      <td>Socks &amp; Tights</td>\n      <td>1021</td>\n      <td>Socks and Tights</td>\n      <td>Semi shiny tights that shape the tummy, thighs...</td>\n    </tr>\n    <tr>\n      <th>...</th>\n      <td>...</td>\n      <td>...</td>\n      <td>...</td>\n      <td>...</td>\n      <td>...</td>\n      <td>...</td>\n      <td>...</td>\n      <td>...</td>\n    </tr>\n    <tr>\n      <th>8039</th>\n      <td>936862</td>\n      <td>EDC Marla dress</td>\n      <td>265</td>\n      <td>Dress</td>\n      <td>Garment Full body</td>\n      <td>1023</td>\n      <td>Special Offers</td>\n      <td>Calf-length dress in a patterned Tencel™ lyoce...</td>\n    </tr>\n    <tr>\n      <th>8040</th>\n      <td>936979</td>\n      <td>Class Filippa Necklace</td>\n      <td>77</td>\n      <td>Necklace</td>\n      <td>Accessories</td>\n      <td>1019</td>\n      <td>Accessories</td>\n      <td>Metal chain necklace with a pendant. Adjustabl...</td>\n    </tr>\n    <tr>\n      <th>8041</th>\n      <td>937138</td>\n      <td>Flirty Albin bracelet pk</td>\n      <td>68</td>\n      <td>Bracelet</td>\n      <td>Accessories</td>\n      <td>1019</td>\n      <td>Accessories</td>\n      <td>Metal chain bracelets. Two plain and two with ...</td>\n    </tr>\n    <tr>\n      <th>8042</th>\n      <td>942187</td>\n      <td>ED Sasha tee</td>\n      <td>255</td>\n      <td>T-shirt</td>\n      <td>Garment Upper body</td>\n      <td>1005</td>\n      <td>Jersey Fancy</td>\n      <td>Oversized, straight-cut T-shirt in a soft moda...</td>\n    </tr>\n    <tr>\n      <th>8043</th>\n      <td>952938</td>\n      <td>Elton top</td>\n      <td>254</td>\n      <td>Top</td>\n      <td>Garment Upper body</td>\n      <td>1005</td>\n      <td>Jersey Fancy</td>\n      <td>Fitted top in jersey with a round neckline and...</td>\n    </tr>\n  </tbody>\n</table>\n<p>8044 rows × 8 columns</p>\n</div>"
     },
     "execution_count": 111,
     "metadata": {},
     "output_type": "execute_result"
    }
   ],
   "source": [
    "product_df = pd.read_csv('https://storage.googleapis.com/neo4j-workshop-data/genai-hm/product.csv')\n",
    "product_df"
   ],
   "metadata": {
    "id": "viWnTvAkdyXf",
    "outputId": "d838fbdc-08cd-4ba5-cde1-2600d7ef742e"
   }
  },
  {
   "cell_type": "code",
   "execution_count": 112,
   "outputs": [
    {
     "data": {
      "text/plain": "       articleId  productCode  departmentNo                   prodName  \\\n0      108775015       108775          1676                  Strap top   \n1      108775044       108775          1676                  Strap top   \n2      110065001       110065          1339          OP T-shirt (Idro)   \n3      111565001       111565          3608        20 den 1p Stockings   \n4      111586001       111586          3608  Shape Up 30 den 1p Tights   \n...          ...          ...           ...                        ...   \n13346  936862001       936862          3090            EDC Marla dress   \n13347  936979001       936979          4344     Class Filippa Necklace   \n13348  937138001       937138          4345   Flirty Albin bracelet pk   \n13349  942187001       942187          1919               ED Sasha tee   \n13350  952938001       952938          1641                  Elton top   \n\n        productTypeName  graphicalAppearanceNo graphicalAppearanceName  \\\n0              Vest top                1010016                   Solid   \n1              Vest top                1010016                   Solid   \n2                   Bra                1010016                   Solid   \n3      Underwear Tights                1010016                   Solid   \n4       Leggings/Tights                1010016                   Solid   \n...                 ...                    ...                     ...   \n13346             Dress                1010001        All over pattern   \n13347          Necklace                1010016                   Solid   \n13348          Bracelet                1010016                   Solid   \n13349           T-shirt                1010016                   Solid   \n13350               Top                1010001        All over pattern   \n\n       colourGroupCode colourGroupName  \n0                    9           Black  \n1                   10           White  \n2                    9           Black  \n3                    9           Black  \n4                    9           Black  \n...                ...             ...  \n13346               52            Pink  \n13347                5            Gold  \n13348                5            Gold  \n13349                9           Black  \n13350               13           Beige  \n\n[13351 rows x 9 columns]",
      "text/html": "<div>\n<style scoped>\n    .dataframe tbody tr th:only-of-type {\n        vertical-align: middle;\n    }\n\n    .dataframe tbody tr th {\n        vertical-align: top;\n    }\n\n    .dataframe thead th {\n        text-align: right;\n    }\n</style>\n<table border=\"1\" class=\"dataframe\">\n  <thead>\n    <tr style=\"text-align: right;\">\n      <th></th>\n      <th>articleId</th>\n      <th>productCode</th>\n      <th>departmentNo</th>\n      <th>prodName</th>\n      <th>productTypeName</th>\n      <th>graphicalAppearanceNo</th>\n      <th>graphicalAppearanceName</th>\n      <th>colourGroupCode</th>\n      <th>colourGroupName</th>\n    </tr>\n  </thead>\n  <tbody>\n    <tr>\n      <th>0</th>\n      <td>108775015</td>\n      <td>108775</td>\n      <td>1676</td>\n      <td>Strap top</td>\n      <td>Vest top</td>\n      <td>1010016</td>\n      <td>Solid</td>\n      <td>9</td>\n      <td>Black</td>\n    </tr>\n    <tr>\n      <th>1</th>\n      <td>108775044</td>\n      <td>108775</td>\n      <td>1676</td>\n      <td>Strap top</td>\n      <td>Vest top</td>\n      <td>1010016</td>\n      <td>Solid</td>\n      <td>10</td>\n      <td>White</td>\n    </tr>\n    <tr>\n      <th>2</th>\n      <td>110065001</td>\n      <td>110065</td>\n      <td>1339</td>\n      <td>OP T-shirt (Idro)</td>\n      <td>Bra</td>\n      <td>1010016</td>\n      <td>Solid</td>\n      <td>9</td>\n      <td>Black</td>\n    </tr>\n    <tr>\n      <th>3</th>\n      <td>111565001</td>\n      <td>111565</td>\n      <td>3608</td>\n      <td>20 den 1p Stockings</td>\n      <td>Underwear Tights</td>\n      <td>1010016</td>\n      <td>Solid</td>\n      <td>9</td>\n      <td>Black</td>\n    </tr>\n    <tr>\n      <th>4</th>\n      <td>111586001</td>\n      <td>111586</td>\n      <td>3608</td>\n      <td>Shape Up 30 den 1p Tights</td>\n      <td>Leggings/Tights</td>\n      <td>1010016</td>\n      <td>Solid</td>\n      <td>9</td>\n      <td>Black</td>\n    </tr>\n    <tr>\n      <th>...</th>\n      <td>...</td>\n      <td>...</td>\n      <td>...</td>\n      <td>...</td>\n      <td>...</td>\n      <td>...</td>\n      <td>...</td>\n      <td>...</td>\n      <td>...</td>\n    </tr>\n    <tr>\n      <th>13346</th>\n      <td>936862001</td>\n      <td>936862</td>\n      <td>3090</td>\n      <td>EDC Marla dress</td>\n      <td>Dress</td>\n      <td>1010001</td>\n      <td>All over pattern</td>\n      <td>52</td>\n      <td>Pink</td>\n    </tr>\n    <tr>\n      <th>13347</th>\n      <td>936979001</td>\n      <td>936979</td>\n      <td>4344</td>\n      <td>Class Filippa Necklace</td>\n      <td>Necklace</td>\n      <td>1010016</td>\n      <td>Solid</td>\n      <td>5</td>\n      <td>Gold</td>\n    </tr>\n    <tr>\n      <th>13348</th>\n      <td>937138001</td>\n      <td>937138</td>\n      <td>4345</td>\n      <td>Flirty Albin bracelet pk</td>\n      <td>Bracelet</td>\n      <td>1010016</td>\n      <td>Solid</td>\n      <td>5</td>\n      <td>Gold</td>\n    </tr>\n    <tr>\n      <th>13349</th>\n      <td>942187001</td>\n      <td>942187</td>\n      <td>1919</td>\n      <td>ED Sasha tee</td>\n      <td>T-shirt</td>\n      <td>1010016</td>\n      <td>Solid</td>\n      <td>9</td>\n      <td>Black</td>\n    </tr>\n    <tr>\n      <th>13350</th>\n      <td>952938001</td>\n      <td>952938</td>\n      <td>1641</td>\n      <td>Elton top</td>\n      <td>Top</td>\n      <td>1010001</td>\n      <td>All over pattern</td>\n      <td>13</td>\n      <td>Beige</td>\n    </tr>\n  </tbody>\n</table>\n<p>13351 rows × 9 columns</p>\n</div>"
     },
     "execution_count": 112,
     "metadata": {},
     "output_type": "execute_result"
    }
   ],
   "source": [
    "article_df = pd.read_csv('https://storage.googleapis.com/neo4j-workshop-data/genai-hm/article.csv')\n",
    "article_df"
   ],
   "metadata": {
    "id": "myDnsgHWdyXf",
    "outputId": "e1bd278a-2749-436b-d768-3ab39cfdcef6"
   }
  },
  {
   "cell_type": "code",
   "execution_count": 113,
   "outputs": [
    {
     "data": {
      "text/plain": "                                            customerId   fn  active  \\\n0    00264b7d4cd6498292e8a355b699c2d07725d123f04867...  1.0     1.0   \n1    005c6d3bb66c86aab606814cd9995a12f99b3a44b58c72...  NaN     NaN   \n2    00abec3de294e03d192db15b91e154853ee1c89415e7cd...  NaN     NaN   \n3    00f311a42124fc44d117135f34e1fca29fcac271e6fbd0...  1.0     1.0   \n4    0132cd2eb3c6b1f66784f65f94ddd8352add2653e0caf5...  NaN     NaN   \n..                                                 ...  ...     ...   \n995  fdf1294f414faac2b00a725f5d80c34f98a744d9b8b3ce...  NaN     NaN   \n996  fe6faeed37fe86e885928d3ab30d8d9b072d6643c8aa15...  1.0     1.0   \n997  fef793ec3a7d62d782824517355d74ded50964dce33009...  NaN     NaN   \n998  ffb925b11e1bb2e375d22a02d67907994eb8cb92ec2e7d...  NaN     NaN   \n999  ffe8f77be0ce1a5bde91c97cb76aa887fb200bba79fe5a...  1.0     1.0   \n\n    clubMemberStatus fashionNewsFrequency   age  \\\n0             ACTIVE            Regularly  53.0   \n1         PRE-CREATE                 NONE   NaN   \n2             ACTIVE                 NONE  49.0   \n3             ACTIVE            Regularly  55.0   \n4             ACTIVE                 NONE  49.0   \n..               ...                  ...   ...   \n995           ACTIVE                 NONE  32.0   \n996           ACTIVE            Regularly  46.0   \n997           ACTIVE                 NONE  46.0   \n998           ACTIVE                 NONE  34.0   \n999           ACTIVE            Regularly  26.0   \n\n                                            postalCode  \n0    2c29ae653a9282cce4151bd87643c907644e09541abc28...  \n1    177b4a2258a85a2247daaa7cdffba96a74c741ea8a6605...  \n2    86557a458110ac98f4ca80e5a815ba2e8ea086dd8039b0...  \n3    1a80c5651ae36327a86e71d5b967cf62c31126d1b57ae0...  \n4    49f7ec29bcacbbf2120af5162f9f99c212e9dd26b48d79...  \n..                                                 ...  \n995  0cd87888c3a13ebbb1e90cac6b9fbf34c51afa40865f55...  \n996  fe234b03107b233aec5695dc4c3fbe8e638338643f4e14...  \n997  5799a39cffe701ebdb12181348bf10f9e23abcc3868c43...  \n998  ebdd8c5c893683c3cf52c011d4e35024e46d183c95f0fa...  \n999  bf90cabe02380b161574072e5ca4f77f62b313421e3f62...  \n\n[1000 rows x 7 columns]",
      "text/html": "<div>\n<style scoped>\n    .dataframe tbody tr th:only-of-type {\n        vertical-align: middle;\n    }\n\n    .dataframe tbody tr th {\n        vertical-align: top;\n    }\n\n    .dataframe thead th {\n        text-align: right;\n    }\n</style>\n<table border=\"1\" class=\"dataframe\">\n  <thead>\n    <tr style=\"text-align: right;\">\n      <th></th>\n      <th>customerId</th>\n      <th>fn</th>\n      <th>active</th>\n      <th>clubMemberStatus</th>\n      <th>fashionNewsFrequency</th>\n      <th>age</th>\n      <th>postalCode</th>\n    </tr>\n  </thead>\n  <tbody>\n    <tr>\n      <th>0</th>\n      <td>00264b7d4cd6498292e8a355b699c2d07725d123f04867...</td>\n      <td>1.0</td>\n      <td>1.0</td>\n      <td>ACTIVE</td>\n      <td>Regularly</td>\n      <td>53.0</td>\n      <td>2c29ae653a9282cce4151bd87643c907644e09541abc28...</td>\n    </tr>\n    <tr>\n      <th>1</th>\n      <td>005c6d3bb66c86aab606814cd9995a12f99b3a44b58c72...</td>\n      <td>NaN</td>\n      <td>NaN</td>\n      <td>PRE-CREATE</td>\n      <td>NONE</td>\n      <td>NaN</td>\n      <td>177b4a2258a85a2247daaa7cdffba96a74c741ea8a6605...</td>\n    </tr>\n    <tr>\n      <th>2</th>\n      <td>00abec3de294e03d192db15b91e154853ee1c89415e7cd...</td>\n      <td>NaN</td>\n      <td>NaN</td>\n      <td>ACTIVE</td>\n      <td>NONE</td>\n      <td>49.0</td>\n      <td>86557a458110ac98f4ca80e5a815ba2e8ea086dd8039b0...</td>\n    </tr>\n    <tr>\n      <th>3</th>\n      <td>00f311a42124fc44d117135f34e1fca29fcac271e6fbd0...</td>\n      <td>1.0</td>\n      <td>1.0</td>\n      <td>ACTIVE</td>\n      <td>Regularly</td>\n      <td>55.0</td>\n      <td>1a80c5651ae36327a86e71d5b967cf62c31126d1b57ae0...</td>\n    </tr>\n    <tr>\n      <th>4</th>\n      <td>0132cd2eb3c6b1f66784f65f94ddd8352add2653e0caf5...</td>\n      <td>NaN</td>\n      <td>NaN</td>\n      <td>ACTIVE</td>\n      <td>NONE</td>\n      <td>49.0</td>\n      <td>49f7ec29bcacbbf2120af5162f9f99c212e9dd26b48d79...</td>\n    </tr>\n    <tr>\n      <th>...</th>\n      <td>...</td>\n      <td>...</td>\n      <td>...</td>\n      <td>...</td>\n      <td>...</td>\n      <td>...</td>\n      <td>...</td>\n    </tr>\n    <tr>\n      <th>995</th>\n      <td>fdf1294f414faac2b00a725f5d80c34f98a744d9b8b3ce...</td>\n      <td>NaN</td>\n      <td>NaN</td>\n      <td>ACTIVE</td>\n      <td>NONE</td>\n      <td>32.0</td>\n      <td>0cd87888c3a13ebbb1e90cac6b9fbf34c51afa40865f55...</td>\n    </tr>\n    <tr>\n      <th>996</th>\n      <td>fe6faeed37fe86e885928d3ab30d8d9b072d6643c8aa15...</td>\n      <td>1.0</td>\n      <td>1.0</td>\n      <td>ACTIVE</td>\n      <td>Regularly</td>\n      <td>46.0</td>\n      <td>fe234b03107b233aec5695dc4c3fbe8e638338643f4e14...</td>\n    </tr>\n    <tr>\n      <th>997</th>\n      <td>fef793ec3a7d62d782824517355d74ded50964dce33009...</td>\n      <td>NaN</td>\n      <td>NaN</td>\n      <td>ACTIVE</td>\n      <td>NONE</td>\n      <td>46.0</td>\n      <td>5799a39cffe701ebdb12181348bf10f9e23abcc3868c43...</td>\n    </tr>\n    <tr>\n      <th>998</th>\n      <td>ffb925b11e1bb2e375d22a02d67907994eb8cb92ec2e7d...</td>\n      <td>NaN</td>\n      <td>NaN</td>\n      <td>ACTIVE</td>\n      <td>NONE</td>\n      <td>34.0</td>\n      <td>ebdd8c5c893683c3cf52c011d4e35024e46d183c95f0fa...</td>\n    </tr>\n    <tr>\n      <th>999</th>\n      <td>ffe8f77be0ce1a5bde91c97cb76aa887fb200bba79fe5a...</td>\n      <td>1.0</td>\n      <td>1.0</td>\n      <td>ACTIVE</td>\n      <td>Regularly</td>\n      <td>26.0</td>\n      <td>bf90cabe02380b161574072e5ca4f77f62b313421e3f62...</td>\n    </tr>\n  </tbody>\n</table>\n<p>1000 rows × 7 columns</p>\n</div>"
     },
     "execution_count": 113,
     "metadata": {},
     "output_type": "execute_result"
    }
   ],
   "source": [
    "customer_df = pd.read_csv('https://storage.googleapis.com/neo4j-workshop-data/genai-hm/customer.csv')\n",
    "customer_df"
   ],
   "metadata": {
    "id": "NfUHS2LndyXf",
    "outputId": "26fff51f-0722-4634-bc03-1b38f927b1a8"
   }
  },
  {
   "cell_type": "code",
   "execution_count": 114,
   "outputs": [
    {
     "data": {
      "text/plain": "             tDat                                         customerId  \\\n0      2018-09-20  0ddcd6055c5830c1fda493843d051edb04ce1bf888aa4b...   \n1      2018-09-20  210f113fe87db5d6391e986dc06b8e4369e46284e3b989...   \n2      2018-09-20  210f113fe87db5d6391e986dc06b8e4369e46284e3b989...   \n3      2018-09-20  211a2ef477fcfc8fc40a63ffa70bb41086dd06ca85d4af...   \n4      2018-09-20  211a2ef477fcfc8fc40a63ffa70bb41086dd06ca85d4af...   \n...           ...                                                ...   \n23194  2020-09-22  b6be55f233772b5fc4a1ebedf36542fb3e1b6c15c23c7e...   \n23195  2020-09-22  b6be55f233772b5fc4a1ebedf36542fb3e1b6c15c23c7e...   \n23196  2020-09-22  b6be55f233772b5fc4a1ebedf36542fb3e1b6c15c23c7e...   \n23197  2020-09-22  b6be55f233772b5fc4a1ebedf36542fb3e1b6c15c23c7e...   \n23198  2020-09-22  bc5e2e45ecc9b00eb0b01a3373edbb654aad248d75f12b...   \n\n       articleId     price  salesChannelId      txId  \n0      653428002  0.135576               1      2445  \n1      636587001  0.008458               1      6182  \n2      640462002  0.032186               1      6183  \n3      645422002  0.014390               2      6188  \n4      645422002  0.014390               2      6189  \n...          ...       ...             ...       ...  \n23194  921266007  0.016932               2  31779124  \n23195  812530004  0.010153               2  31779125  \n23196  942187001  0.016932               2  31779126  \n23197  866731001  0.025407               2  31779127  \n23198  678942001  0.016932               2  31779858  \n\n[23199 rows x 6 columns]",
      "text/html": "<div>\n<style scoped>\n    .dataframe tbody tr th:only-of-type {\n        vertical-align: middle;\n    }\n\n    .dataframe tbody tr th {\n        vertical-align: top;\n    }\n\n    .dataframe thead th {\n        text-align: right;\n    }\n</style>\n<table border=\"1\" class=\"dataframe\">\n  <thead>\n    <tr style=\"text-align: right;\">\n      <th></th>\n      <th>tDat</th>\n      <th>customerId</th>\n      <th>articleId</th>\n      <th>price</th>\n      <th>salesChannelId</th>\n      <th>txId</th>\n    </tr>\n  </thead>\n  <tbody>\n    <tr>\n      <th>0</th>\n      <td>2018-09-20</td>\n      <td>0ddcd6055c5830c1fda493843d051edb04ce1bf888aa4b...</td>\n      <td>653428002</td>\n      <td>0.135576</td>\n      <td>1</td>\n      <td>2445</td>\n    </tr>\n    <tr>\n      <th>1</th>\n      <td>2018-09-20</td>\n      <td>210f113fe87db5d6391e986dc06b8e4369e46284e3b989...</td>\n      <td>636587001</td>\n      <td>0.008458</td>\n      <td>1</td>\n      <td>6182</td>\n    </tr>\n    <tr>\n      <th>2</th>\n      <td>2018-09-20</td>\n      <td>210f113fe87db5d6391e986dc06b8e4369e46284e3b989...</td>\n      <td>640462002</td>\n      <td>0.032186</td>\n      <td>1</td>\n      <td>6183</td>\n    </tr>\n    <tr>\n      <th>3</th>\n      <td>2018-09-20</td>\n      <td>211a2ef477fcfc8fc40a63ffa70bb41086dd06ca85d4af...</td>\n      <td>645422002</td>\n      <td>0.014390</td>\n      <td>2</td>\n      <td>6188</td>\n    </tr>\n    <tr>\n      <th>4</th>\n      <td>2018-09-20</td>\n      <td>211a2ef477fcfc8fc40a63ffa70bb41086dd06ca85d4af...</td>\n      <td>645422002</td>\n      <td>0.014390</td>\n      <td>2</td>\n      <td>6189</td>\n    </tr>\n    <tr>\n      <th>...</th>\n      <td>...</td>\n      <td>...</td>\n      <td>...</td>\n      <td>...</td>\n      <td>...</td>\n      <td>...</td>\n    </tr>\n    <tr>\n      <th>23194</th>\n      <td>2020-09-22</td>\n      <td>b6be55f233772b5fc4a1ebedf36542fb3e1b6c15c23c7e...</td>\n      <td>921266007</td>\n      <td>0.016932</td>\n      <td>2</td>\n      <td>31779124</td>\n    </tr>\n    <tr>\n      <th>23195</th>\n      <td>2020-09-22</td>\n      <td>b6be55f233772b5fc4a1ebedf36542fb3e1b6c15c23c7e...</td>\n      <td>812530004</td>\n      <td>0.010153</td>\n      <td>2</td>\n      <td>31779125</td>\n    </tr>\n    <tr>\n      <th>23196</th>\n      <td>2020-09-22</td>\n      <td>b6be55f233772b5fc4a1ebedf36542fb3e1b6c15c23c7e...</td>\n      <td>942187001</td>\n      <td>0.016932</td>\n      <td>2</td>\n      <td>31779126</td>\n    </tr>\n    <tr>\n      <th>23197</th>\n      <td>2020-09-22</td>\n      <td>b6be55f233772b5fc4a1ebedf36542fb3e1b6c15c23c7e...</td>\n      <td>866731001</td>\n      <td>0.025407</td>\n      <td>2</td>\n      <td>31779127</td>\n    </tr>\n    <tr>\n      <th>23198</th>\n      <td>2020-09-22</td>\n      <td>bc5e2e45ecc9b00eb0b01a3373edbb654aad248d75f12b...</td>\n      <td>678942001</td>\n      <td>0.016932</td>\n      <td>2</td>\n      <td>31779858</td>\n    </tr>\n  </tbody>\n</table>\n<p>23199 rows × 6 columns</p>\n</div>"
     },
     "execution_count": 114,
     "metadata": {},
     "output_type": "execute_result"
    }
   ],
   "source": [
    "transaction_df = pd.read_csv('https://storage.googleapis.com/neo4j-workshop-data/genai-hm/transaction.csv')\n",
    "transaction_df"
   ],
   "metadata": {
    "id": "vWw9GFyGdyXf",
    "outputId": "7b098933-74b4-4e96-a439-83fbc1d411a3"
   }
  },
  {
   "cell_type": "markdown",
   "source": [
    "### Connect to Neo4j"
   ],
   "metadata": {
    "collapsed": false,
    "id": "yU13AU73dyXf"
   }
  },
  {
   "cell_type": "code",
   "execution_count": 115,
   "outputs": [],
   "source": [
    "# Use Neo4j URI and credentials according to our setup\n",
    "gds = GraphDataScience(\n",
    "    NEO4J_URI,\n",
    "    auth=(NEO4J_USERNAME, NEO4J_PASSWORD),\n",
    "    aura_ds=AURA_DS)\n",
    "\n",
    "# Necessary if you enabled Arrow on the db - this is true for AuraDS\n",
    "gds.set_database(\"neo4j\")"
   ],
   "metadata": {
    "id": "92GFeMaRdyXf"
   }
  },
  {
   "cell_type": "markdown",
   "source": [
    "### Create Constraints"
   ],
   "metadata": {
    "collapsed": false,
    "id": "2H3Yb5JLdyXf"
   }
  },
  {
   "cell_type": "code",
   "execution_count": 116,
   "outputs": [
    {
     "data": {
      "text/plain": "Empty DataFrame\nColumns: []\nIndex: []",
      "text/html": "<div>\n<style scoped>\n    .dataframe tbody tr th:only-of-type {\n        vertical-align: middle;\n    }\n\n    .dataframe tbody tr th {\n        vertical-align: top;\n    }\n\n    .dataframe thead th {\n        text-align: right;\n    }\n</style>\n<table border=\"1\" class=\"dataframe\">\n  <thead>\n    <tr style=\"text-align: right;\">\n      <th></th>\n    </tr>\n  </thead>\n  <tbody>\n  </tbody>\n</table>\n</div>"
     },
     "execution_count": 116,
     "metadata": {},
     "output_type": "execute_result"
    }
   ],
   "source": [
    "# one uniqueness constraint for each node label\n",
    "gds.run_cypher('CREATE CONSTRAINT unique_department_no IF NOT EXISTS FOR (n:Department) REQUIRE n.departmentNo IS UNIQUE')\n",
    "gds.run_cypher('CREATE CONSTRAINT unique_product_code IF NOT EXISTS FOR (n:Product) REQUIRE n.productCode IS UNIQUE')\n",
    "gds.run_cypher('CREATE CONSTRAINT unique_article_id IF NOT EXISTS FOR (n:Article) REQUIRE n.articleId IS UNIQUE')\n",
    "gds.run_cypher('CREATE CONSTRAINT unique_customer_id IF NOT EXISTS FOR (n:Customer) REQUIRE n.customerId IS UNIQUE')"
   ],
   "metadata": {
    "id": "vuweMfqpdyXf",
    "outputId": "e696938d-83b5-4b70-8770-5c5314b60207"
   }
  },
  {
   "cell_type": "markdown",
   "source": [
    "### Helper Functions"
   ],
   "metadata": {
    "collapsed": false,
    "id": "5uUIBgthdyXf"
   }
  },
  {
   "cell_type": "code",
   "execution_count": 117,
   "outputs": [],
   "source": [
    "from typing import Tuple, Union\n",
    "from numpy.typing import ArrayLike\n",
    "\n",
    "\n",
    "def make_map(x):\n",
    "    if type(x) == str:\n",
    "        return x, x\n",
    "    elif type(x) == tuple:\n",
    "        return x\n",
    "    else:\n",
    "        raise Exception(\"Entry must of type string or tuple\")\n",
    "\n",
    "\n",
    "def make_set_clause(prop_names: ArrayLike, element_name='n', item_name='rec'):\n",
    "    clause_list = []\n",
    "    for prop_name in prop_names:\n",
    "        clause_list.append(f'{element_name}.{prop_name} = {item_name}.{prop_name}')\n",
    "    return 'SET ' + ', '.join(clause_list)\n",
    "\n",
    "\n",
    "def make_node_merge_query(node_key_name: str, node_label: str, cols: ArrayLike):\n",
    "    template = f'''UNWIND $recs AS rec\\nMERGE(n:{node_label} {{{node_key_name}: rec.{node_key_name}}})'''\n",
    "    prop_names = [x for x in cols if x != node_key_name]\n",
    "    if len(prop_names) > 0:\n",
    "        template = template + '\\n' + make_set_clause(prop_names)\n",
    "    return template + '\\nRETURN count(n) AS nodeLoadedCount'\n",
    "\n",
    "\n",
    "def make_rel_merge_query(source_target_labels: Union[Tuple[str, str], str],\n",
    "                         source_node_key: Union[Tuple[str, str], str],\n",
    "                         target_node_key: Union[Tuple[str, str], str],\n",
    "                         rel_type: str,\n",
    "                         cols: ArrayLike,\n",
    "                         rel_key: str = None):\n",
    "    source_target_label_map = make_map(source_target_labels)\n",
    "    source_node_key_map = make_map(source_node_key)\n",
    "    target_node_key_map = make_map(target_node_key)\n",
    "\n",
    "    merge_statement = f'MERGE(s)-[r:{rel_type}]->(t)'\n",
    "    if rel_key is not None:\n",
    "        merge_statement = f'MERGE(s)-[r:{rel_type} {{{rel_key}: rec.{rel_key}}}]->(t)'\n",
    "\n",
    "    template = f'''\\tUNWIND $recs AS rec\n",
    "    MATCH(s:{source_target_label_map[0]} {{{source_node_key_map[0]}: rec.{source_node_key_map[1]}}})\n",
    "    MATCH(t:{source_target_label_map[1]} {{{target_node_key_map[0]}: rec.{target_node_key_map[1]}}})\\n\\t''' + merge_statement\n",
    "    prop_names = [x for x in cols if x not in [rel_key, source_node_key_map[1], target_node_key_map[1]]]\n",
    "    if len(prop_names) > 0:\n",
    "        template = template + '\\n\\t' + make_set_clause(prop_names, 'r')\n",
    "    return template + '\\n\\tRETURN count(r) AS relLoadedCount'\n",
    "\n",
    "\n",
    "def chunks(xs, n=10_000):\n",
    "    n = max(1, n)\n",
    "    return [xs[i:i + n] for i in range(0, len(xs), n)]\n",
    "\n",
    "\n",
    "def load_nodes(gds: GraphDataScience, node_df: pd.DataFrame, node_key_col: str, node_label: str, chunk_size=10_000):\n",
    "    records = node_df.to_dict('records')\n",
    "    print(f'======  loading {node_label} nodes  ======')\n",
    "    total = len(records)\n",
    "    print(f'staging {total:,} records')\n",
    "    query = make_node_merge_query(node_key_col, node_label, node_df.columns.copy())\n",
    "    cumulative_count = 0\n",
    "    for recs in chunks(records, chunk_size):\n",
    "        res = gds.run_cypher(query, params={'recs': recs})\n",
    "        cumulative_count += res.iloc[0, 0]\n",
    "        print(f'Loaded {cumulative_count:,} of {total:,} nodes')\n",
    "\n",
    "\n",
    "def load_rels(gds: GraphDataScience,\n",
    "              rel_df: pd.DataFrame,\n",
    "              source_target_labels: Union[Tuple[str, str], str],\n",
    "              source_node_key: Union[Tuple[str, str], str],\n",
    "              target_node_key: Union[Tuple[str, str], str],\n",
    "              rel_type: str,\n",
    "              rel_key: str = None,\n",
    "              chunk_size=10_000):\n",
    "    records = rel_df.to_dict('records')\n",
    "    print(f'======  loading {rel_type} relationships  ======')\n",
    "    total = len(records)\n",
    "    print(f'staging {total:,} records')\n",
    "    query = make_rel_merge_query(source_target_labels, source_node_key,\n",
    "                                 target_node_key, rel_type, rel_df.columns.copy(), rel_key)\n",
    "    cumulative_count = 0\n",
    "    for recs in chunks(records, chunk_size):\n",
    "        res = gds.run_cypher(query, params={'recs': recs})\n",
    "        cumulative_count += res.iloc[0, 0]\n",
    "        print(f'Loaded {cumulative_count:,} of {total:,} relationships')"
   ],
   "metadata": {
    "id": "X1kYEETzdyXf"
   }
  },
  {
   "cell_type": "markdown",
   "source": [
    "### Load Nodes"
   ],
   "metadata": {
    "collapsed": false,
    "id": "OTkREIn5dyXg"
   }
  },
  {
   "cell_type": "code",
   "execution_count": 118,
   "outputs": [
    {
     "name": "stdout",
     "output_type": "stream",
     "text": [
      "======  loading Department nodes  ======\n",
      "staging 266 records\n",
      "Loaded 266 of 266 nodes\n",
      "CPU times: user 7.49 ms, sys: 2.01 ms, total: 9.5 ms\n",
      "Wall time: 5.92 s\n"
     ]
    }
   ],
   "source": [
    "%%time\n",
    "load_nodes(gds, department_df, 'departmentNo', 'Department')"
   ],
   "metadata": {
    "id": "HpinIjiRdyXg",
    "outputId": "8ba20edc-d878-4c61-eb3a-ec2c4b16a43a"
   }
  },
  {
   "cell_type": "code",
   "execution_count": 119,
   "outputs": [
    {
     "name": "stdout",
     "output_type": "stream",
     "text": [
      "======  loading Product nodes  ======\n",
      "staging 8,044 records\n",
      "Loaded 8,044 of 8,044 nodes\n",
      "CPU times: user 181 ms, sys: 8.21 ms, total: 189 ms\n",
      "Wall time: 15.2 s\n"
     ]
    }
   ],
   "source": [
    "%%time\n",
    "load_nodes(gds, product_df, 'productCode', 'Product')"
   ],
   "metadata": {
    "id": "00k3i8sMdyXg",
    "outputId": "7df5d4c6-d091-47b9-dad7-58b039897253"
   }
  },
  {
   "cell_type": "code",
   "execution_count": 120,
   "outputs": [
    {
     "name": "stdout",
     "output_type": "stream",
     "text": [
      "======  loading Article nodes  ======\n",
      "staging 13,351 records\n",
      "Loaded 10,000 of 13,351 nodes\n",
      "Loaded 13,351 of 13,351 nodes\n",
      "CPU times: user 264 ms, sys: 10.8 ms, total: 275 ms\n",
      "Wall time: 10.9 s\n"
     ]
    }
   ],
   "source": [
    "%%time\n",
    "load_nodes(gds, article_df.drop(columns=['productCode', 'departmentNo']), 'articleId', 'Article')"
   ],
   "metadata": {
    "id": "KAvFlIp-dyXg",
    "outputId": "80a5734a-7b1a-4a9a-e3c0-8f8853f2ab8b"
   }
  },
  {
   "cell_type": "code",
   "execution_count": 121,
   "outputs": [
    {
     "name": "stdout",
     "output_type": "stream",
     "text": [
      "======  loading Customer nodes  ======\n",
      "staging 1,000 records\n",
      "Loaded 1,000 of 1,000 nodes\n",
      "CPU times: user 22.1 ms, sys: 2.77 ms, total: 24.9 ms\n",
      "Wall time: 2.78 s\n"
     ]
    }
   ],
   "source": [
    "%%time\n",
    "load_nodes(gds, customer_df, 'customerId', 'Customer')"
   ],
   "metadata": {
    "id": "ipPoO_6gdyXg",
    "outputId": "beb4789d-9ed0-457b-810b-41275303e21b"
   }
  },
  {
   "cell_type": "markdown",
   "source": [
    "### Load Relationships"
   ],
   "metadata": {
    "collapsed": false,
    "id": "7O2rcVWkdyXg"
   }
  },
  {
   "cell_type": "code",
   "execution_count": 122,
   "outputs": [
    {
     "name": "stdout",
     "output_type": "stream",
     "text": [
      "======  loading FROM_DEPARTMENT relationships  ======\n",
      "staging 13,351 records\n",
      "Loaded 10,000 of 13,351 relationships\n",
      "Loaded 13,351 of 13,351 relationships\n",
      "CPU times: user 81.6 ms, sys: 4.18 ms, total: 85.8 ms\n",
      "Wall time: 11.5 s\n"
     ]
    }
   ],
   "source": [
    "%%time\n",
    "load_rels(gds, article_df[['articleId', 'departmentNo']], source_target_labels=('Article', 'Department'),\n",
    "          source_node_key='articleId', target_node_key='departmentNo',\n",
    "          rel_type='FROM_DEPARTMENT')"
   ],
   "metadata": {
    "id": "FiiVSonsdyXg",
    "outputId": "77f3a4fe-56a0-49e0-c0ca-63a8928f490b"
   }
  },
  {
   "cell_type": "code",
   "execution_count": 123,
   "outputs": [
    {
     "name": "stdout",
     "output_type": "stream",
     "text": [
      "======  loading VARIANT_OF relationships  ======\n",
      "staging 13,351 records\n",
      "Loaded 10,000 of 13,351 relationships\n",
      "Loaded 13,351 of 13,351 relationships\n",
      "CPU times: user 92.2 ms, sys: 3.94 ms, total: 96.1 ms\n",
      "Wall time: 7.57 s\n"
     ]
    }
   ],
   "source": [
    "%%time\n",
    "load_rels(gds, article_df[['articleId', 'productCode']], source_target_labels=('Article', 'Product'),\n",
    "          source_node_key='articleId',target_node_key='productCode',\n",
    "          rel_type='VARIANT_OF')"
   ],
   "metadata": {
    "id": "3XkftYVMdyXg",
    "outputId": "172ece1b-5b09-4d5d-db88-09ea8d68adc2"
   }
  },
  {
   "cell_type": "code",
   "execution_count": 124,
   "outputs": [
    {
     "name": "stdout",
     "output_type": "stream",
     "text": [
      "======  loading PURCHASED relationships  ======\n",
      "staging 23,199 records\n",
      "Loaded 10,000 of 23,199 relationships\n",
      "Loaded 20,000 of 23,199 relationships\n",
      "Loaded 23,199 of 23,199 relationships\n",
      "CPU times: user 382 ms, sys: 12.4 ms, total: 394 ms\n",
      "Wall time: 16.5 s\n"
     ]
    }
   ],
   "source": [
    "%%time\n",
    "load_rels(gds, transaction_df, source_target_labels=('Customer', 'Article'),\n",
    "          source_node_key='customerId', target_node_key='articleId',\n",
    "          rel_type='PURCHASED')"
   ],
   "metadata": {
    "id": "f_j26RpBdyXg",
    "outputId": "ec2a7509-0a09-4021-fa94-11ac5121878d"
   }
  },
  {
   "cell_type": "markdown",
   "source": [
    "### Convert Transaction Dates"
   ],
   "metadata": {
    "collapsed": false,
    "id": "wfIIyetSdyXg"
   }
  },
  {
   "cell_type": "code",
   "execution_count": 125,
   "outputs": [
    {
     "data": {
      "text/plain": "Empty DataFrame\nColumns: []\nIndex: []",
      "text/html": "<div>\n<style scoped>\n    .dataframe tbody tr th:only-of-type {\n        vertical-align: middle;\n    }\n\n    .dataframe tbody tr th {\n        vertical-align: top;\n    }\n\n    .dataframe thead th {\n        text-align: right;\n    }\n</style>\n<table border=\"1\" class=\"dataframe\">\n  <thead>\n    <tr style=\"text-align: right;\">\n      <th></th>\n    </tr>\n  </thead>\n  <tbody>\n  </tbody>\n</table>\n</div>"
     },
     "execution_count": 125,
     "metadata": {},
     "output_type": "execute_result"
    }
   ],
   "source": [
    "gds.run_cypher('''\n",
    "MATCH (:Customer)-[r:PURCHASED]->()\n",
    "SET r.tDat = date(r.tDat)\n",
    "''')"
   ],
   "metadata": {
    "id": "Px7t9tiedyXg",
    "outputId": "5f867591-4231-4274-cd6f-cc68164b3111"
   }
  },
  {
   "cell_type": "markdown",
   "source": [
    "## Vector Search\n",
    "In this Section We will build Text Embeddings of Product and demonstrate how to leverage the Neo4j vector index for vector search."
   ],
   "metadata": {
    "collapsed": false,
    "id": "SpKcGgRZdyXg"
   }
  },
  {
   "cell_type": "markdown",
   "source": [
    "### Creating Text Embeddings"
   ],
   "metadata": {
    "collapsed": false,
    "id": "-WrlFCN1dyXg"
   }
  },
  {
   "cell_type": "code",
   "execution_count": 126,
   "outputs": [],
   "source": [
    "def load_embedding_model(embedding_model_name: str):\n",
    "    if embedding_model_name == \"openai\":\n",
    "        embeddings = OpenAIEmbeddings()\n",
    "        dimension = 1536\n",
    "        print(\"Embedding Model: openai\")\n",
    "    elif embedding_model_name == \"aws\":\n",
    "        embeddings = BedrockEmbeddings()\n",
    "        dimension = 1536\n",
    "        print(\"Embedding Model: aws\")\n",
    "    else:\n",
    "        embeddings = SentenceTransformerEmbeddings(\n",
    "            model_name=\"all-MiniLM-L6-v2\", cache_folder=\"/embedding_model\")\n",
    "        print(\"Embedding Model: sentence transformer\")\n",
    "        dimension = 384\n",
    "    return embeddings, dimension"
   ],
   "metadata": {
    "id": "_LGUbVS1dyXg"
   }
  },
  {
   "cell_type": "code",
   "execution_count": 127,
   "outputs": [
    {
     "name": "stdout",
     "output_type": "stream",
     "text": [
      "Embedding Model: openai\n"
     ]
    }
   ],
   "source": [
    "embedding_model, dimension = load_embedding_model(EMBEDDING_MODEL)"
   ],
   "metadata": {
    "id": "KwRdCBawdyXg"
   }
  },
  {
   "cell_type": "code",
   "execution_count": 133,
   "outputs": [],
   "source": [
    "product_emb_df = product_df[['productCode', 'prodName', 'productTypeName', 'productGroupName', 'garmentGroupName', 'detailDesc']]\n",
    "product_emb_df = product_emb_df[product_emb_df.detailDesc.notnull()]"
   ],
   "metadata": {
    "id": "V7wqaYtIdyXh"
   }
  },
  {
   "cell_type": "code",
   "execution_count": 134,
   "outputs": [
    {
     "data": {
      "text/plain": "      productCode                                               text\n0          108775  \\n##Product\\nName: Strap top\\nType: Vest top\\n...\n1          110065  \\n##Product\\nName: OP T-shirt (Idro)\\nType: Br...\n2          111565  \\n##Product\\nName: 20 den 1p Stockings\\nType: ...\n3          111586  \\n##Product\\nName: Shape Up 30 den 1p Tights\\n...\n4          111593  \\n##Product\\nName: Support 40 den 1p Tights\\nT...\n...           ...                                                ...\n8039       936862  \\n##Product\\nName: EDC Marla dress\\nType: Dres...\n8040       936979  \\n##Product\\nName: Class Filippa Necklace\\nTyp...\n8041       937138  \\n##Product\\nName: Flirty Albin bracelet pk\\nT...\n8042       942187  \\n##Product\\nName: ED Sasha tee\\nType: T-shirt...\n8043       952938  \\n##Product\\nName: Elton top\\nType: Top\\nGroup...\n\n[8018 rows x 2 columns]",
      "text/html": "<div>\n<style scoped>\n    .dataframe tbody tr th:only-of-type {\n        vertical-align: middle;\n    }\n\n    .dataframe tbody tr th {\n        vertical-align: top;\n    }\n\n    .dataframe thead th {\n        text-align: right;\n    }\n</style>\n<table border=\"1\" class=\"dataframe\">\n  <thead>\n    <tr style=\"text-align: right;\">\n      <th></th>\n      <th>productCode</th>\n      <th>text</th>\n    </tr>\n  </thead>\n  <tbody>\n    <tr>\n      <th>0</th>\n      <td>108775</td>\n      <td>\\n##Product\\nName: Strap top\\nType: Vest top\\n...</td>\n    </tr>\n    <tr>\n      <th>1</th>\n      <td>110065</td>\n      <td>\\n##Product\\nName: OP T-shirt (Idro)\\nType: Br...</td>\n    </tr>\n    <tr>\n      <th>2</th>\n      <td>111565</td>\n      <td>\\n##Product\\nName: 20 den 1p Stockings\\nType: ...</td>\n    </tr>\n    <tr>\n      <th>3</th>\n      <td>111586</td>\n      <td>\\n##Product\\nName: Shape Up 30 den 1p Tights\\n...</td>\n    </tr>\n    <tr>\n      <th>4</th>\n      <td>111593</td>\n      <td>\\n##Product\\nName: Support 40 den 1p Tights\\nT...</td>\n    </tr>\n    <tr>\n      <th>...</th>\n      <td>...</td>\n      <td>...</td>\n    </tr>\n    <tr>\n      <th>8039</th>\n      <td>936862</td>\n      <td>\\n##Product\\nName: EDC Marla dress\\nType: Dres...</td>\n    </tr>\n    <tr>\n      <th>8040</th>\n      <td>936979</td>\n      <td>\\n##Product\\nName: Class Filippa Necklace\\nTyp...</td>\n    </tr>\n    <tr>\n      <th>8041</th>\n      <td>937138</td>\n      <td>\\n##Product\\nName: Flirty Albin bracelet pk\\nT...</td>\n    </tr>\n    <tr>\n      <th>8042</th>\n      <td>942187</td>\n      <td>\\n##Product\\nName: ED Sasha tee\\nType: T-shirt...</td>\n    </tr>\n    <tr>\n      <th>8043</th>\n      <td>952938</td>\n      <td>\\n##Product\\nName: Elton top\\nType: Top\\nGroup...</td>\n    </tr>\n  </tbody>\n</table>\n<p>8018 rows × 2 columns</p>\n</div>"
     },
     "execution_count": 134,
     "metadata": {},
     "output_type": "execute_result"
    }
   ],
   "source": [
    "def create_doc(row):\n",
    "    return f'''\n",
    "##Product\n",
    "Name: {row.prodName}\n",
    "Type: {row.productTypeName}\n",
    "Group: {row.productGroupName}\n",
    "Garment Type: {row.garmentGroupName}\n",
    "Description: {row.detailDesc}\n",
    "'''\n",
    "\n",
    "product_emb_df['text'] = product_emb_df.apply(create_doc, axis=1)\n",
    "product_emb_df = product_emb_df.drop(columns=['prodName', 'productTypeName', 'productGroupName', 'garmentGroupName', 'detailDesc'])\n",
    "product_emb_df"
   ],
   "metadata": {
    "id": "36VCtp9HdyXh",
    "outputId": "d9a9e5fd-e45e-4a76-bdee-2e835cbd646f"
   }
  },
  {
   "cell_type": "code",
   "execution_count": 137,
   "outputs": [
    {
     "name": "stdout",
     "output_type": "stream",
     "text": [
      "Embedded 500 of 8018\n",
      "Embedded 1000 of 8018\n",
      "Embedded 1500 of 8018\n",
      "Embedded 2000 of 8018\n",
      "Embedded 2500 of 8018\n",
      "Embedded 3000 of 8018\n",
      "Embedded 3500 of 8018\n",
      "Embedded 4000 of 8018\n",
      "Embedded 4500 of 8018\n",
      "Embedded 5000 of 8018\n",
      "Embedded 5500 of 8018\n",
      "Embedded 6000 of 8018\n",
      "Embedded 6500 of 8018\n",
      "Embedded 7000 of 8018\n",
      "Embedded 7500 of 8018\n",
      "Embedded 8000 of 8018\n",
      "Embedded 8018 of 8018\n",
      "CPU times: user 1.81 s, sys: 206 ms, total: 2.02 s\n",
      "Wall time: 25.8 s\n"
     ]
    }
   ],
   "source": [
    "%%time\n",
    "\n",
    "count = 0\n",
    "embeddings = []\n",
    "for docs in chunks(product_emb_df.text, n=500):\n",
    "    count += len(docs)\n",
    "    print(f'Embedded {count} of {product_emb_df.shape[0]}')\n",
    "    embeddings.extend(embedding_model.embed_documents(docs))"
   ],
   "metadata": {
    "id": "5qUudN0KdyXh",
    "outputId": "8ec372c9-76e2-4c18-f8b3-578361c58cd3"
   }
  },
  {
   "cell_type": "code",
   "execution_count": 139,
   "outputs": [
    {
     "data": {
      "text/plain": "      productCode                                               text  \\\n0          108775  \\n##Product\\nName: Strap top\\nType: Vest top\\n...   \n1          110065  \\n##Product\\nName: OP T-shirt (Idro)\\nType: Br...   \n2          111565  \\n##Product\\nName: 20 den 1p Stockings\\nType: ...   \n3          111586  \\n##Product\\nName: Shape Up 30 den 1p Tights\\n...   \n4          111593  \\n##Product\\nName: Support 40 den 1p Tights\\nT...   \n...           ...                                                ...   \n8039       936862  \\n##Product\\nName: EDC Marla dress\\nType: Dres...   \n8040       936979  \\n##Product\\nName: Class Filippa Necklace\\nTyp...   \n8041       937138  \\n##Product\\nName: Flirty Albin bracelet pk\\nT...   \n8042       942187  \\n##Product\\nName: ED Sasha tee\\nType: T-shirt...   \n8043       952938  \\n##Product\\nName: Elton top\\nType: Top\\nGroup...   \n\n                                          textEmbedding  \n0     [-0.03165835786785922, 0.010735359633722455, -...  \n1     [-0.012618998246342304, 0.006922205543577324, ...  \n2     [-0.004641780213279706, -0.0002350378369905564...  \n3     [-0.004515952400410634, -0.00448439686023379, ...  \n4     [-0.011169078802241895, 0.002781850762048061, ...  \n...                                                 ...  \n8039  [-0.02878346256636124, 0.01268400503673369, -0...  \n8040  [-0.016470516922509736, 0.01204499569297766, -...  \n8041  [-0.032225362565817726, 0.02832645888555731, -...  \n8042  [-0.008373181850647395, 0.007136464695464776, ...  \n8043  [-0.024706963217868964, -0.0001193681752402107...  \n\n[8018 rows x 3 columns]",
      "text/html": "<div>\n<style scoped>\n    .dataframe tbody tr th:only-of-type {\n        vertical-align: middle;\n    }\n\n    .dataframe tbody tr th {\n        vertical-align: top;\n    }\n\n    .dataframe thead th {\n        text-align: right;\n    }\n</style>\n<table border=\"1\" class=\"dataframe\">\n  <thead>\n    <tr style=\"text-align: right;\">\n      <th></th>\n      <th>productCode</th>\n      <th>text</th>\n      <th>textEmbedding</th>\n    </tr>\n  </thead>\n  <tbody>\n    <tr>\n      <th>0</th>\n      <td>108775</td>\n      <td>\\n##Product\\nName: Strap top\\nType: Vest top\\n...</td>\n      <td>[-0.03165835786785922, 0.010735359633722455, -...</td>\n    </tr>\n    <tr>\n      <th>1</th>\n      <td>110065</td>\n      <td>\\n##Product\\nName: OP T-shirt (Idro)\\nType: Br...</td>\n      <td>[-0.012618998246342304, 0.006922205543577324, ...</td>\n    </tr>\n    <tr>\n      <th>2</th>\n      <td>111565</td>\n      <td>\\n##Product\\nName: 20 den 1p Stockings\\nType: ...</td>\n      <td>[-0.004641780213279706, -0.0002350378369905564...</td>\n    </tr>\n    <tr>\n      <th>3</th>\n      <td>111586</td>\n      <td>\\n##Product\\nName: Shape Up 30 den 1p Tights\\n...</td>\n      <td>[-0.004515952400410634, -0.00448439686023379, ...</td>\n    </tr>\n    <tr>\n      <th>4</th>\n      <td>111593</td>\n      <td>\\n##Product\\nName: Support 40 den 1p Tights\\nT...</td>\n      <td>[-0.011169078802241895, 0.002781850762048061, ...</td>\n    </tr>\n    <tr>\n      <th>...</th>\n      <td>...</td>\n      <td>...</td>\n      <td>...</td>\n    </tr>\n    <tr>\n      <th>8039</th>\n      <td>936862</td>\n      <td>\\n##Product\\nName: EDC Marla dress\\nType: Dres...</td>\n      <td>[-0.02878346256636124, 0.01268400503673369, -0...</td>\n    </tr>\n    <tr>\n      <th>8040</th>\n      <td>936979</td>\n      <td>\\n##Product\\nName: Class Filippa Necklace\\nTyp...</td>\n      <td>[-0.016470516922509736, 0.01204499569297766, -...</td>\n    </tr>\n    <tr>\n      <th>8041</th>\n      <td>937138</td>\n      <td>\\n##Product\\nName: Flirty Albin bracelet pk\\nT...</td>\n      <td>[-0.032225362565817726, 0.02832645888555731, -...</td>\n    </tr>\n    <tr>\n      <th>8042</th>\n      <td>942187</td>\n      <td>\\n##Product\\nName: ED Sasha tee\\nType: T-shirt...</td>\n      <td>[-0.008373181850647395, 0.007136464695464776, ...</td>\n    </tr>\n    <tr>\n      <th>8043</th>\n      <td>952938</td>\n      <td>\\n##Product\\nName: Elton top\\nType: Top\\nGroup...</td>\n      <td>[-0.024706963217868964, -0.0001193681752402107...</td>\n    </tr>\n  </tbody>\n</table>\n<p>8018 rows × 3 columns</p>\n</div>"
     },
     "execution_count": 139,
     "metadata": {},
     "output_type": "execute_result"
    }
   ],
   "source": [
    "product_emb_df['textEmbedding'] = embeddings\n",
    "product_emb_df"
   ],
   "metadata": {
    "id": "JJzkJTAYdyXh"
   }
  },
  {
   "cell_type": "markdown",
   "source": [
    "#### Create Vector Property"
   ],
   "metadata": {
    "collapsed": false,
    "id": "zOudn8tmdyXo"
   }
  },
  {
   "cell_type": "code",
   "execution_count": 140,
   "outputs": [
    {
     "name": "stdout",
     "output_type": "stream",
     "text": [
      "======  loading Product text embeddings ======\n",
      "staging 8,018 records\n",
      "Set 100 of 8,018 text embeddings\n",
      "Set 200 of 8,018 text embeddings\n",
      "Set 300 of 8,018 text embeddings\n",
      "Set 400 of 8,018 text embeddings\n",
      "Set 500 of 8,018 text embeddings\n",
      "Set 600 of 8,018 text embeddings\n",
      "Set 700 of 8,018 text embeddings\n",
      "Set 800 of 8,018 text embeddings\n",
      "Set 900 of 8,018 text embeddings\n",
      "Set 1,000 of 8,018 text embeddings\n",
      "Set 1,100 of 8,018 text embeddings\n",
      "Set 1,200 of 8,018 text embeddings\n",
      "Set 1,300 of 8,018 text embeddings\n",
      "Set 1,400 of 8,018 text embeddings\n",
      "Set 1,500 of 8,018 text embeddings\n",
      "Set 1,600 of 8,018 text embeddings\n",
      "Set 1,700 of 8,018 text embeddings\n",
      "Set 1,800 of 8,018 text embeddings\n",
      "Set 1,900 of 8,018 text embeddings\n",
      "Set 2,000 of 8,018 text embeddings\n",
      "Set 2,100 of 8,018 text embeddings\n",
      "Set 2,200 of 8,018 text embeddings\n",
      "Set 2,300 of 8,018 text embeddings\n",
      "Set 2,400 of 8,018 text embeddings\n",
      "Set 2,500 of 8,018 text embeddings\n",
      "Set 2,600 of 8,018 text embeddings\n",
      "Set 2,700 of 8,018 text embeddings\n",
      "Set 2,800 of 8,018 text embeddings\n",
      "Set 2,900 of 8,018 text embeddings\n",
      "Set 3,000 of 8,018 text embeddings\n",
      "Set 3,100 of 8,018 text embeddings\n",
      "Set 3,200 of 8,018 text embeddings\n",
      "Set 3,300 of 8,018 text embeddings\n",
      "Set 3,400 of 8,018 text embeddings\n",
      "Set 3,500 of 8,018 text embeddings\n",
      "Set 3,600 of 8,018 text embeddings\n",
      "Set 3,700 of 8,018 text embeddings\n",
      "Set 3,800 of 8,018 text embeddings\n",
      "Set 3,900 of 8,018 text embeddings\n",
      "Set 4,000 of 8,018 text embeddings\n",
      "Set 4,100 of 8,018 text embeddings\n",
      "Set 4,200 of 8,018 text embeddings\n",
      "Set 4,300 of 8,018 text embeddings\n",
      "Set 4,400 of 8,018 text embeddings\n",
      "Set 4,500 of 8,018 text embeddings\n",
      "Set 4,600 of 8,018 text embeddings\n",
      "Set 4,700 of 8,018 text embeddings\n",
      "Set 4,800 of 8,018 text embeddings\n",
      "Set 4,900 of 8,018 text embeddings\n",
      "Set 5,000 of 8,018 text embeddings\n",
      "Set 5,100 of 8,018 text embeddings\n",
      "Set 5,200 of 8,018 text embeddings\n",
      "Set 5,300 of 8,018 text embeddings\n",
      "Set 5,400 of 8,018 text embeddings\n",
      "Set 5,500 of 8,018 text embeddings\n",
      "Set 5,600 of 8,018 text embeddings\n",
      "Set 5,700 of 8,018 text embeddings\n",
      "Set 5,800 of 8,018 text embeddings\n",
      "Set 5,900 of 8,018 text embeddings\n",
      "Set 6,000 of 8,018 text embeddings\n",
      "Set 6,100 of 8,018 text embeddings\n",
      "Set 6,200 of 8,018 text embeddings\n",
      "Set 6,300 of 8,018 text embeddings\n",
      "Set 6,400 of 8,018 text embeddings\n",
      "Set 6,500 of 8,018 text embeddings\n",
      "Set 6,600 of 8,018 text embeddings\n",
      "Set 6,700 of 8,018 text embeddings\n",
      "Set 6,800 of 8,018 text embeddings\n",
      "Set 6,900 of 8,018 text embeddings\n",
      "Set 7,000 of 8,018 text embeddings\n",
      "Set 7,100 of 8,018 text embeddings\n",
      "Set 7,200 of 8,018 text embeddings\n",
      "Set 7,300 of 8,018 text embeddings\n",
      "Set 7,400 of 8,018 text embeddings\n",
      "Set 7,500 of 8,018 text embeddings\n",
      "Set 7,600 of 8,018 text embeddings\n",
      "Set 7,700 of 8,018 text embeddings\n",
      "Set 7,800 of 8,018 text embeddings\n",
      "Set 7,900 of 8,018 text embeddings\n",
      "Set 8,000 of 8,018 text embeddings\n",
      "Set 8,018 of 8,018 text embeddings\n"
     ]
    }
   ],
   "source": [
    "records = product_emb_df[['productCode', 'textEmbedding', 'text']].to_dict('records')\n",
    "print(f'======  loading Product text embeddings ======')\n",
    "total = len(records)\n",
    "print(f'staging {total:,} records')\n",
    "cumulative_count = 0\n",
    "for recs in chunks(records, n=100):\n",
    "    res = gds.run_cypher('''\n",
    "    UNWIND $recs AS rec\n",
    "    MATCH(n:Product {productCode: rec.productCode})\n",
    "    CALL db.create.setNodeVectorProperty(n, \"textEmbedding\", rec.textEmbedding)\n",
    "    SET n.text = rec.text\n",
    "    RETURN count(n) AS propertySetCount\n",
    "    ''', params={'recs': recs})\n",
    "    cumulative_count += res.iloc[0, 0]\n",
    "    print(f'Set {cumulative_count:,} of {total:,} text embeddings')"
   ],
   "metadata": {
    "id": "yWtG_wWKdyXo",
    "outputId": "ddd29e93-6ccc-426c-afcb-352e090c833a"
   }
  },
  {
   "cell_type": "markdown",
   "source": [
    "#### Create Vector Index"
   ],
   "metadata": {
    "collapsed": false,
    "id": "75BkIvlndyXo"
   }
  },
  {
   "cell_type": "code",
   "execution_count": 141,
   "outputs": [
    {
     "name": "stdout",
     "output_type": "stream",
     "text": [
      "CPU times: user 5.43 ms, sys: 2.86 ms, total: 8.29 ms\n",
      "Wall time: 1min 7s\n"
     ]
    },
    {
     "data": {
      "text/plain": "Empty DataFrame\nColumns: []\nIndex: []",
      "text/html": "<div>\n<style scoped>\n    .dataframe tbody tr th:only-of-type {\n        vertical-align: middle;\n    }\n\n    .dataframe tbody tr th {\n        vertical-align: top;\n    }\n\n    .dataframe thead th {\n        text-align: right;\n    }\n</style>\n<table border=\"1\" class=\"dataframe\">\n  <thead>\n    <tr style=\"text-align: right;\">\n      <th></th>\n    </tr>\n  </thead>\n  <tbody>\n  </tbody>\n</table>\n</div>"
     },
     "execution_count": 141,
     "metadata": {},
     "output_type": "execute_result"
    }
   ],
   "source": [
    "%%time\n",
    "\n",
    "gds.run_cypher(f'CALL db.index.vector.createNodeIndex(\"product-text-embeddings\", \"Product\", \"textEmbedding\", {dimension}, \"cosine\")')\n",
    "\n",
    "# wait for full index creation (timeout after 300 seconds)\n",
    "gds.run_cypher('CALL db.awaitIndex(\"product-text-embeddings\", 300)')"
   ],
   "metadata": {
    "id": "wJlr-4fHdyXo",
    "outputId": "d328c8c8-fe79-4ef9-ea9e-2b19b73894ff"
   }
  },
  {
   "cell_type": "markdown",
   "source": [
    "### Vector Search Using Cypher"
   ],
   "metadata": {
    "collapsed": false
   }
  },
  {
   "cell_type": "code",
   "execution_count": 142,
   "outputs": [],
   "source": [
    "#search_prompt = 'denim jeans, loose fit, high-waist'\n",
    "search_prompt = 'Oversized Sweaters'"
   ],
   "metadata": {
    "id": "elNIp0_BdyXo"
   }
  },
  {
   "cell_type": "code",
   "execution_count": 143,
   "outputs": [
    {
     "name": "stdout",
     "output_type": "stream",
     "text": [
      "query vector length: 1536\n",
      "query vector sample: [-0.023104330485734847, -0.013533096737628139, 0.0017341322934734697, -0.033839277865887946, -0.024241894442575403, 0.011094523575023529, -0.006240261242417779, -0.0017504765389690473, 0.005606101350692616, -0.024660309734965396]\n"
     ]
    }
   ],
   "source": [
    "query_vector = embedding_model.embed_query(search_prompt)\n",
    "print(f'query vector length: {len(query_vector)}')\n",
    "print(f'query vector sample: {query_vector[:10]}')"
   ],
   "metadata": {
    "id": "H6uSK26UdyXp",
    "outputId": "ebd74541-d2fd-4be1-bf17-412cd776201a"
   }
  },
  {
   "cell_type": "code",
   "execution_count": 170,
   "outputs": [
    {
     "data": {
      "text/plain": "   productCode                                               text     score\n0       842001  \\n##Product\\nName: Betsy Oversized\\nType: Swea...  0.942261\n1       817392  \\n##Product\\nName: Japp oversize sweater\\nType...  0.939759\n2       709418  \\n##Product\\nName: DIV Anni oversize hood\\nTyp...  0.928798\n3       860833  \\n##Product\\nName: Runar sweater\\nType: Sweate...  0.926939\n4       893141  \\n##Product\\nName: Sandy\\nType: Sweater\\nGroup...  0.925745\n5       812167  \\n##Product\\nName: Macy\\nType: Sweater\\nGroup:...  0.925685\n6       690623  \\n##Product\\nName: Simba\\nType: Sweater\\nGroup...  0.924674\n7       557247  \\n##Product\\nName: Petar Sweater(1)\\nType: Swe...  0.923877\n8       687934  \\n##Product\\nName: Sister off shoulder\\nType: ...  0.923150\n9       594834  \\n##Product\\nName: Dolly hood\\nType: Sweater\\n...  0.923108",
      "text/html": "<div>\n<style scoped>\n    .dataframe tbody tr th:only-of-type {\n        vertical-align: middle;\n    }\n\n    .dataframe tbody tr th {\n        vertical-align: top;\n    }\n\n    .dataframe thead th {\n        text-align: right;\n    }\n</style>\n<table border=\"1\" class=\"dataframe\">\n  <thead>\n    <tr style=\"text-align: right;\">\n      <th></th>\n      <th>productCode</th>\n      <th>text</th>\n      <th>score</th>\n    </tr>\n  </thead>\n  <tbody>\n    <tr>\n      <th>0</th>\n      <td>842001</td>\n      <td>\\n##Product\\nName: Betsy Oversized\\nType: Swea...</td>\n      <td>0.942261</td>\n    </tr>\n    <tr>\n      <th>1</th>\n      <td>817392</td>\n      <td>\\n##Product\\nName: Japp oversize sweater\\nType...</td>\n      <td>0.939759</td>\n    </tr>\n    <tr>\n      <th>2</th>\n      <td>709418</td>\n      <td>\\n##Product\\nName: DIV Anni oversize hood\\nTyp...</td>\n      <td>0.928798</td>\n    </tr>\n    <tr>\n      <th>3</th>\n      <td>860833</td>\n      <td>\\n##Product\\nName: Runar sweater\\nType: Sweate...</td>\n      <td>0.926939</td>\n    </tr>\n    <tr>\n      <th>4</th>\n      <td>893141</td>\n      <td>\\n##Product\\nName: Sandy\\nType: Sweater\\nGroup...</td>\n      <td>0.925745</td>\n    </tr>\n    <tr>\n      <th>5</th>\n      <td>812167</td>\n      <td>\\n##Product\\nName: Macy\\nType: Sweater\\nGroup:...</td>\n      <td>0.925685</td>\n    </tr>\n    <tr>\n      <th>6</th>\n      <td>690623</td>\n      <td>\\n##Product\\nName: Simba\\nType: Sweater\\nGroup...</td>\n      <td>0.924674</td>\n    </tr>\n    <tr>\n      <th>7</th>\n      <td>557247</td>\n      <td>\\n##Product\\nName: Petar Sweater(1)\\nType: Swe...</td>\n      <td>0.923877</td>\n    </tr>\n    <tr>\n      <th>8</th>\n      <td>687934</td>\n      <td>\\n##Product\\nName: Sister off shoulder\\nType: ...</td>\n      <td>0.923150</td>\n    </tr>\n    <tr>\n      <th>9</th>\n      <td>594834</td>\n      <td>\\n##Product\\nName: Dolly hood\\nType: Sweater\\n...</td>\n      <td>0.923108</td>\n    </tr>\n  </tbody>\n</table>\n</div>"
     },
     "execution_count": 170,
     "metadata": {},
     "output_type": "execute_result"
    }
   ],
   "source": [
    "gds.run_cypher('''\n",
    "CALL db.index.vector.queryNodes(\"product-text-embeddings\", 10, $queryVector)\n",
    "YIELD node AS product, score\n",
    "RETURN product.productCode AS productCode,\n",
    "    product.text AS text,\n",
    "    score\n",
    "''', params={'queryVector': query_vector})"
   ],
   "metadata": {
    "id": "pRTY5LnPdyXp",
    "outputId": "f1a88b3b-4723-4f0e-b511-107c6ca3f585"
   }
  },
  {
   "cell_type": "markdown",
   "source": [
    "### Vector Search Using Langchain\n",
    "\n",
    "We can also do this with langchain which is a recommended approach going forward.  To do this we use the Neo4jVector class and call the method to sert it up from an existing index in the graph."
   ],
   "metadata": {
    "id": "RLmyZ_5lhTRm"
   }
  },
  {
   "cell_type": "code",
   "execution_count": 43,
   "outputs": [],
   "source": [
    "from langchain.vectorstores.neo4j_vector import Neo4jVector"
   ],
   "metadata": {
    "collapsed": false
   }
  },
  {
   "cell_type": "code",
   "execution_count": 145,
   "outputs": [],
   "source": [
    "kg_vector_search = Neo4jVector.from_existing_index(\n",
    "    embedding=embedding_model,\n",
    "    url=NEO4J_URI,\n",
    "    username=NEO4J_USERNAME,\n",
    "    password=NEO4J_PASSWORD,\n",
    "    index_name='product-text-embeddings')"
   ],
   "metadata": {
    "collapsed": false
   }
  },
  {
   "cell_type": "code",
   "execution_count": 146,
   "outputs": [
    {
     "data": {
      "text/plain": "[Document(page_content='\\n##Product\\nName: Betsy Oversized\\nType: Sweater\\nGroup: Garment Upper body\\nGarment Type: Knitwear\\nDescription: Oversized, V-neck jumper in a soft, loose knit containing some wool and alpaca wool. Dropped shoulders, long, wide sleeves, wide ribbing around the neckline, cuffs and hem, and slits in the sides.\\n', metadata={'prodName': 'Betsy Oversized', 'garmentGroupName': 'Knitwear', 'garmentGroupNo': 1003, 'productCode': 842001, 'productTypeName': 'Sweater', 'productTypeNo': 252, 'detailDesc': 'Oversized, V-neck jumper in a soft, loose knit containing some wool and alpaca wool. Dropped shoulders, long, wide sleeves, wide ribbing around the neckline, cuffs and hem, and slits in the sides.', 'productGroupName': 'Garment Upper body'}),\n Document(page_content='\\n##Product\\nName: Japp oversize sweater\\nType: Sweater\\nGroup: Garment Upper body\\nGarment Type: Jersey Basic\\nDescription: Relaxed-fit top in sweatshirt fabric with a ribbed turtle neck, dropped shoulders, long, wide sleeves and ribbing at the cuffs and hem. Longer at the back.\\n', metadata={'prodName': 'Japp oversize sweater', 'garmentGroupName': 'Jersey Basic', 'garmentGroupNo': 1002, 'productCode': 817392, 'productTypeName': 'Sweater', 'productTypeNo': 252, 'detailDesc': 'Relaxed-fit top in sweatshirt fabric with a ribbed turtle neck, dropped shoulders, long, wide sleeves and ribbing at the cuffs and hem. Longer at the back.', 'productGroupName': 'Garment Upper body'}),\n Document(page_content='\\n##Product\\nName: DIV Anni oversize hood\\nType: Sweater\\nGroup: Garment Upper body\\nGarment Type: Unknown\\nDescription: Oversized top in sweatshirt fabric with a lined hood with a wrapover front. Kangaroo pocket, dropped shoulders, long sleeves and ribbing at the cuffs and hem. Soft brushed inside.\\n', metadata={'prodName': 'DIV Anni oversize hood', 'garmentGroupName': 'Unknown', 'garmentGroupNo': 1001, 'productCode': 709418, 'productTypeName': 'Sweater', 'productTypeNo': 252, 'detailDesc': 'Oversized top in sweatshirt fabric with a lined hood with a wrapover front. Kangaroo pocket, dropped shoulders, long sleeves and ribbing at the cuffs and hem. Soft brushed inside.', 'productGroupName': 'Garment Upper body'}),\n Document(page_content='\\n##Product\\nName: Runar sweater\\nType: Sweater\\nGroup: Garment Upper body\\nGarment Type: Jersey Basic\\nDescription: Oversized top in soft sweatshirt fabric. Relaxed fit with low dropped shoulders, extra-long sleeves and ribbing around the neckline, cuffs and hem. Soft brushed inside.\\n', metadata={'prodName': 'Runar sweater', 'garmentGroupName': 'Jersey Basic', 'garmentGroupNo': 1002, 'productCode': 860833, 'productTypeName': 'Sweater', 'productTypeNo': 252, 'detailDesc': 'Oversized top in soft sweatshirt fabric. Relaxed fit with low dropped shoulders, extra-long sleeves and ribbing around the neckline, cuffs and hem. Soft brushed inside.', 'productGroupName': 'Garment Upper body'}),\n Document(page_content='\\n##Product\\nName: Sandy\\nType: Sweater\\nGroup: Garment Upper body\\nGarment Type: Knitwear\\nDescription: Oversized jumper in a soft knit containing some wool with dropped shoulders, long sleeves, a rounded hem and ribbing around the neckline, cuffs and hem. Longer at the back. The polyester content of the jumper is recycled.\\n', metadata={'prodName': 'Sandy', 'garmentGroupName': 'Knitwear', 'garmentGroupNo': 1003, 'productCode': 893141, 'productTypeName': 'Sweater', 'productTypeNo': 252, 'detailDesc': 'Oversized jumper in a soft knit containing some wool with dropped shoulders, long sleeves, a rounded hem and ribbing around the neckline, cuffs and hem. Longer at the back. The polyester content of the jumper is recycled.', 'productGroupName': 'Garment Upper body'}),\n Document(page_content='\\n##Product\\nName: Macy\\nType: Sweater\\nGroup: Garment Upper body\\nGarment Type: Knitwear\\nDescription: Oversized jumper in a soft knit containing some wool with a ribbed polo neck, low dropped shoulders, long sleeves, and ribbing at the cuffs and hem. The polyester content of the jumper is recycled.\\n', metadata={'prodName': 'Macy', 'garmentGroupName': 'Knitwear', 'garmentGroupNo': 1003, 'productCode': 812167, 'productTypeName': 'Sweater', 'productTypeNo': 252, 'detailDesc': 'Oversized jumper in a soft knit containing some wool with a ribbed polo neck, low dropped shoulders, long sleeves, and ribbing at the cuffs and hem. The polyester content of the jumper is recycled.', 'productGroupName': 'Garment Upper body'}),\n Document(page_content='\\n##Product\\nName: Simba\\nType: Sweater\\nGroup: Garment Upper body\\nGarment Type: Knitwear\\nDescription: Oversized jumper in a soft knit containing some wool with a cowl neck, long raglan sleeves and wide ribbing at the cuffs and hem.\\n', metadata={'prodName': 'Simba', 'garmentGroupName': 'Knitwear', 'garmentGroupNo': 1003, 'productCode': 690623, 'productTypeName': 'Sweater', 'productTypeNo': 252, 'detailDesc': 'Oversized jumper in a soft knit containing some wool with a cowl neck, long raglan sleeves and wide ribbing at the cuffs and hem.', 'productGroupName': 'Garment Upper body'}),\n Document(page_content='\\n##Product\\nName: Petar Sweater(1)\\nType: Sweater\\nGroup: Garment Upper body\\nGarment Type: Jersey Basic\\nDescription: Oversized top in sturdy sweatshirt fabric with dropped shoulders and ribbing around the neckline, cuffs and hem. Soft brushed inside.\\n', metadata={'prodName': 'Petar Sweater(1)', 'garmentGroupName': 'Jersey Basic', 'garmentGroupNo': 1002, 'productCode': 557247, 'productTypeName': 'Sweater', 'productTypeNo': 252, 'detailDesc': 'Oversized top in sturdy sweatshirt fabric with dropped shoulders and ribbing around the neckline, cuffs and hem. Soft brushed inside.', 'productGroupName': 'Garment Upper body'}),\n Document(page_content='\\n##Product\\nName: Sister off shoulder\\nType: Sweater\\nGroup: Garment Upper body\\nGarment Type: Jersey Fancy\\nDescription: Off-the-shoulder top in sweatshirt fabric with long, wide sleeves and ribbing around the top, cuffs and hem. Soft brushed inside.\\n', metadata={'prodName': 'Sister off shoulder', 'garmentGroupName': 'Jersey Fancy', 'garmentGroupNo': 1005, 'productCode': 687934, 'productTypeName': 'Sweater', 'productTypeNo': 252, 'detailDesc': 'Off-the-shoulder top in sweatshirt fabric with long, wide sleeves and ribbing around the top, cuffs and hem. Soft brushed inside.', 'productGroupName': 'Garment Upper body'}),\n Document(page_content='\\n##Product\\nName: Dolly hood\\nType: Sweater\\nGroup: Garment Upper body\\nGarment Type: Jersey Fancy\\nDescription: Oversized top in soft sweatshirt fabric with a lined drawstring hood, dropped shoulders and ribbing at the cuffs and hem.\\n', metadata={'prodName': 'Dolly hood', 'garmentGroupName': 'Jersey Fancy', 'garmentGroupNo': 1005, 'productCode': 594834, 'productTypeName': 'Sweater', 'productTypeNo': 252, 'detailDesc': 'Oversized top in soft sweatshirt fabric with a lined drawstring hood, dropped shoulders and ribbing at the cuffs and hem.', 'productGroupName': 'Garment Upper body'})]"
     },
     "execution_count": 146,
     "metadata": {},
     "output_type": "execute_result"
    }
   ],
   "source": [
    "res = kg_vector_search.similarity_search(search_prompt, k=10)\n",
    "res"
   ],
   "metadata": {
    "collapsed": false
   }
  },
  {
   "cell_type": "code",
   "execution_count": 147,
   "outputs": [
    {
     "data": {
      "text/plain": "                                            document\n0  \\n##Product\\nName: Betsy Oversized\\nType: Swea...\n1  \\n##Product\\nName: Japp oversize sweater\\nType...\n2  \\n##Product\\nName: DIV Anni oversize hood\\nTyp...\n3  \\n##Product\\nName: Runar sweater\\nType: Sweate...\n4  \\n##Product\\nName: Sandy\\nType: Sweater\\nGroup...\n5  \\n##Product\\nName: Macy\\nType: Sweater\\nGroup:...\n6  \\n##Product\\nName: Simba\\nType: Sweater\\nGroup...\n7  \\n##Product\\nName: Petar Sweater(1)\\nType: Swe...\n8  \\n##Product\\nName: Sister off shoulder\\nType: ...\n9  \\n##Product\\nName: Dolly hood\\nType: Sweater\\n...",
      "text/html": "<div>\n<style scoped>\n    .dataframe tbody tr th:only-of-type {\n        vertical-align: middle;\n    }\n\n    .dataframe tbody tr th {\n        vertical-align: top;\n    }\n\n    .dataframe thead th {\n        text-align: right;\n    }\n</style>\n<table border=\"1\" class=\"dataframe\">\n  <thead>\n    <tr style=\"text-align: right;\">\n      <th></th>\n      <th>document</th>\n    </tr>\n  </thead>\n  <tbody>\n    <tr>\n      <th>0</th>\n      <td>\\n##Product\\nName: Betsy Oversized\\nType: Swea...</td>\n    </tr>\n    <tr>\n      <th>1</th>\n      <td>\\n##Product\\nName: Japp oversize sweater\\nType...</td>\n    </tr>\n    <tr>\n      <th>2</th>\n      <td>\\n##Product\\nName: DIV Anni oversize hood\\nTyp...</td>\n    </tr>\n    <tr>\n      <th>3</th>\n      <td>\\n##Product\\nName: Runar sweater\\nType: Sweate...</td>\n    </tr>\n    <tr>\n      <th>4</th>\n      <td>\\n##Product\\nName: Sandy\\nType: Sweater\\nGroup...</td>\n    </tr>\n    <tr>\n      <th>5</th>\n      <td>\\n##Product\\nName: Macy\\nType: Sweater\\nGroup:...</td>\n    </tr>\n    <tr>\n      <th>6</th>\n      <td>\\n##Product\\nName: Simba\\nType: Sweater\\nGroup...</td>\n    </tr>\n    <tr>\n      <th>7</th>\n      <td>\\n##Product\\nName: Petar Sweater(1)\\nType: Swe...</td>\n    </tr>\n    <tr>\n      <th>8</th>\n      <td>\\n##Product\\nName: Sister off shoulder\\nType: ...</td>\n    </tr>\n    <tr>\n      <th>9</th>\n      <td>\\n##Product\\nName: Dolly hood\\nType: Sweater\\n...</td>\n    </tr>\n  </tbody>\n</table>\n</div>"
     },
     "execution_count": 147,
     "metadata": {},
     "output_type": "execute_result"
    }
   ],
   "source": [
    "# Visualize as a dataframe\n",
    "pd.DataFrame([{'document': d.page_content} for d in res])"
   ],
   "metadata": {
    "collapsed": false
   }
  },
  {
   "cell_type": "markdown",
   "source": [
    "## Semantic Search with Context\n",
    "Using Explicit Relationships in EN terprise data"
   ],
   "metadata": {
    "collapsed": false
   }
  },
  {
   "cell_type": "markdown",
   "source": [
    "\n",
    "Above we see how you can use the vector index to find semantic similar products in user searches.  but there is a rich graph full of other information in it. Lets leverage our knowledge graph to make this better"
   ],
   "metadata": {
    "collapsed": false
   }
  },
  {
   "cell_type": "markdown",
   "source": [
    "An important piece of information expressed in this graph, but not directly in the documents, is customer purchasing behavior.  We can use A Cypher Query to make recommendations without any document behavior. this is similar to collaborative filtering but generalized to purchase history (not necessarily rating based)"
   ],
   "metadata": {
    "collapsed": false,
    "id": "QdiPqIq2dyXp"
   }
  },
  {
   "cell_type": "markdown",
   "source": [
    "#### Example Purchase History"
   ],
   "metadata": {
    "id": "G4ghIv8miXrt"
   }
  },
  {
   "cell_type": "markdown",
   "source": [
    "Consider the below customer"
   ],
   "metadata": {
    "collapsed": false,
    "id": "DQCdy6jXdyXp"
   }
  },
  {
   "cell_type": "code",
   "execution_count": 171,
   "outputs": [
    {
     "name": "stdout",
     "output_type": "stream",
     "text": [
      "Customer Purchase History\n"
     ]
    },
    {
     "data": {
      "text/plain": "    productCode                     prodName  productTypeName  \\\n0        569974         DONT USE ROLAND HOOD           Hoodie   \n1        557247             Petar Sweater(1)          Sweater   \n2        733027                         Tove              Top   \n3        753724                     Rosemary            Dress   \n4        687016                   DORIS CREW          Sweater   \n5        691072             JEKYL SWEATSHIRT          Sweater   \n6        244267                  Silver lake          Sweater   \n7        606711               Rylee flatform   Heeled sandals   \n8        660519            Haven back detail              Bra   \n9        585480         Adore strapless push              Bra   \n10       662328                     Survivor           Blouse   \n11       688537  Simple as that Cheeky Tanga  Swimwear bottom   \n12       731142             Lead Superskinny         Trousers   \n13       640129                Eden SP Andes              Bra   \n14       642498       Bubble Bum Bandeau (1)       Bikini top   \n15       656401               PASTRY SWEATER          Sweater   \n16       511924             Leona Push Mirny              Bra   \n17       620425               Karin headband         Hairband   \n18       713577                 Malte r-neck          Sweater   \n19       557246                   Hood W Zip           Hoodie   \n20       598806                    Dixie tee          T-shirt   \n21       682848    Skinny  RW Ankle Milo Zip         Trousers   \n22       752193                        Banks           Hoodie   \n\n     garmentGroupName                                         detailDesc  \\\n0        Jersey Basic  Top in sweatshirt fabric with a lined drawstri...   \n1        Jersey Basic  Oversized top in sturdy sweatshirt fabric with...   \n2        Jersey Fancy  Short top in soft cotton jersey with a round n...   \n3      Dresses Ladies  Short dress in woven fabric with 3/4-length sl...   \n4        Jersey Fancy  Top in sweatshirt fabric with a motif on the f...   \n5        Jersey Basic  Top in sweatshirt fabric with long raglan slee...   \n6            Knitwear  Purl-knit jumper in a cotton blend with a slig...   \n7               Shoes  Sandals with imitation suede straps, an elasti...   \n8   Under-, Nightwear  Push-up bra in lace and mesh with underwired, ...   \n9   Under-, Nightwear  Strapless balconette bra in microfibre with un...   \n10            Blouses  Straight-cut blouse in a crêpe weave with a co...   \n11           Swimwear  Fully lined bikini bottoms with a mid waist an...   \n12           Trousers  Chinos in stretch twill with a zip fly and but...   \n13  Under-, Nightwear  Super push-up bra in lace with underwired, thi...   \n14           Swimwear  Fully lined bandeau bikini top with padded cup...   \n15           Knitwear  Jumper in soft, textured-knit cotton with long...   \n16  Under-, Nightwear  Push-up bra in lace and mesh with underwired, ...   \n17        Accessories  Wide hairband in cotton jersey with a twisted ...   \n18           Knitwear  Jumper in soft, patterned, fine-knit cotton wi...   \n19       Jersey Basic  Long-sleeved jacket in sweatshirt fabric with ...   \n20       Jersey Fancy  Short top in soft cotton jersey with short sle...   \n21     Trousers Denim  5-pocket, ankle-length jeans in washed stretch...   \n22       Jersey Basic  Long-sleeved top in sweatshirt fabric made fro...   \n\n    purchaseCount  \n0               2  \n1               2  \n2               1  \n3               1  \n4               1  \n5               1  \n6               1  \n7               1  \n8               1  \n9               1  \n10              1  \n11              1  \n12              1  \n13              1  \n14              1  \n15              1  \n16              1  \n17              1  \n18              1  \n19              1  \n20              1  \n21              1  \n22              1  ",
      "text/html": "<div>\n<style scoped>\n    .dataframe tbody tr th:only-of-type {\n        vertical-align: middle;\n    }\n\n    .dataframe tbody tr th {\n        vertical-align: top;\n    }\n\n    .dataframe thead th {\n        text-align: right;\n    }\n</style>\n<table border=\"1\" class=\"dataframe\">\n  <thead>\n    <tr style=\"text-align: right;\">\n      <th></th>\n      <th>productCode</th>\n      <th>prodName</th>\n      <th>productTypeName</th>\n      <th>garmentGroupName</th>\n      <th>detailDesc</th>\n      <th>purchaseCount</th>\n    </tr>\n  </thead>\n  <tbody>\n    <tr>\n      <th>0</th>\n      <td>569974</td>\n      <td>DONT USE ROLAND HOOD</td>\n      <td>Hoodie</td>\n      <td>Jersey Basic</td>\n      <td>Top in sweatshirt fabric with a lined drawstri...</td>\n      <td>2</td>\n    </tr>\n    <tr>\n      <th>1</th>\n      <td>557247</td>\n      <td>Petar Sweater(1)</td>\n      <td>Sweater</td>\n      <td>Jersey Basic</td>\n      <td>Oversized top in sturdy sweatshirt fabric with...</td>\n      <td>2</td>\n    </tr>\n    <tr>\n      <th>2</th>\n      <td>733027</td>\n      <td>Tove</td>\n      <td>Top</td>\n      <td>Jersey Fancy</td>\n      <td>Short top in soft cotton jersey with a round n...</td>\n      <td>1</td>\n    </tr>\n    <tr>\n      <th>3</th>\n      <td>753724</td>\n      <td>Rosemary</td>\n      <td>Dress</td>\n      <td>Dresses Ladies</td>\n      <td>Short dress in woven fabric with 3/4-length sl...</td>\n      <td>1</td>\n    </tr>\n    <tr>\n      <th>4</th>\n      <td>687016</td>\n      <td>DORIS CREW</td>\n      <td>Sweater</td>\n      <td>Jersey Fancy</td>\n      <td>Top in sweatshirt fabric with a motif on the f...</td>\n      <td>1</td>\n    </tr>\n    <tr>\n      <th>5</th>\n      <td>691072</td>\n      <td>JEKYL SWEATSHIRT</td>\n      <td>Sweater</td>\n      <td>Jersey Basic</td>\n      <td>Top in sweatshirt fabric with long raglan slee...</td>\n      <td>1</td>\n    </tr>\n    <tr>\n      <th>6</th>\n      <td>244267</td>\n      <td>Silver lake</td>\n      <td>Sweater</td>\n      <td>Knitwear</td>\n      <td>Purl-knit jumper in a cotton blend with a slig...</td>\n      <td>1</td>\n    </tr>\n    <tr>\n      <th>7</th>\n      <td>606711</td>\n      <td>Rylee flatform</td>\n      <td>Heeled sandals</td>\n      <td>Shoes</td>\n      <td>Sandals with imitation suede straps, an elasti...</td>\n      <td>1</td>\n    </tr>\n    <tr>\n      <th>8</th>\n      <td>660519</td>\n      <td>Haven back detail</td>\n      <td>Bra</td>\n      <td>Under-, Nightwear</td>\n      <td>Push-up bra in lace and mesh with underwired, ...</td>\n      <td>1</td>\n    </tr>\n    <tr>\n      <th>9</th>\n      <td>585480</td>\n      <td>Adore strapless push</td>\n      <td>Bra</td>\n      <td>Under-, Nightwear</td>\n      <td>Strapless balconette bra in microfibre with un...</td>\n      <td>1</td>\n    </tr>\n    <tr>\n      <th>10</th>\n      <td>662328</td>\n      <td>Survivor</td>\n      <td>Blouse</td>\n      <td>Blouses</td>\n      <td>Straight-cut blouse in a crêpe weave with a co...</td>\n      <td>1</td>\n    </tr>\n    <tr>\n      <th>11</th>\n      <td>688537</td>\n      <td>Simple as that Cheeky Tanga</td>\n      <td>Swimwear bottom</td>\n      <td>Swimwear</td>\n      <td>Fully lined bikini bottoms with a mid waist an...</td>\n      <td>1</td>\n    </tr>\n    <tr>\n      <th>12</th>\n      <td>731142</td>\n      <td>Lead Superskinny</td>\n      <td>Trousers</td>\n      <td>Trousers</td>\n      <td>Chinos in stretch twill with a zip fly and but...</td>\n      <td>1</td>\n    </tr>\n    <tr>\n      <th>13</th>\n      <td>640129</td>\n      <td>Eden SP Andes</td>\n      <td>Bra</td>\n      <td>Under-, Nightwear</td>\n      <td>Super push-up bra in lace with underwired, thi...</td>\n      <td>1</td>\n    </tr>\n    <tr>\n      <th>14</th>\n      <td>642498</td>\n      <td>Bubble Bum Bandeau (1)</td>\n      <td>Bikini top</td>\n      <td>Swimwear</td>\n      <td>Fully lined bandeau bikini top with padded cup...</td>\n      <td>1</td>\n    </tr>\n    <tr>\n      <th>15</th>\n      <td>656401</td>\n      <td>PASTRY SWEATER</td>\n      <td>Sweater</td>\n      <td>Knitwear</td>\n      <td>Jumper in soft, textured-knit cotton with long...</td>\n      <td>1</td>\n    </tr>\n    <tr>\n      <th>16</th>\n      <td>511924</td>\n      <td>Leona Push Mirny</td>\n      <td>Bra</td>\n      <td>Under-, Nightwear</td>\n      <td>Push-up bra in lace and mesh with underwired, ...</td>\n      <td>1</td>\n    </tr>\n    <tr>\n      <th>17</th>\n      <td>620425</td>\n      <td>Karin headband</td>\n      <td>Hairband</td>\n      <td>Accessories</td>\n      <td>Wide hairband in cotton jersey with a twisted ...</td>\n      <td>1</td>\n    </tr>\n    <tr>\n      <th>18</th>\n      <td>713577</td>\n      <td>Malte r-neck</td>\n      <td>Sweater</td>\n      <td>Knitwear</td>\n      <td>Jumper in soft, patterned, fine-knit cotton wi...</td>\n      <td>1</td>\n    </tr>\n    <tr>\n      <th>19</th>\n      <td>557246</td>\n      <td>Hood W Zip</td>\n      <td>Hoodie</td>\n      <td>Jersey Basic</td>\n      <td>Long-sleeved jacket in sweatshirt fabric with ...</td>\n      <td>1</td>\n    </tr>\n    <tr>\n      <th>20</th>\n      <td>598806</td>\n      <td>Dixie tee</td>\n      <td>T-shirt</td>\n      <td>Jersey Fancy</td>\n      <td>Short top in soft cotton jersey with short sle...</td>\n      <td>1</td>\n    </tr>\n    <tr>\n      <th>21</th>\n      <td>682848</td>\n      <td>Skinny  RW Ankle Milo Zip</td>\n      <td>Trousers</td>\n      <td>Trousers Denim</td>\n      <td>5-pocket, ankle-length jeans in washed stretch...</td>\n      <td>1</td>\n    </tr>\n    <tr>\n      <th>22</th>\n      <td>752193</td>\n      <td>Banks</td>\n      <td>Hoodie</td>\n      <td>Jersey Basic</td>\n      <td>Long-sleeved top in sweatshirt fabric made fro...</td>\n      <td>1</td>\n    </tr>\n  </tbody>\n</table>\n</div>"
     },
     "execution_count": 171,
     "metadata": {},
     "output_type": "execute_result"
    }
   ],
   "source": [
    "CUSTOMER_ID = \"daae10780ecd14990ea190a1e9917da33fe96cd8cfa5e80b67b4600171aa77e0\"\n",
    "print('Customer Purchase History')\n",
    "gds.run_cypher('''\n",
    "    MATCH(c:Customer {customerId: $customerId})-[:PURCHASED]->(:Article)\n",
    "    -[:VARIANT_OF]->(p:Product)\n",
    "    RETURN p.productCode AS productCode,\n",
    "        p.prodName AS prodName,\n",
    "        p.productTypeName AS productTypeName,\n",
    "        p.garmentGroupName AS garmentGroupName,\n",
    "        p.detailDesc AS detailDesc,\n",
    "        count(*) AS purchaseCount\n",
    "    ORDER BY purchaseCount DESC\n",
    "''', params={'customerId': CUSTOMER_ID})"
   ],
   "metadata": {
    "id": "zSTgu7YrdyXp",
    "outputId": "25cd8348-33e2-4b52-d089-1d1d3ee3c9fd"
   }
  },
  {
   "cell_type": "markdown",
   "source": [
    "#### Graph Patterns For Retrieval Query"
   ],
   "metadata": {
    "id": "2o8X9NX9igPm"
   }
  },
  {
   "cell_type": "code",
   "execution_count": 102,
   "outputs": [
    {
     "data": {
      "text/plain": "   productCode                     prodName  productTypeName garmentGroupName  \\\n0       685816         RONNY REG RN T-SHIRT          T-shirt     Jersey Basic   \n1       599580       Timeless Midrise Brief  Swimwear bottom         Swimwear   \n2       684209  Simple as That Triangle Top       Bikini top         Swimwear   \n3       688537  Simple as that Cheeky Tanga  Swimwear bottom         Swimwear   \n4       778064             Claudine t-shirt          T-shirt     Jersey Basic   \n5       656719     Serpente HW slim trouser         Trousers         Trousers   \n6       615141                       Juanos              Top     Jersey Fancy   \n7       776237      Shake it in Balconette.       Bikini top         Swimwear   \n8       685813             PETAR SWEATSHIRT          Sweater     Jersey Basic   \n9       685814                  RICHIE HOOD           Hoodie     Jersey Basic   \n\n                                          detailDesc  score  \n0        Round-necked T-shirt in soft cotton jersey.     17  \n1  Fully lined bikini bottoms with a mid waist an...     16  \n2  Lined, non-wired, triangle bikini top with a w...     13  \n3  Fully lined bikini bottoms with a mid waist an...     12  \n4  Fitted top in soft organic cotton jersey with ...      9  \n5  Tailored trousers in a stretch weave with two ...      6  \n6  Long-sleeved, fitted top in ribbed jersey with...      6  \n7  Lined balconette bikini top with underwired, p...      6  \n8  Top in soft sweatshirt fabric. Slightly looser...      6  \n9  Hoodie in sweatshirt fabric made from a cotton...      5  ",
      "text/html": "<div>\n<style scoped>\n    .dataframe tbody tr th:only-of-type {\n        vertical-align: middle;\n    }\n\n    .dataframe tbody tr th {\n        vertical-align: top;\n    }\n\n    .dataframe thead th {\n        text-align: right;\n    }\n</style>\n<table border=\"1\" class=\"dataframe\">\n  <thead>\n    <tr style=\"text-align: right;\">\n      <th></th>\n      <th>productCode</th>\n      <th>prodName</th>\n      <th>productTypeName</th>\n      <th>garmentGroupName</th>\n      <th>detailDesc</th>\n      <th>score</th>\n    </tr>\n  </thead>\n  <tbody>\n    <tr>\n      <th>0</th>\n      <td>685816</td>\n      <td>RONNY REG RN T-SHIRT</td>\n      <td>T-shirt</td>\n      <td>Jersey Basic</td>\n      <td>Round-necked T-shirt in soft cotton jersey.</td>\n      <td>17</td>\n    </tr>\n    <tr>\n      <th>1</th>\n      <td>599580</td>\n      <td>Timeless Midrise Brief</td>\n      <td>Swimwear bottom</td>\n      <td>Swimwear</td>\n      <td>Fully lined bikini bottoms with a mid waist an...</td>\n      <td>16</td>\n    </tr>\n    <tr>\n      <th>2</th>\n      <td>684209</td>\n      <td>Simple as That Triangle Top</td>\n      <td>Bikini top</td>\n      <td>Swimwear</td>\n      <td>Lined, non-wired, triangle bikini top with a w...</td>\n      <td>13</td>\n    </tr>\n    <tr>\n      <th>3</th>\n      <td>688537</td>\n      <td>Simple as that Cheeky Tanga</td>\n      <td>Swimwear bottom</td>\n      <td>Swimwear</td>\n      <td>Fully lined bikini bottoms with a mid waist an...</td>\n      <td>12</td>\n    </tr>\n    <tr>\n      <th>4</th>\n      <td>778064</td>\n      <td>Claudine t-shirt</td>\n      <td>T-shirt</td>\n      <td>Jersey Basic</td>\n      <td>Fitted top in soft organic cotton jersey with ...</td>\n      <td>9</td>\n    </tr>\n    <tr>\n      <th>5</th>\n      <td>656719</td>\n      <td>Serpente HW slim trouser</td>\n      <td>Trousers</td>\n      <td>Trousers</td>\n      <td>Tailored trousers in a stretch weave with two ...</td>\n      <td>6</td>\n    </tr>\n    <tr>\n      <th>6</th>\n      <td>615141</td>\n      <td>Juanos</td>\n      <td>Top</td>\n      <td>Jersey Fancy</td>\n      <td>Long-sleeved, fitted top in ribbed jersey with...</td>\n      <td>6</td>\n    </tr>\n    <tr>\n      <th>7</th>\n      <td>776237</td>\n      <td>Shake it in Balconette.</td>\n      <td>Bikini top</td>\n      <td>Swimwear</td>\n      <td>Lined balconette bikini top with underwired, p...</td>\n      <td>6</td>\n    </tr>\n    <tr>\n      <th>8</th>\n      <td>685813</td>\n      <td>PETAR SWEATSHIRT</td>\n      <td>Sweater</td>\n      <td>Jersey Basic</td>\n      <td>Top in soft sweatshirt fabric. Slightly looser...</td>\n      <td>6</td>\n    </tr>\n    <tr>\n      <th>9</th>\n      <td>685814</td>\n      <td>RICHIE HOOD</td>\n      <td>Hoodie</td>\n      <td>Jersey Basic</td>\n      <td>Hoodie in sweatshirt fabric made from a cotton...</td>\n      <td>5</td>\n    </tr>\n  </tbody>\n</table>\n</div>"
     },
     "execution_count": 102,
     "metadata": {},
     "output_type": "execute_result"
    }
   ],
   "source": [
    "# This is the example Pattern we can use to predict likely customer preferences based on collaborative behavior\n",
    "gds.run_cypher('''\n",
    "    MATCH(c:Customer {customerId: $customerId})-[:PURCHASED]->(:Article)\n",
    "    <-[:PURCHASED]-(:Customer)-[:PURCHASED]->(:Article)\n",
    "    -[:VARIANT_OF]->(p:Product)\n",
    "    RETURN p.productCode AS productCode,\n",
    "        p.prodName AS prodName,\n",
    "        p.productTypeName AS productTypeName,\n",
    "        p.garmentGroupName AS garmentGroupName,\n",
    "        p.detailDesc AS detailDesc,\n",
    "        count(*) AS score\n",
    "    ORDER BY score DESC LIMIT 10\n",
    "''', params={'customerId': CUSTOMER_ID})"
   ],
   "metadata": {
    "id": "J1YY_a99dyXp",
    "outputId": "6c61249b-5295-42ba-abad-9ac8f70dccb8"
   }
  },
  {
   "cell_type": "code",
   "execution_count": 173,
   "outputs": [],
   "source": [
    "# This is the example Pattern we can use to predict likely customer preferences based on collaborative behavior\n",
    "kg_personalized_vector_search = Neo4jVector.from_existing_index(\n",
    "    embedding=embedding_model,\n",
    "    url=NEO4J_URI,\n",
    "    username=NEO4J_USERNAME,\n",
    "    password=NEO4J_PASSWORD,\n",
    "    index_name='product-text-embeddings',\n",
    "    retrieval_query=f\"\"\"\n",
    "    WITH node AS product, score AS searchScore\n",
    "\n",
    "    OPTIONAL MATCH(product)<-[:VARIANT_OF]-(:Article)<-[:PURCHASED]-(:Customer)\n",
    "    -[:PURCHASED]->(a:Article)<-[:PURCHASED]-(:Customer {{customerId: '{CUSTOMER_ID}'}})\n",
    "\n",
    "    WITH count(a) AS purchaseScore, product.text AS text, searchScore, product.productCode AS productCode\n",
    "    RETURN text,\n",
    "        (1+purchaseScore)*searchScore AS score,\n",
    "        {{productCode: productCode, purchaseScore:purchaseScore, searchScore:searchScore}} AS metadata\n",
    "    ORDER BY purchaseScore DESC, searchScore DESC LIMIT 15\n",
    "    \"\"\")"
   ],
   "metadata": {
    "collapsed": false
   }
  },
  {
   "cell_type": "code",
   "execution_count": 174,
   "outputs": [
    {
     "data": {
      "text/plain": "    productCode                                           document  \\\n0        677930  \\n##Product\\nName: Queen Sweater\\nType: Sweate...   \n1        516712  \\n##Product\\nName: Jess oversize LS\\nType: Top...   \n2        669682  \\n##Product\\nName: Irma sweater\\nType: Sweater...   \n3        640755  \\n##Product\\nName: Allen Sweater\\nType: Sweate...   \n4        687948  \\n##Product\\nName: Annie Oversized Hood\\nType:...   \n5        709991  \\n##Product\\nName: SISTER OL\\nType: Sweater\\nG...   \n6        687856  \\n##Product\\nName: Jacket Oversize\\nType: Jack...   \n7        686265  \\n##Product\\nName: Family Crew Ladies\\nType: S...   \n8        845520  \\n##Product\\nName: Dolls Printed\\nType: Sweate...   \n9        674826  \\n##Product\\nName: Fine knit\\nType: Sweater\\nG...   \n10       782451  \\n##Product\\nName: Pickles Velour Sweater\\nTyp...   \n11       547300  \\n##Product\\nName: Harley Sweater\\nType: Sweat...   \n12       675408  \\n##Product\\nName: Mother\\nType: Sweater\\nGrou...   \n13       842001  \\n##Product\\nName: Betsy Oversized\\nType: Swea...   \n14       817392  \\n##Product\\nName: Japp oversize sweater\\nType...   \n\n    searchScore  purchaseScore  \n0      0.918759              4  \n1      0.918976              2  \n2      0.917643              2  \n3      0.922795              1  \n4      0.921786              1  \n5      0.921149              1  \n6      0.919922              1  \n7      0.918640              1  \n8      0.917355              1  \n9      0.917115              1  \n10     0.916920              1  \n11     0.916153              1  \n12     0.916103              1  \n13     0.942261              0  \n14     0.939759              0  ",
      "text/html": "<div>\n<style scoped>\n    .dataframe tbody tr th:only-of-type {\n        vertical-align: middle;\n    }\n\n    .dataframe tbody tr th {\n        vertical-align: top;\n    }\n\n    .dataframe thead th {\n        text-align: right;\n    }\n</style>\n<table border=\"1\" class=\"dataframe\">\n  <thead>\n    <tr style=\"text-align: right;\">\n      <th></th>\n      <th>productCode</th>\n      <th>document</th>\n      <th>searchScore</th>\n      <th>purchaseScore</th>\n    </tr>\n  </thead>\n  <tbody>\n    <tr>\n      <th>0</th>\n      <td>677930</td>\n      <td>\\n##Product\\nName: Queen Sweater\\nType: Sweate...</td>\n      <td>0.918759</td>\n      <td>4</td>\n    </tr>\n    <tr>\n      <th>1</th>\n      <td>516712</td>\n      <td>\\n##Product\\nName: Jess oversize LS\\nType: Top...</td>\n      <td>0.918976</td>\n      <td>2</td>\n    </tr>\n    <tr>\n      <th>2</th>\n      <td>669682</td>\n      <td>\\n##Product\\nName: Irma sweater\\nType: Sweater...</td>\n      <td>0.917643</td>\n      <td>2</td>\n    </tr>\n    <tr>\n      <th>3</th>\n      <td>640755</td>\n      <td>\\n##Product\\nName: Allen Sweater\\nType: Sweate...</td>\n      <td>0.922795</td>\n      <td>1</td>\n    </tr>\n    <tr>\n      <th>4</th>\n      <td>687948</td>\n      <td>\\n##Product\\nName: Annie Oversized Hood\\nType:...</td>\n      <td>0.921786</td>\n      <td>1</td>\n    </tr>\n    <tr>\n      <th>5</th>\n      <td>709991</td>\n      <td>\\n##Product\\nName: SISTER OL\\nType: Sweater\\nG...</td>\n      <td>0.921149</td>\n      <td>1</td>\n    </tr>\n    <tr>\n      <th>6</th>\n      <td>687856</td>\n      <td>\\n##Product\\nName: Jacket Oversize\\nType: Jack...</td>\n      <td>0.919922</td>\n      <td>1</td>\n    </tr>\n    <tr>\n      <th>7</th>\n      <td>686265</td>\n      <td>\\n##Product\\nName: Family Crew Ladies\\nType: S...</td>\n      <td>0.918640</td>\n      <td>1</td>\n    </tr>\n    <tr>\n      <th>8</th>\n      <td>845520</td>\n      <td>\\n##Product\\nName: Dolls Printed\\nType: Sweate...</td>\n      <td>0.917355</td>\n      <td>1</td>\n    </tr>\n    <tr>\n      <th>9</th>\n      <td>674826</td>\n      <td>\\n##Product\\nName: Fine knit\\nType: Sweater\\nG...</td>\n      <td>0.917115</td>\n      <td>1</td>\n    </tr>\n    <tr>\n      <th>10</th>\n      <td>782451</td>\n      <td>\\n##Product\\nName: Pickles Velour Sweater\\nTyp...</td>\n      <td>0.916920</td>\n      <td>1</td>\n    </tr>\n    <tr>\n      <th>11</th>\n      <td>547300</td>\n      <td>\\n##Product\\nName: Harley Sweater\\nType: Sweat...</td>\n      <td>0.916153</td>\n      <td>1</td>\n    </tr>\n    <tr>\n      <th>12</th>\n      <td>675408</td>\n      <td>\\n##Product\\nName: Mother\\nType: Sweater\\nGrou...</td>\n      <td>0.916103</td>\n      <td>1</td>\n    </tr>\n    <tr>\n      <th>13</th>\n      <td>842001</td>\n      <td>\\n##Product\\nName: Betsy Oversized\\nType: Swea...</td>\n      <td>0.942261</td>\n      <td>0</td>\n    </tr>\n    <tr>\n      <th>14</th>\n      <td>817392</td>\n      <td>\\n##Product\\nName: Japp oversize sweater\\nType...</td>\n      <td>0.939759</td>\n      <td>0</td>\n    </tr>\n  </tbody>\n</table>\n</div>"
     },
     "execution_count": 174,
     "metadata": {},
     "output_type": "execute_result"
    }
   ],
   "source": [
    "res = kg_personalized_vector_search.similarity_search(search_prompt, k=100)\n",
    "\n",
    "# Visualize as a dataframe\n",
    "pd.DataFrame([{'productCode': d.metadata['productCode'],\n",
    "               'document': d.page_content,\n",
    "               'searchScore': d.metadata['searchScore'],\n",
    "               'purchaseScore': d.metadata['purchaseScore']} for d in res])"
   ],
   "metadata": {
    "collapsed": false
   }
  },
  {
   "cell_type": "code",
   "execution_count": 172,
   "outputs": [],
   "source": [
    "# OPTIONAL version without Langchain\n",
    "# gds.run_cypher('''\n",
    "# CALL db.index.vector.queryNodes(\"product-text-embeddings\", 100, $queryVector)\n",
    "# YIELD node AS product, score AS searchScore\n",
    "#\n",
    "# OPTIONAL MATCH(product)<-[:VARIANT_OF]-(:Article)<-[:PURCHASED]-(:Customer)\n",
    "# -[:PURCHASED]->(a:Article)<-[:PURCHASED]-(:Customer {customerId: $customerId})\n",
    "#\n",
    "# WITH product.text AS text, count(a) AS purchaseScore, searchScore, product.productCode AS productCode\n",
    "# RETURN text, (1+purchaseScore)*searchScore AS score, productCode, purchaseScore, searchScore\n",
    "# ORDER BY purchaseScore DESC, searchScore DESC LIMIT 15\n",
    "# ''', params={'queryVector': embedding_model.embed_query(\"Oversized Sweater\"), 'customerId': CUSTOMER_ID})"
   ],
   "metadata": {
    "id": "rQMP6rtydyXp",
    "outputId": "bba09eca-13ac-4aa9-d152-a0224a423e64"
   }
  },
  {
   "cell_type": "markdown",
   "source": [
    "## KG Powered Inference for AI\n",
    "\n",
    "We saw before how could use graph pattern matching to personalize search and make it more relevant.\n",
    "\n",
    "TODO: We also saw how we could use similar tools to power semantic search and analytics on entities connected to documents\n",
    "\n",
    "Graph pattern matching is very power and can work well in a lot of scenarios.\n",
    "\n",
    "In addition to this, we also have Graph Data Science, which can allow as to enrich the current Knowledge graph with machine learning, that can\n",
    "1. Provide addition information to improve relvancy of search results at scale\n",
    "2. Provide additional inferences to GenAI\n",
    "\n",
    "We will show an example of how this works using Node Embedding and K-Nearest Neighbor algorithms\n",
    "\n"
   ],
   "metadata": {
    "collapsed": false,
    "id": "t55maEsfdyXp"
   }
  },
  {
   "cell_type": "markdown",
   "source": [
    "### Embedding and KNN"
   ],
   "metadata": {
    "collapsed": false,
    "id": "gm0M6TsidyXp"
   }
  },
  {
   "cell_type": "code",
   "execution_count": null,
   "outputs": [],
   "source": [
    "pd.set_option('display.max_rows', 12)\n",
    "pd.set_option('display.max_colwidth', 500)\n",
    "pd.set_option('display.width', 0)"
   ],
   "metadata": {
    "id": "pfSOEBrLdyXp"
   }
  },
  {
   "cell_type": "code",
   "execution_count": null,
   "outputs": [],
   "source": [
    "def clear_all_graphs():\n",
    "    g_names = gds.graph.list().graphName.tolist()\n",
    "    for g_name in g_names:\n",
    "        g = gds.graph.get(g_name)\n",
    "        g.drop()"
   ],
   "metadata": {
    "id": "OKIFwRlydyXp"
   }
  },
  {
   "cell_type": "markdown",
   "source": [
    "#### Clear Past Analysis (If rerunning this Notebook)"
   ],
   "metadata": {
    "collapsed": false,
    "id": "fzwUJMfYdyXp"
   }
  },
  {
   "cell_type": "code",
   "execution_count": null,
   "outputs": [],
   "source": [
    "clear_all_graphs()"
   ],
   "metadata": {
    "id": "gRN0RJuZdyXp"
   }
  },
  {
   "cell_type": "code",
   "execution_count": null,
   "outputs": [
    {
     "data": {
      "text/plain": "Empty DataFrame\nColumns: []\nIndex: []",
      "text/html": "<div>\n<style scoped>\n    .dataframe tbody tr th:only-of-type {\n        vertical-align: middle;\n    }\n\n    .dataframe tbody tr th {\n        vertical-align: top;\n    }\n\n    .dataframe thead th {\n        text-align: right;\n    }\n</style>\n<table border=\"1\" class=\"dataframe\">\n  <thead>\n    <tr style=\"text-align: right;\">\n      <th></th>\n    </tr>\n  </thead>\n  <tbody>\n  </tbody>\n</table>\n</div>"
     },
     "execution_count": 121,
     "metadata": {},
     "output_type": "execute_result"
    }
   ],
   "source": [
    "gds.run_cypher('''\n",
    "    MATCH(:Article)-[r:CUSTOMERS_ALSO_PURCHASED]->()\n",
    "    CALL {\n",
    "        WITH r\n",
    "        DELETE r\n",
    "    } IN TRANSACTIONS OF 1000 ROWS\n",
    "    ''')"
   ],
   "metadata": {
    "id": "WhnX3y1kdyXp",
    "outputId": "1a3cf090-f643-456c-9bf6-5c3d434957ce"
   }
  },
  {
   "cell_type": "markdown",
   "source": [
    "#### Apply GDS FastRP Node Embeddings and K-Nearest Neighbor (KNN) Similarity"
   ],
   "metadata": {
    "collapsed": false,
    "id": "NAgt16h-dyXp"
   }
  },
  {
   "cell_type": "markdown",
   "source": [
    "First, apply a graph projection to structure the portion of the graph we need in an optimized in-memory format for graph ML."
   ],
   "metadata": {
    "collapsed": false,
    "id": "OH74FkdidyXp"
   }
  },
  {
   "cell_type": "code",
   "execution_count": null,
   "outputs": [
    {
     "name": "stdout",
     "output_type": "stream",
     "text": [
      "CPU times: user 2.2 ms, sys: 1.31 ms, total: 3.51 ms\n",
      "Wall time: 431 ms\n"
     ]
    }
   ],
   "source": [
    "%%time\n",
    "# graph projection\n",
    "g, _ = gds.graph.project('proj',['Customer', 'Article', 'Product'],\n",
    "                         {'PURCHASED':{'orientation':'UNDIRECTED'}, 'VARIANT_OF':{'orientation':'UNDIRECTED'}},\n",
    "                         readConcurrency=4)"
   ],
   "metadata": {
    "id": "3RVAm_cpdyXp",
    "outputId": "a7e1fba8-abfa-4179-cfcf-964955f70ae9"
   }
  },
  {
   "cell_type": "markdown",
   "source": [
    "Next, we will generate node embeddings for similarity calculation.  In this case, we will use FastRP (Fast Random Projection) which is a fast, scalable, and robust embedding algorithm. FastRP calculates embeddings using probabilistic sampling and linear algebra."
   ],
   "metadata": {
    "collapsed": false,
    "id": "g9fF7LjPdyXq"
   }
  },
  {
   "cell_type": "code",
   "execution_count": null,
   "outputs": [
    {
     "name": "stdout",
     "output_type": "stream",
     "text": [
      "CPU times: user 4.06 ms, sys: 1.65 ms, total: 5.71 ms\n",
      "Wall time: 4.27 s\n"
     ]
    },
    {
     "data": {
      "text/plain": "writeMillis                 1358\ngraphName                   proj\nnodeProperties       [embedding]\npropertiesWritten          21596\nName: 0, dtype: object"
     },
     "execution_count": 123,
     "metadata": {},
     "output_type": "execute_result"
    }
   ],
   "source": [
    "%%time\n",
    "# embeddings (writing back Article embeddings in case we want to introspect later)\n",
    "gds.fastRP.mutate(g, mutateProperty='embedding', embeddingDimension=128, randomSeed=7474, concurrency=4)\n",
    "gds.graph.writeNodeProperties(g, ['embedding'], ['Article'])"
   ],
   "metadata": {
    "id": "vhcVnqWvdyXq",
    "outputId": "435c1ebb-ffaf-4488-f488-78e08d23e432"
   }
  },
  {
   "cell_type": "markdown",
   "source": [
    "This is what the node embeddings look like:"
   ],
   "metadata": {
    "collapsed": false,
    "id": "0IJsuzIRdyXq"
   }
  },
  {
   "cell_type": "code",
   "execution_count": null,
   "outputs": [
    {
     "data": {
      "text/plain": "   n.articleId  \\\n0    108775015   \n1    108775044   \n2    110065001   \n\n                                                                                                                                                                                                                                                                                                                                                                                                                                                                                                           n.embedding  \n0  [0.07331004738807678, 0.17926183342933655, -0.07301197201013565, -0.049210064113140106, 0.16503135859966278, -0.15523408353328705, -0.10822394490242004, -0.02722267620265484, 0.014662966132164001, 0.180541530251503, -0.08186649531126022, 0.23589280247688293, -0.1366392821073532, 0.11961854994297028, -0.02922603115439415, 0.04286094754934311, 0.04672681540250778, 0.086881123483181, -0.08363135904073715, -0.05791114270687103, -0.07598546147346497, 0.009629392065107822, -0.014021783135831356, 0...  \n1  [0.07349064946174622, 0.0967743992805481, -0.038152799010276794, -0.07673473656177521, 0.22684209048748016, -0.0060753063298761845, 0.16888433694839478, -0.11225447058677673, 0.09668536484241486, 0.03443354740738869, -0.0913434624671936, 0.14213915169239044, -0.1980677992105484, 0.15377040207386017, -0.1279836893081665, -0.03599829971790314, -0.0967002660036087, 0.14265014231204987, 0.03261440247297287, -0.11126242578029633, 0.06963685154914856, 0.2129615694284439, 0.006723809987306595, 0.12...  \n2  [-0.044018954038619995, 0.08427691459655762, -0.02065543830394745, 0.09351789951324463, -0.14247480034828186, -0.07779307663440704, -0.08055605739355087, 0.05282197892665863, 0.10809334367513657, -0.10579649358987808, -0.09285050630569458, 0.005664631258696318, 0.012895558029413223, -0.24933193624019623, -0.042424216866493225, 0.18484896421432495, -0.1699368953704834, -0.012699112296104431, 0.08738791197538376, -0.0476275309920311, 0.012392558157444, 0.024528082460165024, 0.080563485622406, ...  ",
      "text/html": "<div>\n<style scoped>\n    .dataframe tbody tr th:only-of-type {\n        vertical-align: middle;\n    }\n\n    .dataframe tbody tr th {\n        vertical-align: top;\n    }\n\n    .dataframe thead th {\n        text-align: right;\n    }\n</style>\n<table border=\"1\" class=\"dataframe\">\n  <thead>\n    <tr style=\"text-align: right;\">\n      <th></th>\n      <th>n.articleId</th>\n      <th>n.embedding</th>\n    </tr>\n  </thead>\n  <tbody>\n    <tr>\n      <th>0</th>\n      <td>108775015</td>\n      <td>[0.07331004738807678, 0.17926183342933655, -0.07301197201013565, -0.049210064113140106, 0.16503135859966278, -0.15523408353328705, -0.10822394490242004, -0.02722267620265484, 0.014662966132164001, 0.180541530251503, -0.08186649531126022, 0.23589280247688293, -0.1366392821073532, 0.11961854994297028, -0.02922603115439415, 0.04286094754934311, 0.04672681540250778, 0.086881123483181, -0.08363135904073715, -0.05791114270687103, -0.07598546147346497, 0.009629392065107822, -0.014021783135831356, 0...</td>\n    </tr>\n    <tr>\n      <th>1</th>\n      <td>108775044</td>\n      <td>[0.07349064946174622, 0.0967743992805481, -0.038152799010276794, -0.07673473656177521, 0.22684209048748016, -0.0060753063298761845, 0.16888433694839478, -0.11225447058677673, 0.09668536484241486, 0.03443354740738869, -0.0913434624671936, 0.14213915169239044, -0.1980677992105484, 0.15377040207386017, -0.1279836893081665, -0.03599829971790314, -0.0967002660036087, 0.14265014231204987, 0.03261440247297287, -0.11126242578029633, 0.06963685154914856, 0.2129615694284439, 0.006723809987306595, 0.12...</td>\n    </tr>\n    <tr>\n      <th>2</th>\n      <td>110065001</td>\n      <td>[-0.044018954038619995, 0.08427691459655762, -0.02065543830394745, 0.09351789951324463, -0.14247480034828186, -0.07779307663440704, -0.08055605739355087, 0.05282197892665863, 0.10809334367513657, -0.10579649358987808, -0.09285050630569458, 0.005664631258696318, 0.012895558029413223, -0.24933193624019623, -0.042424216866493225, 0.18484896421432495, -0.1699368953704834, -0.012699112296104431, 0.08738791197538376, -0.0476275309920311, 0.012392558157444, 0.024528082460165024, 0.080563485622406, ...</td>\n    </tr>\n  </tbody>\n</table>\n</div>"
     },
     "execution_count": 124,
     "metadata": {},
     "output_type": "execute_result"
    }
   ],
   "source": [
    "gds.run_cypher('MATCH(n:Article) RETURN n.articleId, n.embedding LIMIT 3')"
   ],
   "metadata": {
    "id": "35pfsqVwdyXq",
    "outputId": "395546a6-f185-4b82-eac2-275567b8389e"
   }
  },
  {
   "cell_type": "markdown",
   "source": [
    "Finally, we can do our similarity inference with K-Nearest Neighbor (KNN) and write back to the graph.\n",
    "We will use a slightly low cutoff of 0.75 similarity score to extend the result size for exploration.  We can provide a higher cutoff at query time if needed."
   ],
   "metadata": {
    "collapsed": false,
    "id": "5IKxoklYdyXq"
   }
  },
  {
   "cell_type": "code",
   "execution_count": null,
   "outputs": [
    {
     "data": {
      "text/plain": "Knn:   0%|          | 0/100 [00:00<?, ?%/s]",
      "application/vnd.jupyter.widget-view+json": {
       "version_major": 2,
       "version_minor": 0,
       "model_id": "c163a622e5d94fdd80f125b8fd4bf83a"
      }
     },
     "metadata": {},
     "output_type": "display_data"
    },
    {
     "name": "stdout",
     "output_type": "stream",
     "text": [
      "CPU times: user 1.07 s, sys: 220 ms, total: 1.29 s\n",
      "Wall time: 1min 30s\n"
     ]
    },
    {
     "data": {
      "text/plain": "ranIterations                                                                                                                                                                                                                                                                                                                                                                                                                                                                                                          91\ndidConverge                                                                                                                                                                                                                                                                                                                                                                                                                                                                                                          True\nnodePairsConsidered                                                                                                                                                                                                                                                                                                                                                                                                                                                                                              34278798\npreProcessingMillis                                                                                                                                                                                                                                                                                                                                                                                                                                                                                                     0\ncomputeMillis                                                                                                                                                                                                                                                                                                                                                                                                                                                                                                       68737\nwriteMillis                                                                                                                                                                                                                                                                                                                                                                                                                                                                                                         21926\npostProcessingMillis                                                                                                                                                                                                                                                                                                                                                                                                                                                                                                   -1\nnodesCompared                                                                                                                                                                                                                                                                                                                                                                                                                                                                                                       21596\nrelationshipsWritten                                                                                                                                                                                                                                                                                                                                                                                                                                                                                               215960\nsimilarityDistribution                                                                                                         {'min': 0.6011199951171875, 'p5': 0.6445426940917969, 'max': 1.0000038146972656, 'p99': 0.929962158203125, 'p1': 0.6240577697753906, 'p10': 0.6940841674804688, 'p90': 0.8680191040039062, 'p50': 0.805267333984375, 'p25': 0.7549591064453125, 'p75': 0.847259521484375, 'p95': 0.878387451171875, 'mean': 0.7942007574246401, 'p100': 1.0000038146972656, 'stdDev': 0.06950960202574713}\nconfiguration             {'writeProperty': 'score', 'writeRelationshipType': 'CUSTOMERS_ALSO_PURCHASED', 'jobId': '7a0077ac-023f-4e9d-8c58-c51dbda6dc1d', 'deltaThreshold': 0.001, 'topK': 10, 'similarityCutoff': 0.0, 'perturbationRate': 0.0, 'sudo': False, 'maxIterations': 100, 'writeConcurrency': 4, 'sampleRate': 0.5, 'initialSampler': 'UNIFORM', 'nodeProperties': {'embedding': 'COSINE'}, 'logProgress': True, 'nodeLabels': ['Article'], 'randomJoins': 10, 'concurrency': 4, 'relationshipTypes': ['*']}\nName: 0, dtype: object"
     },
     "execution_count": 125,
     "metadata": {},
     "output_type": "execute_result"
    }
   ],
   "source": [
    "%%time\n",
    "# KNN\n",
    "_ = gds.knn.write(g, nodeProperties=['embedding'], nodeLabels=['Article'],\n",
    "              writeRelationshipType='CUSTOMERS_ALSO_PURCHASED', writeProperty='score',\n",
    "             # sampleRate=1.0,maxIterations=1000,similarityCutoff=0.75,\n",
    "              concurrency=4)\n",
    "_"
   ],
   "metadata": {
    "colab": {
     "referenced_widgets": [
      "c163a622e5d94fdd80f125b8fd4bf83a"
     ]
    },
    "id": "bpuDKk6hdyXq",
    "outputId": "c720a55c-0851-4882-8c6c-cff8edba5f68"
   }
  },
  {
   "cell_type": "code",
   "execution_count": null,
   "outputs": [
    {
     "data": {
      "text/plain": "graphName                                                                                                                                                                                                                                                                                                                                                                                                                                                                                                                               proj\ndatabase                                                                                                                                                                                                                                                                                                                                                                                                                                                                                                                               neo4j\nmemoryUsage                                                                                                                                                                                                                                                                                                                                                                                                                                                                                                                                 \nsizeInBytes                                                                                                                                                                                                                                                                                                                                                                                                                                                                                                                               -1\nnodeCount                                                                                                                                                                                                                                                                                                                                                                                                                                                                                                                              35654\nrelationshipCount                                                                                                                                                                                                                                                                                                                                                                                                                                                                                                                     125412\nconfiguration            {'relationshipProjection': {'PURCHASED': {'aggregation': 'DEFAULT', 'orientation': 'UNDIRECTED', 'indexInverse': False, 'properties': {}, 'type': 'PURCHASED'}, 'VARIANT_OF': {'aggregation': 'DEFAULT', 'orientation': 'UNDIRECTED', 'indexInverse': False, 'properties': {}, 'type': 'VARIANT_OF'}}, 'readConcurrency': 4, 'relationshipProperties': {}, 'nodeProperties': {}, 'jobId': 'de92c3f2-dd95-4c5e-bfa9-f9031abca105', 'nodeProjection': {'Customer': {'label': 'Customer', 'properties': {}}, 'Produ...\ndensity                                                                                                                                                                                                                                                                                                                                                                                                                                                                                                                             0.000099\ncreationTime                                                                                                                                                                                                                                                                                                                                                                                                                                                                                             2023-11-09T23:01:09.633804040+00:00\nmodificationTime                                                                                                                                                                                                                                                                                                                                                                                                                                                                                         2023-11-09T23:01:13.053115914+00:00\nschema                                                                                                                                                                                                            {'graphProperties': {}, 'nodes': {'Customer': {'embedding': 'List of Float (DefaultValue(null), TRANSIENT)'}, 'Product': {'embedding': 'List of Float (DefaultValue(null), TRANSIENT)'}, 'Article': {'embedding': 'List of Float (DefaultValue(null), TRANSIENT)'}}, 'relationships': {'PURCHASED': {}, 'VARIANT_OF': {}}}\nschemaWithOrientation                                                                                                       {'graphProperties': {}, 'nodes': {'Customer': {'embedding': 'List of Float (DefaultValue(null), TRANSIENT)'}, 'Product': {'embedding': 'List of Float (DefaultValue(null), TRANSIENT)'}, 'Article': {'embedding': 'List of Float (DefaultValue(null), TRANSIENT)'}}, 'relationships': {'PURCHASED': {'direction': 'UNDIRECTED', 'properties': {}}, 'VARIANT_OF': {'direction': 'UNDIRECTED', 'properties': {}}}}\nName: 0, dtype: object"
     },
     "execution_count": 126,
     "metadata": {},
     "output_type": "execute_result"
    }
   ],
   "source": [
    "# clear graph projection once done\n",
    "g.drop()"
   ],
   "metadata": {
    "id": "ZP3C-w1fdyXq",
    "outputId": "3e98e7d3-699f-475f-934a-194175294b12"
   }
  },
  {
   "cell_type": "markdown",
   "source": [
    "### Recommendations Based on Search Prompt"
   ],
   "metadata": {
    "collapsed": false,
    "id": "LZtZwzrkdyXq"
   }
  },
  {
   "cell_type": "code",
   "execution_count": null,
   "outputs": [],
   "source": [
    "search_res_df = gds.run_cypher('''\n",
    "CALL db.index.vector.queryNodes(\"product-text-embeddings\", 10, $queryVector)\n",
    "YIELD node AS product, score\n",
    "RETURN product.prodName AS prodName,\n",
    "    product.productTypeName AS productTypeName,\n",
    "    product.garmentGroupName AS garmentGroupName,\n",
    "    product.detailDesc AS detailDesc,\n",
    "    score\n",
    "    ORDER BY score DESC\n",
    "''', params={'queryVector': query_vector})"
   ],
   "metadata": {
    "id": "AJgPgGjUdyXq"
   }
  },
  {
   "cell_type": "code",
   "execution_count": null,
   "outputs": [],
   "source": [
    "recommendation_res_df =gds.run_cypher('''\n",
    "CALL db.index.vector.queryNodes(\"product-text-embeddings\", 5, $queryVector)\n",
    "YIELD node AS search_res_product, score AS search_score\n",
    "MATCH(search_res_product)<-[:VARIANT_OF]-(a0)-[s:CUSTOMERS_ALSO_PURCHASED]->(a)-[:VARIANT_OF]-(p)\n",
    "WITH p.prodName AS prodName,\n",
    "    p.productTypeName AS productTypeName,\n",
    "    p.garmentGroupName AS garmentGroupName,\n",
    "    p.detailDesc AS detailDesc,\n",
    "    sum(s.score) AS aggScore,\n",
    "    sum(search_score) AS search_score\n",
    "RETURN prodName, productTypeName, garmentGroupName, search_score*aggScore AS score, detailDesc\n",
    "    ORDER BY aggScore DESC LIMIT 10\n",
    "''', params={'queryVector': query_vector})"
   ],
   "metadata": {
    "id": "mx28uIY9dyXq"
   }
  },
  {
   "cell_type": "code",
   "execution_count": null,
   "outputs": [
    {
     "name": "stdout",
     "output_type": "stream",
     "text": [
      "User Search Prompt: \"winter sweater with zipper\"\n",
      "\n",
      "\n",
      "Search Results:\n",
      "\n"
     ]
    },
    {
     "data": {
      "text/plain": "                  prodName productTypeName garmentGroupName  \\\n0              Catfish Zip         Sweater         Knitwear   \n1             Yolo Zip L/S         Sweater         Knitwear   \n2  BANANA HALF ZIP SWEATER         Sweater         Knitwear   \n3           Ben zip hoodie         Sweater         Knitwear   \n4   Raven Half Zip Sweater         Sweater     Jersey Fancy   \n5         Southern Sweater         Sweater         Knitwear   \n6   Zorro half-zip sweater         Sweater     Jersey Basic   \n7  BAY BLOCK STRIPE ZIP-UP         Sweater         Knitwear   \n8              Yolo Zip LS         Sweater         Knitwear   \n9      Håkan half zip knit         Sweater         Knitwear   \n\n                                                                                                                                                                                                                                               detailDesc  \\\n0                                                                                                                           Soft, textured-knit jumper with a ribbed stand-up collar, zip at the top, dropped shoulders and ribbing at the cuffs and hem.   \n1                                                                                                                                                         Jumper in a soft, rib knit with a stand-up collar, a visible zip at the front and long sleeves.   \n2                                                                                                        Jumper in a soft rib knit with a high stand-up collar, zip at the top, long raglan sleeves with elbow patches, and ribbing at the cuffs and hem.   \n3                                                                                                      Fine-knit jacket in a soft viscose blend with a drawstring hood, zip and front pockets. Gently dropped shoulders and ribbing at the cuffs and hem.   \n4  Sports top in stretch, fast-drying functional fabric with a stand-up collar, zip at the front with a chin guard, and a yoke at the back. Low dropped shoulders and long sleeves with thumbholes at the cuffs. Rounded and slightly longer at the back.   \n5                                                                                     Jumper in a soft rib knit with pointelle details, low dropped shoulders and long sleeves. Double ribbed trim around the neckline, and ribbing at the cuffs and hem.   \n6                                                                      Short top in sweatshirt fabric with a high, ribbed stand-up collar with a zip at the front. Dropped shoulders, long sleeves and ribbing at the cuffs and hem. Soft brushed inside.   \n7                                                                                                                                      Jumper in a soft, fine-knit modal and cotton blend with a ribbed stand-up collar, zip at the top and long sleeves.   \n8                                                                                                                                                          Fitted jumper in a soft, rib knit with a turtle neck, visible zip at the top and long sleeves.   \n9                                                                                                                    Jumper in a soft cotton knit with a high, ribbed stand-up collar and zip at the top. Long sleeves, and ribbing at the cuffs and hem.   \n\n      score  \n0  0.933434  \n1  0.931779  \n2  0.930935  \n3  0.930924  \n4  0.930110  \n5  0.929089  \n6  0.928748  \n7  0.928719  \n8  0.927710  \n9  0.927483  ",
      "text/html": "<div>\n<style scoped>\n    .dataframe tbody tr th:only-of-type {\n        vertical-align: middle;\n    }\n\n    .dataframe tbody tr th {\n        vertical-align: top;\n    }\n\n    .dataframe thead th {\n        text-align: right;\n    }\n</style>\n<table border=\"1\" class=\"dataframe\">\n  <thead>\n    <tr style=\"text-align: right;\">\n      <th></th>\n      <th>prodName</th>\n      <th>productTypeName</th>\n      <th>garmentGroupName</th>\n      <th>detailDesc</th>\n      <th>score</th>\n    </tr>\n  </thead>\n  <tbody>\n    <tr>\n      <th>0</th>\n      <td>Catfish Zip</td>\n      <td>Sweater</td>\n      <td>Knitwear</td>\n      <td>Soft, textured-knit jumper with a ribbed stand-up collar, zip at the top, dropped shoulders and ribbing at the cuffs and hem.</td>\n      <td>0.933434</td>\n    </tr>\n    <tr>\n      <th>1</th>\n      <td>Yolo Zip L/S</td>\n      <td>Sweater</td>\n      <td>Knitwear</td>\n      <td>Jumper in a soft, rib knit with a stand-up collar, a visible zip at the front and long sleeves.</td>\n      <td>0.931779</td>\n    </tr>\n    <tr>\n      <th>2</th>\n      <td>BANANA HALF ZIP SWEATER</td>\n      <td>Sweater</td>\n      <td>Knitwear</td>\n      <td>Jumper in a soft rib knit with a high stand-up collar, zip at the top, long raglan sleeves with elbow patches, and ribbing at the cuffs and hem.</td>\n      <td>0.930935</td>\n    </tr>\n    <tr>\n      <th>3</th>\n      <td>Ben zip hoodie</td>\n      <td>Sweater</td>\n      <td>Knitwear</td>\n      <td>Fine-knit jacket in a soft viscose blend with a drawstring hood, zip and front pockets. Gently dropped shoulders and ribbing at the cuffs and hem.</td>\n      <td>0.930924</td>\n    </tr>\n    <tr>\n      <th>4</th>\n      <td>Raven Half Zip Sweater</td>\n      <td>Sweater</td>\n      <td>Jersey Fancy</td>\n      <td>Sports top in stretch, fast-drying functional fabric with a stand-up collar, zip at the front with a chin guard, and a yoke at the back. Low dropped shoulders and long sleeves with thumbholes at the cuffs. Rounded and slightly longer at the back.</td>\n      <td>0.930110</td>\n    </tr>\n    <tr>\n      <th>5</th>\n      <td>Southern Sweater</td>\n      <td>Sweater</td>\n      <td>Knitwear</td>\n      <td>Jumper in a soft rib knit with pointelle details, low dropped shoulders and long sleeves. Double ribbed trim around the neckline, and ribbing at the cuffs and hem.</td>\n      <td>0.929089</td>\n    </tr>\n    <tr>\n      <th>6</th>\n      <td>Zorro half-zip sweater</td>\n      <td>Sweater</td>\n      <td>Jersey Basic</td>\n      <td>Short top in sweatshirt fabric with a high, ribbed stand-up collar with a zip at the front. Dropped shoulders, long sleeves and ribbing at the cuffs and hem. Soft brushed inside.</td>\n      <td>0.928748</td>\n    </tr>\n    <tr>\n      <th>7</th>\n      <td>BAY BLOCK STRIPE ZIP-UP</td>\n      <td>Sweater</td>\n      <td>Knitwear</td>\n      <td>Jumper in a soft, fine-knit modal and cotton blend with a ribbed stand-up collar, zip at the top and long sleeves.</td>\n      <td>0.928719</td>\n    </tr>\n    <tr>\n      <th>8</th>\n      <td>Yolo Zip LS</td>\n      <td>Sweater</td>\n      <td>Knitwear</td>\n      <td>Fitted jumper in a soft, rib knit with a turtle neck, visible zip at the top and long sleeves.</td>\n      <td>0.927710</td>\n    </tr>\n    <tr>\n      <th>9</th>\n      <td>Håkan half zip knit</td>\n      <td>Sweater</td>\n      <td>Knitwear</td>\n      <td>Jumper in a soft cotton knit with a high, ribbed stand-up collar and zip at the top. Long sleeves, and ribbing at the cuffs and hem.</td>\n      <td>0.927483</td>\n    </tr>\n  </tbody>\n</table>\n</div>"
     },
     "metadata": {},
     "output_type": "display_data"
    },
    {
     "name": "stdout",
     "output_type": "stream",
     "text": [
      "\n",
      "User May Also Be Interested In:\n",
      "\n"
     ]
    },
    {
     "data": {
      "text/plain": "                         prodName   productTypeName  \\\n0                Niffler Trousers          Trousers   \n1       Sunspot Seamless Crop Top          Vest top   \n2                  STINA 3p boxer  Underwear bottom   \n3               CC COSMO dress BG             Dress   \n4  Cappucino Brazilian High Waist  Underwear bottom   \n5                     ED Duno 2p.               Top   \n6                     Cannes Crew           Sweater   \n7         Berry utility denim Trs          Trousers   \n8            LOGG Amaretto blazer            Blazer   \n9             JANINE SWEATER NEON           Sweater   \n\n                garmentGroupName     score  \\\n0  Woven/Jersey/Knitted mix Baby  3.248279   \n1                   Jersey Fancy  2.949513   \n2              Under-, Nightwear  2.818649   \n3                   Jersey Basic  0.814822   \n4              Under-, Nightwear  0.814637   \n5                   Jersey Fancy  0.814360   \n6              Under-, Nightwear  0.813946   \n7                       Trousers  0.813191   \n8                        Outdoor  0.812981   \n9                   Jersey Fancy  0.812765   \n\n                                                                                                                                                                                                                                                                                                 detailDesc  \n0                                                                                                                                                                      Pull-on trousers in washed, stretch twill with an elasticated, drawstring waist, front pockets, a fake back pocket and tapered legs.  \n1                                                                                                                            Short, fitted sports top with a racer back and elasticated hem. The sports top is designed with the minimum number of seams for a more comfortable fit and increased mobility.  \n2                                                                                                                                                                                                                                 Boxer briefs in cotton jersey with an elasticated waist and lined gusset.  \n3  Dress in soft sweatshirt fabric with an embroidered motif at the top, long sleeves, twisted seams at the front and side pockets. Ribbing around the neckline, cuffs and hem and short slits at the hem. Slightly longer at the back. Soft brushed inside. The dress is made partly from recycled cotton.  \n4                                                                                                                                                                                                    Brazilian briefs in lace and mesh with a mid waist, lined gusset, wide sides and high cut at the back.  \n5                                                                                                                                                                                                                          Long-sleeved tops in soft, organic cotton jersey with a slightly wider neckline.  \n6                                                                                                                           Round-necked jumper in a soft, fine-knit viscose blend with long sleeves, short slits in the sides and ribbing around the neckline, cuffs and hem. Slightly longer at the back.  \n7                                 Ankle-length jeans in sturdy cotton denim with a high waist, zip fly and button, front and back pockets, leg pockets with a flap and concealed press-stud and tapered legs with a tab and metal buckle at the ankles. The cotton content of the jeans is partly recycled.  \n8                                                                                                                                                                                  Jacket woven in a linen blend with narrow notch lapels, a button at the front and welt front pockets with a flap. Lined.  \n9                                                                                                                           Top in soft sweatshirt fabric with a text print motif, dropped shoulders, long sleeves, ribbing around the neckline and cuffs and a drawstring at the hem. Soft brushed inside.  ",
      "text/html": "<div>\n<style scoped>\n    .dataframe tbody tr th:only-of-type {\n        vertical-align: middle;\n    }\n\n    .dataframe tbody tr th {\n        vertical-align: top;\n    }\n\n    .dataframe thead th {\n        text-align: right;\n    }\n</style>\n<table border=\"1\" class=\"dataframe\">\n  <thead>\n    <tr style=\"text-align: right;\">\n      <th></th>\n      <th>prodName</th>\n      <th>productTypeName</th>\n      <th>garmentGroupName</th>\n      <th>score</th>\n      <th>detailDesc</th>\n    </tr>\n  </thead>\n  <tbody>\n    <tr>\n      <th>0</th>\n      <td>Niffler Trousers</td>\n      <td>Trousers</td>\n      <td>Woven/Jersey/Knitted mix Baby</td>\n      <td>3.248279</td>\n      <td>Pull-on trousers in washed, stretch twill with an elasticated, drawstring waist, front pockets, a fake back pocket and tapered legs.</td>\n    </tr>\n    <tr>\n      <th>1</th>\n      <td>Sunspot Seamless Crop Top</td>\n      <td>Vest top</td>\n      <td>Jersey Fancy</td>\n      <td>2.949513</td>\n      <td>Short, fitted sports top with a racer back and elasticated hem. The sports top is designed with the minimum number of seams for a more comfortable fit and increased mobility.</td>\n    </tr>\n    <tr>\n      <th>2</th>\n      <td>STINA 3p boxer</td>\n      <td>Underwear bottom</td>\n      <td>Under-, Nightwear</td>\n      <td>2.818649</td>\n      <td>Boxer briefs in cotton jersey with an elasticated waist and lined gusset.</td>\n    </tr>\n    <tr>\n      <th>3</th>\n      <td>CC COSMO dress BG</td>\n      <td>Dress</td>\n      <td>Jersey Basic</td>\n      <td>0.814822</td>\n      <td>Dress in soft sweatshirt fabric with an embroidered motif at the top, long sleeves, twisted seams at the front and side pockets. Ribbing around the neckline, cuffs and hem and short slits at the hem. Slightly longer at the back. Soft brushed inside. The dress is made partly from recycled cotton.</td>\n    </tr>\n    <tr>\n      <th>4</th>\n      <td>Cappucino Brazilian High Waist</td>\n      <td>Underwear bottom</td>\n      <td>Under-, Nightwear</td>\n      <td>0.814637</td>\n      <td>Brazilian briefs in lace and mesh with a mid waist, lined gusset, wide sides and high cut at the back.</td>\n    </tr>\n    <tr>\n      <th>5</th>\n      <td>ED Duno 2p.</td>\n      <td>Top</td>\n      <td>Jersey Fancy</td>\n      <td>0.814360</td>\n      <td>Long-sleeved tops in soft, organic cotton jersey with a slightly wider neckline.</td>\n    </tr>\n    <tr>\n      <th>6</th>\n      <td>Cannes Crew</td>\n      <td>Sweater</td>\n      <td>Under-, Nightwear</td>\n      <td>0.813946</td>\n      <td>Round-necked jumper in a soft, fine-knit viscose blend with long sleeves, short slits in the sides and ribbing around the neckline, cuffs and hem. Slightly longer at the back.</td>\n    </tr>\n    <tr>\n      <th>7</th>\n      <td>Berry utility denim Trs</td>\n      <td>Trousers</td>\n      <td>Trousers</td>\n      <td>0.813191</td>\n      <td>Ankle-length jeans in sturdy cotton denim with a high waist, zip fly and button, front and back pockets, leg pockets with a flap and concealed press-stud and tapered legs with a tab and metal buckle at the ankles. The cotton content of the jeans is partly recycled.</td>\n    </tr>\n    <tr>\n      <th>8</th>\n      <td>LOGG Amaretto blazer</td>\n      <td>Blazer</td>\n      <td>Outdoor</td>\n      <td>0.812981</td>\n      <td>Jacket woven in a linen blend with narrow notch lapels, a button at the front and welt front pockets with a flap. Lined.</td>\n    </tr>\n    <tr>\n      <th>9</th>\n      <td>JANINE SWEATER NEON</td>\n      <td>Sweater</td>\n      <td>Jersey Fancy</td>\n      <td>0.812765</td>\n      <td>Top in soft sweatshirt fabric with a text print motif, dropped shoulders, long sleeves, ribbing around the neckline and cuffs and a drawstring at the hem. Soft brushed inside.</td>\n    </tr>\n  </tbody>\n</table>\n</div>"
     },
     "metadata": {},
     "output_type": "display_data"
    }
   ],
   "source": [
    "print(f'User Search Prompt: \"{search_prompt}\"\\n\\n')\n",
    "print('Search Results:\\n')\n",
    "display(search_res_df)\n",
    "print('\\nUser May Also Be Interested In:\\n')\n",
    "display(recommendation_res_df)"
   ],
   "metadata": {
    "id": "sQ7Zh1KqdyXq",
    "outputId": "76300b0b-e8ae-469e-ad88-f47254bd7605"
   }
  },
  {
   "cell_type": "markdown",
   "source": [
    "### Personalized Recommendation"
   ],
   "metadata": {
    "collapsed": false,
    "id": "HmA0rL4JdyXq"
   }
  },
  {
   "cell_type": "code",
   "execution_count": null,
   "outputs": [],
   "source": [
    "CUSTOMER_ID = \"daae10780ecd14990ea190a1e9917da33fe96cd8cfa5e80b67b4600171aa77e0\""
   ],
   "metadata": {
    "id": "yD9sfYJSdyXq"
   }
  },
  {
   "cell_type": "markdown",
   "source": [
    "#### Example Purchase History"
   ],
   "metadata": {
    "collapsed": false,
    "id": "rmMp9hXJdyXq"
   }
  },
  {
   "cell_type": "code",
   "execution_count": null,
   "outputs": [
    {
     "data": {
      "text/plain": "    articleId                   prodName purchaseDate productTypeName  \\\n0   753724004                   Rosemary   2019-08-05           Dress   \n1   733027002                       Tove   2019-08-05             Top   \n2   713577001               Malte r-neck   2019-06-27         Sweater   \n3   731142001           Lead Superskinny   2019-06-27        Trousers   \n4   687016004                 DORIS CREW   2019-06-22         Sweater   \n..        ...                        ...          ...             ...   \n20  620425001             Karin headband   2018-10-12        Hairband   \n21  662328001                   Survivor   2018-10-12          Blouse   \n22  682848003  Skinny  RW Ankle Milo Zip   2018-10-12        Trousers   \n23  691072002           JEKYL SWEATSHIRT   2018-10-12         Sweater   \n24  569974026                ROLAND HOOD   2018-10-12          Hoodie   \n\n                                                                                                                                                                                                                                       detailDesc  \n0                                                                                                                   Short dress in woven fabric with 3/4-length sleeves with an opening and ties at the cuffs, and a gently rounded hem. Unlined.  \n1                                                                                                          Short top in soft cotton jersey with a round neckline, short sleeves and a seam at the hem with a decorative knot detail at the front.  \n2                                                                                                                                                    Jumper in soft, patterned, fine-knit cotton with ribbing around the neckline, cuffs and hem.  \n3                                                                                                                                             Chinos in stretch twill with a zip fly and button, side pockets, welt back pockets and skinny legs.  \n4                                                                                                                         Top in sweatshirt fabric with a motif on the front and ribbing around the neckline, cuffs and hem. Soft brushed inside.  \n..                                                                                                                                                                                                                                            ...  \n20                                                                                                                                                                                          Wide hairband in cotton jersey with a twisted detail.  \n21  Straight-cut blouse in a crêpe weave with a collar, concealed buttons down the front and fake flap front pockets. Yoke with a pleat at the back, long sleeves with pleats and buttoned cuffs, and a straight cut hem with slits in the sides.  \n22                                      5-pocket, ankle-length jeans in washed stretch denim with hard-worn details, a regular waist, zip fly and button, and skinny legs with a zip at the hems. The jeans are made partly from recycled cotton.  \n23                                                                                                            Top in sweatshirt fabric with long raglan sleeves and ribbing around the neckline, cuffs and hem. Soft brushed inside. Regular fit.  \n24                                                                                                                  Top in sweatshirt fabric with a lined drawstring hood, kangaroo pocket, long raglan sleeves and ribbing at the cuffs and hem.  \n\n[25 rows x 5 columns]",
      "text/html": "<div>\n<style scoped>\n    .dataframe tbody tr th:only-of-type {\n        vertical-align: middle;\n    }\n\n    .dataframe tbody tr th {\n        vertical-align: top;\n    }\n\n    .dataframe thead th {\n        text-align: right;\n    }\n</style>\n<table border=\"1\" class=\"dataframe\">\n  <thead>\n    <tr style=\"text-align: right;\">\n      <th></th>\n      <th>articleId</th>\n      <th>prodName</th>\n      <th>purchaseDate</th>\n      <th>productTypeName</th>\n      <th>detailDesc</th>\n    </tr>\n  </thead>\n  <tbody>\n    <tr>\n      <th>0</th>\n      <td>753724004</td>\n      <td>Rosemary</td>\n      <td>2019-08-05</td>\n      <td>Dress</td>\n      <td>Short dress in woven fabric with 3/4-length sleeves with an opening and ties at the cuffs, and a gently rounded hem. Unlined.</td>\n    </tr>\n    <tr>\n      <th>1</th>\n      <td>733027002</td>\n      <td>Tove</td>\n      <td>2019-08-05</td>\n      <td>Top</td>\n      <td>Short top in soft cotton jersey with a round neckline, short sleeves and a seam at the hem with a decorative knot detail at the front.</td>\n    </tr>\n    <tr>\n      <th>2</th>\n      <td>713577001</td>\n      <td>Malte r-neck</td>\n      <td>2019-06-27</td>\n      <td>Sweater</td>\n      <td>Jumper in soft, patterned, fine-knit cotton with ribbing around the neckline, cuffs and hem.</td>\n    </tr>\n    <tr>\n      <th>3</th>\n      <td>731142001</td>\n      <td>Lead Superskinny</td>\n      <td>2019-06-27</td>\n      <td>Trousers</td>\n      <td>Chinos in stretch twill with a zip fly and button, side pockets, welt back pockets and skinny legs.</td>\n    </tr>\n    <tr>\n      <th>4</th>\n      <td>687016004</td>\n      <td>DORIS CREW</td>\n      <td>2019-06-22</td>\n      <td>Sweater</td>\n      <td>Top in sweatshirt fabric with a motif on the front and ribbing around the neckline, cuffs and hem. Soft brushed inside.</td>\n    </tr>\n    <tr>\n      <th>...</th>\n      <td>...</td>\n      <td>...</td>\n      <td>...</td>\n      <td>...</td>\n      <td>...</td>\n    </tr>\n    <tr>\n      <th>20</th>\n      <td>620425001</td>\n      <td>Karin headband</td>\n      <td>2018-10-12</td>\n      <td>Hairband</td>\n      <td>Wide hairband in cotton jersey with a twisted detail.</td>\n    </tr>\n    <tr>\n      <th>21</th>\n      <td>662328001</td>\n      <td>Survivor</td>\n      <td>2018-10-12</td>\n      <td>Blouse</td>\n      <td>Straight-cut blouse in a crêpe weave with a collar, concealed buttons down the front and fake flap front pockets. Yoke with a pleat at the back, long sleeves with pleats and buttoned cuffs, and a straight cut hem with slits in the sides.</td>\n    </tr>\n    <tr>\n      <th>22</th>\n      <td>682848003</td>\n      <td>Skinny  RW Ankle Milo Zip</td>\n      <td>2018-10-12</td>\n      <td>Trousers</td>\n      <td>5-pocket, ankle-length jeans in washed stretch denim with hard-worn details, a regular waist, zip fly and button, and skinny legs with a zip at the hems. The jeans are made partly from recycled cotton.</td>\n    </tr>\n    <tr>\n      <th>23</th>\n      <td>691072002</td>\n      <td>JEKYL SWEATSHIRT</td>\n      <td>2018-10-12</td>\n      <td>Sweater</td>\n      <td>Top in sweatshirt fabric with long raglan sleeves and ribbing around the neckline, cuffs and hem. Soft brushed inside. Regular fit.</td>\n    </tr>\n    <tr>\n      <th>24</th>\n      <td>569974026</td>\n      <td>ROLAND HOOD</td>\n      <td>2018-10-12</td>\n      <td>Hoodie</td>\n      <td>Top in sweatshirt fabric with a lined drawstring hood, kangaroo pocket, long raglan sleeves and ribbing at the cuffs and hem.</td>\n    </tr>\n  </tbody>\n</table>\n<p>25 rows × 5 columns</p>\n</div>"
     },
     "execution_count": 132,
     "metadata": {},
     "output_type": "execute_result"
    }
   ],
   "source": [
    "gds.run_cypher('''\n",
    "    MATCH(c:Customer {customerId:$customerId})-[r:PURCHASED]->(a)-[:VARIANT_OF]->(p:Product)\n",
    "        RETURN a.articleId AS articleId,\n",
    "        a.prodName AS prodName,\n",
    "        r.tDat AS purchaseDate,\n",
    "        a.productTypeName AS productTypeName,\n",
    "        p.detailDesc AS detailDesc\n",
    "        ORDER BY purchaseDate DESC\n",
    "''', params = { 'customerId':CUSTOMER_ID, 'queryVector': query_vector})"
   ],
   "metadata": {
    "id": "FcsaH1I5dyXq",
    "outputId": "ac0fafba-8d44-487b-c6cd-506a9e4bd4dd"
   }
  },
  {
   "cell_type": "markdown",
   "source": [
    "#### Personalized Product Recommendations"
   ],
   "metadata": {
    "collapsed": false,
    "id": "ZZZX-aCGdyXq"
   }
  },
  {
   "cell_type": "code",
   "execution_count": null,
   "outputs": [],
   "source": [
    "personalized_res_df = gds.run_cypher('''\n",
    "    MATCH(c:Customer {customerId:$customerId})-[r:PURCHASED]->(a0)\n",
    "    WITH a0\n",
    "    MATCH(a0)-[s:CUSTOMERS_ALSO_PURCHASED]->(a)-[:VARIANT_OF]->(p:Product)\n",
    "    WITH p, sum(s.score) AS aggRecScore\n",
    "    WITH p, aggRecScore, gds.similarity.cosine($queryVector, p.textEmbedding) AS cosineSimilarity\n",
    "    RETURN p.productCode AS productCode,\n",
    "        aggRecScore,\n",
    "        cosineSimilarity as searchScore,\n",
    "        p.productTypeName AS productType,\n",
    "        p.prodName AS name,\n",
    "        p.detailDesc AS description\n",
    "        ORDER BY searchScore DESC LIMIT 10\n",
    "''', params = {'customerId':CUSTOMER_ID, 'queryVector': query_vector})"
   ],
   "metadata": {
    "id": "oh5_02I2dyXq"
   }
  },
  {
   "cell_type": "code",
   "execution_count": null,
   "outputs": [
    {
     "name": "stdout",
     "output_type": "stream",
     "text": [
      "User Search Prompt: \"winter sweater with zipper\"\n",
      "\n",
      "\n",
      "Search Results:\n",
      "\n"
     ]
    },
    {
     "data": {
      "text/plain": "                  prodName productTypeName garmentGroupName  \\\n0              Catfish Zip         Sweater         Knitwear   \n1             Yolo Zip L/S         Sweater         Knitwear   \n2  BANANA HALF ZIP SWEATER         Sweater         Knitwear   \n3           Ben zip hoodie         Sweater         Knitwear   \n4   Raven Half Zip Sweater         Sweater     Jersey Fancy   \n5         Southern Sweater         Sweater         Knitwear   \n6   Zorro half-zip sweater         Sweater     Jersey Basic   \n7  BAY BLOCK STRIPE ZIP-UP         Sweater         Knitwear   \n8              Yolo Zip LS         Sweater         Knitwear   \n9      Håkan half zip knit         Sweater         Knitwear   \n\n                                                                                                                                                                                                                                               detailDesc  \\\n0                                                                                                                           Soft, textured-knit jumper with a ribbed stand-up collar, zip at the top, dropped shoulders and ribbing at the cuffs and hem.   \n1                                                                                                                                                         Jumper in a soft, rib knit with a stand-up collar, a visible zip at the front and long sleeves.   \n2                                                                                                        Jumper in a soft rib knit with a high stand-up collar, zip at the top, long raglan sleeves with elbow patches, and ribbing at the cuffs and hem.   \n3                                                                                                      Fine-knit jacket in a soft viscose blend with a drawstring hood, zip and front pockets. Gently dropped shoulders and ribbing at the cuffs and hem.   \n4  Sports top in stretch, fast-drying functional fabric with a stand-up collar, zip at the front with a chin guard, and a yoke at the back. Low dropped shoulders and long sleeves with thumbholes at the cuffs. Rounded and slightly longer at the back.   \n5                                                                                     Jumper in a soft rib knit with pointelle details, low dropped shoulders and long sleeves. Double ribbed trim around the neckline, and ribbing at the cuffs and hem.   \n6                                                                      Short top in sweatshirt fabric with a high, ribbed stand-up collar with a zip at the front. Dropped shoulders, long sleeves and ribbing at the cuffs and hem. Soft brushed inside.   \n7                                                                                                                                      Jumper in a soft, fine-knit modal and cotton blend with a ribbed stand-up collar, zip at the top and long sleeves.   \n8                                                                                                                                                          Fitted jumper in a soft, rib knit with a turtle neck, visible zip at the top and long sleeves.   \n9                                                                                                                    Jumper in a soft cotton knit with a high, ribbed stand-up collar and zip at the top. Long sleeves, and ribbing at the cuffs and hem.   \n\n      score  \n0  0.933434  \n1  0.931779  \n2  0.930935  \n3  0.930924  \n4  0.930110  \n5  0.929089  \n6  0.928748  \n7  0.928719  \n8  0.927710  \n9  0.927483  ",
      "text/html": "<div>\n<style scoped>\n    .dataframe tbody tr th:only-of-type {\n        vertical-align: middle;\n    }\n\n    .dataframe tbody tr th {\n        vertical-align: top;\n    }\n\n    .dataframe thead th {\n        text-align: right;\n    }\n</style>\n<table border=\"1\" class=\"dataframe\">\n  <thead>\n    <tr style=\"text-align: right;\">\n      <th></th>\n      <th>prodName</th>\n      <th>productTypeName</th>\n      <th>garmentGroupName</th>\n      <th>detailDesc</th>\n      <th>score</th>\n    </tr>\n  </thead>\n  <tbody>\n    <tr>\n      <th>0</th>\n      <td>Catfish Zip</td>\n      <td>Sweater</td>\n      <td>Knitwear</td>\n      <td>Soft, textured-knit jumper with a ribbed stand-up collar, zip at the top, dropped shoulders and ribbing at the cuffs and hem.</td>\n      <td>0.933434</td>\n    </tr>\n    <tr>\n      <th>1</th>\n      <td>Yolo Zip L/S</td>\n      <td>Sweater</td>\n      <td>Knitwear</td>\n      <td>Jumper in a soft, rib knit with a stand-up collar, a visible zip at the front and long sleeves.</td>\n      <td>0.931779</td>\n    </tr>\n    <tr>\n      <th>2</th>\n      <td>BANANA HALF ZIP SWEATER</td>\n      <td>Sweater</td>\n      <td>Knitwear</td>\n      <td>Jumper in a soft rib knit with a high stand-up collar, zip at the top, long raglan sleeves with elbow patches, and ribbing at the cuffs and hem.</td>\n      <td>0.930935</td>\n    </tr>\n    <tr>\n      <th>3</th>\n      <td>Ben zip hoodie</td>\n      <td>Sweater</td>\n      <td>Knitwear</td>\n      <td>Fine-knit jacket in a soft viscose blend with a drawstring hood, zip and front pockets. Gently dropped shoulders and ribbing at the cuffs and hem.</td>\n      <td>0.930924</td>\n    </tr>\n    <tr>\n      <th>4</th>\n      <td>Raven Half Zip Sweater</td>\n      <td>Sweater</td>\n      <td>Jersey Fancy</td>\n      <td>Sports top in stretch, fast-drying functional fabric with a stand-up collar, zip at the front with a chin guard, and a yoke at the back. Low dropped shoulders and long sleeves with thumbholes at the cuffs. Rounded and slightly longer at the back.</td>\n      <td>0.930110</td>\n    </tr>\n    <tr>\n      <th>5</th>\n      <td>Southern Sweater</td>\n      <td>Sweater</td>\n      <td>Knitwear</td>\n      <td>Jumper in a soft rib knit with pointelle details, low dropped shoulders and long sleeves. Double ribbed trim around the neckline, and ribbing at the cuffs and hem.</td>\n      <td>0.929089</td>\n    </tr>\n    <tr>\n      <th>6</th>\n      <td>Zorro half-zip sweater</td>\n      <td>Sweater</td>\n      <td>Jersey Basic</td>\n      <td>Short top in sweatshirt fabric with a high, ribbed stand-up collar with a zip at the front. Dropped shoulders, long sleeves and ribbing at the cuffs and hem. Soft brushed inside.</td>\n      <td>0.928748</td>\n    </tr>\n    <tr>\n      <th>7</th>\n      <td>BAY BLOCK STRIPE ZIP-UP</td>\n      <td>Sweater</td>\n      <td>Knitwear</td>\n      <td>Jumper in a soft, fine-knit modal and cotton blend with a ribbed stand-up collar, zip at the top and long sleeves.</td>\n      <td>0.928719</td>\n    </tr>\n    <tr>\n      <th>8</th>\n      <td>Yolo Zip LS</td>\n      <td>Sweater</td>\n      <td>Knitwear</td>\n      <td>Fitted jumper in a soft, rib knit with a turtle neck, visible zip at the top and long sleeves.</td>\n      <td>0.927710</td>\n    </tr>\n    <tr>\n      <th>9</th>\n      <td>Håkan half zip knit</td>\n      <td>Sweater</td>\n      <td>Knitwear</td>\n      <td>Jumper in a soft cotton knit with a high, ribbed stand-up collar and zip at the top. Long sleeves, and ribbing at the cuffs and hem.</td>\n      <td>0.927483</td>\n    </tr>\n  </tbody>\n</table>\n</div>"
     },
     "metadata": {},
     "output_type": "display_data"
    },
    {
     "name": "stdout",
     "output_type": "stream",
     "text": [
      "\n",
      "User May Also Be Interested In:\n",
      "\n"
     ]
    },
    {
     "data": {
      "text/plain": "   productCode  aggRecScore  searchScore productType              name  \\\n0       640755     0.741509     0.850858     Sweater     Allen Sweater   \n1       697980     0.751843     0.839161     Sweater             Nicky   \n2       934053     0.768552     0.838258     Sweater             Chain   \n3       935858     1.554463     0.834631     Sweater  Piper sweatshirt   \n4       656401    10.335908     0.834584     Sweater    PASTRY SWEATER   \n5       557247     8.560783     0.833330     Sweater     Petar Sweater   \n6       714826     0.747204     0.832716     Sweater             Shaun   \n7       674826     0.709781     0.828895     Sweater         Fine knit   \n8       851339     0.770838     0.828868     Sweater       Papaya Hood   \n9       244267     6.236464     0.825758     Sweater       Silver lake   \n\n                                                                                                                                                                                                                                                                           description  \n0                                                                       Top in sweatshirt fabric made from a cotton blend with a stand-up collar with a zip at the front and a kangaroo pocket. Dropped shoulders, long sleeves and ribbing at the cuffs and hem. Soft brushed inside.  \n1                                                                                                                                                                                                         Jumper in a soft, fine knit with ribbing around the neckline, cuffs and hem.  \n2                                                                         Jumper in a soft knit containing some wool. Ribbed neckline decorated with a metal chain at the front, long, wide sleeves and ribbing at the cuffs and hem. The polyester content of the jumper is recycled.  \n3  Top in soft sweatshirt fabric with a rounded, frill-trimmed collar in woven fabric, an opening with a button at the back of the neck, dropped shoulders and long, wide sleeves with ribbing at the cuffs. Soft brushed inside. The polyester content of the sweatshirt is recycled.  \n4                                                                                                                                                                        Jumper in soft, textured-knit cotton with long raglan sleeves and ribbing around the neckline, cuffs and hem.  \n5                                                                                                                                                Oversized top in sturdy sweatshirt fabric with dropped shoulders and ribbing around the neckline, cuffs and hem. Soft brushed inside.  \n6                                                                                                                Jumper in a soft knit containing some wool with ribbing at the top, a wide V-neck front and back, long raglan sleeves and ribbing around the neckline, cuffs and hem.  \n7                                                                                                                                                              Jumper in fine-knit slub cotton with dropped shoulders, long sleeves and roll edges around the neckline, cuffs and hem.  \n8                                             Oversized jacket in soft sweatshirt fabric with a small embroidered text detail on the front. Jersey-lined, drawstring hood, a zip down the front, front pockets, ribbing at the cuffs and wide ribbing at the hem. Soft brushed inside.  \n9                                                                                                                                                                                            Purl-knit jumper in a cotton blend with a slightly wider neckline and 3/4-length sleeves.  ",
      "text/html": "<div>\n<style scoped>\n    .dataframe tbody tr th:only-of-type {\n        vertical-align: middle;\n    }\n\n    .dataframe tbody tr th {\n        vertical-align: top;\n    }\n\n    .dataframe thead th {\n        text-align: right;\n    }\n</style>\n<table border=\"1\" class=\"dataframe\">\n  <thead>\n    <tr style=\"text-align: right;\">\n      <th></th>\n      <th>productCode</th>\n      <th>aggRecScore</th>\n      <th>searchScore</th>\n      <th>productType</th>\n      <th>name</th>\n      <th>description</th>\n    </tr>\n  </thead>\n  <tbody>\n    <tr>\n      <th>0</th>\n      <td>640755</td>\n      <td>0.741509</td>\n      <td>0.850858</td>\n      <td>Sweater</td>\n      <td>Allen Sweater</td>\n      <td>Top in sweatshirt fabric made from a cotton blend with a stand-up collar with a zip at the front and a kangaroo pocket. Dropped shoulders, long sleeves and ribbing at the cuffs and hem. Soft brushed inside.</td>\n    </tr>\n    <tr>\n      <th>1</th>\n      <td>697980</td>\n      <td>0.751843</td>\n      <td>0.839161</td>\n      <td>Sweater</td>\n      <td>Nicky</td>\n      <td>Jumper in a soft, fine knit with ribbing around the neckline, cuffs and hem.</td>\n    </tr>\n    <tr>\n      <th>2</th>\n      <td>934053</td>\n      <td>0.768552</td>\n      <td>0.838258</td>\n      <td>Sweater</td>\n      <td>Chain</td>\n      <td>Jumper in a soft knit containing some wool. Ribbed neckline decorated with a metal chain at the front, long, wide sleeves and ribbing at the cuffs and hem. The polyester content of the jumper is recycled.</td>\n    </tr>\n    <tr>\n      <th>3</th>\n      <td>935858</td>\n      <td>1.554463</td>\n      <td>0.834631</td>\n      <td>Sweater</td>\n      <td>Piper sweatshirt</td>\n      <td>Top in soft sweatshirt fabric with a rounded, frill-trimmed collar in woven fabric, an opening with a button at the back of the neck, dropped shoulders and long, wide sleeves with ribbing at the cuffs. Soft brushed inside. The polyester content of the sweatshirt is recycled.</td>\n    </tr>\n    <tr>\n      <th>4</th>\n      <td>656401</td>\n      <td>10.335908</td>\n      <td>0.834584</td>\n      <td>Sweater</td>\n      <td>PASTRY SWEATER</td>\n      <td>Jumper in soft, textured-knit cotton with long raglan sleeves and ribbing around the neckline, cuffs and hem.</td>\n    </tr>\n    <tr>\n      <th>5</th>\n      <td>557247</td>\n      <td>8.560783</td>\n      <td>0.833330</td>\n      <td>Sweater</td>\n      <td>Petar Sweater</td>\n      <td>Oversized top in sturdy sweatshirt fabric with dropped shoulders and ribbing around the neckline, cuffs and hem. Soft brushed inside.</td>\n    </tr>\n    <tr>\n      <th>6</th>\n      <td>714826</td>\n      <td>0.747204</td>\n      <td>0.832716</td>\n      <td>Sweater</td>\n      <td>Shaun</td>\n      <td>Jumper in a soft knit containing some wool with ribbing at the top, a wide V-neck front and back, long raglan sleeves and ribbing around the neckline, cuffs and hem.</td>\n    </tr>\n    <tr>\n      <th>7</th>\n      <td>674826</td>\n      <td>0.709781</td>\n      <td>0.828895</td>\n      <td>Sweater</td>\n      <td>Fine knit</td>\n      <td>Jumper in fine-knit slub cotton with dropped shoulders, long sleeves and roll edges around the neckline, cuffs and hem.</td>\n    </tr>\n    <tr>\n      <th>8</th>\n      <td>851339</td>\n      <td>0.770838</td>\n      <td>0.828868</td>\n      <td>Sweater</td>\n      <td>Papaya Hood</td>\n      <td>Oversized jacket in soft sweatshirt fabric with a small embroidered text detail on the front. Jersey-lined, drawstring hood, a zip down the front, front pockets, ribbing at the cuffs and wide ribbing at the hem. Soft brushed inside.</td>\n    </tr>\n    <tr>\n      <th>9</th>\n      <td>244267</td>\n      <td>6.236464</td>\n      <td>0.825758</td>\n      <td>Sweater</td>\n      <td>Silver lake</td>\n      <td>Purl-knit jumper in a cotton blend with a slightly wider neckline and 3/4-length sleeves.</td>\n    </tr>\n  </tbody>\n</table>\n</div>"
     },
     "metadata": {},
     "output_type": "display_data"
    }
   ],
   "source": [
    "print(f'User Search Prompt: \"{search_prompt}\"\\n\\n')\n",
    "print('Search Results:\\n')\n",
    "display(search_res_df)\n",
    "print('\\nUser May Also Be Interested In:\\n')\n",
    "display(personalized_res_df)"
   ],
   "metadata": {
    "id": "pgpvBqajdyXq",
    "outputId": "4991a660-0d44-4ada-970f-571c16342e86"
   }
  },
  {
   "cell_type": "markdown",
   "source": [
    "## LLM For Generating Grounded Content\n",
    "\n",
    "Let's use an LLM to automatically generate content for targeted marketing campaigns grounded with our knowledge graph using the above tools.\n",
    "Here is a quick example for generating promotional emails. but you can create all sorts of content with this!"
   ],
   "metadata": {
    "collapsed": false,
    "id": "90E9HGu4dyXq"
   }
  },
  {
   "cell_type": "code",
   "execution_count": null,
   "outputs": [],
   "source": [
    "# Import relevant libraries\n",
    "from langchain.prompts import SystemMessagePromptTemplate, HumanMessagePromptTemplate, ChatPromptTemplate\n",
    "from langchain.chat_models import ChatOpenAI, BedrockChat\n",
    "from langchain.schema import StrOutputParser"
   ],
   "metadata": {
    "collapsed": false
   }
  },
  {
   "cell_type": "code",
   "execution_count": 16,
   "outputs": [
    {
     "name": "stdout",
     "output_type": "stream",
     "text": [
      "LLM: Using GPT-3.5\n"
     ]
    }
   ],
   "source": [
    "#load LLM\n",
    "\n",
    "def load_llm(llm_name: str):\n",
    "    if llm_name == \"gpt-4\":\n",
    "        print(\"LLM: Using GPT-4\")\n",
    "        return ChatOpenAI(temperature=0, model_name=\"gpt-4\", streaming=True)\n",
    "    elif llm_name == \"gpt-3.5\":\n",
    "        print(\"LLM: Using GPT-3.5\")\n",
    "        return ChatOpenAI(temperature=0, model_name=\"gpt-3.5-turbo\", streaming=True)\n",
    "    elif llm_name == \"claudev2\":\n",
    "        print(\"LLM: ClaudeV2\")\n",
    "        return BedrockChat(\n",
    "            model_id=\"anthropic.claude-v2\",\n",
    "            model_kwargs={\"temperature\": 0.0, \"max_tokens_to_sample\": 1024},\n",
    "            streaming=True,\n",
    "        )\n",
    "    print(\"LLM: Using GPT-3.5\")\n",
    "    return ChatOpenAI(temperature=0, model_name=\"gpt-3.5-turbo\", streaming=True)\n",
    "\n",
    "\n",
    "llm = load_llm(LLM)"
   ],
   "metadata": {
    "colab": {
     "base_uri": "https://localhost:8080/"
    },
    "id": "YuCHAuTrdyXr",
    "outputId": "acc5ad1e-2bc4-4abf-89f6-b021c72d4054"
   }
  },
  {
   "cell_type": "markdown",
   "source": [
    "### Create Knowledge Graph Stores for Retrieval\n",
    "To ground our content Generation we need to define retrievers to pull information from our knowledge graph.  Let's make two stores:\n",
    "1. Personalized Search Retriever (`kg_personalized_search`): Based on recent customer searches and purchase history, pull relevant products\n",
    "2. Recommendations retriever (`kg_recommendations`): Based on recent customer searches, what else may we recommend to them?"
   ],
   "metadata": {
    "collapsed": false
   }
  },
  {
   "cell_type": "code",
   "execution_count": 131,
   "outputs": [],
   "source": [
    "# This will be a function so we can change per customer id\n",
    "def kg_personalized_search_gen(customer_id):\n",
    "    return Neo4jVector.from_existing_index(\n",
    "        embedding=embedding_model,\n",
    "        url=NEO4J_URI,\n",
    "        username=NEO4J_USERNAME,\n",
    "        password=NEO4J_PASSWORD,\n",
    "        index_name='product-text-embeddings',\n",
    "        retrieval_query=f\"\"\"\n",
    "    WITH node as product, score as searchScore\n",
    "    OPTIONAL MATCH(product)<-[:VARIANT_OF]-(:Article)<-[r:CUSTOMERS_ALSO_PURCHASED]-(:Article)\n",
    "    <-[:PURCHASED]-(:Customer {{customerId: '{customer_id}'}})\n",
    "    WITH  product, searchScore, sum(r.score) AS purchaseScore\n",
    "    RETURN '##Product:\\n' +\n",
    "        'prodName: ' + product.prodName + '\\n' +\n",
    "        'productTypeName' + product.productTypeName + '\\n' +\n",
    "        'garmentGroupName' + product.garmentGroupName + '\\n' +\n",
    "        'detailDesc: ' + product.detailDesc + '\\n' +\n",
    "        'url: ' + 'https://representative-domain/product/' + product.productCode\n",
    "        AS text, (1.0 + purchaseScore)*searchScore AS score, {{source: 'https://representative-domain/product/' + product.productCode}} AS metadata\n",
    "    ORDER BY score DESC LIMIT 5\n",
    "    \"\"\"\n",
    "    )"
   ],
   "metadata": {
    "id": "WLBBVRXwdyXq"
   }
  },
  {
   "cell_type": "code",
   "execution_count": 137,
   "outputs": [],
   "source": [
    "kg_recommendations = Neo4jVector.from_existing_index(\n",
    "    embedding=embedding_model,\n",
    "    url=NEO4J_URI,\n",
    "    username=NEO4J_USERNAME,\n",
    "    password=NEO4J_PASSWORD,\n",
    "    index_name='product-text-embeddings',\n",
    "    retrieval_query=f\"\"\"\n",
    "    WITH node as product, score as searchScore\n",
    "    MATCH(product)<-[:VARIANT_OF]-(:Article)-[r:CUSTOMERS_ALSO_PURCHASED]->(:Article)-[:VARIANT_OF]-(recProduct)\n",
    "    WITH  recProduct, searchScore, sum(r.score) AS recScore\n",
    "    RETURN '##Product:\\n' +\n",
    "        'prodName: ' + recProduct.prodName + '\\n' +\n",
    "        'productTypeName' + recProduct.productTypeName + '\\n' +\n",
    "        'garmentGroupName' + recProduct.garmentGroupName + '\\n' +\n",
    "        'detailDesc: ' + recProduct.detailDesc + '\\n' +\n",
    "        'url: ' + 'https://representative-domain/product/' + recProduct.productCode\n",
    "        AS text, (1.0 + recScore)*searchScore AS score, {{source: 'https://representative-domain/product/' + recProduct.productCode}} AS metadata\n",
    "    ORDER BY score DESC LIMIT 5\n",
    "    \"\"\"\n",
    ")"
   ],
   "metadata": {
    "id": "ZFAnXFV6dyXr"
   }
  },
  {
   "cell_type": "markdown",
   "source": [
    "### Prompt Engineering\n",
    "Now let's define our prompts. We will combine two together:\n",
    "1. A system prompt which, in this case tells the LLM how to generated the message\n",
    "2. Human prompt: In this case just wraps the search prompt entered by the customer\n",
    "\n",
    "This will allow us to pass the customer search to the retrievers, but then also to the LLM for addition context when drafting the message."
   ],
   "metadata": {
    "collapsed": false
   }
  },
  {
   "cell_type": "code",
   "execution_count": 138,
   "outputs": [],
   "source": [
    "general_system_template = '''\n",
    "You are a personal assistant named Sally for a fashion, home, and beauty company called HRM.\n",
    "write an email to {customerName}, one of your customers, to promote and summarize products relevant for them given the current season / time of year: {timeOfYear} .\n",
    "Please only mention the Products listed below. Do not come up with or add any new products to the list.\n",
    "Each product description comes with a \"url\" field. make sure to link to the url with descriptive name text for each product so the customer can easily find them.\n",
    "\n",
    "---\n",
    "# Relevant Products:\n",
    "{searchProds}\n",
    "\n",
    "# Customer May Also Be Interested In:\n",
    "{recProds}\n",
    "---\n",
    "'''\n",
    "general_user_template = \"{searchPrompt}\"\n",
    "messages = [\n",
    "    SystemMessagePromptTemplate.from_template(general_system_template),\n",
    "    HumanMessagePromptTemplate.from_template(general_user_template),\n",
    "]\n",
    "prompt = ChatPromptTemplate.from_messages(messages)"
   ],
   "metadata": {
    "collapsed": false
   }
  },
  {
   "cell_type": "markdown",
   "source": [
    "### Create a Chain\n",
    "Now let's put a chain together that will leverage the retrievers, prompts, and LLM model. This is where Langchain shines, putting RAG together in a simple way.\n",
    "\n",
    "In addition to the personalized search and recommendations context, we will allow for som other parameters\n",
    "\n",
    "1. `customerName`: Ordinarily this will be pulled from Neo4j, but it has been scrubbed from the data for obvious reasons so we will provide our own name here.\n",
    "2. `timeOfYear`: The time of year as a date, season, month, etc. the LLM can tailor the language appropriately.\n",
    "\n",
    "You can potentially add other creative parameters here to help the LLM write relevant messages.\n"
   ],
   "metadata": {
    "collapsed": false
   }
  },
  {
   "cell_type": "code",
   "execution_count": 139,
   "outputs": [],
   "source": [
    "# Helper function\n",
    "def format_docs(docs):\n",
    "    return \"\\n\\n\".join([d.page_content for d in docs])\n",
    "\n",
    "def chain_gen(customer_id):\n",
    "    return ({'searchProds': (lambda x:x['searchPrompt']) | kg_personalized_search_gen(customer_id).as_retriever(k=100) | format_docs,\n",
    "              'recProds': (lambda x:x['searchPrompt']) | kg_recommendations.as_retriever(k=5) | format_docs,\n",
    "              'customerName': lambda x:x['customerName'],\n",
    "              'timeOfYear': lambda x:x['timeOfYear'],\n",
    "              \"searchPrompt\":  lambda x:x['searchPrompt']}\n",
    "             | prompt\n",
    "             | llm\n",
    "             | StrOutputParser())"
   ],
   "metadata": {
    "id": "nUpih07QdyXr"
   }
  },
  {
   "cell_type": "markdown",
   "source": [
    "### Examples Runs"
   ],
   "metadata": {
    "collapsed": false
   }
  },
  {
   "cell_type": "code",
   "execution_count": 140,
   "outputs": [],
   "source": [
    "CUSTOMER_ID = \"daae10780ecd14990ea190a1e9917da33fe96cd8cfa5e80b67b4600171aa77e0\"\n",
    "\n",
    "chain = chain_gen(CUSTOMER_ID)"
   ],
   "metadata": {
    "collapsed": false
   }
  },
  {
   "cell_type": "code",
   "execution_count": 141,
   "outputs": [
    {
     "name": "stdout",
     "output_type": "stream",
     "text": [
      "Dear Alex Smith,\n",
      "\n",
      "I hope this email finds you well. As the weather gets colder, it's the perfect time to update your wardrobe with cozy and stylish oversized sweaters. At HRM, we have a wide range of options that I think you'll love. Let me introduce you to some of our top picks for this season:\n",
      "\n",
      "1. Betsy Oversized Sweater: This oversized, V-neck jumper is made from a soft, loose knit containing wool and alpaca wool. It features dropped shoulders, long, wide sleeves, wide ribbing around the neckline, cuffs, and hem, as well as slits on the sides. You can find it [here](https://representative-domain/product/842001).\n",
      "\n",
      "2. Japp Oversize Sweater: This relaxed-fit top is made from sweatshirt fabric and features a ribbed turtle neck, dropped shoulders, long, wide sleeves, and ribbing at the cuffs and hem. It is longer at the back, adding a stylish touch. You can find it [here](https://representative-domain/product/817392).\n",
      "\n",
      "3. HUBBY Oversized Sweater: Made from sturdy sweatshirt fabric, this oversized top has a drawstring hood, low dropped shoulders, and long sleeves with ribbed cuffs. It also features two high slits at the front, one with a decorative print. The soft brushed inside adds extra comfort. You can find it [here](https://representative-domain/product/573414).\n",
      "\n",
      "4. BLANKS JIM Oversized Sweater: From our Blank Staples streetwear collection, this timeless sweatshirt is made from heavy, 460 gsm cotton sweatshirt fabric for a premium handfeel. It has a straight cut and is oversized for a relaxed fit, with a round, rib-trimmed neckline, low dropped shoulders, long sleeves, and ribbing at the cuffs and hem. You can find it [here](https://representative-domain/product/917296).\n",
      "\n",
      "In addition to these oversized sweaters, you may also be interested in the following products:\n",
      "\n",
      "1. Elin Sweatshirt: This oversized top is made from lightweight sweatshirt fabric and features dropped shoulders, long sleeves, and ribbing around the neckline, cuffs, and hem. The brushed inside adds extra warmth and comfort. You can find it [here](https://representative-domain/product/572399).\n",
      "\n",
      "2. All Inclusive Dress: If you're looking for a dress option, this long-sleeved velour dress with a V-neck and wrapover front is a great choice. It is lined for added comfort. You can find it [here](https://representative-domain/product/566618).\n",
      "\n",
      "3. Annie Oversized Hoodie: This oversized top is made from sweatshirt fabric and features a lined hood with a wrapover front. It also has a kangaroo pocket, dropped shoulders, long sleeves, and ribbing at the cuffs and hem. The soft brushed inside adds extra coziness. You can find it [here](https://representative-domain/product/687948).\n",
      "\n",
      "I hope you find these suggestions helpful. If you have any further questions or need assistance with anything else, please don't hesitate to reach out. Happy shopping!\n",
      "\n",
      "Best regards,\n",
      "\n",
      "Sally\n",
      "HRM Personal Assistant\n"
     ]
    }
   ],
   "source": [
    "print(chain.invoke({'searchPrompt':\"Oversized Sweaters\", 'customerName':'Alex Smith', 'timeOfYear':'Nov, 2023'}))"
   ],
   "metadata": {
    "id": "jL6P3IoydyXr",
    "outputId": "2da2ba0f-6b3d-45df-ed42-f2144ead2814"
   }
  },
  {
   "cell_type": "code",
   "execution_count": 142,
   "outputs": [
    {
     "name": "stdout",
     "output_type": "stream",
     "text": [
      "Dear Alex Smith,\n",
      "\n",
      "I hope this email finds you well. As the weather gets cooler and the holiday season approaches, I wanted to share some exciting products that I think you'll love. \n",
      "\n",
      "First, we have the Brush Western Boot. These ankle boots in imitation leather feature covered elastication at the sides and decorative tabs and buckles. With a comfortable heel height of approximately 4 cm, they are perfect for both style and comfort. You can find them [here](https://representative-domain/product/806766).\n",
      "\n",
      "Another great option is the Lindsay Western Boot. Made from imitation suede, these ankle boots have a zip on one side and a loop at the back. The fabric linings, insoles, and rubber soles ensure maximum comfort. The heel measures 7.5 cm, adding a touch of elegance to your outfit. You can check them out [here](https://representative-domain/product/673580).\n",
      "\n",
      "If you're looking for something with a pointed toe, the Wilma Western Boot SPEED is a great choice. These ankle boots feature elastic gores on the sides and have fabric linings, insoles, and rubber soles. The heel measures approximately 5 cm, making them a stylish and comfortable option. You can find them [here](https://representative-domain/product/635392).\n",
      "\n",
      "Lastly, we have the Tony Wedge. These ankle boots in grained imitation leather have a zip on one side and wedge heels. The faux fur linings and insoles, along with the sturdy fluted soles, provide both warmth and comfort. The platform front measures approximately 2.5 cm, while the heel measures 4.5 cm. You can explore them [here](https://representative-domain/product/820139).\n",
      "\n",
      "In addition to the western boots, you may also be interested in the following products:\n",
      "\n",
      "- Jimmy Drawstring Tee: This cropped, wide T-shirt in cotton jersey features a drawstring at the hem, ribbed neckline, and dropped shoulders. You can find it [here](https://representative-domain/product/871281).\n",
      "\n",
      "- Svenne Sneaker: These slip-on trainers in cotton twill have elastic gores on the sides and a loop at the back. The cotton canvas linings, insoles, and thermoplastic rubber (TPR) soles ensure comfort and durability. You can check them out [here](https://representative-domain/product/580684).\n",
      "\n",
      "- DIV Morgan Leggings: Made from cotton jersey, these leggings feature a print motif on the front and a regular waist with covered elastication. They are both stylish and comfortable. You can find them [here](https://representative-domain/product/795400).\n",
      "\n",
      "- Alice Braided Belt NEW: These narrow, braided belts with a round metal buckle come in both imitation leather and imitation suede. They add a touch of style to any outfit. You can explore them [here](https://representative-domain/product/891469).\n",
      "\n",
      "- Brighton Ribbed Bikers: These cycling shorts in stretch fabric have a high, elasticated waist and ribbed section at the sides. They are both trendy and comfortable. You can find them [here](https://representative-domain/product/873103).\n",
      "\n",
      "I hope you find these products appealing and suitable for the current season. If you have any questions or need further assistance, please feel free to reach out. We value your support as a customer and look forward to serving you.\n",
      "\n",
      "Warm regards,\n",
      "\n",
      "Sally\n",
      "HRM Personal Assistant\n"
     ]
    }
   ],
   "source": [
    "print(chain.invoke({'searchPrompt':\"western boots\", 'customerName':'Alex Smith', 'timeOfYear':'Nov, 2023'}))"
   ],
   "metadata": {
    "id": "2E50XJ_3dyXr",
    "outputId": "84e8b286-ceda-49a2-9190-c719ba36bd92"
   }
  },
  {
   "cell_type": "markdown",
   "source": [
    "Feel free to experiment and try more!"
   ],
   "metadata": {
    "collapsed": false
   }
  },
  {
   "cell_type": "markdown",
   "source": [
    "### Demo App\n",
    "Now lets use the above tools to create a demo app with Gradio.  We will need to make a couple more functions, but otherwise easy to fire up from a Notebook!"
   ],
   "metadata": {
    "collapsed": false
   }
  },
  {
   "cell_type": "code",
   "execution_count": 143,
   "outputs": [],
   "source": [
    "# Create a means to generate and cache chains...so we can quickly try different customer ids\n",
    "personalized_search_chain_cache = dict()\n",
    "def get_chain(customer_id):\n",
    "    if customer_id in personalized_search_chain_cache:\n",
    "        return personalized_search_chain_cache[customer_id]\n",
    "    chain = chain_gen(customer_id)\n",
    "    personalized_search_chain_cache[customer_id] = chain\n",
    "    return chain"
   ],
   "metadata": {
    "collapsed": false
   }
  },
  {
   "cell_type": "code",
   "execution_count": 144,
   "outputs": [
    {
     "name": "stdout",
     "output_type": "stream",
     "text": [
      "Running on local URL:  http://127.0.0.1:7873\n",
      "\n",
      "Could not create share link. Missing file: /Users/zachblumenfeld/opt/anaconda3/envs/Downloads/lib/python3.10/site-packages/gradio/frpc_darwin_arm64_v0.2. \n",
      "\n",
      "Please check your internet connection. This can happen if your antivirus software blocks the download of this file. You can install manually by following these steps: \n",
      "\n",
      "1. Download this file: https://cdn-media.huggingface.co/frpc-gradio-0.2/frpc_darwin_arm64\n",
      "2. Rename the downloaded file to: frpc_darwin_arm64_v0.2\n",
      "3. Move the file to this location: /Users/zachblumenfeld/opt/anaconda3/envs/Downloads/lib/python3.10/site-packages/gradio\n"
     ]
    },
    {
     "name": "stderr",
     "output_type": "stream",
     "text": [
      "\n"
     ]
    },
    {
     "data": {
      "text/plain": "<IPython.core.display.HTML object>",
      "text/html": "<div><iframe src=\"http://127.0.0.1:7873/\" width=\"100%\" height=\"500\" allow=\"autoplay; camera; microphone; clipboard-read; clipboard-write;\" frameborder=\"0\" allowfullscreen></iframe></div>"
     },
     "metadata": {},
     "output_type": "display_data"
    },
    {
     "name": "stdout",
     "output_type": "stream",
     "text": [
      "Keyboard interruption in main thread... closing server.\n",
      "Killing tunnel 127.0.0.1:7873 <> None\n"
     ]
    },
    {
     "data": {
      "text/plain": ""
     },
     "execution_count": 144,
     "metadata": {},
     "output_type": "execute_result"
    }
   ],
   "source": [
    "import gradio as gr\n",
    "\n",
    "def message_generator(*x):\n",
    "    chain = get_chain(x[0])\n",
    "    return chain.invoke({'searchPrompt':x[3], 'customerName':x[2], 'timeOfYear': x[1]})\n",
    "\n",
    "customer_id = gr.Textbox(value=CUSTOMER_ID, label=\"Customer ID\")\n",
    "time_of_year = gr.Textbox(value=\"Nov, 2023\", label=\"Time Of Year\")\n",
    "customer_name = gr.Textbox(value='Alex Smith', label=\"Customer Name\")\n",
    "search_prompt = gr.Textbox(value='Oversized Sweaters', label=\"Search Prompt(s)\")\n",
    "message_result = gr.Markdown( label=\"Message\")\n",
    "\n",
    "demo = gr.Interface(fn=message_generator, inputs=[customer_id, time_of_year, customer_name, search_prompt], outputs=message_result)\n",
    "demo.launch(share=True, debug=True)"
   ],
   "metadata": {
    "collapsed": false
   }
  },
  {
   "cell_type": "markdown",
   "source": [
    "## Wrap Up"
   ],
   "metadata": {
    "collapsed": false
   }
  },
  {
   "cell_type": "code",
   "execution_count": null,
   "outputs": [],
   "source": [],
   "metadata": {
    "id": "eDjWNPQXdyXr"
   }
  }
 ],
 "metadata": {
  "kernelspec": {
   "display_name": "Python 3",
   "language": "python",
   "name": "python3"
  },
  "language_info": {
   "codemirror_mode": {
    "name": "ipython",
    "version": 2
   },
   "file_extension": ".py",
   "mimetype": "text/x-python",
   "name": "python",
   "nbconvert_exporter": "python",
   "pygments_lexer": "ipython2",
   "version": "2.7.6"
  },
  "colab": {
   "provenance": [],
   "toc_visible": true
  }
 },
 "nbformat": 4,
 "nbformat_minor": 0
}
