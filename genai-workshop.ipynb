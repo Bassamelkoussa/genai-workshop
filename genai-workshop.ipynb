{
  "cells": [
    {
      "cell_type": "markdown",
      "source": [
        "# Neo4j Generative AI Workshop"
      ],
      "metadata": {
        "collapsed": false,
        "id": "I8F3XGz_dyXc"
      }
    },
    {
      "cell_type": "markdown",
      "source": [
        "## Setup"
      ],
      "metadata": {
        "collapsed": false,
        "id": "cmjr1dz8dyXd"
      }
    },
    {
      "cell_type": "code",
      "execution_count": 1,
      "outputs": [],
      "source": [
        "%%capture\n",
        "%pip install sentence_transformers langchain openai tiktoken python-dotenv gradio graphdatascience"
      ],
      "metadata": {
        "id": "OOR5YnnkdyXd"
      }
    },
    {
      "cell_type": "code",
      "execution_count": 2,
      "outputs": [],
      "source": [
        "from graphdatascience import GraphDataScience\n",
        "from dotenv import load_dotenv\n",
        "import os\n",
        "import pandas as pd\n",
        "import numpy as np\n",
        "from datetime import datetime, timedelta\n",
        "from langchain.embeddings import OpenAIEmbeddings, BedrockEmbeddings, SentenceTransformerEmbeddings"
      ],
      "metadata": {
        "id": "7psF1otOdyXe"
      }
    },
    {
      "cell_type": "markdown",
      "source": [
        "### Setup Environment Variables"
      ],
      "metadata": {
        "collapsed": false,
        "id": "_ar1ZFhPdyXe"
      }
    },
    {
      "cell_type": "code",
      "execution_count": 3,
      "outputs": [],
      "source": [
        "load_dotenv('work.env', override=True)\n",
        "\n",
        "# Neo4j\n",
        "NEO4J_URI = os.getenv('NEO4J_URI', 'bolt://localhost:7687')\n",
        "NEO4J_USERNAME = os.getenv('NEO4J_USERNAME', 'neo4j')\n",
        "NEO4J_PASSWORD = os.getenv('NEO4J_PASSWORD', 'password')\n",
        "AURA_DS = eval(os.getenv('AURA_DS', 'false').title())\n",
        "\n",
        "# LLM\n",
        "EMBEDDING_MODEL = os.getenv('EMBEDDING_MODEL', 'openai')\n",
        "LLM = os.getenv('LLM', 'gpt-3.5')"
      ],
      "metadata": {
        "id": "o-98NuINdyXe"
      }
    },
    {
      "cell_type": "markdown",
      "source": [
        "## Knowledge Graph Building"
      ],
      "metadata": {
        "collapsed": false,
        "id": "67Tm1p3LdyXe"
      }
    },
    {
      "cell_type": "markdown",
      "source": [
        "### Get Source Data"
      ],
      "metadata": {
        "collapsed": false,
        "id": "Jgp5iwPGdyXe"
      }
    },
    {
      "cell_type": "code",
      "execution_count": null,
      "outputs": [
        {
          "data": {
            "text/plain": "     departmentNo              departmentName  sectionNo  \\\n0            1676                Jersey Basic         16   \n1            1339              Clean Lingerie         61   \n2            3608                Tights basic         62   \n3            5883                Jersey Basic         26   \n4            2032                      Jersey          8   \n..            ...                         ...        ...   \n271          7857          Kids Boy Exclusive         46   \n272          7510                       Woven         28   \n273          3420  Small Accessories Extended         66   \n274          8090       Promotion/Other/Offer         29   \n275          5888                      Blanks         26   \n\n                        sectionName  \n0            Womens Everyday Basics  \n1                   Womens Lingerie  \n2    Womens Nightwear, Socks & Tigh  \n3                     Men Underwear  \n4                              Mama  \n..                              ...  \n271                        Kids Boy  \n272                     Men Edition  \n273        Womens Small accessories  \n274                       Men Other  \n275                   Men Underwear  \n\n[276 rows x 4 columns]",
            "text/html": "<div>\n<style scoped>\n    .dataframe tbody tr th:only-of-type {\n        vertical-align: middle;\n    }\n\n    .dataframe tbody tr th {\n        vertical-align: top;\n    }\n\n    .dataframe thead th {\n        text-align: right;\n    }\n</style>\n<table border=\"1\" class=\"dataframe\">\n  <thead>\n    <tr style=\"text-align: right;\">\n      <th></th>\n      <th>departmentNo</th>\n      <th>departmentName</th>\n      <th>sectionNo</th>\n      <th>sectionName</th>\n    </tr>\n  </thead>\n  <tbody>\n    <tr>\n      <th>0</th>\n      <td>1676</td>\n      <td>Jersey Basic</td>\n      <td>16</td>\n      <td>Womens Everyday Basics</td>\n    </tr>\n    <tr>\n      <th>1</th>\n      <td>1339</td>\n      <td>Clean Lingerie</td>\n      <td>61</td>\n      <td>Womens Lingerie</td>\n    </tr>\n    <tr>\n      <th>2</th>\n      <td>3608</td>\n      <td>Tights basic</td>\n      <td>62</td>\n      <td>Womens Nightwear, Socks &amp; Tigh</td>\n    </tr>\n    <tr>\n      <th>3</th>\n      <td>5883</td>\n      <td>Jersey Basic</td>\n      <td>26</td>\n      <td>Men Underwear</td>\n    </tr>\n    <tr>\n      <th>4</th>\n      <td>2032</td>\n      <td>Jersey</td>\n      <td>8</td>\n      <td>Mama</td>\n    </tr>\n    <tr>\n      <th>...</th>\n      <td>...</td>\n      <td>...</td>\n      <td>...</td>\n      <td>...</td>\n    </tr>\n    <tr>\n      <th>271</th>\n      <td>7857</td>\n      <td>Kids Boy Exclusive</td>\n      <td>46</td>\n      <td>Kids Boy</td>\n    </tr>\n    <tr>\n      <th>272</th>\n      <td>7510</td>\n      <td>Woven</td>\n      <td>28</td>\n      <td>Men Edition</td>\n    </tr>\n    <tr>\n      <th>273</th>\n      <td>3420</td>\n      <td>Small Accessories Extended</td>\n      <td>66</td>\n      <td>Womens Small accessories</td>\n    </tr>\n    <tr>\n      <th>274</th>\n      <td>8090</td>\n      <td>Promotion/Other/Offer</td>\n      <td>29</td>\n      <td>Men Other</td>\n    </tr>\n    <tr>\n      <th>275</th>\n      <td>5888</td>\n      <td>Blanks</td>\n      <td>26</td>\n      <td>Men Underwear</td>\n    </tr>\n  </tbody>\n</table>\n<p>276 rows × 4 columns</p>\n</div>"
          },
          "execution_count": 11,
          "metadata": {},
          "output_type": "execute_result"
        }
      ],
      "source": [
        "department_df = pd.read_csv('https://storage.googleapis.com/neo4j-workshop-data/genai-hm/department.csv')\n",
        "department_df"
      ],
      "metadata": {
        "id": "R-ihbseCdyXe",
        "outputId": "cee470cd-305b-43ed-88fa-2c179e63dc92"
      }
    },
    {
      "cell_type": "code",
      "execution_count": null,
      "outputs": [
        {
          "data": {
            "text/plain": "       productCode                   prodName  productTypeNo  \\\n0           108775                  Strap top            253   \n1           110065          OP T-shirt (Idro)            306   \n2           111565        20 den 1p Stockings            304   \n3           111586  Shape Up 30 den 1p Tights            273   \n4           111593   Support 40 den 1p Tights            304   \n...            ...                        ...            ...   \n12053       939927                    Dolphin            265   \n12054       942187               ED Sasha tee            255   \n12055       946282               Linnea dress            265   \n12056       947599                ED Duno 2p.            254   \n12057       952938                  Elton top            254   \n\n        productTypeName    productGroupName  garmentGroupNo  \\\n0              Vest top  Garment Upper body            1002   \n1                   Bra           Underwear            1017   \n2      Underwear Tights      Socks & Tights            1021   \n3       Leggings/Tights  Garment Lower body            1021   \n4      Underwear Tights      Socks & Tights            1021   \n...                 ...                 ...             ...   \n12053             Dress   Garment Full body            1013   \n12054           T-shirt  Garment Upper body            1005   \n12055             Dress   Garment Full body            1013   \n12056               Top  Garment Upper body            1005   \n12057               Top  Garment Upper body            1005   \n\n        garmentGroupName                                         detailDesc  \n0           Jersey Basic            Jersey top with narrow shoulder straps.  \n1      Under-, Nightwear  Microfibre T-shirt bra with underwired, moulde...  \n2       Socks and Tights  Semi shiny nylon stockings with a wide, reinfo...  \n3       Socks and Tights  Tights with built-in support to lift the botto...  \n4       Socks and Tights  Semi shiny tights that shape the tummy, thighs...  \n...                  ...                                                ...  \n12053     Dresses Ladies  Short dress in an airy weave with a small stan...  \n12054       Jersey Fancy  Oversized, straight-cut T-shirt in a soft moda...  \n12055     Dresses Ladies  Short dress in lace with flounces down the fro...  \n12056       Jersey Fancy  Long-sleeved tops in soft, organic cotton jers...  \n12057       Jersey Fancy  Fitted top in jersey with a round neckline and...  \n\n[12058 rows x 8 columns]",
            "text/html": "<div>\n<style scoped>\n    .dataframe tbody tr th:only-of-type {\n        vertical-align: middle;\n    }\n\n    .dataframe tbody tr th {\n        vertical-align: top;\n    }\n\n    .dataframe thead th {\n        text-align: right;\n    }\n</style>\n<table border=\"1\" class=\"dataframe\">\n  <thead>\n    <tr style=\"text-align: right;\">\n      <th></th>\n      <th>productCode</th>\n      <th>prodName</th>\n      <th>productTypeNo</th>\n      <th>productTypeName</th>\n      <th>productGroupName</th>\n      <th>garmentGroupNo</th>\n      <th>garmentGroupName</th>\n      <th>detailDesc</th>\n    </tr>\n  </thead>\n  <tbody>\n    <tr>\n      <th>0</th>\n      <td>108775</td>\n      <td>Strap top</td>\n      <td>253</td>\n      <td>Vest top</td>\n      <td>Garment Upper body</td>\n      <td>1002</td>\n      <td>Jersey Basic</td>\n      <td>Jersey top with narrow shoulder straps.</td>\n    </tr>\n    <tr>\n      <th>1</th>\n      <td>110065</td>\n      <td>OP T-shirt (Idro)</td>\n      <td>306</td>\n      <td>Bra</td>\n      <td>Underwear</td>\n      <td>1017</td>\n      <td>Under-, Nightwear</td>\n      <td>Microfibre T-shirt bra with underwired, moulde...</td>\n    </tr>\n    <tr>\n      <th>2</th>\n      <td>111565</td>\n      <td>20 den 1p Stockings</td>\n      <td>304</td>\n      <td>Underwear Tights</td>\n      <td>Socks &amp; Tights</td>\n      <td>1021</td>\n      <td>Socks and Tights</td>\n      <td>Semi shiny nylon stockings with a wide, reinfo...</td>\n    </tr>\n    <tr>\n      <th>3</th>\n      <td>111586</td>\n      <td>Shape Up 30 den 1p Tights</td>\n      <td>273</td>\n      <td>Leggings/Tights</td>\n      <td>Garment Lower body</td>\n      <td>1021</td>\n      <td>Socks and Tights</td>\n      <td>Tights with built-in support to lift the botto...</td>\n    </tr>\n    <tr>\n      <th>4</th>\n      <td>111593</td>\n      <td>Support 40 den 1p Tights</td>\n      <td>304</td>\n      <td>Underwear Tights</td>\n      <td>Socks &amp; Tights</td>\n      <td>1021</td>\n      <td>Socks and Tights</td>\n      <td>Semi shiny tights that shape the tummy, thighs...</td>\n    </tr>\n    <tr>\n      <th>...</th>\n      <td>...</td>\n      <td>...</td>\n      <td>...</td>\n      <td>...</td>\n      <td>...</td>\n      <td>...</td>\n      <td>...</td>\n      <td>...</td>\n    </tr>\n    <tr>\n      <th>12053</th>\n      <td>939927</td>\n      <td>Dolphin</td>\n      <td>265</td>\n      <td>Dress</td>\n      <td>Garment Full body</td>\n      <td>1013</td>\n      <td>Dresses Ladies</td>\n      <td>Short dress in an airy weave with a small stan...</td>\n    </tr>\n    <tr>\n      <th>12054</th>\n      <td>942187</td>\n      <td>ED Sasha tee</td>\n      <td>255</td>\n      <td>T-shirt</td>\n      <td>Garment Upper body</td>\n      <td>1005</td>\n      <td>Jersey Fancy</td>\n      <td>Oversized, straight-cut T-shirt in a soft moda...</td>\n    </tr>\n    <tr>\n      <th>12055</th>\n      <td>946282</td>\n      <td>Linnea dress</td>\n      <td>265</td>\n      <td>Dress</td>\n      <td>Garment Full body</td>\n      <td>1013</td>\n      <td>Dresses Ladies</td>\n      <td>Short dress in lace with flounces down the fro...</td>\n    </tr>\n    <tr>\n      <th>12056</th>\n      <td>947599</td>\n      <td>ED Duno 2p.</td>\n      <td>254</td>\n      <td>Top</td>\n      <td>Garment Upper body</td>\n      <td>1005</td>\n      <td>Jersey Fancy</td>\n      <td>Long-sleeved tops in soft, organic cotton jers...</td>\n    </tr>\n    <tr>\n      <th>12057</th>\n      <td>952938</td>\n      <td>Elton top</td>\n      <td>254</td>\n      <td>Top</td>\n      <td>Garment Upper body</td>\n      <td>1005</td>\n      <td>Jersey Fancy</td>\n      <td>Fitted top in jersey with a round neckline and...</td>\n    </tr>\n  </tbody>\n</table>\n<p>12058 rows × 8 columns</p>\n</div>"
          },
          "execution_count": 12,
          "metadata": {},
          "output_type": "execute_result"
        }
      ],
      "source": [
        "product_df = pd.read_csv('https://storage.googleapis.com/neo4j-workshop-data/genai-hm/product.csv')\n",
        "product_df"
      ],
      "metadata": {
        "id": "viWnTvAkdyXf",
        "outputId": "d838fbdc-08cd-4ba5-cde1-2600d7ef742e"
      }
    },
    {
      "cell_type": "code",
      "execution_count": null,
      "outputs": [
        {
          "data": {
            "text/plain": "       articleId  productCode  departmentNo             prodName  \\\n0      108775015       108775          1676            Strap top   \n1      108775044       108775          1676            Strap top   \n2      110065001       110065          1339    OP T-shirt (Idro)   \n3      110065002       110065          1339    OP T-shirt (Idro)   \n4      111565001       111565          3608  20 den 1p Stockings   \n...          ...          ...           ...                  ...   \n21591  939927001       939927          1322              Dolphin   \n21592  942187001       942187          1919         ED Sasha tee   \n21593  946282001       946282          1322         Linnea dress   \n21594  947599001       947599          1919          ED Duno 2p.   \n21595  952938001       952938          1641            Elton top   \n\n        productTypeName  graphicalAppearanceNo graphicalAppearanceName  \\\n0              Vest top                1010016                   Solid   \n1              Vest top                1010016                   Solid   \n2                   Bra                1010016                   Solid   \n3                   Bra                1010016                   Solid   \n4      Underwear Tights                1010016                   Solid   \n...                 ...                    ...                     ...   \n21591             Dress                1010013           Other pattern   \n21592           T-shirt                1010016                   Solid   \n21593             Dress                1010021                    Lace   \n21594               Top                1010016                   Solid   \n21595               Top                1010001        All over pattern   \n\n       colourGroupCode colourGroupName  \n0                    9           Black  \n1                   10           White  \n2                    9           Black  \n3                   10           White  \n4                    9           Black  \n...                ...             ...  \n21591                9           Black  \n21592                9           Black  \n21593                9           Black  \n21594                9           Black  \n21595               13           Beige  \n\n[21596 rows x 9 columns]",
            "text/html": "<div>\n<style scoped>\n    .dataframe tbody tr th:only-of-type {\n        vertical-align: middle;\n    }\n\n    .dataframe tbody tr th {\n        vertical-align: top;\n    }\n\n    .dataframe thead th {\n        text-align: right;\n    }\n</style>\n<table border=\"1\" class=\"dataframe\">\n  <thead>\n    <tr style=\"text-align: right;\">\n      <th></th>\n      <th>articleId</th>\n      <th>productCode</th>\n      <th>departmentNo</th>\n      <th>prodName</th>\n      <th>productTypeName</th>\n      <th>graphicalAppearanceNo</th>\n      <th>graphicalAppearanceName</th>\n      <th>colourGroupCode</th>\n      <th>colourGroupName</th>\n    </tr>\n  </thead>\n  <tbody>\n    <tr>\n      <th>0</th>\n      <td>108775015</td>\n      <td>108775</td>\n      <td>1676</td>\n      <td>Strap top</td>\n      <td>Vest top</td>\n      <td>1010016</td>\n      <td>Solid</td>\n      <td>9</td>\n      <td>Black</td>\n    </tr>\n    <tr>\n      <th>1</th>\n      <td>108775044</td>\n      <td>108775</td>\n      <td>1676</td>\n      <td>Strap top</td>\n      <td>Vest top</td>\n      <td>1010016</td>\n      <td>Solid</td>\n      <td>10</td>\n      <td>White</td>\n    </tr>\n    <tr>\n      <th>2</th>\n      <td>110065001</td>\n      <td>110065</td>\n      <td>1339</td>\n      <td>OP T-shirt (Idro)</td>\n      <td>Bra</td>\n      <td>1010016</td>\n      <td>Solid</td>\n      <td>9</td>\n      <td>Black</td>\n    </tr>\n    <tr>\n      <th>3</th>\n      <td>110065002</td>\n      <td>110065</td>\n      <td>1339</td>\n      <td>OP T-shirt (Idro)</td>\n      <td>Bra</td>\n      <td>1010016</td>\n      <td>Solid</td>\n      <td>10</td>\n      <td>White</td>\n    </tr>\n    <tr>\n      <th>4</th>\n      <td>111565001</td>\n      <td>111565</td>\n      <td>3608</td>\n      <td>20 den 1p Stockings</td>\n      <td>Underwear Tights</td>\n      <td>1010016</td>\n      <td>Solid</td>\n      <td>9</td>\n      <td>Black</td>\n    </tr>\n    <tr>\n      <th>...</th>\n      <td>...</td>\n      <td>...</td>\n      <td>...</td>\n      <td>...</td>\n      <td>...</td>\n      <td>...</td>\n      <td>...</td>\n      <td>...</td>\n      <td>...</td>\n    </tr>\n    <tr>\n      <th>21591</th>\n      <td>939927001</td>\n      <td>939927</td>\n      <td>1322</td>\n      <td>Dolphin</td>\n      <td>Dress</td>\n      <td>1010013</td>\n      <td>Other pattern</td>\n      <td>9</td>\n      <td>Black</td>\n    </tr>\n    <tr>\n      <th>21592</th>\n      <td>942187001</td>\n      <td>942187</td>\n      <td>1919</td>\n      <td>ED Sasha tee</td>\n      <td>T-shirt</td>\n      <td>1010016</td>\n      <td>Solid</td>\n      <td>9</td>\n      <td>Black</td>\n    </tr>\n    <tr>\n      <th>21593</th>\n      <td>946282001</td>\n      <td>946282</td>\n      <td>1322</td>\n      <td>Linnea dress</td>\n      <td>Dress</td>\n      <td>1010021</td>\n      <td>Lace</td>\n      <td>9</td>\n      <td>Black</td>\n    </tr>\n    <tr>\n      <th>21594</th>\n      <td>947599001</td>\n      <td>947599</td>\n      <td>1919</td>\n      <td>ED Duno 2p.</td>\n      <td>Top</td>\n      <td>1010016</td>\n      <td>Solid</td>\n      <td>9</td>\n      <td>Black</td>\n    </tr>\n    <tr>\n      <th>21595</th>\n      <td>952938001</td>\n      <td>952938</td>\n      <td>1641</td>\n      <td>Elton top</td>\n      <td>Top</td>\n      <td>1010001</td>\n      <td>All over pattern</td>\n      <td>13</td>\n      <td>Beige</td>\n    </tr>\n  </tbody>\n</table>\n<p>21596 rows × 9 columns</p>\n</div>"
          },
          "execution_count": 13,
          "metadata": {},
          "output_type": "execute_result"
        }
      ],
      "source": [
        "article_df = pd.read_csv('https://storage.googleapis.com/neo4j-workshop-data/genai-hm/article.csv')\n",
        "article_df"
      ],
      "metadata": {
        "id": "myDnsgHWdyXf",
        "outputId": "e1bd278a-2749-436b-d768-3ab39cfdcef6"
      }
    },
    {
      "cell_type": "code",
      "execution_count": null,
      "outputs": [
        {
          "data": {
            "text/plain": "                                             customerId   fn  active  \\\n0     0003e867a930d0d6842f923d6ba7c9b77aba33fe2a0fbf...  1.0     1.0   \n1     00140d87c629b961e410e1d143084146c6fe71df40fe3d...  NaN     NaN   \n2     00264b7d4cd6498292e8a355b699c2d07725d123f04867...  1.0     1.0   \n3     005c6d3bb66c86aab606814cd9995a12f99b3a44b58c72...  NaN     NaN   \n4     006684ff58368b611db31b1ca782a87cad496e69835e42...  NaN     NaN   \n...                                                 ...  ...     ...   \n1995  feac9822f51efc778acc044776b4b34e8e0a86615bf983...  NaN     NaN   \n1996  fef793ec3a7d62d782824517355d74ded50964dce33009...  NaN     NaN   \n1997  ff2b58ad3e83f2e3499b3eda6ea99993b3bca10d8ceee4...  NaN     NaN   \n1998  ffb925b11e1bb2e375d22a02d67907994eb8cb92ec2e7d...  NaN     NaN   \n1999  ffe8f77be0ce1a5bde91c97cb76aa887fb200bba79fe5a...  1.0     1.0   \n\n     clubMemberStatus fashionNewsFrequency   age  \\\n0              ACTIVE            Regularly  33.0   \n1              ACTIVE                 NONE  24.0   \n2              ACTIVE            Regularly  53.0   \n3          PRE-CREATE                 NONE   NaN   \n4              ACTIVE                 NONE  32.0   \n...               ...                  ...   ...   \n1995           ACTIVE                 NONE  48.0   \n1996           ACTIVE                 NONE  46.0   \n1997           ACTIVE                 NONE  35.0   \n1998           ACTIVE                 NONE  34.0   \n1999           ACTIVE            Regularly  26.0   \n\n                                             postalCode  \n0     d647e4ede3d0eb4ce0750440a110350b5f4c758165d89d...  \n1     d686e242886674f5bed783e6ceb2c52fe89f2c39996bbf...  \n2     2c29ae653a9282cce4151bd87643c907644e09541abc28...  \n3     177b4a2258a85a2247daaa7cdffba96a74c741ea8a6605...  \n4     4296834187b1ffb908c0aa276b29a4b1af87cad557fb40...  \n...                                                 ...  \n1995  8cecc780f67ff32def9c8e8dff5f454bce26a7cbd4c860...  \n1996  5799a39cffe701ebdb12181348bf10f9e23abcc3868c43...  \n1997  2c29ae653a9282cce4151bd87643c907644e09541abc28...  \n1998  ebdd8c5c893683c3cf52c011d4e35024e46d183c95f0fa...  \n1999  bf90cabe02380b161574072e5ca4f77f62b313421e3f62...  \n\n[2000 rows x 7 columns]",
            "text/html": "<div>\n<style scoped>\n    .dataframe tbody tr th:only-of-type {\n        vertical-align: middle;\n    }\n\n    .dataframe tbody tr th {\n        vertical-align: top;\n    }\n\n    .dataframe thead th {\n        text-align: right;\n    }\n</style>\n<table border=\"1\" class=\"dataframe\">\n  <thead>\n    <tr style=\"text-align: right;\">\n      <th></th>\n      <th>customerId</th>\n      <th>fn</th>\n      <th>active</th>\n      <th>clubMemberStatus</th>\n      <th>fashionNewsFrequency</th>\n      <th>age</th>\n      <th>postalCode</th>\n    </tr>\n  </thead>\n  <tbody>\n    <tr>\n      <th>0</th>\n      <td>0003e867a930d0d6842f923d6ba7c9b77aba33fe2a0fbf...</td>\n      <td>1.0</td>\n      <td>1.0</td>\n      <td>ACTIVE</td>\n      <td>Regularly</td>\n      <td>33.0</td>\n      <td>d647e4ede3d0eb4ce0750440a110350b5f4c758165d89d...</td>\n    </tr>\n    <tr>\n      <th>1</th>\n      <td>00140d87c629b961e410e1d143084146c6fe71df40fe3d...</td>\n      <td>NaN</td>\n      <td>NaN</td>\n      <td>ACTIVE</td>\n      <td>NONE</td>\n      <td>24.0</td>\n      <td>d686e242886674f5bed783e6ceb2c52fe89f2c39996bbf...</td>\n    </tr>\n    <tr>\n      <th>2</th>\n      <td>00264b7d4cd6498292e8a355b699c2d07725d123f04867...</td>\n      <td>1.0</td>\n      <td>1.0</td>\n      <td>ACTIVE</td>\n      <td>Regularly</td>\n      <td>53.0</td>\n      <td>2c29ae653a9282cce4151bd87643c907644e09541abc28...</td>\n    </tr>\n    <tr>\n      <th>3</th>\n      <td>005c6d3bb66c86aab606814cd9995a12f99b3a44b58c72...</td>\n      <td>NaN</td>\n      <td>NaN</td>\n      <td>PRE-CREATE</td>\n      <td>NONE</td>\n      <td>NaN</td>\n      <td>177b4a2258a85a2247daaa7cdffba96a74c741ea8a6605...</td>\n    </tr>\n    <tr>\n      <th>4</th>\n      <td>006684ff58368b611db31b1ca782a87cad496e69835e42...</td>\n      <td>NaN</td>\n      <td>NaN</td>\n      <td>ACTIVE</td>\n      <td>NONE</td>\n      <td>32.0</td>\n      <td>4296834187b1ffb908c0aa276b29a4b1af87cad557fb40...</td>\n    </tr>\n    <tr>\n      <th>...</th>\n      <td>...</td>\n      <td>...</td>\n      <td>...</td>\n      <td>...</td>\n      <td>...</td>\n      <td>...</td>\n      <td>...</td>\n    </tr>\n    <tr>\n      <th>1995</th>\n      <td>feac9822f51efc778acc044776b4b34e8e0a86615bf983...</td>\n      <td>NaN</td>\n      <td>NaN</td>\n      <td>ACTIVE</td>\n      <td>NONE</td>\n      <td>48.0</td>\n      <td>8cecc780f67ff32def9c8e8dff5f454bce26a7cbd4c860...</td>\n    </tr>\n    <tr>\n      <th>1996</th>\n      <td>fef793ec3a7d62d782824517355d74ded50964dce33009...</td>\n      <td>NaN</td>\n      <td>NaN</td>\n      <td>ACTIVE</td>\n      <td>NONE</td>\n      <td>46.0</td>\n      <td>5799a39cffe701ebdb12181348bf10f9e23abcc3868c43...</td>\n    </tr>\n    <tr>\n      <th>1997</th>\n      <td>ff2b58ad3e83f2e3499b3eda6ea99993b3bca10d8ceee4...</td>\n      <td>NaN</td>\n      <td>NaN</td>\n      <td>ACTIVE</td>\n      <td>NONE</td>\n      <td>35.0</td>\n      <td>2c29ae653a9282cce4151bd87643c907644e09541abc28...</td>\n    </tr>\n    <tr>\n      <th>1998</th>\n      <td>ffb925b11e1bb2e375d22a02d67907994eb8cb92ec2e7d...</td>\n      <td>NaN</td>\n      <td>NaN</td>\n      <td>ACTIVE</td>\n      <td>NONE</td>\n      <td>34.0</td>\n      <td>ebdd8c5c893683c3cf52c011d4e35024e46d183c95f0fa...</td>\n    </tr>\n    <tr>\n      <th>1999</th>\n      <td>ffe8f77be0ce1a5bde91c97cb76aa887fb200bba79fe5a...</td>\n      <td>1.0</td>\n      <td>1.0</td>\n      <td>ACTIVE</td>\n      <td>Regularly</td>\n      <td>26.0</td>\n      <td>bf90cabe02380b161574072e5ca4f77f62b313421e3f62...</td>\n    </tr>\n  </tbody>\n</table>\n<p>2000 rows × 7 columns</p>\n</div>"
          },
          "execution_count": 14,
          "metadata": {},
          "output_type": "execute_result"
        }
      ],
      "source": [
        "customer_df = pd.read_csv('https://storage.googleapis.com/neo4j-workshop-data/genai-hm/customer.csv')\n",
        "customer_df"
      ],
      "metadata": {
        "id": "NfUHS2LndyXf",
        "outputId": "26fff51f-0722-4634-bc03-1b38f927b1a8"
      }
    },
    {
      "cell_type": "code",
      "execution_count": null,
      "outputs": [
        {
          "data": {
            "text/plain": "             tDat                                         customerId  \\\n0      2018-09-20  080756754aef493b2b36f592eae744f2b9787dc55b635b...   \n1      2018-09-20  080756754aef493b2b36f592eae744f2b9787dc55b635b...   \n2      2018-09-20  080756754aef493b2b36f592eae744f2b9787dc55b635b...   \n3      2018-09-20  080756754aef493b2b36f592eae744f2b9787dc55b635b...   \n4      2018-09-20  0843d9fb6e4f3befa53ff3a8447b902b9f75bfa955a0f9...   \n...           ...                                                ...   \n48059  2020-09-22  b6be55f233772b5fc4a1ebedf36542fb3e1b6c15c23c7e...   \n48060  2020-09-22  b6be55f233772b5fc4a1ebedf36542fb3e1b6c15c23c7e...   \n48061  2020-09-22  b6be55f233772b5fc4a1ebedf36542fb3e1b6c15c23c7e...   \n48062  2020-09-22  b6be55f233772b5fc4a1ebedf36542fb3e1b6c15c23c7e...   \n48063  2020-09-22  bc5e2e45ecc9b00eb0b01a3373edbb654aad248d75f12b...   \n\n       articleId     price  salesChannelId      txId  \n0      662888002  0.033881               2      1559  \n1      662888001  0.033881               2      1560  \n2      651244002  0.013542               2      1561  \n3      651244001  0.006763               2      1562  \n4      633152003  0.030492               1      1588  \n...          ...       ...             ...       ...  \n48059  921266007  0.016932               2  31779124  \n48060  812530004  0.010153               2  31779125  \n48061  942187001  0.016932               2  31779126  \n48062  866731001  0.025407               2  31779127  \n48063  678942001  0.016932               2  31779858  \n\n[48064 rows x 6 columns]",
            "text/html": "<div>\n<style scoped>\n    .dataframe tbody tr th:only-of-type {\n        vertical-align: middle;\n    }\n\n    .dataframe tbody tr th {\n        vertical-align: top;\n    }\n\n    .dataframe thead th {\n        text-align: right;\n    }\n</style>\n<table border=\"1\" class=\"dataframe\">\n  <thead>\n    <tr style=\"text-align: right;\">\n      <th></th>\n      <th>tDat</th>\n      <th>customerId</th>\n      <th>articleId</th>\n      <th>price</th>\n      <th>salesChannelId</th>\n      <th>txId</th>\n    </tr>\n  </thead>\n  <tbody>\n    <tr>\n      <th>0</th>\n      <td>2018-09-20</td>\n      <td>080756754aef493b2b36f592eae744f2b9787dc55b635b...</td>\n      <td>662888002</td>\n      <td>0.033881</td>\n      <td>2</td>\n      <td>1559</td>\n    </tr>\n    <tr>\n      <th>1</th>\n      <td>2018-09-20</td>\n      <td>080756754aef493b2b36f592eae744f2b9787dc55b635b...</td>\n      <td>662888001</td>\n      <td>0.033881</td>\n      <td>2</td>\n      <td>1560</td>\n    </tr>\n    <tr>\n      <th>2</th>\n      <td>2018-09-20</td>\n      <td>080756754aef493b2b36f592eae744f2b9787dc55b635b...</td>\n      <td>651244002</td>\n      <td>0.013542</td>\n      <td>2</td>\n      <td>1561</td>\n    </tr>\n    <tr>\n      <th>3</th>\n      <td>2018-09-20</td>\n      <td>080756754aef493b2b36f592eae744f2b9787dc55b635b...</td>\n      <td>651244001</td>\n      <td>0.006763</td>\n      <td>2</td>\n      <td>1562</td>\n    </tr>\n    <tr>\n      <th>4</th>\n      <td>2018-09-20</td>\n      <td>0843d9fb6e4f3befa53ff3a8447b902b9f75bfa955a0f9...</td>\n      <td>633152003</td>\n      <td>0.030492</td>\n      <td>1</td>\n      <td>1588</td>\n    </tr>\n    <tr>\n      <th>...</th>\n      <td>...</td>\n      <td>...</td>\n      <td>...</td>\n      <td>...</td>\n      <td>...</td>\n      <td>...</td>\n    </tr>\n    <tr>\n      <th>48059</th>\n      <td>2020-09-22</td>\n      <td>b6be55f233772b5fc4a1ebedf36542fb3e1b6c15c23c7e...</td>\n      <td>921266007</td>\n      <td>0.016932</td>\n      <td>2</td>\n      <td>31779124</td>\n    </tr>\n    <tr>\n      <th>48060</th>\n      <td>2020-09-22</td>\n      <td>b6be55f233772b5fc4a1ebedf36542fb3e1b6c15c23c7e...</td>\n      <td>812530004</td>\n      <td>0.010153</td>\n      <td>2</td>\n      <td>31779125</td>\n    </tr>\n    <tr>\n      <th>48061</th>\n      <td>2020-09-22</td>\n      <td>b6be55f233772b5fc4a1ebedf36542fb3e1b6c15c23c7e...</td>\n      <td>942187001</td>\n      <td>0.016932</td>\n      <td>2</td>\n      <td>31779126</td>\n    </tr>\n    <tr>\n      <th>48062</th>\n      <td>2020-09-22</td>\n      <td>b6be55f233772b5fc4a1ebedf36542fb3e1b6c15c23c7e...</td>\n      <td>866731001</td>\n      <td>0.025407</td>\n      <td>2</td>\n      <td>31779127</td>\n    </tr>\n    <tr>\n      <th>48063</th>\n      <td>2020-09-22</td>\n      <td>bc5e2e45ecc9b00eb0b01a3373edbb654aad248d75f12b...</td>\n      <td>678942001</td>\n      <td>0.016932</td>\n      <td>2</td>\n      <td>31779858</td>\n    </tr>\n  </tbody>\n</table>\n<p>48064 rows × 6 columns</p>\n</div>"
          },
          "execution_count": 15,
          "metadata": {},
          "output_type": "execute_result"
        }
      ],
      "source": [
        "transaction_df = pd.read_csv('https://storage.googleapis.com/neo4j-workshop-data/genai-hm/transaction.csv')\n",
        "transaction_df"
      ],
      "metadata": {
        "id": "vWw9GFyGdyXf",
        "outputId": "7b098933-74b4-4e96-a439-83fbc1d411a3"
      }
    },
    {
      "cell_type": "markdown",
      "source": [
        "### Connect to Neo4j"
      ],
      "metadata": {
        "collapsed": false,
        "id": "yU13AU73dyXf"
      }
    },
    {
      "cell_type": "code",
      "execution_count": null,
      "outputs": [],
      "source": [
        "load_dotenv('.env', override=True)\n",
        "\n",
        "# Use Neo4j URI and credentials according to our setup\n",
        "gds = GraphDataScience(\n",
        "    NEO4J_URI,\n",
        "    auth=(NEO4J_USERNAME, NEO4J_PASSWORD),\n",
        "    aura_ds=AURA_DS)\n",
        "\n",
        "# Necessary if you enabled Arrow on the db - this is true for AuraDS\n",
        "gds.set_database(\"neo4j\")"
      ],
      "metadata": {
        "id": "92GFeMaRdyXf"
      }
    },
    {
      "cell_type": "markdown",
      "source": [
        "### Create Constraints"
      ],
      "metadata": {
        "collapsed": false,
        "id": "2H3Yb5JLdyXf"
      }
    },
    {
      "cell_type": "code",
      "execution_count": null,
      "outputs": [
        {
          "data": {
            "text/plain": "Empty DataFrame\nColumns: []\nIndex: []",
            "text/html": "<div>\n<style scoped>\n    .dataframe tbody tr th:only-of-type {\n        vertical-align: middle;\n    }\n\n    .dataframe tbody tr th {\n        vertical-align: top;\n    }\n\n    .dataframe thead th {\n        text-align: right;\n    }\n</style>\n<table border=\"1\" class=\"dataframe\">\n  <thead>\n    <tr style=\"text-align: right;\">\n      <th></th>\n    </tr>\n  </thead>\n  <tbody>\n  </tbody>\n</table>\n</div>"
          },
          "execution_count": 11,
          "metadata": {},
          "output_type": "execute_result"
        }
      ],
      "source": [
        "# one uniqueness constraint for each node label\n",
        "gds.run_cypher('CREATE CONSTRAINT unique_department_no IF NOT EXISTS FOR (n:Department) REQUIRE n.departmentNo IS UNIQUE')\n",
        "gds.run_cypher('CREATE CONSTRAINT unique_product_code IF NOT EXISTS FOR (n:Product) REQUIRE n.productCode IS UNIQUE')\n",
        "gds.run_cypher('CREATE CONSTRAINT unique_article_id IF NOT EXISTS FOR (n:Article) REQUIRE n.articleId IS UNIQUE')\n",
        "gds.run_cypher('CREATE CONSTRAINT unique_customer_id IF NOT EXISTS FOR (n:Customer) REQUIRE n.customerId IS UNIQUE')"
      ],
      "metadata": {
        "id": "vuweMfqpdyXf",
        "outputId": "e696938d-83b5-4b70-8770-5c5314b60207"
      }
    },
    {
      "cell_type": "markdown",
      "source": [
        "### Helper Functions"
      ],
      "metadata": {
        "collapsed": false,
        "id": "5uUIBgthdyXf"
      }
    },
    {
      "cell_type": "code",
      "execution_count": null,
      "outputs": [],
      "source": [
        "from typing import Tuple, Union\n",
        "from numpy.typing import ArrayLike\n",
        "\n",
        "\n",
        "def make_map(x):\n",
        "    if type(x) == str:\n",
        "        return x, x\n",
        "    elif type(x) == tuple:\n",
        "        return x\n",
        "    else:\n",
        "        raise Exception(\"Entry must of type string or tuple\")\n",
        "\n",
        "\n",
        "def make_set_clause(prop_names: ArrayLike, element_name='n', item_name='rec'):\n",
        "    clause_list = []\n",
        "    for prop_name in prop_names:\n",
        "        clause_list.append(f'{element_name}.{prop_name} = {item_name}.{prop_name}')\n",
        "    return 'SET ' + ', '.join(clause_list)\n",
        "\n",
        "\n",
        "def make_node_merge_query(node_key_name: str, node_label: str, cols: ArrayLike):\n",
        "    template = f'''UNWIND $recs AS rec\\nMERGE(n:{node_label} {{{node_key_name}: rec.{node_key_name}}})'''\n",
        "    prop_names = [x for x in cols if x != node_key_name]\n",
        "    if len(prop_names) > 0:\n",
        "        template = template + '\\n' + make_set_clause(prop_names)\n",
        "    return template + '\\nRETURN count(n) AS nodeLoadedCount'\n",
        "\n",
        "\n",
        "def make_rel_merge_query(source_target_labels: Union[Tuple[str, str], str],\n",
        "                         source_node_key: Union[Tuple[str, str], str],\n",
        "                         target_node_key: Union[Tuple[str, str], str],\n",
        "                         rel_type: str,\n",
        "                         cols: ArrayLike,\n",
        "                         rel_key: str = None):\n",
        "    source_target_label_map = make_map(source_target_labels)\n",
        "    source_node_key_map = make_map(source_node_key)\n",
        "    target_node_key_map = make_map(target_node_key)\n",
        "\n",
        "    merge_statement = f'MERGE(s)-[r:{rel_type}]->(t)'\n",
        "    if rel_key is not None:\n",
        "        merge_statement = f'MERGE(s)-[r:{rel_type} {{{rel_key}: rec.{rel_key}}}]->(t)'\n",
        "\n",
        "    template = f'''\\tUNWIND $recs AS rec\n",
        "    MATCH(s:{source_target_label_map[0]} {{{source_node_key_map[0]}: rec.{source_node_key_map[1]}}})\n",
        "    MATCH(t:{source_target_label_map[1]} {{{target_node_key_map[0]}: rec.{target_node_key_map[1]}}})\\n\\t''' + merge_statement\n",
        "    prop_names = [x for x in cols if x not in [rel_key, source_node_key_map[1], target_node_key_map[1]]]\n",
        "    if len(prop_names) > 0:\n",
        "        template = template + '\\n\\t' + make_set_clause(prop_names, 'r')\n",
        "    return template + '\\n\\tRETURN count(r) AS relLoadedCount'\n",
        "\n",
        "\n",
        "def chunks(xs, n=10_000):\n",
        "    n = max(1, n)\n",
        "    return [xs[i:i + n] for i in range(0, len(xs), n)]\n",
        "\n",
        "\n",
        "def load_nodes(gds: GraphDataScience, node_df: pd.DataFrame, node_key_col: str, node_label: str, chunk_size=10_000):\n",
        "    records = node_df.to_dict('records')\n",
        "    print(f'======  loading {node_label} nodes  ======')\n",
        "    total = len(records)\n",
        "    print(f'staging {total:,} records')\n",
        "    query = make_node_merge_query(node_key_col, node_label, node_df.columns.copy())\n",
        "    cumulative_count = 0\n",
        "    for recs in chunks(records, chunk_size):\n",
        "        res = gds.run_cypher(query, params={'recs': recs})\n",
        "        cumulative_count += res.iloc[0, 0]\n",
        "        print(f'Loaded {cumulative_count:,} of {total:,} nodes')\n",
        "\n",
        "\n",
        "def load_rels(gds: GraphDataScience,\n",
        "              rel_df: pd.DataFrame,\n",
        "              source_target_labels: Union[Tuple[str, str], str],\n",
        "              source_node_key: Union[Tuple[str, str], str],\n",
        "              target_node_key: Union[Tuple[str, str], str],\n",
        "              rel_type: str,\n",
        "              rel_key: str = None,\n",
        "              chunk_size=10_000):\n",
        "    records = rel_df.to_dict('records')\n",
        "    print(f'======  loading {rel_type} relationships  ======')\n",
        "    total = len(records)\n",
        "    print(f'staging {total:,} records')\n",
        "    query = make_rel_merge_query(source_target_labels, source_node_key,\n",
        "                                 target_node_key, rel_type, rel_df.columns.copy(), rel_key)\n",
        "    cumulative_count = 0\n",
        "    for recs in chunks(records, chunk_size):\n",
        "        res = gds.run_cypher(query, params={'recs': recs})\n",
        "        cumulative_count += res.iloc[0, 0]\n",
        "        print(f'Loaded {cumulative_count:,} of {total:,} relationships')"
      ],
      "metadata": {
        "id": "X1kYEETzdyXf"
      }
    },
    {
      "cell_type": "markdown",
      "source": [
        "### Load Nodes"
      ],
      "metadata": {
        "collapsed": false,
        "id": "OTkREIn5dyXg"
      }
    },
    {
      "cell_type": "code",
      "execution_count": null,
      "outputs": [
        {
          "name": "stdout",
          "output_type": "stream",
          "text": [
            "======  loading Department nodes  ======\n",
            "staging 276 records\n",
            "Loaded 276 of 276 nodes\n",
            "CPU times: user 6.86 ms, sys: 2.39 ms, total: 9.25 ms\n",
            "Wall time: 2.44 s\n"
          ]
        }
      ],
      "source": [
        "%%time\n",
        "load_nodes(gds, department_df, 'departmentNo', 'Department')"
      ],
      "metadata": {
        "id": "HpinIjiRdyXg",
        "outputId": "8ba20edc-d878-4c61-eb3a-ec2c4b16a43a"
      }
    },
    {
      "cell_type": "code",
      "execution_count": null,
      "outputs": [
        {
          "name": "stdout",
          "output_type": "stream",
          "text": [
            "======  loading Product nodes  ======\n",
            "staging 12,058 records\n",
            "Loaded 10,000 of 12,058 nodes\n",
            "Loaded 12,058 of 12,058 nodes\n",
            "CPU times: user 261 ms, sys: 32.3 ms, total: 293 ms\n",
            "Wall time: 19.9 s\n"
          ]
        }
      ],
      "source": [
        "%%time\n",
        "load_nodes(gds, product_df, 'productCode', 'Product')"
      ],
      "metadata": {
        "id": "00k3i8sMdyXg",
        "outputId": "7df5d4c6-d091-47b9-dad7-58b039897253"
      }
    },
    {
      "cell_type": "code",
      "execution_count": null,
      "outputs": [
        {
          "name": "stdout",
          "output_type": "stream",
          "text": [
            "======  loading Article nodes  ======\n",
            "staging 21,596 records\n",
            "Loaded 10,000 of 21,596 nodes\n",
            "Loaded 20,000 of 21,596 nodes\n",
            "Loaded 21,596 of 21,596 nodes\n",
            "CPU times: user 388 ms, sys: 18.1 ms, total: 406 ms\n",
            "Wall time: 18 s\n"
          ]
        }
      ],
      "source": [
        "%%time\n",
        "load_nodes(gds, article_df.drop(columns=['productCode', 'departmentNo']), 'articleId', 'Article')"
      ],
      "metadata": {
        "id": "KAvFlIp-dyXg",
        "outputId": "80a5734a-7b1a-4a9a-e3c0-8f8853f2ab8b"
      }
    },
    {
      "cell_type": "code",
      "execution_count": null,
      "outputs": [
        {
          "name": "stdout",
          "output_type": "stream",
          "text": [
            "======  loading Customer nodes  ======\n",
            "staging 2,000 records\n",
            "Loaded 2,000 of 2,000 nodes\n",
            "CPU times: user 37.3 ms, sys: 3.29 ms, total: 40.6 ms\n",
            "Wall time: 3.28 s\n"
          ]
        }
      ],
      "source": [
        "%%time\n",
        "load_nodes(gds, customer_df, 'customerId', 'Customer')"
      ],
      "metadata": {
        "id": "ipPoO_6gdyXg",
        "outputId": "beb4789d-9ed0-457b-810b-41275303e21b"
      }
    },
    {
      "cell_type": "markdown",
      "source": [
        "### Load Relationships"
      ],
      "metadata": {
        "collapsed": false,
        "id": "7O2rcVWkdyXg"
      }
    },
    {
      "cell_type": "code",
      "execution_count": null,
      "outputs": [
        {
          "name": "stdout",
          "output_type": "stream",
          "text": [
            "======  loading FROM_DEPARTMENT relationships  ======\n",
            "staging 21,596 records\n",
            "Loaded 10,000 of 21,596 relationships\n",
            "Loaded 20,000 of 21,596 relationships\n",
            "Loaded 21,596 of 21,596 relationships\n",
            "CPU times: user 136 ms, sys: 10 ms, total: 146 ms\n",
            "Wall time: 14.3 s\n"
          ]
        }
      ],
      "source": [
        "%%time\n",
        "load_rels(gds, article_df[['articleId', 'departmentNo']], source_target_labels=('Article', 'Department'),\n",
        "          source_node_key='articleId', target_node_key='departmentNo',\n",
        "          rel_type='FROM_DEPARTMENT')"
      ],
      "metadata": {
        "id": "FiiVSonsdyXg",
        "outputId": "77f3a4fe-56a0-49e0-c0ca-63a8928f490b"
      }
    },
    {
      "cell_type": "code",
      "execution_count": null,
      "outputs": [
        {
          "name": "stdout",
          "output_type": "stream",
          "text": [
            "======  loading VARIANT_OF relationships  ======\n",
            "staging 21,596 records\n",
            "Loaded 10,000 of 21,596 relationships\n",
            "Loaded 20,000 of 21,596 relationships\n",
            "Loaded 21,596 of 21,596 relationships\n",
            "CPU times: user 130 ms, sys: 14.3 ms, total: 145 ms\n",
            "Wall time: 10.8 s\n"
          ]
        }
      ],
      "source": [
        "%%time\n",
        "load_rels(gds, article_df[['articleId', 'productCode']], source_target_labels=('Article', 'Product'),\n",
        "          source_node_key='articleId',target_node_key='productCode',\n",
        "          rel_type='VARIANT_OF')"
      ],
      "metadata": {
        "id": "3XkftYVMdyXg",
        "outputId": "172ece1b-5b09-4d5d-db88-09ea8d68adc2"
      }
    },
    {
      "cell_type": "code",
      "execution_count": null,
      "outputs": [
        {
          "name": "stdout",
          "output_type": "stream",
          "text": [
            "======  loading PURCHASED relationships  ======\n",
            "staging 48,064 records\n",
            "Loaded 10,000 of 48,064 relationships\n",
            "Loaded 20,000 of 48,064 relationships\n",
            "Loaded 30,000 of 48,064 relationships\n",
            "Loaded 40,000 of 48,064 relationships\n",
            "Loaded 48,064 of 48,064 relationships\n",
            "CPU times: user 748 ms, sys: 37.6 ms, total: 785 ms\n",
            "Wall time: 30.5 s\n"
          ]
        }
      ],
      "source": [
        "%%time\n",
        "load_rels(gds, transaction_df, source_target_labels=('Customer', 'Article'),\n",
        "          source_node_key='customerId', target_node_key='articleId',\n",
        "          rel_type='PURCHASED')"
      ],
      "metadata": {
        "id": "f_j26RpBdyXg",
        "outputId": "ec2a7509-0a09-4021-fa94-11ac5121878d"
      }
    },
    {
      "cell_type": "markdown",
      "source": [
        "#### Convert Transaction Dates"
      ],
      "metadata": {
        "collapsed": false,
        "id": "wfIIyetSdyXg"
      }
    },
    {
      "cell_type": "code",
      "execution_count": null,
      "outputs": [
        {
          "data": {
            "text/plain": "Empty DataFrame\nColumns: []\nIndex: []",
            "text/html": "<div>\n<style scoped>\n    .dataframe tbody tr th:only-of-type {\n        vertical-align: middle;\n    }\n\n    .dataframe tbody tr th {\n        vertical-align: top;\n    }\n\n    .dataframe thead th {\n        text-align: right;\n    }\n</style>\n<table border=\"1\" class=\"dataframe\">\n  <thead>\n    <tr style=\"text-align: right;\">\n      <th></th>\n    </tr>\n  </thead>\n  <tbody>\n  </tbody>\n</table>\n</div>"
          },
          "execution_count": 20,
          "metadata": {},
          "output_type": "execute_result"
        }
      ],
      "source": [
        "gds.run_cypher('''\n",
        "MATCH (:Customer)-[r:PURCHASED]->()\n",
        "SET r.tDat = date(r.tDat)\n",
        "''')"
      ],
      "metadata": {
        "id": "Px7t9tiedyXg",
        "outputId": "5f867591-4231-4274-cd6f-cc68164b3111"
      }
    },
    {
      "cell_type": "markdown",
      "source": [
        "## Simple Vector Search\n",
        "In this Section We will build Text Embeddings of Product and demonstrate how to leverage the Neo4j vector index for vector search."
      ],
      "metadata": {
        "collapsed": false,
        "id": "SpKcGgRZdyXg"
      }
    },
    {
      "cell_type": "markdown",
      "source": [
        "### Creating Text Embedding"
      ],
      "metadata": {
        "collapsed": false,
        "id": "-WrlFCN1dyXg"
      }
    },
    {
      "cell_type": "code",
      "execution_count": 11,
      "outputs": [],
      "source": [
        "def load_embedding_model(embedding_model_name: str):\n",
        "    if embedding_model_name == \"openai\":\n",
        "        embeddings = OpenAIEmbeddings()\n",
        "        dimension = 1536\n",
        "    elif embedding_model_name == \"aws\":\n",
        "        embeddings = BedrockEmbeddings()\n",
        "        dimension = 1536\n",
        "    else:\n",
        "        embeddings = SentenceTransformerEmbeddings(\n",
        "            model_name=\"all-MiniLM-L6-v2\", cache_folder=\"/embedding_model\"\n",
        "        )\n",
        "        dimension = 384\n",
        "    return embeddings, dimension"
      ],
      "metadata": {
        "id": "_LGUbVS1dyXg"
      }
    },
    {
      "cell_type": "code",
      "execution_count": 12,
      "outputs": [],
      "source": [
        "embedding_model, dimension = load_embedding_model(EMBEDDING_MODEL)"
      ],
      "metadata": {
        "id": "KwRdCBawdyXg"
      }
    },
    {
      "cell_type": "code",
      "execution_count": null,
      "outputs": [],
      "source": [
        "product_emb_df = product_df[['productCode', 'prodName', 'productTypeName', 'garmentGroupName', 'detailDesc']]\n",
        "product_emb_df = product_emb_df[product_emb_df.detailDesc.notnull()]"
      ],
      "metadata": {
        "id": "V7wqaYtIdyXh"
      }
    },
    {
      "cell_type": "code",
      "execution_count": null,
      "outputs": [
        {
          "data": {
            "text/plain": "       productCode                                                doc\n0           108775  \\nName: Strap top\\nType: Vest top\\nGroup: Jers...\n1           110065  \\nName: OP T-shirt (Idro)\\nType: Bra\\nGroup: U...\n2           111565  \\nName: 20 den 1p Stockings\\nType: Underwear T...\n3           111586  \\nName: Shape Up 30 den 1p Tights\\nType: Leggi...\n4           111593  \\nName: Support 40 den 1p Tights\\nType: Underw...\n...            ...                                                ...\n12053       939927  \\nName: Dolphin\\nType: Dress\\nGroup: Dresses L...\n12054       942187  \\nName: ED Sasha tee\\nType: T-shirt\\nGroup: Je...\n12055       946282  \\nName: Linnea dress\\nType: Dress\\nGroup: Dres...\n12056       947599  \\nName: ED Duno 2p.\\nType: Top\\nGroup: Jersey ...\n12057       952938  \\nName: Elton top\\nType: Top\\nGroup: Jersey Fa...\n\n[12021 rows x 2 columns]",
            "text/html": "<div>\n<style scoped>\n    .dataframe tbody tr th:only-of-type {\n        vertical-align: middle;\n    }\n\n    .dataframe tbody tr th {\n        vertical-align: top;\n    }\n\n    .dataframe thead th {\n        text-align: right;\n    }\n</style>\n<table border=\"1\" class=\"dataframe\">\n  <thead>\n    <tr style=\"text-align: right;\">\n      <th></th>\n      <th>productCode</th>\n      <th>doc</th>\n    </tr>\n  </thead>\n  <tbody>\n    <tr>\n      <th>0</th>\n      <td>108775</td>\n      <td>\\nName: Strap top\\nType: Vest top\\nGroup: Jers...</td>\n    </tr>\n    <tr>\n      <th>1</th>\n      <td>110065</td>\n      <td>\\nName: OP T-shirt (Idro)\\nType: Bra\\nGroup: U...</td>\n    </tr>\n    <tr>\n      <th>2</th>\n      <td>111565</td>\n      <td>\\nName: 20 den 1p Stockings\\nType: Underwear T...</td>\n    </tr>\n    <tr>\n      <th>3</th>\n      <td>111586</td>\n      <td>\\nName: Shape Up 30 den 1p Tights\\nType: Leggi...</td>\n    </tr>\n    <tr>\n      <th>4</th>\n      <td>111593</td>\n      <td>\\nName: Support 40 den 1p Tights\\nType: Underw...</td>\n    </tr>\n    <tr>\n      <th>...</th>\n      <td>...</td>\n      <td>...</td>\n    </tr>\n    <tr>\n      <th>12053</th>\n      <td>939927</td>\n      <td>\\nName: Dolphin\\nType: Dress\\nGroup: Dresses L...</td>\n    </tr>\n    <tr>\n      <th>12054</th>\n      <td>942187</td>\n      <td>\\nName: ED Sasha tee\\nType: T-shirt\\nGroup: Je...</td>\n    </tr>\n    <tr>\n      <th>12055</th>\n      <td>946282</td>\n      <td>\\nName: Linnea dress\\nType: Dress\\nGroup: Dres...</td>\n    </tr>\n    <tr>\n      <th>12056</th>\n      <td>947599</td>\n      <td>\\nName: ED Duno 2p.\\nType: Top\\nGroup: Jersey ...</td>\n    </tr>\n    <tr>\n      <th>12057</th>\n      <td>952938</td>\n      <td>\\nName: Elton top\\nType: Top\\nGroup: Jersey Fa...</td>\n    </tr>\n  </tbody>\n</table>\n<p>12021 rows × 2 columns</p>\n</div>"
          },
          "execution_count": 17,
          "metadata": {},
          "output_type": "execute_result"
        }
      ],
      "source": [
        "def create_doc(row):\n",
        "    return f'''\n",
        "Name: {row.prodName}\n",
        "Type: {row.productTypeName}\n",
        "Group: {row.garmentGroupName}\n",
        "Description: {row.detailDesc}\n",
        "'''\n",
        "\n",
        "product_emb_df['doc'] = product_emb_df.apply(create_doc, axis=1)\n",
        "product_emb_df = product_emb_df.drop(columns=['prodName', 'productTypeName', 'garmentGroupName', 'detailDesc'])\n",
        "product_emb_df"
      ],
      "metadata": {
        "id": "36VCtp9HdyXh",
        "outputId": "d9a9e5fd-e45e-4a76-bdee-2e835cbd646f"
      }
    },
    {
      "cell_type": "code",
      "execution_count": null,
      "outputs": [
        {
          "name": "stdout",
          "output_type": "stream",
          "text": [
            "Embedded 500 of 12021\n",
            "Embedded 1000 of 12021\n",
            "Embedded 1500 of 12021\n",
            "Embedded 2000 of 12021\n",
            "Embedded 2500 of 12021\n",
            "Embedded 3000 of 12021\n",
            "Embedded 3500 of 12021\n",
            "Embedded 4000 of 12021\n",
            "Embedded 4500 of 12021\n",
            "Embedded 5000 of 12021\n"
          ]
        },
        {
          "name": "stderr",
          "output_type": "stream",
          "text": [
            "Retrying langchain.embeddings.openai.embed_with_retry.<locals>._embed_with_retry in 4.0 seconds as it raised ServiceUnavailableError: The server is overloaded or not ready yet..\n"
          ]
        },
        {
          "name": "stdout",
          "output_type": "stream",
          "text": [
            "Embedded 5500 of 12021\n",
            "Embedded 6000 of 12021\n",
            "Embedded 6500 of 12021\n",
            "Embedded 7000 of 12021\n",
            "Embedded 7500 of 12021\n",
            "Embedded 8000 of 12021\n",
            "Embedded 8500 of 12021\n",
            "Embedded 9000 of 12021\n",
            "Embedded 9500 of 12021\n",
            "Embedded 10000 of 12021\n",
            "Embedded 10500 of 12021\n",
            "Embedded 11000 of 12021\n",
            "Embedded 11500 of 12021\n",
            "Embedded 12000 of 12021\n",
            "Embedded 12021 of 12021\n",
            "CPU times: user 3.28 s, sys: 378 ms, total: 3.66 s\n",
            "Wall time: 46.2 s\n"
          ]
        }
      ],
      "source": [
        "%%time\n",
        "\n",
        "count = 0\n",
        "embeddings = []\n",
        "for docs in chunks(product_emb_df.doc, n=500):\n",
        "    count += len(docs)\n",
        "    print(f'Embedded {count} of {product_emb_df.shape[0]}')\n",
        "    embeddings.extend(embedding_model.embed_documents(docs))"
      ],
      "metadata": {
        "id": "5qUudN0KdyXh",
        "outputId": "8ec372c9-76e2-4c18-f8b3-578361c58cd3"
      }
    },
    {
      "cell_type": "code",
      "execution_count": null,
      "outputs": [],
      "source": [
        "product_emb_df['textEmbedding'] = embeddings"
      ],
      "metadata": {
        "id": "JJzkJTAYdyXh"
      }
    },
    {
      "cell_type": "code",
      "execution_count": null,
      "outputs": [
        {
          "name": "stdout",
          "output_type": "stream",
          "text": [
            "UNWIND $recs AS rec\n",
            "MERGE(n:Product {productCode: rec.productCode})\n",
            "SET n.doc = rec.doc, n.textEmbedding = rec.textEmbedding\n",
            "RETURN count(n) AS nodeLoadedCount\n"
          ]
        }
      ],
      "source": [
        "print(make_node_merge_query('productCode', 'Product', product_emb_df.columns.copy()))"
      ],
      "metadata": {
        "id": "lJCqXnsQdyXh",
        "outputId": "9f2a54ac-1a80-4ebe-d096-37494397a35e"
      }
    },
    {
      "cell_type": "markdown",
      "source": [
        "#### Create Vector Property"
      ],
      "metadata": {
        "collapsed": false,
        "id": "zOudn8tmdyXo"
      }
    },
    {
      "cell_type": "code",
      "execution_count": null,
      "outputs": [
        {
          "name": "stdout",
          "output_type": "stream",
          "text": [
            "======  loading Product text embeddings ======\n",
            "staging 12,021 records\n",
            "Set 100 of 12,021 text embeddings\n",
            "Set 200 of 12,021 text embeddings\n",
            "Set 300 of 12,021 text embeddings\n",
            "Set 400 of 12,021 text embeddings\n",
            "Set 500 of 12,021 text embeddings\n",
            "Set 600 of 12,021 text embeddings\n",
            "Set 700 of 12,021 text embeddings\n",
            "Set 800 of 12,021 text embeddings\n",
            "Set 900 of 12,021 text embeddings\n",
            "Set 1,000 of 12,021 text embeddings\n",
            "Set 1,100 of 12,021 text embeddings\n",
            "Set 1,200 of 12,021 text embeddings\n",
            "Set 1,300 of 12,021 text embeddings\n",
            "Set 1,400 of 12,021 text embeddings\n",
            "Set 1,500 of 12,021 text embeddings\n",
            "Set 1,600 of 12,021 text embeddings\n",
            "Set 1,700 of 12,021 text embeddings\n",
            "Set 1,800 of 12,021 text embeddings\n",
            "Set 1,900 of 12,021 text embeddings\n",
            "Set 2,000 of 12,021 text embeddings\n",
            "Set 2,100 of 12,021 text embeddings\n",
            "Set 2,200 of 12,021 text embeddings\n",
            "Set 2,300 of 12,021 text embeddings\n",
            "Set 2,400 of 12,021 text embeddings\n",
            "Set 2,500 of 12,021 text embeddings\n",
            "Set 2,600 of 12,021 text embeddings\n",
            "Set 2,700 of 12,021 text embeddings\n",
            "Set 2,800 of 12,021 text embeddings\n",
            "Set 2,900 of 12,021 text embeddings\n",
            "Set 3,000 of 12,021 text embeddings\n",
            "Set 3,100 of 12,021 text embeddings\n",
            "Set 3,200 of 12,021 text embeddings\n",
            "Set 3,300 of 12,021 text embeddings\n",
            "Set 3,400 of 12,021 text embeddings\n",
            "Set 3,500 of 12,021 text embeddings\n",
            "Set 3,600 of 12,021 text embeddings\n",
            "Set 3,700 of 12,021 text embeddings\n",
            "Set 3,800 of 12,021 text embeddings\n",
            "Set 3,900 of 12,021 text embeddings\n",
            "Set 4,000 of 12,021 text embeddings\n",
            "Set 4,100 of 12,021 text embeddings\n",
            "Set 4,200 of 12,021 text embeddings\n",
            "Set 4,300 of 12,021 text embeddings\n",
            "Set 4,400 of 12,021 text embeddings\n",
            "Set 4,500 of 12,021 text embeddings\n",
            "Set 4,600 of 12,021 text embeddings\n",
            "Set 4,700 of 12,021 text embeddings\n",
            "Set 4,800 of 12,021 text embeddings\n",
            "Set 4,900 of 12,021 text embeddings\n",
            "Set 5,000 of 12,021 text embeddings\n",
            "Set 5,100 of 12,021 text embeddings\n",
            "Set 5,200 of 12,021 text embeddings\n",
            "Set 5,300 of 12,021 text embeddings\n",
            "Set 5,400 of 12,021 text embeddings\n",
            "Set 5,500 of 12,021 text embeddings\n",
            "Set 5,600 of 12,021 text embeddings\n",
            "Set 5,700 of 12,021 text embeddings\n",
            "Set 5,800 of 12,021 text embeddings\n",
            "Set 5,900 of 12,021 text embeddings\n",
            "Set 6,000 of 12,021 text embeddings\n",
            "Set 6,100 of 12,021 text embeddings\n",
            "Set 6,200 of 12,021 text embeddings\n",
            "Set 6,300 of 12,021 text embeddings\n",
            "Set 6,400 of 12,021 text embeddings\n",
            "Set 6,500 of 12,021 text embeddings\n",
            "Set 6,600 of 12,021 text embeddings\n",
            "Set 6,700 of 12,021 text embeddings\n",
            "Set 6,800 of 12,021 text embeddings\n",
            "Set 6,900 of 12,021 text embeddings\n",
            "Set 7,000 of 12,021 text embeddings\n",
            "Set 7,100 of 12,021 text embeddings\n",
            "Set 7,200 of 12,021 text embeddings\n",
            "Set 7,300 of 12,021 text embeddings\n",
            "Set 7,400 of 12,021 text embeddings\n",
            "Set 7,500 of 12,021 text embeddings\n",
            "Set 7,600 of 12,021 text embeddings\n",
            "Set 7,700 of 12,021 text embeddings\n",
            "Set 7,800 of 12,021 text embeddings\n",
            "Set 7,900 of 12,021 text embeddings\n",
            "Set 8,000 of 12,021 text embeddings\n",
            "Set 8,100 of 12,021 text embeddings\n",
            "Set 8,200 of 12,021 text embeddings\n",
            "Set 8,300 of 12,021 text embeddings\n",
            "Set 8,400 of 12,021 text embeddings\n",
            "Set 8,500 of 12,021 text embeddings\n",
            "Set 8,600 of 12,021 text embeddings\n",
            "Set 8,700 of 12,021 text embeddings\n",
            "Set 8,800 of 12,021 text embeddings\n",
            "Set 8,900 of 12,021 text embeddings\n",
            "Set 9,000 of 12,021 text embeddings\n",
            "Set 9,100 of 12,021 text embeddings\n",
            "Set 9,200 of 12,021 text embeddings\n",
            "Set 9,300 of 12,021 text embeddings\n",
            "Set 9,400 of 12,021 text embeddings\n",
            "Set 9,500 of 12,021 text embeddings\n",
            "Set 9,600 of 12,021 text embeddings\n",
            "Set 9,700 of 12,021 text embeddings\n",
            "Set 9,800 of 12,021 text embeddings\n",
            "Set 9,900 of 12,021 text embeddings\n",
            "Set 10,000 of 12,021 text embeddings\n",
            "Set 10,100 of 12,021 text embeddings\n",
            "Set 10,200 of 12,021 text embeddings\n",
            "Set 10,300 of 12,021 text embeddings\n",
            "Set 10,400 of 12,021 text embeddings\n",
            "Set 10,500 of 12,021 text embeddings\n",
            "Set 10,600 of 12,021 text embeddings\n",
            "Set 10,700 of 12,021 text embeddings\n",
            "Set 10,800 of 12,021 text embeddings\n",
            "Set 10,900 of 12,021 text embeddings\n",
            "Set 11,000 of 12,021 text embeddings\n",
            "Set 11,100 of 12,021 text embeddings\n",
            "Set 11,200 of 12,021 text embeddings\n",
            "Set 11,300 of 12,021 text embeddings\n",
            "Set 11,400 of 12,021 text embeddings\n",
            "Set 11,500 of 12,021 text embeddings\n",
            "Set 11,600 of 12,021 text embeddings\n",
            "Set 11,700 of 12,021 text embeddings\n",
            "Set 11,800 of 12,021 text embeddings\n",
            "Set 11,900 of 12,021 text embeddings\n",
            "Set 12,000 of 12,021 text embeddings\n",
            "Set 12,021 of 12,021 text embeddings\n"
          ]
        }
      ],
      "source": [
        "records = product_emb_df[['productCode', 'textEmbedding']].to_dict('records')\n",
        "print(f'======  loading Product text embeddings ======')\n",
        "total = len(records)\n",
        "print(f'staging {total:,} records')\n",
        "cumulative_count = 0\n",
        "for recs in chunks(records, n=100):\n",
        "    res = gds.run_cypher('''\n",
        "    UNWIND $recs AS rec\n",
        "    MATCH(n:Product {productCode: rec.productCode})\n",
        "    CALL db.create.setNodeVectorProperty(n, \"textEmbedding\", rec.textEmbedding)\n",
        "    RETURN count(n) AS propertySetCount\n",
        "    ''', params={'recs': recs})\n",
        "    cumulative_count += res.iloc[0, 0]\n",
        "    print(f'Set {cumulative_count:,} of {total:,} text embeddings')"
      ],
      "metadata": {
        "id": "yWtG_wWKdyXo",
        "outputId": "ddd29e93-6ccc-426c-afcb-352e090c833a"
      }
    },
    {
      "cell_type": "markdown",
      "source": [
        "#### Vector Index"
      ],
      "metadata": {
        "collapsed": false,
        "id": "75BkIvlndyXo"
      }
    },
    {
      "cell_type": "code",
      "execution_count": null,
      "outputs": [
        {
          "name": "stdout",
          "output_type": "stream",
          "text": [
            "CPU times: user 8.44 ms, sys: 2.7 ms, total: 11.1 ms\n",
            "Wall time: 1min 27s\n"
          ]
        },
        {
          "data": {
            "text/plain": "Empty DataFrame\nColumns: []\nIndex: []",
            "text/html": "<div>\n<style scoped>\n    .dataframe tbody tr th:only-of-type {\n        vertical-align: middle;\n    }\n\n    .dataframe tbody tr th {\n        vertical-align: top;\n    }\n\n    .dataframe thead th {\n        text-align: right;\n    }\n</style>\n<table border=\"1\" class=\"dataframe\">\n  <thead>\n    <tr style=\"text-align: right;\">\n      <th></th>\n    </tr>\n  </thead>\n  <tbody>\n  </tbody>\n</table>\n</div>"
          },
          "execution_count": 29,
          "metadata": {},
          "output_type": "execute_result"
        }
      ],
      "source": [
        "%%time\n",
        "\n",
        "gds.run_cypher(f'CALL db.index.vector.createNodeIndex(\"product-text-embeddings\", \"Product\", \"textEmbedding\", {dimension}, \"cosine\")')\n",
        "\n",
        "# wait for full index creation (timeout after 300 seconds)\n",
        "gds.run_cypher('CALL db.awaitIndex(\"product-text-embeddings\", 300)')"
      ],
      "metadata": {
        "id": "wJlr-4fHdyXo",
        "outputId": "d328c8c8-fe79-4ef9-ea9e-2b19b73894ff"
      }
    },
    {
      "cell_type": "markdown",
      "source": [
        "#### Vector Search\n",
        "An Example with Product Search"
      ],
      "metadata": {
        "collapsed": false,
        "id": "AT5hwuZ4dyXo"
      }
    },
    {
      "cell_type": "code",
      "execution_count": null,
      "outputs": [],
      "source": [
        "#search_prompt = 'denim jeans, loose fit, high-waist'\n",
        "search_prompt = 'winter sweater with zipper'"
      ],
      "metadata": {
        "id": "elNIp0_BdyXo"
      }
    },
    {
      "cell_type": "code",
      "execution_count": null,
      "outputs": [
        {
          "name": "stdout",
          "output_type": "stream",
          "text": [
            "query vector length: 1536\n",
            "query vector sample: [-0.015721399620501487, -0.01600166252793351, -0.0007557081544117396, -0.020672705397198326, -0.025810854974828365, 0.013906364579883364, -0.009435508570318827, -0.010049416864799713, 0.0030361784703818165, -0.019391505397297122]\n"
          ]
        }
      ],
      "source": [
        "query_vector = embedding_model.embed_query(search_prompt)\n",
        "print(f'query vector length: {len(query_vector)}')\n",
        "print(f'query vector sample: {query_vector[:10]}')"
      ],
      "metadata": {
        "id": "H6uSK26UdyXp",
        "outputId": "ebd74541-d2fd-4be1-bf17-412cd776201a"
      }
    },
    {
      "cell_type": "code",
      "execution_count": null,
      "outputs": [
        {
          "data": {
            "text/plain": "             prodName productTypeName               garmentGroupName  \\\n0           Baby body        Bodysuit                   Jersey Basic   \n1       Brit Baby Tee         T-shirt                   Jersey Basic   \n2     SLIM FIT: BASIC        Trousers  Woven/Jersey/Knitted mix Baby   \n3     Vickan baby tee         T-shirt                   Jersey Basic   \n4     CLOUDY bathrobe             Top  Woven/Jersey/Knitted mix Baby   \n5         Tucky towel        Bodysuit                    Accessories   \n6        TYGA trouser        Trousers  Woven/Jersey/Knitted mix Baby   \n7  Klimt basic skinny        Trousers  Woven/Jersey/Knitted mix Baby   \n8             Bambini          Blouse                        Blouses   \n9   CHILLY LS T-shirt         T-shirt  Woven/Jersey/Knitted mix Baby   \n\n                                          detailDesc     score  \n0  Body in soft jersey with a wider neckline, 3/4...  0.914686  \n1  Short, fitted top in ribbed cotton jersey with...  0.903118  \n2  5-pocket jeans in soft, washed stretch denim w...  0.899984  \n3  Short, fitted T-shirt in cotton jersey with a ...  0.898215  \n4  Baby Exclusive. Dressing gown in soft organic ...  0.896351  \n5  Soft cotton towel with a hood. Patterned velou...  0.894173  \n6  Baby Exclusive. Pull-on trousers in soft organ...  0.893967  \n7  5-pocket jeans in washed stretch denim with an...  0.893927  \n8  V-neck blouse in a viscose crêpe weave with da...  0.893908  \n9  Baby Exclusive. Long-sleeved Henley top in sof...  0.893597  ",
            "text/html": "<div>\n<style scoped>\n    .dataframe tbody tr th:only-of-type {\n        vertical-align: middle;\n    }\n\n    .dataframe tbody tr th {\n        vertical-align: top;\n    }\n\n    .dataframe thead th {\n        text-align: right;\n    }\n</style>\n<table border=\"1\" class=\"dataframe\">\n  <thead>\n    <tr style=\"text-align: right;\">\n      <th></th>\n      <th>prodName</th>\n      <th>productTypeName</th>\n      <th>garmentGroupName</th>\n      <th>detailDesc</th>\n      <th>score</th>\n    </tr>\n  </thead>\n  <tbody>\n    <tr>\n      <th>0</th>\n      <td>Baby body</td>\n      <td>Bodysuit</td>\n      <td>Jersey Basic</td>\n      <td>Body in soft jersey with a wider neckline, 3/4...</td>\n      <td>0.914686</td>\n    </tr>\n    <tr>\n      <th>1</th>\n      <td>Brit Baby Tee</td>\n      <td>T-shirt</td>\n      <td>Jersey Basic</td>\n      <td>Short, fitted top in ribbed cotton jersey with...</td>\n      <td>0.903118</td>\n    </tr>\n    <tr>\n      <th>2</th>\n      <td>SLIM FIT: BASIC</td>\n      <td>Trousers</td>\n      <td>Woven/Jersey/Knitted mix Baby</td>\n      <td>5-pocket jeans in soft, washed stretch denim w...</td>\n      <td>0.899984</td>\n    </tr>\n    <tr>\n      <th>3</th>\n      <td>Vickan baby tee</td>\n      <td>T-shirt</td>\n      <td>Jersey Basic</td>\n      <td>Short, fitted T-shirt in cotton jersey with a ...</td>\n      <td>0.898215</td>\n    </tr>\n    <tr>\n      <th>4</th>\n      <td>CLOUDY bathrobe</td>\n      <td>Top</td>\n      <td>Woven/Jersey/Knitted mix Baby</td>\n      <td>Baby Exclusive. Dressing gown in soft organic ...</td>\n      <td>0.896351</td>\n    </tr>\n    <tr>\n      <th>5</th>\n      <td>Tucky towel</td>\n      <td>Bodysuit</td>\n      <td>Accessories</td>\n      <td>Soft cotton towel with a hood. Patterned velou...</td>\n      <td>0.894173</td>\n    </tr>\n    <tr>\n      <th>6</th>\n      <td>TYGA trouser</td>\n      <td>Trousers</td>\n      <td>Woven/Jersey/Knitted mix Baby</td>\n      <td>Baby Exclusive. Pull-on trousers in soft organ...</td>\n      <td>0.893967</td>\n    </tr>\n    <tr>\n      <th>7</th>\n      <td>Klimt basic skinny</td>\n      <td>Trousers</td>\n      <td>Woven/Jersey/Knitted mix Baby</td>\n      <td>5-pocket jeans in washed stretch denim with an...</td>\n      <td>0.893927</td>\n    </tr>\n    <tr>\n      <th>8</th>\n      <td>Bambini</td>\n      <td>Blouse</td>\n      <td>Blouses</td>\n      <td>V-neck blouse in a viscose crêpe weave with da...</td>\n      <td>0.893908</td>\n    </tr>\n    <tr>\n      <th>9</th>\n      <td>CHILLY LS T-shirt</td>\n      <td>T-shirt</td>\n      <td>Woven/Jersey/Knitted mix Baby</td>\n      <td>Baby Exclusive. Long-sleeved Henley top in sof...</td>\n      <td>0.893597</td>\n    </tr>\n  </tbody>\n</table>\n</div>"
          },
          "execution_count": 58,
          "metadata": {},
          "output_type": "execute_result"
        }
      ],
      "source": [
        "gds.run_cypher('''\n",
        "CALL db.index.vector.queryNodes(\"product-text-embeddings\", 10, $queryVector)\n",
        "YIELD node AS product, score\n",
        "RETURN product.prodName AS prodName,\n",
        "    product.productTypeName AS productTypeName,\n",
        "    product.garmentGroupName AS garmentGroupName,\n",
        "    product.detailDesc AS detailDesc,\n",
        "    score\n",
        "''', params={'queryVector': query_vector})"
      ],
      "metadata": {
        "id": "pRTY5LnPdyXp",
        "outputId": "f1a88b3b-4723-4f0e-b511-107c6ca3f585"
      }
    },
    {
      "cell_type": "markdown",
      "source": [
        "We can also do this with langchain which is a recommended approach going forward.  To do this we use the Neo4jVector class and call the method to sert it up from an existing index in the graph."
      ],
      "metadata": {
        "id": "RLmyZ_5lhTRm"
      }
    },
    {
      "cell_type": "code",
      "source": [
        "##TODO: THis is the right Transition point for langchain...\n",
        "##Do that here and make the rest of the below use it instead of gds.run_cypher"
      ],
      "metadata": {
        "id": "htm1mtIbhfIN"
      },
      "execution_count": 4,
      "outputs": []
    },
    {
      "cell_type": "markdown",
      "source": [
        "## Semantic Search with Context\n",
        "Using Explicit Relationships in EN terprise data"
      ],
      "metadata": {
        "id": "USHCih_afurm"
      }
    },
    {
      "cell_type": "markdown",
      "source": [
        "\n",
        "Above we see how you can use the vector index to find semantic similar products in user searches.  but there is a rich graph full of other information in it. Lets leverage our knowledge graph to make this better"
      ],
      "metadata": {
        "collapsed": false,
        "id": "xq1K1874dyXp"
      }
    },
    {
      "cell_type": "markdown",
      "source": [
        "An important piece of information expressed in this graph, but not directly in the documents, is customer purchasing behavior.  We can use A Cypher Query to make recommendations without any document behavior. this is similar to collaborative filtering but generalized to purchase history (not necessarily rating based)"
      ],
      "metadata": {
        "collapsed": false,
        "id": "QdiPqIq2dyXp"
      }
    },
    {
      "cell_type": "markdown",
      "source": [
        "#### Example Purchase History"
      ],
      "metadata": {
        "id": "G4ghIv8miXrt"
      }
    },
    {
      "cell_type": "markdown",
      "source": [
        "Consider the below customer"
      ],
      "metadata": {
        "collapsed": false,
        "id": "DQCdy6jXdyXp"
      }
    },
    {
      "cell_type": "code",
      "execution_count": null,
      "outputs": [
        {
          "data": {
            "text/plain": "    productCode                     prodName  productTypeName  \\\n0        569974         DONT USE ROLAND HOOD           Hoodie   \n1        557247                Petar Sweater          Sweater   \n2        753724                     Rosemary            Dress   \n3        733027                         Tove              Top   \n4        713577                 Malte r-neck          Sweater   \n5        687016                   DORIS CREW          Sweater   \n6        731142             Lead Superskinny         Trousers   \n7        688537  Simple as that Cheeky Tanga  Swimwear bottom   \n8        606711               Rylee flatform   Heeled sandals   \n9        642498           Bubble Bum Bandeau       Bikini top   \n10       752193                        Banks           Hoodie   \n11       244267                  Silver lake          Sweater   \n12       557246                   Hood W Zip           Hoodie   \n13       620425               Karin headband         Hairband   \n14       640129                Eden SP Andes              Bra   \n15       662328                     Survivor           Blouse   \n16       682848    Skinny  RW Ankle Milo Zip         Trousers   \n17       660519            Haven back detail              Bra   \n18       656401               PASTRY SWEATER          Sweater   \n19       598806                    Dixie tee          T-shirt   \n20       511924             Leona Push Mirny              Bra   \n21       691072             JEKYL SWEATSHIRT          Sweater   \n22       585480         Adore strapless push              Bra   \n\n     garmentGroupName                                         detailDesc  \\\n0        Jersey Basic  Top in sweatshirt fabric with a lined drawstri...   \n1        Jersey Basic  Oversized top in sturdy sweatshirt fabric with...   \n2      Dresses Ladies  Short dress in woven fabric with 3/4-length sl...   \n3        Jersey Fancy  Short top in soft cotton jersey with a round n...   \n4            Knitwear  Jumper in soft, patterned, fine-knit cotton wi...   \n5        Jersey Fancy  Top in sweatshirt fabric with a motif on the f...   \n6            Trousers  Chinos in stretch twill with a zip fly and but...   \n7            Swimwear  Fully lined bikini bottoms with a mid waist an...   \n8               Shoes  Sandals with imitation suede straps, an elasti...   \n9            Swimwear  Fully lined bandeau bikini top with padded cup...   \n10       Jersey Basic  Long-sleeved top in sweatshirt fabric made fro...   \n11           Knitwear  Purl-knit jumper in a cotton blend with a slig...   \n12       Jersey Basic  Long-sleeved jacket in sweatshirt fabric with ...   \n13        Accessories  Wide hairband in cotton jersey with a twisted ...   \n14  Under-, Nightwear  Super push-up bra in lace with underwired, thi...   \n15            Blouses  Straight-cut blouse in a crêpe weave with a co...   \n16     Trousers Denim  5-pocket, ankle-length jeans in washed stretch...   \n17  Under-, Nightwear  Push-up bra in lace and mesh with underwired, ...   \n18           Knitwear  Jumper in soft, textured-knit cotton with long...   \n19       Jersey Fancy  Short top in soft cotton jersey with short sle...   \n20  Under-, Nightwear  Push-up bra in lace and mesh with underwired, ...   \n21       Jersey Basic  Top in sweatshirt fabric with long raglan slee...   \n22  Under-, Nightwear  Strapless balconette bra in microfibre with un...   \n\n    purchaseCount  \n0               2  \n1               2  \n2               1  \n3               1  \n4               1  \n5               1  \n6               1  \n7               1  \n8               1  \n9               1  \n10              1  \n11              1  \n12              1  \n13              1  \n14              1  \n15              1  \n16              1  \n17              1  \n18              1  \n19              1  \n20              1  \n21              1  \n22              1  ",
            "text/html": "<div>\n<style scoped>\n    .dataframe tbody tr th:only-of-type {\n        vertical-align: middle;\n    }\n\n    .dataframe tbody tr th {\n        vertical-align: top;\n    }\n\n    .dataframe thead th {\n        text-align: right;\n    }\n</style>\n<table border=\"1\" class=\"dataframe\">\n  <thead>\n    <tr style=\"text-align: right;\">\n      <th></th>\n      <th>productCode</th>\n      <th>prodName</th>\n      <th>productTypeName</th>\n      <th>garmentGroupName</th>\n      <th>detailDesc</th>\n      <th>purchaseCount</th>\n    </tr>\n  </thead>\n  <tbody>\n    <tr>\n      <th>0</th>\n      <td>569974</td>\n      <td>DONT USE ROLAND HOOD</td>\n      <td>Hoodie</td>\n      <td>Jersey Basic</td>\n      <td>Top in sweatshirt fabric with a lined drawstri...</td>\n      <td>2</td>\n    </tr>\n    <tr>\n      <th>1</th>\n      <td>557247</td>\n      <td>Petar Sweater</td>\n      <td>Sweater</td>\n      <td>Jersey Basic</td>\n      <td>Oversized top in sturdy sweatshirt fabric with...</td>\n      <td>2</td>\n    </tr>\n    <tr>\n      <th>2</th>\n      <td>753724</td>\n      <td>Rosemary</td>\n      <td>Dress</td>\n      <td>Dresses Ladies</td>\n      <td>Short dress in woven fabric with 3/4-length sl...</td>\n      <td>1</td>\n    </tr>\n    <tr>\n      <th>3</th>\n      <td>733027</td>\n      <td>Tove</td>\n      <td>Top</td>\n      <td>Jersey Fancy</td>\n      <td>Short top in soft cotton jersey with a round n...</td>\n      <td>1</td>\n    </tr>\n    <tr>\n      <th>4</th>\n      <td>713577</td>\n      <td>Malte r-neck</td>\n      <td>Sweater</td>\n      <td>Knitwear</td>\n      <td>Jumper in soft, patterned, fine-knit cotton wi...</td>\n      <td>1</td>\n    </tr>\n    <tr>\n      <th>5</th>\n      <td>687016</td>\n      <td>DORIS CREW</td>\n      <td>Sweater</td>\n      <td>Jersey Fancy</td>\n      <td>Top in sweatshirt fabric with a motif on the f...</td>\n      <td>1</td>\n    </tr>\n    <tr>\n      <th>6</th>\n      <td>731142</td>\n      <td>Lead Superskinny</td>\n      <td>Trousers</td>\n      <td>Trousers</td>\n      <td>Chinos in stretch twill with a zip fly and but...</td>\n      <td>1</td>\n    </tr>\n    <tr>\n      <th>7</th>\n      <td>688537</td>\n      <td>Simple as that Cheeky Tanga</td>\n      <td>Swimwear bottom</td>\n      <td>Swimwear</td>\n      <td>Fully lined bikini bottoms with a mid waist an...</td>\n      <td>1</td>\n    </tr>\n    <tr>\n      <th>8</th>\n      <td>606711</td>\n      <td>Rylee flatform</td>\n      <td>Heeled sandals</td>\n      <td>Shoes</td>\n      <td>Sandals with imitation suede straps, an elasti...</td>\n      <td>1</td>\n    </tr>\n    <tr>\n      <th>9</th>\n      <td>642498</td>\n      <td>Bubble Bum Bandeau</td>\n      <td>Bikini top</td>\n      <td>Swimwear</td>\n      <td>Fully lined bandeau bikini top with padded cup...</td>\n      <td>1</td>\n    </tr>\n    <tr>\n      <th>10</th>\n      <td>752193</td>\n      <td>Banks</td>\n      <td>Hoodie</td>\n      <td>Jersey Basic</td>\n      <td>Long-sleeved top in sweatshirt fabric made fro...</td>\n      <td>1</td>\n    </tr>\n    <tr>\n      <th>11</th>\n      <td>244267</td>\n      <td>Silver lake</td>\n      <td>Sweater</td>\n      <td>Knitwear</td>\n      <td>Purl-knit jumper in a cotton blend with a slig...</td>\n      <td>1</td>\n    </tr>\n    <tr>\n      <th>12</th>\n      <td>557246</td>\n      <td>Hood W Zip</td>\n      <td>Hoodie</td>\n      <td>Jersey Basic</td>\n      <td>Long-sleeved jacket in sweatshirt fabric with ...</td>\n      <td>1</td>\n    </tr>\n    <tr>\n      <th>13</th>\n      <td>620425</td>\n      <td>Karin headband</td>\n      <td>Hairband</td>\n      <td>Accessories</td>\n      <td>Wide hairband in cotton jersey with a twisted ...</td>\n      <td>1</td>\n    </tr>\n    <tr>\n      <th>14</th>\n      <td>640129</td>\n      <td>Eden SP Andes</td>\n      <td>Bra</td>\n      <td>Under-, Nightwear</td>\n      <td>Super push-up bra in lace with underwired, thi...</td>\n      <td>1</td>\n    </tr>\n    <tr>\n      <th>15</th>\n      <td>662328</td>\n      <td>Survivor</td>\n      <td>Blouse</td>\n      <td>Blouses</td>\n      <td>Straight-cut blouse in a crêpe weave with a co...</td>\n      <td>1</td>\n    </tr>\n    <tr>\n      <th>16</th>\n      <td>682848</td>\n      <td>Skinny  RW Ankle Milo Zip</td>\n      <td>Trousers</td>\n      <td>Trousers Denim</td>\n      <td>5-pocket, ankle-length jeans in washed stretch...</td>\n      <td>1</td>\n    </tr>\n    <tr>\n      <th>17</th>\n      <td>660519</td>\n      <td>Haven back detail</td>\n      <td>Bra</td>\n      <td>Under-, Nightwear</td>\n      <td>Push-up bra in lace and mesh with underwired, ...</td>\n      <td>1</td>\n    </tr>\n    <tr>\n      <th>18</th>\n      <td>656401</td>\n      <td>PASTRY SWEATER</td>\n      <td>Sweater</td>\n      <td>Knitwear</td>\n      <td>Jumper in soft, textured-knit cotton with long...</td>\n      <td>1</td>\n    </tr>\n    <tr>\n      <th>19</th>\n      <td>598806</td>\n      <td>Dixie tee</td>\n      <td>T-shirt</td>\n      <td>Jersey Fancy</td>\n      <td>Short top in soft cotton jersey with short sle...</td>\n      <td>1</td>\n    </tr>\n    <tr>\n      <th>20</th>\n      <td>511924</td>\n      <td>Leona Push Mirny</td>\n      <td>Bra</td>\n      <td>Under-, Nightwear</td>\n      <td>Push-up bra in lace and mesh with underwired, ...</td>\n      <td>1</td>\n    </tr>\n    <tr>\n      <th>21</th>\n      <td>691072</td>\n      <td>JEKYL SWEATSHIRT</td>\n      <td>Sweater</td>\n      <td>Jersey Basic</td>\n      <td>Top in sweatshirt fabric with long raglan slee...</td>\n      <td>1</td>\n    </tr>\n    <tr>\n      <th>22</th>\n      <td>585480</td>\n      <td>Adore strapless push</td>\n      <td>Bra</td>\n      <td>Under-, Nightwear</td>\n      <td>Strapless balconette bra in microfibre with un...</td>\n      <td>1</td>\n    </tr>\n  </tbody>\n</table>\n</div>"
          },
          "execution_count": 65,
          "metadata": {},
          "output_type": "execute_result"
        }
      ],
      "source": [
        "CUSTOMER_ID = \"daae10780ecd14990ea190a1e9917da33fe96cd8cfa5e80b67b4600171aa77e0\"\n",
        "gds.run_cypher('''\n",
        "    MATCH(c:Customer {customerId: $customerId})-[:PURCHASED]->(:Article)\n",
        "    -[:VARIANT_OF]->(p:Product)\n",
        "    RETURN p.productCode AS productCode,\n",
        "        p.prodName AS prodName,\n",
        "        p.productTypeName AS productTypeName,\n",
        "        p.garmentGroupName AS garmentGroupName,\n",
        "        p.detailDesc AS detailDesc,\n",
        "        count(*) AS purchaseCount\n",
        "    ORDER BY purchaseCount DESC\n",
        "''', params={'customerId': CUSTOMER_ID})"
      ],
      "metadata": {
        "id": "zSTgu7YrdyXp",
        "outputId": "25cd8348-33e2-4b52-d089-1d1d3ee3c9fd"
      }
    },
    {
      "cell_type": "markdown",
      "source": [
        "#### Graph Patterns For Retrieval Query"
      ],
      "metadata": {
        "id": "2o8X9NX9igPm"
      }
    },
    {
      "cell_type": "code",
      "execution_count": null,
      "outputs": [
        {
          "data": {
            "text/plain": "   productCode                     prodName  productTypeName garmentGroupName  \\\n0       685816         RONNY REG RN T-SHIRT          T-shirt     Jersey Basic   \n1       599580       Timeless Midrise Brief  Swimwear bottom         Swimwear   \n2       684209  Simple as That Triangle Top       Bikini top         Swimwear   \n3       685813             PETAR SWEATSHIRT          Sweater     Jersey Basic   \n4       688537  Simple as that Cheeky Tanga  Swimwear bottom         Swimwear   \n5       778064             Claudine t-shirt          T-shirt     Jersey Basic   \n6       685814                  RICHIE HOOD           Hoodie     Jersey Basic   \n7       557247                Petar Sweater          Sweater     Jersey Basic   \n8       448509    Perrie Slim Mom Denim TRS         Trousers         Trousers   \n9       806388                  Therese tee          T-shirt     Jersey Basic   \n\n                                          detailDesc  score  \n0        Round-necked T-shirt in soft cotton jersey.     28  \n1  Fully lined bikini bottoms with a mid waist an...     20  \n2  Lined, non-wired, triangle bikini top with a w...     17  \n3  Top in soft sweatshirt fabric. Slightly looser...     14  \n4  Fully lined bikini bottoms with a mid waist an...     13  \n5  Fitted top in soft organic cotton jersey with ...     12  \n6  Hoodie in sweatshirt fabric made from a cotton...     10  \n7  Oversized top in sturdy sweatshirt fabric with...      9  \n8  5-pocket, ankle-length jeans in washed, sturdy...      9  \n9  Wide T-shirt in soft cotton jersey with a ribb...      8  ",
            "text/html": "<div>\n<style scoped>\n    .dataframe tbody tr th:only-of-type {\n        vertical-align: middle;\n    }\n\n    .dataframe tbody tr th {\n        vertical-align: top;\n    }\n\n    .dataframe thead th {\n        text-align: right;\n    }\n</style>\n<table border=\"1\" class=\"dataframe\">\n  <thead>\n    <tr style=\"text-align: right;\">\n      <th></th>\n      <th>productCode</th>\n      <th>prodName</th>\n      <th>productTypeName</th>\n      <th>garmentGroupName</th>\n      <th>detailDesc</th>\n      <th>score</th>\n    </tr>\n  </thead>\n  <tbody>\n    <tr>\n      <th>0</th>\n      <td>685816</td>\n      <td>RONNY REG RN T-SHIRT</td>\n      <td>T-shirt</td>\n      <td>Jersey Basic</td>\n      <td>Round-necked T-shirt in soft cotton jersey.</td>\n      <td>28</td>\n    </tr>\n    <tr>\n      <th>1</th>\n      <td>599580</td>\n      <td>Timeless Midrise Brief</td>\n      <td>Swimwear bottom</td>\n      <td>Swimwear</td>\n      <td>Fully lined bikini bottoms with a mid waist an...</td>\n      <td>20</td>\n    </tr>\n    <tr>\n      <th>2</th>\n      <td>684209</td>\n      <td>Simple as That Triangle Top</td>\n      <td>Bikini top</td>\n      <td>Swimwear</td>\n      <td>Lined, non-wired, triangle bikini top with a w...</td>\n      <td>17</td>\n    </tr>\n    <tr>\n      <th>3</th>\n      <td>685813</td>\n      <td>PETAR SWEATSHIRT</td>\n      <td>Sweater</td>\n      <td>Jersey Basic</td>\n      <td>Top in soft sweatshirt fabric. Slightly looser...</td>\n      <td>14</td>\n    </tr>\n    <tr>\n      <th>4</th>\n      <td>688537</td>\n      <td>Simple as that Cheeky Tanga</td>\n      <td>Swimwear bottom</td>\n      <td>Swimwear</td>\n      <td>Fully lined bikini bottoms with a mid waist an...</td>\n      <td>13</td>\n    </tr>\n    <tr>\n      <th>5</th>\n      <td>778064</td>\n      <td>Claudine t-shirt</td>\n      <td>T-shirt</td>\n      <td>Jersey Basic</td>\n      <td>Fitted top in soft organic cotton jersey with ...</td>\n      <td>12</td>\n    </tr>\n    <tr>\n      <th>6</th>\n      <td>685814</td>\n      <td>RICHIE HOOD</td>\n      <td>Hoodie</td>\n      <td>Jersey Basic</td>\n      <td>Hoodie in sweatshirt fabric made from a cotton...</td>\n      <td>10</td>\n    </tr>\n    <tr>\n      <th>7</th>\n      <td>557247</td>\n      <td>Petar Sweater</td>\n      <td>Sweater</td>\n      <td>Jersey Basic</td>\n      <td>Oversized top in sturdy sweatshirt fabric with...</td>\n      <td>9</td>\n    </tr>\n    <tr>\n      <th>8</th>\n      <td>448509</td>\n      <td>Perrie Slim Mom Denim TRS</td>\n      <td>Trousers</td>\n      <td>Trousers</td>\n      <td>5-pocket, ankle-length jeans in washed, sturdy...</td>\n      <td>9</td>\n    </tr>\n    <tr>\n      <th>9</th>\n      <td>806388</td>\n      <td>Therese tee</td>\n      <td>T-shirt</td>\n      <td>Jersey Basic</td>\n      <td>Wide T-shirt in soft cotton jersey with a ribb...</td>\n      <td>8</td>\n    </tr>\n  </tbody>\n</table>\n</div>"
          },
          "execution_count": 66,
          "metadata": {},
          "output_type": "execute_result"
        }
      ],
      "source": [
        "# This is the example Pattern we can use to predict likely customer preferencenes based on collaborative behavior\n",
        "#TODO: Should we be filtering this somehow for best practice\n",
        "gds.run_cypher('''\n",
        "    MATCH(c:Customer {customerId: $customerId})-[:PURCHASED]->(:Article)\n",
        "    <-[:PURCHASED]-(:Customer)-[:PURCHASED]->(:Article)\n",
        "    -[:VARIANT_OF]->(p:Product)\n",
        "    RETURN p.productCode AS productCode,\n",
        "        p.prodName AS prodName,\n",
        "        p.productTypeName AS productTypeName,\n",
        "        p.garmentGroupName AS garmentGroupName,\n",
        "        p.detailDesc AS detailDesc,\n",
        "        count(*) AS score\n",
        "    ORDER BY score DESC LIMIT 10\n",
        "''', params={'customerId': CUSTOMER_ID})"
      ],
      "metadata": {
        "id": "J1YY_a99dyXp",
        "outputId": "6c61249b-5295-42ba-abad-9ac8f70dccb8"
      }
    },
    {
      "cell_type": "code",
      "execution_count": null,
      "outputs": [
        {
          "data": {
            "text/plain": "               prodName                                         detailDesc  \\\n0         Petar Sweater  Oversized top in sturdy sweatshirt fabric with...   \n1         Queen Sweater  Top in lightweight sweatshirt fabric with ribb...   \n2      Jess oversize LS  Oversized top in soft jersey made from a cotto...   \n3             SISTER OL  Off-the-shoulder top in sweatshirt fabric with...   \n4          Salt Sweater  Long top in soft sweatshirt fabric with a ribb...   \n5           Papaya Hood  Oversized jacket in soft sweatshirt fabric wit...   \n6                 Ridge  Oversized jumper in a soft knit with a deep V-...   \n7            Dolly hood  Oversized top in soft sweatshirt fabric with a...   \n8         Allen Sweater  Top in sweatshirt fabric made from a cotton bl...   \n9  Annie Oversized Hood  Oversized top in sweatshirt fabric with a line...   \n\n   searchScore  purchaseHistoryScore  \n0     0.938940                     9  \n1     0.927906                     7  \n2     0.930035                     3  \n3     0.927986                     1  \n4     0.929883                     1  \n5     0.928753                     1  \n6     0.930296                     1  \n7     0.934544                     1  \n8     0.931057                     1  \n9     0.933388                     1  ",
            "text/html": "<div>\n<style scoped>\n    .dataframe tbody tr th:only-of-type {\n        vertical-align: middle;\n    }\n\n    .dataframe tbody tr th {\n        vertical-align: top;\n    }\n\n    .dataframe thead th {\n        text-align: right;\n    }\n</style>\n<table border=\"1\" class=\"dataframe\">\n  <thead>\n    <tr style=\"text-align: right;\">\n      <th></th>\n      <th>prodName</th>\n      <th>detailDesc</th>\n      <th>searchScore</th>\n      <th>purchaseHistoryScore</th>\n    </tr>\n  </thead>\n  <tbody>\n    <tr>\n      <th>0</th>\n      <td>Petar Sweater</td>\n      <td>Oversized top in sturdy sweatshirt fabric with...</td>\n      <td>0.938940</td>\n      <td>9</td>\n    </tr>\n    <tr>\n      <th>1</th>\n      <td>Queen Sweater</td>\n      <td>Top in lightweight sweatshirt fabric with ribb...</td>\n      <td>0.927906</td>\n      <td>7</td>\n    </tr>\n    <tr>\n      <th>2</th>\n      <td>Jess oversize LS</td>\n      <td>Oversized top in soft jersey made from a cotto...</td>\n      <td>0.930035</td>\n      <td>3</td>\n    </tr>\n    <tr>\n      <th>3</th>\n      <td>SISTER OL</td>\n      <td>Off-the-shoulder top in sweatshirt fabric with...</td>\n      <td>0.927986</td>\n      <td>1</td>\n    </tr>\n    <tr>\n      <th>4</th>\n      <td>Salt Sweater</td>\n      <td>Long top in soft sweatshirt fabric with a ribb...</td>\n      <td>0.929883</td>\n      <td>1</td>\n    </tr>\n    <tr>\n      <th>5</th>\n      <td>Papaya Hood</td>\n      <td>Oversized jacket in soft sweatshirt fabric wit...</td>\n      <td>0.928753</td>\n      <td>1</td>\n    </tr>\n    <tr>\n      <th>6</th>\n      <td>Ridge</td>\n      <td>Oversized jumper in a soft knit with a deep V-...</td>\n      <td>0.930296</td>\n      <td>1</td>\n    </tr>\n    <tr>\n      <th>7</th>\n      <td>Dolly hood</td>\n      <td>Oversized top in soft sweatshirt fabric with a...</td>\n      <td>0.934544</td>\n      <td>1</td>\n    </tr>\n    <tr>\n      <th>8</th>\n      <td>Allen Sweater</td>\n      <td>Top in sweatshirt fabric made from a cotton bl...</td>\n      <td>0.931057</td>\n      <td>1</td>\n    </tr>\n    <tr>\n      <th>9</th>\n      <td>Annie Oversized Hood</td>\n      <td>Oversized top in sweatshirt fabric with a line...</td>\n      <td>0.933388</td>\n      <td>1</td>\n    </tr>\n  </tbody>\n</table>\n</div>"
          },
          "execution_count": 97,
          "metadata": {},
          "output_type": "execute_result"
        }
      ],
      "source": [
        "# Query for customers who are most interested in products that match query\n",
        "gds.run_cypher('''\n",
        "CALL db.index.vector.queryNodes(\"product-text-embeddings\", 100, $queryVector)\n",
        "YIELD node AS product, score AS searchScore\n",
        "    OPTIONAL MATCH(product)<-[:VARIANT_OF]-(:Article)<-[:PURCHASED]-(:Customer)\n",
        "    -[:PURCHASED]->(a:Article)<-[:PURCHASED]-(:Customer {customerId: $customerId})\n",
        "RETURN product.prodName AS prodName,\n",
        "    product.detailDesc AS detailDesc,\n",
        "    searchScore,\n",
        "    count(a) AS purchaseHistoryScore\n",
        "ORDER BY purchaseHistoryScore DESC LIMIT 10\n",
        "''', params={'queryVector': embedding_model.embed_query(\"Oversized Sweater\"), 'customerId': CUSTOMER_ID})"
      ],
      "metadata": {
        "id": "rQMP6rtydyXp",
        "outputId": "bba09eca-13ac-4aa9-d152-a0224a423e64"
      }
    },
    {
      "cell_type": "markdown",
      "source": [
        "## KG Powered Inference for AI\n",
        "\n",
        "We saw before how could use graph pattern matching to personalize search and make it more relevant.\n",
        "\n",
        "TODO: We also saw how we could use similar tools to power semantic search and analytics on entities connected to documents\n",
        "\n",
        "Graph pattern matching is very power and can work well in a lot of scenarios.\n",
        "\n",
        "In addition to this, we also have Graph Data Science, which can allow as to enrich the current Knowledge graph with machine learning, that can\n",
        "1. Provide addition information to improve relvancy of search results at scale\n",
        "2. Provide additional inferences to GenAI\n",
        "\n",
        "We will show an example of how this works using Node Embedding and K-Nearest Neighbor algorithms\n",
        "\n",
        "TODO: Motivation around GML approach here....how it can scale, relationship ti KGC/link porediction.  This is a simple unsupervised approach.  You can expand on this and refine it more."
      ],
      "metadata": {
        "collapsed": false,
        "id": "t55maEsfdyXp"
      }
    },
    {
      "cell_type": "markdown",
      "source": [
        "### Embedding and KNN"
      ],
      "metadata": {
        "collapsed": false,
        "id": "gm0M6TsidyXp"
      }
    },
    {
      "cell_type": "code",
      "execution_count": null,
      "outputs": [],
      "source": [
        "pd.set_option('display.max_rows', 12)\n",
        "pd.set_option('display.max_colwidth', 500)\n",
        "pd.set_option('display.width', 0)"
      ],
      "metadata": {
        "id": "pfSOEBrLdyXp"
      }
    },
    {
      "cell_type": "code",
      "execution_count": null,
      "outputs": [],
      "source": [
        "def clear_all_graphs():\n",
        "    g_names = gds.graph.list().graphName.tolist()\n",
        "    for g_name in g_names:\n",
        "        g = gds.graph.get(g_name)\n",
        "        g.drop()"
      ],
      "metadata": {
        "id": "OKIFwRlydyXp"
      }
    },
    {
      "cell_type": "markdown",
      "source": [
        "#### Clear Past Analysis (If rerunning this Notebook)"
      ],
      "metadata": {
        "collapsed": false,
        "id": "fzwUJMfYdyXp"
      }
    },
    {
      "cell_type": "code",
      "execution_count": null,
      "outputs": [],
      "source": [
        "clear_all_graphs()"
      ],
      "metadata": {
        "id": "gRN0RJuZdyXp"
      }
    },
    {
      "cell_type": "code",
      "execution_count": null,
      "outputs": [
        {
          "data": {
            "text/plain": "Empty DataFrame\nColumns: []\nIndex: []",
            "text/html": "<div>\n<style scoped>\n    .dataframe tbody tr th:only-of-type {\n        vertical-align: middle;\n    }\n\n    .dataframe tbody tr th {\n        vertical-align: top;\n    }\n\n    .dataframe thead th {\n        text-align: right;\n    }\n</style>\n<table border=\"1\" class=\"dataframe\">\n  <thead>\n    <tr style=\"text-align: right;\">\n      <th></th>\n    </tr>\n  </thead>\n  <tbody>\n  </tbody>\n</table>\n</div>"
          },
          "execution_count": 121,
          "metadata": {},
          "output_type": "execute_result"
        }
      ],
      "source": [
        "gds.run_cypher('''\n",
        "    MATCH(:Article)-[r:CUSTOMERS_ALSO_PURCHASED]->()\n",
        "    CALL {\n",
        "        WITH r\n",
        "        DELETE r\n",
        "    } IN TRANSACTIONS OF 1000 ROWS\n",
        "    ''')"
      ],
      "metadata": {
        "id": "WhnX3y1kdyXp",
        "outputId": "1a3cf090-f643-456c-9bf6-5c3d434957ce"
      }
    },
    {
      "cell_type": "markdown",
      "source": [
        "#### Apply GDS FastRP Node Embeddings and K-Nearest Neighbor (KNN) Similarity"
      ],
      "metadata": {
        "collapsed": false,
        "id": "NAgt16h-dyXp"
      }
    },
    {
      "cell_type": "markdown",
      "source": [
        "First, apply a graph projection to structure the portion of the graph we need in an optimized in-memory format for graph ML."
      ],
      "metadata": {
        "collapsed": false,
        "id": "OH74FkdidyXp"
      }
    },
    {
      "cell_type": "code",
      "execution_count": null,
      "outputs": [
        {
          "name": "stdout",
          "output_type": "stream",
          "text": [
            "CPU times: user 2.2 ms, sys: 1.31 ms, total: 3.51 ms\n",
            "Wall time: 431 ms\n"
          ]
        }
      ],
      "source": [
        "%%time\n",
        "# graph projection\n",
        "g, _ = gds.graph.project('proj',['Customer', 'Article', 'Product'],\n",
        "                         {'PURCHASED':{'orientation':'UNDIRECTED'}, 'VARIANT_OF':{'orientation':'UNDIRECTED'}},\n",
        "                         readConcurrency=4)"
      ],
      "metadata": {
        "id": "3RVAm_cpdyXp",
        "outputId": "a7e1fba8-abfa-4179-cfcf-964955f70ae9"
      }
    },
    {
      "cell_type": "markdown",
      "source": [
        "Next, we will generate node embeddings for similarity calculation.  In this case, we will use FastRP (Fast Random Projection) which is a fast, scalable, and robust embedding algorithm. FastRP calculates embeddings using probabilistic sampling and linear algebra."
      ],
      "metadata": {
        "collapsed": false,
        "id": "g9fF7LjPdyXq"
      }
    },
    {
      "cell_type": "code",
      "execution_count": null,
      "outputs": [
        {
          "name": "stdout",
          "output_type": "stream",
          "text": [
            "CPU times: user 4.06 ms, sys: 1.65 ms, total: 5.71 ms\n",
            "Wall time: 4.27 s\n"
          ]
        },
        {
          "data": {
            "text/plain": "writeMillis                 1358\ngraphName                   proj\nnodeProperties       [embedding]\npropertiesWritten          21596\nName: 0, dtype: object"
          },
          "execution_count": 123,
          "metadata": {},
          "output_type": "execute_result"
        }
      ],
      "source": [
        "%%time\n",
        "# embeddings (writing back Article embeddings in case we want to introspect later)\n",
        "gds.fastRP.mutate(g, mutateProperty='embedding', embeddingDimension=128, randomSeed=7474, concurrency=4)\n",
        "gds.graph.writeNodeProperties(g, ['embedding'], ['Article'])"
      ],
      "metadata": {
        "id": "vhcVnqWvdyXq",
        "outputId": "435c1ebb-ffaf-4488-f488-78e08d23e432"
      }
    },
    {
      "cell_type": "markdown",
      "source": [
        "This is what the node embeddings look like:"
      ],
      "metadata": {
        "collapsed": false,
        "id": "0IJsuzIRdyXq"
      }
    },
    {
      "cell_type": "code",
      "execution_count": null,
      "outputs": [
        {
          "data": {
            "text/plain": "   n.articleId  \\\n0    108775015   \n1    108775044   \n2    110065001   \n\n                                                                                                                                                                                                                                                                                                                                                                                                                                                                                                           n.embedding  \n0  [0.07331004738807678, 0.17926183342933655, -0.07301197201013565, -0.049210064113140106, 0.16503135859966278, -0.15523408353328705, -0.10822394490242004, -0.02722267620265484, 0.014662966132164001, 0.180541530251503, -0.08186649531126022, 0.23589280247688293, -0.1366392821073532, 0.11961854994297028, -0.02922603115439415, 0.04286094754934311, 0.04672681540250778, 0.086881123483181, -0.08363135904073715, -0.05791114270687103, -0.07598546147346497, 0.009629392065107822, -0.014021783135831356, 0...  \n1  [0.07349064946174622, 0.0967743992805481, -0.038152799010276794, -0.07673473656177521, 0.22684209048748016, -0.0060753063298761845, 0.16888433694839478, -0.11225447058677673, 0.09668536484241486, 0.03443354740738869, -0.0913434624671936, 0.14213915169239044, -0.1980677992105484, 0.15377040207386017, -0.1279836893081665, -0.03599829971790314, -0.0967002660036087, 0.14265014231204987, 0.03261440247297287, -0.11126242578029633, 0.06963685154914856, 0.2129615694284439, 0.006723809987306595, 0.12...  \n2  [-0.044018954038619995, 0.08427691459655762, -0.02065543830394745, 0.09351789951324463, -0.14247480034828186, -0.07779307663440704, -0.08055605739355087, 0.05282197892665863, 0.10809334367513657, -0.10579649358987808, -0.09285050630569458, 0.005664631258696318, 0.012895558029413223, -0.24933193624019623, -0.042424216866493225, 0.18484896421432495, -0.1699368953704834, -0.012699112296104431, 0.08738791197538376, -0.0476275309920311, 0.012392558157444, 0.024528082460165024, 0.080563485622406, ...  ",
            "text/html": "<div>\n<style scoped>\n    .dataframe tbody tr th:only-of-type {\n        vertical-align: middle;\n    }\n\n    .dataframe tbody tr th {\n        vertical-align: top;\n    }\n\n    .dataframe thead th {\n        text-align: right;\n    }\n</style>\n<table border=\"1\" class=\"dataframe\">\n  <thead>\n    <tr style=\"text-align: right;\">\n      <th></th>\n      <th>n.articleId</th>\n      <th>n.embedding</th>\n    </tr>\n  </thead>\n  <tbody>\n    <tr>\n      <th>0</th>\n      <td>108775015</td>\n      <td>[0.07331004738807678, 0.17926183342933655, -0.07301197201013565, -0.049210064113140106, 0.16503135859966278, -0.15523408353328705, -0.10822394490242004, -0.02722267620265484, 0.014662966132164001, 0.180541530251503, -0.08186649531126022, 0.23589280247688293, -0.1366392821073532, 0.11961854994297028, -0.02922603115439415, 0.04286094754934311, 0.04672681540250778, 0.086881123483181, -0.08363135904073715, -0.05791114270687103, -0.07598546147346497, 0.009629392065107822, -0.014021783135831356, 0...</td>\n    </tr>\n    <tr>\n      <th>1</th>\n      <td>108775044</td>\n      <td>[0.07349064946174622, 0.0967743992805481, -0.038152799010276794, -0.07673473656177521, 0.22684209048748016, -0.0060753063298761845, 0.16888433694839478, -0.11225447058677673, 0.09668536484241486, 0.03443354740738869, -0.0913434624671936, 0.14213915169239044, -0.1980677992105484, 0.15377040207386017, -0.1279836893081665, -0.03599829971790314, -0.0967002660036087, 0.14265014231204987, 0.03261440247297287, -0.11126242578029633, 0.06963685154914856, 0.2129615694284439, 0.006723809987306595, 0.12...</td>\n    </tr>\n    <tr>\n      <th>2</th>\n      <td>110065001</td>\n      <td>[-0.044018954038619995, 0.08427691459655762, -0.02065543830394745, 0.09351789951324463, -0.14247480034828186, -0.07779307663440704, -0.08055605739355087, 0.05282197892665863, 0.10809334367513657, -0.10579649358987808, -0.09285050630569458, 0.005664631258696318, 0.012895558029413223, -0.24933193624019623, -0.042424216866493225, 0.18484896421432495, -0.1699368953704834, -0.012699112296104431, 0.08738791197538376, -0.0476275309920311, 0.012392558157444, 0.024528082460165024, 0.080563485622406, ...</td>\n    </tr>\n  </tbody>\n</table>\n</div>"
          },
          "execution_count": 124,
          "metadata": {},
          "output_type": "execute_result"
        }
      ],
      "source": [
        "gds.run_cypher('MATCH(n:Article) RETURN n.articleId, n.embedding LIMIT 3')"
      ],
      "metadata": {
        "id": "35pfsqVwdyXq",
        "outputId": "395546a6-f185-4b82-eac2-275567b8389e"
      }
    },
    {
      "cell_type": "markdown",
      "source": [
        "Finally, we can do our similarity inference with K-Nearest Neighbor (KNN) and write back to the graph.\n",
        "We will use a slightly low cutoff of 0.75 similarity score to extend the result size for exploration.  We can provide a higher cutoff at query time if needed."
      ],
      "metadata": {
        "collapsed": false,
        "id": "5IKxoklYdyXq"
      }
    },
    {
      "cell_type": "code",
      "execution_count": null,
      "outputs": [
        {
          "data": {
            "text/plain": "Knn:   0%|          | 0/100 [00:00<?, ?%/s]",
            "application/vnd.jupyter.widget-view+json": {
              "version_major": 2,
              "version_minor": 0,
              "model_id": "c163a622e5d94fdd80f125b8fd4bf83a"
            }
          },
          "metadata": {},
          "output_type": "display_data"
        },
        {
          "name": "stdout",
          "output_type": "stream",
          "text": [
            "CPU times: user 1.07 s, sys: 220 ms, total: 1.29 s\n",
            "Wall time: 1min 30s\n"
          ]
        },
        {
          "data": {
            "text/plain": "ranIterations                                                                                                                                                                                                                                                                                                                                                                                                                                                                                                          91\ndidConverge                                                                                                                                                                                                                                                                                                                                                                                                                                                                                                          True\nnodePairsConsidered                                                                                                                                                                                                                                                                                                                                                                                                                                                                                              34278798\npreProcessingMillis                                                                                                                                                                                                                                                                                                                                                                                                                                                                                                     0\ncomputeMillis                                                                                                                                                                                                                                                                                                                                                                                                                                                                                                       68737\nwriteMillis                                                                                                                                                                                                                                                                                                                                                                                                                                                                                                         21926\npostProcessingMillis                                                                                                                                                                                                                                                                                                                                                                                                                                                                                                   -1\nnodesCompared                                                                                                                                                                                                                                                                                                                                                                                                                                                                                                       21596\nrelationshipsWritten                                                                                                                                                                                                                                                                                                                                                                                                                                                                                               215960\nsimilarityDistribution                                                                                                         {'min': 0.6011199951171875, 'p5': 0.6445426940917969, 'max': 1.0000038146972656, 'p99': 0.929962158203125, 'p1': 0.6240577697753906, 'p10': 0.6940841674804688, 'p90': 0.8680191040039062, 'p50': 0.805267333984375, 'p25': 0.7549591064453125, 'p75': 0.847259521484375, 'p95': 0.878387451171875, 'mean': 0.7942007574246401, 'p100': 1.0000038146972656, 'stdDev': 0.06950960202574713}\nconfiguration             {'writeProperty': 'score', 'writeRelationshipType': 'CUSTOMERS_ALSO_PURCHASED', 'jobId': '7a0077ac-023f-4e9d-8c58-c51dbda6dc1d', 'deltaThreshold': 0.001, 'topK': 10, 'similarityCutoff': 0.0, 'perturbationRate': 0.0, 'sudo': False, 'maxIterations': 100, 'writeConcurrency': 4, 'sampleRate': 0.5, 'initialSampler': 'UNIFORM', 'nodeProperties': {'embedding': 'COSINE'}, 'logProgress': True, 'nodeLabels': ['Article'], 'randomJoins': 10, 'concurrency': 4, 'relationshipTypes': ['*']}\nName: 0, dtype: object"
          },
          "execution_count": 125,
          "metadata": {},
          "output_type": "execute_result"
        }
      ],
      "source": [
        "%%time\n",
        "# KNN\n",
        "_ = gds.knn.write(g, nodeProperties=['embedding'], nodeLabels=['Article'],\n",
        "              writeRelationshipType='CUSTOMERS_ALSO_PURCHASED', writeProperty='score',\n",
        "             # sampleRate=1.0,maxIterations=1000,similarityCutoff=0.75,\n",
        "              concurrency=4)\n",
        "_"
      ],
      "metadata": {
        "colab": {
          "referenced_widgets": [
            "c163a622e5d94fdd80f125b8fd4bf83a"
          ]
        },
        "id": "bpuDKk6hdyXq",
        "outputId": "c720a55c-0851-4882-8c6c-cff8edba5f68"
      }
    },
    {
      "cell_type": "code",
      "execution_count": null,
      "outputs": [
        {
          "data": {
            "text/plain": "graphName                                                                                                                                                                                                                                                                                                                                                                                                                                                                                                                               proj\ndatabase                                                                                                                                                                                                                                                                                                                                                                                                                                                                                                                               neo4j\nmemoryUsage                                                                                                                                                                                                                                                                                                                                                                                                                                                                                                                                 \nsizeInBytes                                                                                                                                                                                                                                                                                                                                                                                                                                                                                                                               -1\nnodeCount                                                                                                                                                                                                                                                                                                                                                                                                                                                                                                                              35654\nrelationshipCount                                                                                                                                                                                                                                                                                                                                                                                                                                                                                                                     125412\nconfiguration            {'relationshipProjection': {'PURCHASED': {'aggregation': 'DEFAULT', 'orientation': 'UNDIRECTED', 'indexInverse': False, 'properties': {}, 'type': 'PURCHASED'}, 'VARIANT_OF': {'aggregation': 'DEFAULT', 'orientation': 'UNDIRECTED', 'indexInverse': False, 'properties': {}, 'type': 'VARIANT_OF'}}, 'readConcurrency': 4, 'relationshipProperties': {}, 'nodeProperties': {}, 'jobId': 'de92c3f2-dd95-4c5e-bfa9-f9031abca105', 'nodeProjection': {'Customer': {'label': 'Customer', 'properties': {}}, 'Produ...\ndensity                                                                                                                                                                                                                                                                                                                                                                                                                                                                                                                             0.000099\ncreationTime                                                                                                                                                                                                                                                                                                                                                                                                                                                                                             2023-11-09T23:01:09.633804040+00:00\nmodificationTime                                                                                                                                                                                                                                                                                                                                                                                                                                                                                         2023-11-09T23:01:13.053115914+00:00\nschema                                                                                                                                                                                                            {'graphProperties': {}, 'nodes': {'Customer': {'embedding': 'List of Float (DefaultValue(null), TRANSIENT)'}, 'Product': {'embedding': 'List of Float (DefaultValue(null), TRANSIENT)'}, 'Article': {'embedding': 'List of Float (DefaultValue(null), TRANSIENT)'}}, 'relationships': {'PURCHASED': {}, 'VARIANT_OF': {}}}\nschemaWithOrientation                                                                                                       {'graphProperties': {}, 'nodes': {'Customer': {'embedding': 'List of Float (DefaultValue(null), TRANSIENT)'}, 'Product': {'embedding': 'List of Float (DefaultValue(null), TRANSIENT)'}, 'Article': {'embedding': 'List of Float (DefaultValue(null), TRANSIENT)'}}, 'relationships': {'PURCHASED': {'direction': 'UNDIRECTED', 'properties': {}}, 'VARIANT_OF': {'direction': 'UNDIRECTED', 'properties': {}}}}\nName: 0, dtype: object"
          },
          "execution_count": 126,
          "metadata": {},
          "output_type": "execute_result"
        }
      ],
      "source": [
        "# clear graph projection once done\n",
        "g.drop()"
      ],
      "metadata": {
        "id": "ZP3C-w1fdyXq",
        "outputId": "3e98e7d3-699f-475f-934a-194175294b12"
      }
    },
    {
      "cell_type": "markdown",
      "source": [
        "### Recommendations Based on Search Prompt"
      ],
      "metadata": {
        "collapsed": false,
        "id": "LZtZwzrkdyXq"
      }
    },
    {
      "cell_type": "code",
      "execution_count": null,
      "outputs": [],
      "source": [
        "search_res_df = gds.run_cypher('''\n",
        "CALL db.index.vector.queryNodes(\"product-text-embeddings\", 10, $queryVector)\n",
        "YIELD node AS product, score\n",
        "RETURN product.prodName AS prodName,\n",
        "    product.productTypeName AS productTypeName,\n",
        "    product.garmentGroupName AS garmentGroupName,\n",
        "    product.detailDesc AS detailDesc,\n",
        "    score\n",
        "    ORDER BY score DESC\n",
        "''', params={'queryVector': query_vector})"
      ],
      "metadata": {
        "id": "AJgPgGjUdyXq"
      }
    },
    {
      "cell_type": "code",
      "execution_count": null,
      "outputs": [],
      "source": [
        "recommendation_res_df =gds.run_cypher('''\n",
        "CALL db.index.vector.queryNodes(\"product-text-embeddings\", 5, $queryVector)\n",
        "YIELD node AS search_res_product, score AS search_score\n",
        "MATCH(search_res_product)<-[:VARIANT_OF]-(a0)-[s:CUSTOMERS_ALSO_PURCHASED]->(a)-[:VARIANT_OF]-(p)\n",
        "WITH p.prodName AS prodName,\n",
        "    p.productTypeName AS productTypeName,\n",
        "    p.garmentGroupName AS garmentGroupName,\n",
        "    p.detailDesc AS detailDesc,\n",
        "    sum(s.score) AS aggScore,\n",
        "    sum(search_score) AS search_score\n",
        "RETURN prodName, productTypeName, garmentGroupName, search_score*aggScore AS score, detailDesc\n",
        "    ORDER BY aggScore DESC LIMIT 10\n",
        "''', params={'queryVector': query_vector})"
      ],
      "metadata": {
        "id": "mx28uIY9dyXq"
      }
    },
    {
      "cell_type": "code",
      "execution_count": null,
      "outputs": [
        {
          "name": "stdout",
          "output_type": "stream",
          "text": [
            "User Search Prompt: \"winter sweater with zipper\"\n",
            "\n",
            "\n",
            "Search Results:\n",
            "\n"
          ]
        },
        {
          "data": {
            "text/plain": "                  prodName productTypeName garmentGroupName  \\\n0              Catfish Zip         Sweater         Knitwear   \n1             Yolo Zip L/S         Sweater         Knitwear   \n2  BANANA HALF ZIP SWEATER         Sweater         Knitwear   \n3           Ben zip hoodie         Sweater         Knitwear   \n4   Raven Half Zip Sweater         Sweater     Jersey Fancy   \n5         Southern Sweater         Sweater         Knitwear   \n6   Zorro half-zip sweater         Sweater     Jersey Basic   \n7  BAY BLOCK STRIPE ZIP-UP         Sweater         Knitwear   \n8              Yolo Zip LS         Sweater         Knitwear   \n9      Håkan half zip knit         Sweater         Knitwear   \n\n                                                                                                                                                                                                                                               detailDesc  \\\n0                                                                                                                           Soft, textured-knit jumper with a ribbed stand-up collar, zip at the top, dropped shoulders and ribbing at the cuffs and hem.   \n1                                                                                                                                                         Jumper in a soft, rib knit with a stand-up collar, a visible zip at the front and long sleeves.   \n2                                                                                                        Jumper in a soft rib knit with a high stand-up collar, zip at the top, long raglan sleeves with elbow patches, and ribbing at the cuffs and hem.   \n3                                                                                                      Fine-knit jacket in a soft viscose blend with a drawstring hood, zip and front pockets. Gently dropped shoulders and ribbing at the cuffs and hem.   \n4  Sports top in stretch, fast-drying functional fabric with a stand-up collar, zip at the front with a chin guard, and a yoke at the back. Low dropped shoulders and long sleeves with thumbholes at the cuffs. Rounded and slightly longer at the back.   \n5                                                                                     Jumper in a soft rib knit with pointelle details, low dropped shoulders and long sleeves. Double ribbed trim around the neckline, and ribbing at the cuffs and hem.   \n6                                                                      Short top in sweatshirt fabric with a high, ribbed stand-up collar with a zip at the front. Dropped shoulders, long sleeves and ribbing at the cuffs and hem. Soft brushed inside.   \n7                                                                                                                                      Jumper in a soft, fine-knit modal and cotton blend with a ribbed stand-up collar, zip at the top and long sleeves.   \n8                                                                                                                                                          Fitted jumper in a soft, rib knit with a turtle neck, visible zip at the top and long sleeves.   \n9                                                                                                                    Jumper in a soft cotton knit with a high, ribbed stand-up collar and zip at the top. Long sleeves, and ribbing at the cuffs and hem.   \n\n      score  \n0  0.933434  \n1  0.931779  \n2  0.930935  \n3  0.930924  \n4  0.930110  \n5  0.929089  \n6  0.928748  \n7  0.928719  \n8  0.927710  \n9  0.927483  ",
            "text/html": "<div>\n<style scoped>\n    .dataframe tbody tr th:only-of-type {\n        vertical-align: middle;\n    }\n\n    .dataframe tbody tr th {\n        vertical-align: top;\n    }\n\n    .dataframe thead th {\n        text-align: right;\n    }\n</style>\n<table border=\"1\" class=\"dataframe\">\n  <thead>\n    <tr style=\"text-align: right;\">\n      <th></th>\n      <th>prodName</th>\n      <th>productTypeName</th>\n      <th>garmentGroupName</th>\n      <th>detailDesc</th>\n      <th>score</th>\n    </tr>\n  </thead>\n  <tbody>\n    <tr>\n      <th>0</th>\n      <td>Catfish Zip</td>\n      <td>Sweater</td>\n      <td>Knitwear</td>\n      <td>Soft, textured-knit jumper with a ribbed stand-up collar, zip at the top, dropped shoulders and ribbing at the cuffs and hem.</td>\n      <td>0.933434</td>\n    </tr>\n    <tr>\n      <th>1</th>\n      <td>Yolo Zip L/S</td>\n      <td>Sweater</td>\n      <td>Knitwear</td>\n      <td>Jumper in a soft, rib knit with a stand-up collar, a visible zip at the front and long sleeves.</td>\n      <td>0.931779</td>\n    </tr>\n    <tr>\n      <th>2</th>\n      <td>BANANA HALF ZIP SWEATER</td>\n      <td>Sweater</td>\n      <td>Knitwear</td>\n      <td>Jumper in a soft rib knit with a high stand-up collar, zip at the top, long raglan sleeves with elbow patches, and ribbing at the cuffs and hem.</td>\n      <td>0.930935</td>\n    </tr>\n    <tr>\n      <th>3</th>\n      <td>Ben zip hoodie</td>\n      <td>Sweater</td>\n      <td>Knitwear</td>\n      <td>Fine-knit jacket in a soft viscose blend with a drawstring hood, zip and front pockets. Gently dropped shoulders and ribbing at the cuffs and hem.</td>\n      <td>0.930924</td>\n    </tr>\n    <tr>\n      <th>4</th>\n      <td>Raven Half Zip Sweater</td>\n      <td>Sweater</td>\n      <td>Jersey Fancy</td>\n      <td>Sports top in stretch, fast-drying functional fabric with a stand-up collar, zip at the front with a chin guard, and a yoke at the back. Low dropped shoulders and long sleeves with thumbholes at the cuffs. Rounded and slightly longer at the back.</td>\n      <td>0.930110</td>\n    </tr>\n    <tr>\n      <th>5</th>\n      <td>Southern Sweater</td>\n      <td>Sweater</td>\n      <td>Knitwear</td>\n      <td>Jumper in a soft rib knit with pointelle details, low dropped shoulders and long sleeves. Double ribbed trim around the neckline, and ribbing at the cuffs and hem.</td>\n      <td>0.929089</td>\n    </tr>\n    <tr>\n      <th>6</th>\n      <td>Zorro half-zip sweater</td>\n      <td>Sweater</td>\n      <td>Jersey Basic</td>\n      <td>Short top in sweatshirt fabric with a high, ribbed stand-up collar with a zip at the front. Dropped shoulders, long sleeves and ribbing at the cuffs and hem. Soft brushed inside.</td>\n      <td>0.928748</td>\n    </tr>\n    <tr>\n      <th>7</th>\n      <td>BAY BLOCK STRIPE ZIP-UP</td>\n      <td>Sweater</td>\n      <td>Knitwear</td>\n      <td>Jumper in a soft, fine-knit modal and cotton blend with a ribbed stand-up collar, zip at the top and long sleeves.</td>\n      <td>0.928719</td>\n    </tr>\n    <tr>\n      <th>8</th>\n      <td>Yolo Zip LS</td>\n      <td>Sweater</td>\n      <td>Knitwear</td>\n      <td>Fitted jumper in a soft, rib knit with a turtle neck, visible zip at the top and long sleeves.</td>\n      <td>0.927710</td>\n    </tr>\n    <tr>\n      <th>9</th>\n      <td>Håkan half zip knit</td>\n      <td>Sweater</td>\n      <td>Knitwear</td>\n      <td>Jumper in a soft cotton knit with a high, ribbed stand-up collar and zip at the top. Long sleeves, and ribbing at the cuffs and hem.</td>\n      <td>0.927483</td>\n    </tr>\n  </tbody>\n</table>\n</div>"
          },
          "metadata": {},
          "output_type": "display_data"
        },
        {
          "name": "stdout",
          "output_type": "stream",
          "text": [
            "\n",
            "User May Also Be Interested In:\n",
            "\n"
          ]
        },
        {
          "data": {
            "text/plain": "                         prodName   productTypeName  \\\n0                Niffler Trousers          Trousers   \n1       Sunspot Seamless Crop Top          Vest top   \n2                  STINA 3p boxer  Underwear bottom   \n3               CC COSMO dress BG             Dress   \n4  Cappucino Brazilian High Waist  Underwear bottom   \n5                     ED Duno 2p.               Top   \n6                     Cannes Crew           Sweater   \n7         Berry utility denim Trs          Trousers   \n8            LOGG Amaretto blazer            Blazer   \n9             JANINE SWEATER NEON           Sweater   \n\n                garmentGroupName     score  \\\n0  Woven/Jersey/Knitted mix Baby  3.248279   \n1                   Jersey Fancy  2.949513   \n2              Under-, Nightwear  2.818649   \n3                   Jersey Basic  0.814822   \n4              Under-, Nightwear  0.814637   \n5                   Jersey Fancy  0.814360   \n6              Under-, Nightwear  0.813946   \n7                       Trousers  0.813191   \n8                        Outdoor  0.812981   \n9                   Jersey Fancy  0.812765   \n\n                                                                                                                                                                                                                                                                                                 detailDesc  \n0                                                                                                                                                                      Pull-on trousers in washed, stretch twill with an elasticated, drawstring waist, front pockets, a fake back pocket and tapered legs.  \n1                                                                                                                            Short, fitted sports top with a racer back and elasticated hem. The sports top is designed with the minimum number of seams for a more comfortable fit and increased mobility.  \n2                                                                                                                                                                                                                                 Boxer briefs in cotton jersey with an elasticated waist and lined gusset.  \n3  Dress in soft sweatshirt fabric with an embroidered motif at the top, long sleeves, twisted seams at the front and side pockets. Ribbing around the neckline, cuffs and hem and short slits at the hem. Slightly longer at the back. Soft brushed inside. The dress is made partly from recycled cotton.  \n4                                                                                                                                                                                                    Brazilian briefs in lace and mesh with a mid waist, lined gusset, wide sides and high cut at the back.  \n5                                                                                                                                                                                                                          Long-sleeved tops in soft, organic cotton jersey with a slightly wider neckline.  \n6                                                                                                                           Round-necked jumper in a soft, fine-knit viscose blend with long sleeves, short slits in the sides and ribbing around the neckline, cuffs and hem. Slightly longer at the back.  \n7                                 Ankle-length jeans in sturdy cotton denim with a high waist, zip fly and button, front and back pockets, leg pockets with a flap and concealed press-stud and tapered legs with a tab and metal buckle at the ankles. The cotton content of the jeans is partly recycled.  \n8                                                                                                                                                                                  Jacket woven in a linen blend with narrow notch lapels, a button at the front and welt front pockets with a flap. Lined.  \n9                                                                                                                           Top in soft sweatshirt fabric with a text print motif, dropped shoulders, long sleeves, ribbing around the neckline and cuffs and a drawstring at the hem. Soft brushed inside.  ",
            "text/html": "<div>\n<style scoped>\n    .dataframe tbody tr th:only-of-type {\n        vertical-align: middle;\n    }\n\n    .dataframe tbody tr th {\n        vertical-align: top;\n    }\n\n    .dataframe thead th {\n        text-align: right;\n    }\n</style>\n<table border=\"1\" class=\"dataframe\">\n  <thead>\n    <tr style=\"text-align: right;\">\n      <th></th>\n      <th>prodName</th>\n      <th>productTypeName</th>\n      <th>garmentGroupName</th>\n      <th>score</th>\n      <th>detailDesc</th>\n    </tr>\n  </thead>\n  <tbody>\n    <tr>\n      <th>0</th>\n      <td>Niffler Trousers</td>\n      <td>Trousers</td>\n      <td>Woven/Jersey/Knitted mix Baby</td>\n      <td>3.248279</td>\n      <td>Pull-on trousers in washed, stretch twill with an elasticated, drawstring waist, front pockets, a fake back pocket and tapered legs.</td>\n    </tr>\n    <tr>\n      <th>1</th>\n      <td>Sunspot Seamless Crop Top</td>\n      <td>Vest top</td>\n      <td>Jersey Fancy</td>\n      <td>2.949513</td>\n      <td>Short, fitted sports top with a racer back and elasticated hem. The sports top is designed with the minimum number of seams for a more comfortable fit and increased mobility.</td>\n    </tr>\n    <tr>\n      <th>2</th>\n      <td>STINA 3p boxer</td>\n      <td>Underwear bottom</td>\n      <td>Under-, Nightwear</td>\n      <td>2.818649</td>\n      <td>Boxer briefs in cotton jersey with an elasticated waist and lined gusset.</td>\n    </tr>\n    <tr>\n      <th>3</th>\n      <td>CC COSMO dress BG</td>\n      <td>Dress</td>\n      <td>Jersey Basic</td>\n      <td>0.814822</td>\n      <td>Dress in soft sweatshirt fabric with an embroidered motif at the top, long sleeves, twisted seams at the front and side pockets. Ribbing around the neckline, cuffs and hem and short slits at the hem. Slightly longer at the back. Soft brushed inside. The dress is made partly from recycled cotton.</td>\n    </tr>\n    <tr>\n      <th>4</th>\n      <td>Cappucino Brazilian High Waist</td>\n      <td>Underwear bottom</td>\n      <td>Under-, Nightwear</td>\n      <td>0.814637</td>\n      <td>Brazilian briefs in lace and mesh with a mid waist, lined gusset, wide sides and high cut at the back.</td>\n    </tr>\n    <tr>\n      <th>5</th>\n      <td>ED Duno 2p.</td>\n      <td>Top</td>\n      <td>Jersey Fancy</td>\n      <td>0.814360</td>\n      <td>Long-sleeved tops in soft, organic cotton jersey with a slightly wider neckline.</td>\n    </tr>\n    <tr>\n      <th>6</th>\n      <td>Cannes Crew</td>\n      <td>Sweater</td>\n      <td>Under-, Nightwear</td>\n      <td>0.813946</td>\n      <td>Round-necked jumper in a soft, fine-knit viscose blend with long sleeves, short slits in the sides and ribbing around the neckline, cuffs and hem. Slightly longer at the back.</td>\n    </tr>\n    <tr>\n      <th>7</th>\n      <td>Berry utility denim Trs</td>\n      <td>Trousers</td>\n      <td>Trousers</td>\n      <td>0.813191</td>\n      <td>Ankle-length jeans in sturdy cotton denim with a high waist, zip fly and button, front and back pockets, leg pockets with a flap and concealed press-stud and tapered legs with a tab and metal buckle at the ankles. The cotton content of the jeans is partly recycled.</td>\n    </tr>\n    <tr>\n      <th>8</th>\n      <td>LOGG Amaretto blazer</td>\n      <td>Blazer</td>\n      <td>Outdoor</td>\n      <td>0.812981</td>\n      <td>Jacket woven in a linen blend with narrow notch lapels, a button at the front and welt front pockets with a flap. Lined.</td>\n    </tr>\n    <tr>\n      <th>9</th>\n      <td>JANINE SWEATER NEON</td>\n      <td>Sweater</td>\n      <td>Jersey Fancy</td>\n      <td>0.812765</td>\n      <td>Top in soft sweatshirt fabric with a text print motif, dropped shoulders, long sleeves, ribbing around the neckline and cuffs and a drawstring at the hem. Soft brushed inside.</td>\n    </tr>\n  </tbody>\n</table>\n</div>"
          },
          "metadata": {},
          "output_type": "display_data"
        }
      ],
      "source": [
        "print(f'User Search Prompt: \"{search_prompt}\"\\n\\n')\n",
        "print('Search Results:\\n')\n",
        "display(search_res_df)\n",
        "print('\\nUser May Also Be Interested In:\\n')\n",
        "display(recommendation_res_df)"
      ],
      "metadata": {
        "id": "sQ7Zh1KqdyXq",
        "outputId": "76300b0b-e8ae-469e-ad88-f47254bd7605"
      }
    },
    {
      "cell_type": "markdown",
      "source": [
        "### Personalized Recommendation"
      ],
      "metadata": {
        "collapsed": false,
        "id": "HmA0rL4JdyXq"
      }
    },
    {
      "cell_type": "code",
      "execution_count": null,
      "outputs": [],
      "source": [
        "CUSTOMER_ID = \"daae10780ecd14990ea190a1e9917da33fe96cd8cfa5e80b67b4600171aa77e0\""
      ],
      "metadata": {
        "id": "yD9sfYJSdyXq"
      }
    },
    {
      "cell_type": "markdown",
      "source": [
        "#### Example Purchase History"
      ],
      "metadata": {
        "collapsed": false,
        "id": "rmMp9hXJdyXq"
      }
    },
    {
      "cell_type": "code",
      "execution_count": null,
      "outputs": [
        {
          "data": {
            "text/plain": "    articleId                   prodName purchaseDate productTypeName  \\\n0   753724004                   Rosemary   2019-08-05           Dress   \n1   733027002                       Tove   2019-08-05             Top   \n2   713577001               Malte r-neck   2019-06-27         Sweater   \n3   731142001           Lead Superskinny   2019-06-27        Trousers   \n4   687016004                 DORIS CREW   2019-06-22         Sweater   \n..        ...                        ...          ...             ...   \n20  620425001             Karin headband   2018-10-12        Hairband   \n21  662328001                   Survivor   2018-10-12          Blouse   \n22  682848003  Skinny  RW Ankle Milo Zip   2018-10-12        Trousers   \n23  691072002           JEKYL SWEATSHIRT   2018-10-12         Sweater   \n24  569974026                ROLAND HOOD   2018-10-12          Hoodie   \n\n                                                                                                                                                                                                                                       detailDesc  \n0                                                                                                                   Short dress in woven fabric with 3/4-length sleeves with an opening and ties at the cuffs, and a gently rounded hem. Unlined.  \n1                                                                                                          Short top in soft cotton jersey with a round neckline, short sleeves and a seam at the hem with a decorative knot detail at the front.  \n2                                                                                                                                                    Jumper in soft, patterned, fine-knit cotton with ribbing around the neckline, cuffs and hem.  \n3                                                                                                                                             Chinos in stretch twill with a zip fly and button, side pockets, welt back pockets and skinny legs.  \n4                                                                                                                         Top in sweatshirt fabric with a motif on the front and ribbing around the neckline, cuffs and hem. Soft brushed inside.  \n..                                                                                                                                                                                                                                            ...  \n20                                                                                                                                                                                          Wide hairband in cotton jersey with a twisted detail.  \n21  Straight-cut blouse in a crêpe weave with a collar, concealed buttons down the front and fake flap front pockets. Yoke with a pleat at the back, long sleeves with pleats and buttoned cuffs, and a straight cut hem with slits in the sides.  \n22                                      5-pocket, ankle-length jeans in washed stretch denim with hard-worn details, a regular waist, zip fly and button, and skinny legs with a zip at the hems. The jeans are made partly from recycled cotton.  \n23                                                                                                            Top in sweatshirt fabric with long raglan sleeves and ribbing around the neckline, cuffs and hem. Soft brushed inside. Regular fit.  \n24                                                                                                                  Top in sweatshirt fabric with a lined drawstring hood, kangaroo pocket, long raglan sleeves and ribbing at the cuffs and hem.  \n\n[25 rows x 5 columns]",
            "text/html": "<div>\n<style scoped>\n    .dataframe tbody tr th:only-of-type {\n        vertical-align: middle;\n    }\n\n    .dataframe tbody tr th {\n        vertical-align: top;\n    }\n\n    .dataframe thead th {\n        text-align: right;\n    }\n</style>\n<table border=\"1\" class=\"dataframe\">\n  <thead>\n    <tr style=\"text-align: right;\">\n      <th></th>\n      <th>articleId</th>\n      <th>prodName</th>\n      <th>purchaseDate</th>\n      <th>productTypeName</th>\n      <th>detailDesc</th>\n    </tr>\n  </thead>\n  <tbody>\n    <tr>\n      <th>0</th>\n      <td>753724004</td>\n      <td>Rosemary</td>\n      <td>2019-08-05</td>\n      <td>Dress</td>\n      <td>Short dress in woven fabric with 3/4-length sleeves with an opening and ties at the cuffs, and a gently rounded hem. Unlined.</td>\n    </tr>\n    <tr>\n      <th>1</th>\n      <td>733027002</td>\n      <td>Tove</td>\n      <td>2019-08-05</td>\n      <td>Top</td>\n      <td>Short top in soft cotton jersey with a round neckline, short sleeves and a seam at the hem with a decorative knot detail at the front.</td>\n    </tr>\n    <tr>\n      <th>2</th>\n      <td>713577001</td>\n      <td>Malte r-neck</td>\n      <td>2019-06-27</td>\n      <td>Sweater</td>\n      <td>Jumper in soft, patterned, fine-knit cotton with ribbing around the neckline, cuffs and hem.</td>\n    </tr>\n    <tr>\n      <th>3</th>\n      <td>731142001</td>\n      <td>Lead Superskinny</td>\n      <td>2019-06-27</td>\n      <td>Trousers</td>\n      <td>Chinos in stretch twill with a zip fly and button, side pockets, welt back pockets and skinny legs.</td>\n    </tr>\n    <tr>\n      <th>4</th>\n      <td>687016004</td>\n      <td>DORIS CREW</td>\n      <td>2019-06-22</td>\n      <td>Sweater</td>\n      <td>Top in sweatshirt fabric with a motif on the front and ribbing around the neckline, cuffs and hem. Soft brushed inside.</td>\n    </tr>\n    <tr>\n      <th>...</th>\n      <td>...</td>\n      <td>...</td>\n      <td>...</td>\n      <td>...</td>\n      <td>...</td>\n    </tr>\n    <tr>\n      <th>20</th>\n      <td>620425001</td>\n      <td>Karin headband</td>\n      <td>2018-10-12</td>\n      <td>Hairband</td>\n      <td>Wide hairband in cotton jersey with a twisted detail.</td>\n    </tr>\n    <tr>\n      <th>21</th>\n      <td>662328001</td>\n      <td>Survivor</td>\n      <td>2018-10-12</td>\n      <td>Blouse</td>\n      <td>Straight-cut blouse in a crêpe weave with a collar, concealed buttons down the front and fake flap front pockets. Yoke with a pleat at the back, long sleeves with pleats and buttoned cuffs, and a straight cut hem with slits in the sides.</td>\n    </tr>\n    <tr>\n      <th>22</th>\n      <td>682848003</td>\n      <td>Skinny  RW Ankle Milo Zip</td>\n      <td>2018-10-12</td>\n      <td>Trousers</td>\n      <td>5-pocket, ankle-length jeans in washed stretch denim with hard-worn details, a regular waist, zip fly and button, and skinny legs with a zip at the hems. The jeans are made partly from recycled cotton.</td>\n    </tr>\n    <tr>\n      <th>23</th>\n      <td>691072002</td>\n      <td>JEKYL SWEATSHIRT</td>\n      <td>2018-10-12</td>\n      <td>Sweater</td>\n      <td>Top in sweatshirt fabric with long raglan sleeves and ribbing around the neckline, cuffs and hem. Soft brushed inside. Regular fit.</td>\n    </tr>\n    <tr>\n      <th>24</th>\n      <td>569974026</td>\n      <td>ROLAND HOOD</td>\n      <td>2018-10-12</td>\n      <td>Hoodie</td>\n      <td>Top in sweatshirt fabric with a lined drawstring hood, kangaroo pocket, long raglan sleeves and ribbing at the cuffs and hem.</td>\n    </tr>\n  </tbody>\n</table>\n<p>25 rows × 5 columns</p>\n</div>"
          },
          "execution_count": 132,
          "metadata": {},
          "output_type": "execute_result"
        }
      ],
      "source": [
        "gds.run_cypher('''\n",
        "    MATCH(c:Customer {customerId:$customerId})-[r:PURCHASED]->(a)-[:VARIANT_OF]->(p:Product)\n",
        "        RETURN a.articleId AS articleId,\n",
        "        a.prodName AS prodName,\n",
        "        r.tDat AS purchaseDate,\n",
        "        a.productTypeName AS productTypeName,\n",
        "        p.detailDesc AS detailDesc\n",
        "        ORDER BY purchaseDate DESC\n",
        "''', params = { 'customerId':CUSTOMER_ID, 'queryVector': query_vector})"
      ],
      "metadata": {
        "id": "FcsaH1I5dyXq",
        "outputId": "ac0fafba-8d44-487b-c6cd-506a9e4bd4dd"
      }
    },
    {
      "cell_type": "markdown",
      "source": [
        "#### Personalized Product Recommendations"
      ],
      "metadata": {
        "collapsed": false,
        "id": "ZZZX-aCGdyXq"
      }
    },
    {
      "cell_type": "code",
      "execution_count": null,
      "outputs": [],
      "source": [
        "personalized_res_df = gds.run_cypher('''\n",
        "    MATCH(c:Customer {customerId:$customerId})-[r:PURCHASED]->(a0)\n",
        "    WITH a0\n",
        "    MATCH(a0)-[s:CUSTOMERS_ALSO_PURCHASED]->(a)-[:VARIANT_OF]->(p:Product)\n",
        "    WITH p, sum(s.score) AS aggRecScore\n",
        "    WITH p, aggRecScore, gds.similarity.cosine($queryVector, p.textEmbedding) AS cosineSimilarity\n",
        "    RETURN p.productCode AS productCode,\n",
        "        aggRecScore,\n",
        "        cosineSimilarity as searchScore,\n",
        "        p.productTypeName AS productType,\n",
        "        p.prodName AS name,\n",
        "        p.detailDesc AS description\n",
        "        ORDER BY searchScore DESC LIMIT 10\n",
        "''', params = {'customerId':CUSTOMER_ID, 'queryVector': query_vector})"
      ],
      "metadata": {
        "id": "oh5_02I2dyXq"
      }
    },
    {
      "cell_type": "code",
      "execution_count": null,
      "outputs": [
        {
          "name": "stdout",
          "output_type": "stream",
          "text": [
            "User Search Prompt: \"winter sweater with zipper\"\n",
            "\n",
            "\n",
            "Search Results:\n",
            "\n"
          ]
        },
        {
          "data": {
            "text/plain": "                  prodName productTypeName garmentGroupName  \\\n0              Catfish Zip         Sweater         Knitwear   \n1             Yolo Zip L/S         Sweater         Knitwear   \n2  BANANA HALF ZIP SWEATER         Sweater         Knitwear   \n3           Ben zip hoodie         Sweater         Knitwear   \n4   Raven Half Zip Sweater         Sweater     Jersey Fancy   \n5         Southern Sweater         Sweater         Knitwear   \n6   Zorro half-zip sweater         Sweater     Jersey Basic   \n7  BAY BLOCK STRIPE ZIP-UP         Sweater         Knitwear   \n8              Yolo Zip LS         Sweater         Knitwear   \n9      Håkan half zip knit         Sweater         Knitwear   \n\n                                                                                                                                                                                                                                               detailDesc  \\\n0                                                                                                                           Soft, textured-knit jumper with a ribbed stand-up collar, zip at the top, dropped shoulders and ribbing at the cuffs and hem.   \n1                                                                                                                                                         Jumper in a soft, rib knit with a stand-up collar, a visible zip at the front and long sleeves.   \n2                                                                                                        Jumper in a soft rib knit with a high stand-up collar, zip at the top, long raglan sleeves with elbow patches, and ribbing at the cuffs and hem.   \n3                                                                                                      Fine-knit jacket in a soft viscose blend with a drawstring hood, zip and front pockets. Gently dropped shoulders and ribbing at the cuffs and hem.   \n4  Sports top in stretch, fast-drying functional fabric with a stand-up collar, zip at the front with a chin guard, and a yoke at the back. Low dropped shoulders and long sleeves with thumbholes at the cuffs. Rounded and slightly longer at the back.   \n5                                                                                     Jumper in a soft rib knit with pointelle details, low dropped shoulders and long sleeves. Double ribbed trim around the neckline, and ribbing at the cuffs and hem.   \n6                                                                      Short top in sweatshirt fabric with a high, ribbed stand-up collar with a zip at the front. Dropped shoulders, long sleeves and ribbing at the cuffs and hem. Soft brushed inside.   \n7                                                                                                                                      Jumper in a soft, fine-knit modal and cotton blend with a ribbed stand-up collar, zip at the top and long sleeves.   \n8                                                                                                                                                          Fitted jumper in a soft, rib knit with a turtle neck, visible zip at the top and long sleeves.   \n9                                                                                                                    Jumper in a soft cotton knit with a high, ribbed stand-up collar and zip at the top. Long sleeves, and ribbing at the cuffs and hem.   \n\n      score  \n0  0.933434  \n1  0.931779  \n2  0.930935  \n3  0.930924  \n4  0.930110  \n5  0.929089  \n6  0.928748  \n7  0.928719  \n8  0.927710  \n9  0.927483  ",
            "text/html": "<div>\n<style scoped>\n    .dataframe tbody tr th:only-of-type {\n        vertical-align: middle;\n    }\n\n    .dataframe tbody tr th {\n        vertical-align: top;\n    }\n\n    .dataframe thead th {\n        text-align: right;\n    }\n</style>\n<table border=\"1\" class=\"dataframe\">\n  <thead>\n    <tr style=\"text-align: right;\">\n      <th></th>\n      <th>prodName</th>\n      <th>productTypeName</th>\n      <th>garmentGroupName</th>\n      <th>detailDesc</th>\n      <th>score</th>\n    </tr>\n  </thead>\n  <tbody>\n    <tr>\n      <th>0</th>\n      <td>Catfish Zip</td>\n      <td>Sweater</td>\n      <td>Knitwear</td>\n      <td>Soft, textured-knit jumper with a ribbed stand-up collar, zip at the top, dropped shoulders and ribbing at the cuffs and hem.</td>\n      <td>0.933434</td>\n    </tr>\n    <tr>\n      <th>1</th>\n      <td>Yolo Zip L/S</td>\n      <td>Sweater</td>\n      <td>Knitwear</td>\n      <td>Jumper in a soft, rib knit with a stand-up collar, a visible zip at the front and long sleeves.</td>\n      <td>0.931779</td>\n    </tr>\n    <tr>\n      <th>2</th>\n      <td>BANANA HALF ZIP SWEATER</td>\n      <td>Sweater</td>\n      <td>Knitwear</td>\n      <td>Jumper in a soft rib knit with a high stand-up collar, zip at the top, long raglan sleeves with elbow patches, and ribbing at the cuffs and hem.</td>\n      <td>0.930935</td>\n    </tr>\n    <tr>\n      <th>3</th>\n      <td>Ben zip hoodie</td>\n      <td>Sweater</td>\n      <td>Knitwear</td>\n      <td>Fine-knit jacket in a soft viscose blend with a drawstring hood, zip and front pockets. Gently dropped shoulders and ribbing at the cuffs and hem.</td>\n      <td>0.930924</td>\n    </tr>\n    <tr>\n      <th>4</th>\n      <td>Raven Half Zip Sweater</td>\n      <td>Sweater</td>\n      <td>Jersey Fancy</td>\n      <td>Sports top in stretch, fast-drying functional fabric with a stand-up collar, zip at the front with a chin guard, and a yoke at the back. Low dropped shoulders and long sleeves with thumbholes at the cuffs. Rounded and slightly longer at the back.</td>\n      <td>0.930110</td>\n    </tr>\n    <tr>\n      <th>5</th>\n      <td>Southern Sweater</td>\n      <td>Sweater</td>\n      <td>Knitwear</td>\n      <td>Jumper in a soft rib knit with pointelle details, low dropped shoulders and long sleeves. Double ribbed trim around the neckline, and ribbing at the cuffs and hem.</td>\n      <td>0.929089</td>\n    </tr>\n    <tr>\n      <th>6</th>\n      <td>Zorro half-zip sweater</td>\n      <td>Sweater</td>\n      <td>Jersey Basic</td>\n      <td>Short top in sweatshirt fabric with a high, ribbed stand-up collar with a zip at the front. Dropped shoulders, long sleeves and ribbing at the cuffs and hem. Soft brushed inside.</td>\n      <td>0.928748</td>\n    </tr>\n    <tr>\n      <th>7</th>\n      <td>BAY BLOCK STRIPE ZIP-UP</td>\n      <td>Sweater</td>\n      <td>Knitwear</td>\n      <td>Jumper in a soft, fine-knit modal and cotton blend with a ribbed stand-up collar, zip at the top and long sleeves.</td>\n      <td>0.928719</td>\n    </tr>\n    <tr>\n      <th>8</th>\n      <td>Yolo Zip LS</td>\n      <td>Sweater</td>\n      <td>Knitwear</td>\n      <td>Fitted jumper in a soft, rib knit with a turtle neck, visible zip at the top and long sleeves.</td>\n      <td>0.927710</td>\n    </tr>\n    <tr>\n      <th>9</th>\n      <td>Håkan half zip knit</td>\n      <td>Sweater</td>\n      <td>Knitwear</td>\n      <td>Jumper in a soft cotton knit with a high, ribbed stand-up collar and zip at the top. Long sleeves, and ribbing at the cuffs and hem.</td>\n      <td>0.927483</td>\n    </tr>\n  </tbody>\n</table>\n</div>"
          },
          "metadata": {},
          "output_type": "display_data"
        },
        {
          "name": "stdout",
          "output_type": "stream",
          "text": [
            "\n",
            "User May Also Be Interested In:\n",
            "\n"
          ]
        },
        {
          "data": {
            "text/plain": "   productCode  aggRecScore  searchScore productType              name  \\\n0       640755     0.741509     0.850858     Sweater     Allen Sweater   \n1       697980     0.751843     0.839161     Sweater             Nicky   \n2       934053     0.768552     0.838258     Sweater             Chain   \n3       935858     1.554463     0.834631     Sweater  Piper sweatshirt   \n4       656401    10.335908     0.834584     Sweater    PASTRY SWEATER   \n5       557247     8.560783     0.833330     Sweater     Petar Sweater   \n6       714826     0.747204     0.832716     Sweater             Shaun   \n7       674826     0.709781     0.828895     Sweater         Fine knit   \n8       851339     0.770838     0.828868     Sweater       Papaya Hood   \n9       244267     6.236464     0.825758     Sweater       Silver lake   \n\n                                                                                                                                                                                                                                                                           description  \n0                                                                       Top in sweatshirt fabric made from a cotton blend with a stand-up collar with a zip at the front and a kangaroo pocket. Dropped shoulders, long sleeves and ribbing at the cuffs and hem. Soft brushed inside.  \n1                                                                                                                                                                                                         Jumper in a soft, fine knit with ribbing around the neckline, cuffs and hem.  \n2                                                                         Jumper in a soft knit containing some wool. Ribbed neckline decorated with a metal chain at the front, long, wide sleeves and ribbing at the cuffs and hem. The polyester content of the jumper is recycled.  \n3  Top in soft sweatshirt fabric with a rounded, frill-trimmed collar in woven fabric, an opening with a button at the back of the neck, dropped shoulders and long, wide sleeves with ribbing at the cuffs. Soft brushed inside. The polyester content of the sweatshirt is recycled.  \n4                                                                                                                                                                        Jumper in soft, textured-knit cotton with long raglan sleeves and ribbing around the neckline, cuffs and hem.  \n5                                                                                                                                                Oversized top in sturdy sweatshirt fabric with dropped shoulders and ribbing around the neckline, cuffs and hem. Soft brushed inside.  \n6                                                                                                                Jumper in a soft knit containing some wool with ribbing at the top, a wide V-neck front and back, long raglan sleeves and ribbing around the neckline, cuffs and hem.  \n7                                                                                                                                                              Jumper in fine-knit slub cotton with dropped shoulders, long sleeves and roll edges around the neckline, cuffs and hem.  \n8                                             Oversized jacket in soft sweatshirt fabric with a small embroidered text detail on the front. Jersey-lined, drawstring hood, a zip down the front, front pockets, ribbing at the cuffs and wide ribbing at the hem. Soft brushed inside.  \n9                                                                                                                                                                                            Purl-knit jumper in a cotton blend with a slightly wider neckline and 3/4-length sleeves.  ",
            "text/html": "<div>\n<style scoped>\n    .dataframe tbody tr th:only-of-type {\n        vertical-align: middle;\n    }\n\n    .dataframe tbody tr th {\n        vertical-align: top;\n    }\n\n    .dataframe thead th {\n        text-align: right;\n    }\n</style>\n<table border=\"1\" class=\"dataframe\">\n  <thead>\n    <tr style=\"text-align: right;\">\n      <th></th>\n      <th>productCode</th>\n      <th>aggRecScore</th>\n      <th>searchScore</th>\n      <th>productType</th>\n      <th>name</th>\n      <th>description</th>\n    </tr>\n  </thead>\n  <tbody>\n    <tr>\n      <th>0</th>\n      <td>640755</td>\n      <td>0.741509</td>\n      <td>0.850858</td>\n      <td>Sweater</td>\n      <td>Allen Sweater</td>\n      <td>Top in sweatshirt fabric made from a cotton blend with a stand-up collar with a zip at the front and a kangaroo pocket. Dropped shoulders, long sleeves and ribbing at the cuffs and hem. Soft brushed inside.</td>\n    </tr>\n    <tr>\n      <th>1</th>\n      <td>697980</td>\n      <td>0.751843</td>\n      <td>0.839161</td>\n      <td>Sweater</td>\n      <td>Nicky</td>\n      <td>Jumper in a soft, fine knit with ribbing around the neckline, cuffs and hem.</td>\n    </tr>\n    <tr>\n      <th>2</th>\n      <td>934053</td>\n      <td>0.768552</td>\n      <td>0.838258</td>\n      <td>Sweater</td>\n      <td>Chain</td>\n      <td>Jumper in a soft knit containing some wool. Ribbed neckline decorated with a metal chain at the front, long, wide sleeves and ribbing at the cuffs and hem. The polyester content of the jumper is recycled.</td>\n    </tr>\n    <tr>\n      <th>3</th>\n      <td>935858</td>\n      <td>1.554463</td>\n      <td>0.834631</td>\n      <td>Sweater</td>\n      <td>Piper sweatshirt</td>\n      <td>Top in soft sweatshirt fabric with a rounded, frill-trimmed collar in woven fabric, an opening with a button at the back of the neck, dropped shoulders and long, wide sleeves with ribbing at the cuffs. Soft brushed inside. The polyester content of the sweatshirt is recycled.</td>\n    </tr>\n    <tr>\n      <th>4</th>\n      <td>656401</td>\n      <td>10.335908</td>\n      <td>0.834584</td>\n      <td>Sweater</td>\n      <td>PASTRY SWEATER</td>\n      <td>Jumper in soft, textured-knit cotton with long raglan sleeves and ribbing around the neckline, cuffs and hem.</td>\n    </tr>\n    <tr>\n      <th>5</th>\n      <td>557247</td>\n      <td>8.560783</td>\n      <td>0.833330</td>\n      <td>Sweater</td>\n      <td>Petar Sweater</td>\n      <td>Oversized top in sturdy sweatshirt fabric with dropped shoulders and ribbing around the neckline, cuffs and hem. Soft brushed inside.</td>\n    </tr>\n    <tr>\n      <th>6</th>\n      <td>714826</td>\n      <td>0.747204</td>\n      <td>0.832716</td>\n      <td>Sweater</td>\n      <td>Shaun</td>\n      <td>Jumper in a soft knit containing some wool with ribbing at the top, a wide V-neck front and back, long raglan sleeves and ribbing around the neckline, cuffs and hem.</td>\n    </tr>\n    <tr>\n      <th>7</th>\n      <td>674826</td>\n      <td>0.709781</td>\n      <td>0.828895</td>\n      <td>Sweater</td>\n      <td>Fine knit</td>\n      <td>Jumper in fine-knit slub cotton with dropped shoulders, long sleeves and roll edges around the neckline, cuffs and hem.</td>\n    </tr>\n    <tr>\n      <th>8</th>\n      <td>851339</td>\n      <td>0.770838</td>\n      <td>0.828868</td>\n      <td>Sweater</td>\n      <td>Papaya Hood</td>\n      <td>Oversized jacket in soft sweatshirt fabric with a small embroidered text detail on the front. Jersey-lined, drawstring hood, a zip down the front, front pockets, ribbing at the cuffs and wide ribbing at the hem. Soft brushed inside.</td>\n    </tr>\n    <tr>\n      <th>9</th>\n      <td>244267</td>\n      <td>6.236464</td>\n      <td>0.825758</td>\n      <td>Sweater</td>\n      <td>Silver lake</td>\n      <td>Purl-knit jumper in a cotton blend with a slightly wider neckline and 3/4-length sleeves.</td>\n    </tr>\n  </tbody>\n</table>\n</div>"
          },
          "metadata": {},
          "output_type": "display_data"
        }
      ],
      "source": [
        "print(f'User Search Prompt: \"{search_prompt}\"\\n\\n')\n",
        "print('Search Results:\\n')\n",
        "display(search_res_df)\n",
        "print('\\nUser May Also Be Interested In:\\n')\n",
        "display(personalized_res_df)"
      ],
      "metadata": {
        "id": "pgpvBqajdyXq",
        "outputId": "4991a660-0d44-4ada-970f-571c16342e86"
      }
    },
    {
      "cell_type": "markdown",
      "source": [
        "## LLM For Generating Grounded Content\n",
        "\n",
        "Let's use an LLM to automatically generate content for targeted marketing campaigns grounded with our knowledge graph using the above tools.\n",
        "Here is a quick example for generating promotional emails. but you can create all sorts of content with this!"
      ],
      "metadata": {
        "collapsed": false,
        "id": "90E9HGu4dyXq"
      }
    },
    {
      "cell_type": "code",
      "execution_count": 7,
      "outputs": [
        {
          "output_type": "stream",
          "name": "stdout",
          "text": [
            "LLM: Using GPT-3.5\n"
          ]
        }
      ],
      "source": [
        "from langchain.chains import RetrievalQAWithSourcesChain\n",
        "from langchain.vectorstores.neo4j_vector import Neo4jVector\n",
        "from langchain.chains.qa_with_sources import load_qa_with_sources_chain\n",
        "from langchain.prompts import SystemMessagePromptTemplate, HumanMessagePromptTemplate, ChatPromptTemplate\n",
        "from langchain.chat_models import ChatOpenAI, BedrockChat\n",
        "from langchain.schema import StrOutputParser\n",
        "from langchain.schema.runnable import RunnablePassthrough\n",
        "\n",
        "\n",
        "def load_llm(llm_name: str):\n",
        "    if llm_name == \"gpt-4\":\n",
        "        print(\"LLM: Using GPT-4\")\n",
        "        return ChatOpenAI(temperature=0, model_name=\"gpt-4\", streaming=True)\n",
        "    elif llm_name == \"gpt-3.5\":\n",
        "        print(\"LLM: Using GPT-3.5\")\n",
        "        return ChatOpenAI(temperature=0, model_name=\"gpt-3.5-turbo\", streaming=True)\n",
        "    elif llm_name == \"claudev2\":\n",
        "        print(\"LLM: ClaudeV2\")\n",
        "        return BedrockChat(\n",
        "            model_id=\"anthropic.claude-v2\",\n",
        "            model_kwargs={\"temperature\": 0.0, \"max_tokens_to_sample\": 1024},\n",
        "            streaming=True,\n",
        "        )\n",
        "    print(\"LLM: Using GPT-3.5\")\n",
        "    return ChatOpenAI(temperature=0, model_name=\"gpt-3.5-turbo\", streaming=True)\n",
        "\n",
        "\n",
        "llm = load_llm(LLM)"
      ],
      "metadata": {
        "colab": {
          "base_uri": "https://localhost:8080/"
        },
        "id": "YuCHAuTrdyXr",
        "outputId": "acc5ad1e-2bc4-4abf-89f6-b021c72d4054"
      }
    },
    {
      "cell_type": "code",
      "execution_count": 9,
      "outputs": [],
      "source": [
        "def kg_personalized_search_generator(customer_id):\n",
        "    return Neo4jVector.from_existing_index(\n",
        "        embedding=embedding_model,\n",
        "        url=NEO4J_URI,\n",
        "        username=NEO4J_USERNAME,\n",
        "        password=NEO4J_PASSWORD,\n",
        "        index_name='product-text-embeddings',\n",
        "        retrieval_query=f\"\"\"\n",
        "    WITH node as product, score as searchScore\n",
        "    OPTIONAL MATCH(product)<-[:VARIANT_OF]-(:Article)<-[r:CUSTOMERS_ALSO_PURCHASED]-(:Article)\n",
        "    <-[:PURCHASED]-(:Customer {{customerId: '{customer_id}'}})\n",
        "    WITH  product, searchScore, sum(r.score) AS purchaseScore\n",
        "    RETURN '##Product:\\n' +\n",
        "        'prodName: ' + product.prodName + '\\n' +\n",
        "        'productTypeName' + product.prodName + '\\n' +\n",
        "        'garmentGroupName' + product.prodName + '\\n' +\n",
        "        'detailDesc: ' + product.detailDesc + '\\n' +\n",
        "        'url: ' + 'https://representative-domain/product/' + product.productCode\n",
        "        AS text, (1.0 + purchaseScore)*searchScore AS score, {{source: 'https://representative-domain/product/' + product.productCode}} AS metadata\n",
        "    ORDER BY score DESC LIMIT 5\n",
        "    \"\"\"\n",
        "    )"
      ],
      "metadata": {
        "id": "WLBBVRXwdyXq"
      }
    },
    {
      "cell_type": "code",
      "execution_count": 13,
      "outputs": [],
      "source": [
        "kg_rec = Neo4jVector.from_existing_index(\n",
        "    embedding=embedding_model,\n",
        "    url=NEO4J_URI,\n",
        "    username=NEO4J_USERNAME,\n",
        "    password=NEO4J_PASSWORD,\n",
        "    index_name='product-text-embeddings',\n",
        "    retrieval_query=f\"\"\"\n",
        "    WITH node as product, score as searchScore\n",
        "    MATCH(product)<-[:VARIANT_OF]-(:Article)-[r:CUSTOMERS_ALSO_PURCHASED]->(:Article)-[:VARIANT_OF]-(recProduct)\n",
        "    WITH  recProduct, searchScore, sum(r.score) AS recScore\n",
        "    RETURN '##Product:\\n' +\n",
        "        'prodName: ' + recProduct.prodName + '\\n' +\n",
        "        'productTypeName' + recProduct.prodName + '\\n' +\n",
        "        'garmentGroupName' + recProduct.prodName + '\\n' +\n",
        "        'detailDesc: ' + recProduct.detailDesc + '\\n' +\n",
        "        'url: ' + 'https://representative-domain/product/' + recProduct.productCode\n",
        "        AS text, (1.0 + recScore)*searchScore AS score, {{source: 'https://representative-domain/product/' + recProduct.productCode}} AS metadata\n",
        "    ORDER BY score DESC LIMIT 5\n",
        "    \"\"\"\n",
        ")"
      ],
      "metadata": {
        "id": "ZFAnXFV6dyXr"
      }
    },
    {
      "cell_type": "code",
      "execution_count": 14,
      "outputs": [],
      "source": [
        "CUSTOMER_ID = \"daae10780ecd14990ea190a1e9917da33fe96cd8cfa5e80b67b4600171aa77e0\"\n",
        "\n",
        "general_system_template = '''\n",
        "You are a personal assistant named Sally for a fashion, home, and beauty company called HRM.\n",
        "write an email to {customerName}, one of your customers, to promote and summarize products relevant for them given the current season / time of year: {timeOfYear} .\n",
        "Please only mention the Products listed below. Do not come up with or add any new products to the list.\n",
        "Each product description comes with a \"url\" field. make sure to link to the url with descriptive name text for each product so the customer can easily find them.\n",
        "\n",
        "---\n",
        "# Relevant Products:\n",
        "{searchProds}\n",
        "\n",
        "# Customer May Also Be Interested In:\n",
        "{recProds}\n",
        "---\n",
        "'''\n",
        "general_user_template = \"{searchPrompt}\"\n",
        "messages = [\n",
        "    SystemMessagePromptTemplate.from_template(general_system_template),\n",
        "    HumanMessagePromptTemplate.from_template(general_user_template),\n",
        "]\n",
        "prompt = ChatPromptTemplate.from_messages(messages)\n",
        "\n",
        "def format_docs(docs):\n",
        "    return \"\\n\\n\".join([d.page_content for d in docs])\n",
        "\n",
        "\n",
        "chain = ({'searchProds': kg_personalized_search_generator(CUSTOMER_ID).as_retriever(k=100) | format_docs,\n",
        "          'recProds': kg_rec.as_retriever(k=5) | format_docs,\n",
        "          'customerName': lambda x:'Alex Smith',\n",
        "          'timeOfYear': lambda x:\"Nov, 2023\",\n",
        "          \"searchPrompt\": RunnablePassthrough()}\n",
        "         | prompt\n",
        "         | llm\n",
        "         | StrOutputParser())"
      ],
      "metadata": {
        "id": "nUpih07QdyXr"
      }
    },
    {
      "cell_type": "code",
      "execution_count": null,
      "outputs": [
        {
          "name": "stdout",
          "output_type": "stream",
          "text": [
            "Dear Alex Smith,\n",
            "\n",
            "I hope this email finds you well. As the weather gets colder, it's the perfect time to cozy up in some oversized sweaters. I wanted to share with you some of our latest and most popular options for this season.\n",
            "\n",
            "1. Betsy Oversized: This oversized, V-neck jumper is made from a soft, loose knit containing some wool and alpaca wool. It features dropped shoulders, long, wide sleeves, wide ribbing around the neckline, cuffs, and hem, and slits on the sides. You can find it [here](https://representative-domain/product/842001).\n",
            "\n",
            "2. Japp Oversize Sweater: This relaxed-fit top in sweatshirt fabric is perfect for a casual and comfortable look. It has a ribbed turtle neck, dropped shoulders, long, wide sleeves, and ribbing at the cuffs and hem. The longer back adds a stylish touch. You can find it [here](https://representative-domain/product/817392).\n",
            "\n",
            "3. HUBBY Oversized Sweater: Made from sturdy sweatshirt fabric, this oversized top features a drawstring hood, low dropped shoulders, and long sleeves with ribbed cuffs. It has two high slits at the front, one with a decorative print. The soft brushed inside adds extra warmth. You can find it [here](https://representative-domain/product/573414).\n",
            "\n",
            "4. BLANKS JIM Oversized Sweater: From our Blank Staples collection, this timeless sweatshirt is made from heavy, 460 gsm cotton sweatshirt fabric for a premium handfeel. It has a straight cut and is oversized for a relaxed fit. The round, rib-trimmed neckline, low dropped shoulders, long sleeves, and ribbing at the cuffs and hem complete the look. You can find it [here](https://representative-domain/product/917296).\n",
            "\n",
            "In addition to these oversized sweaters, you may also be interested in:\n",
            "\n",
            "1. Elin Sweatshirt: This oversized top in lightweight sweatshirt fabric features dropped shoulders, long sleeves, and ribbing around the neckline, cuffs, and hem. The brushed inside adds extra comfort. You can find it [here](https://representative-domain/product/572399).\n",
            "\n",
            "2. All Inclusive Dress: If you're looking for a dress option, this long-sleeved dress in velour is perfect. It has a V-neck and wrapover front, and it's lined for added warmth. You can find it [here](https://representative-domain/product/566618).\n",
            "\n",
            "3. Annie Oversized Hood: This oversized top in sweatshirt fabric features a lined hood with a wrapover front. It has a kangaroo pocket, dropped shoulders, long sleeves, and ribbing at the cuffs and hem. The soft brushed inside adds extra coziness. You can find it [here](https://representative-domain/product/687948).\n",
            "\n",
            "I hope you find these options appealing and suitable for the current season. If you have any further questions or need assistance with anything else, please feel free to reach out. We're here to help!\n",
            "\n",
            "Warm regards,\n",
            "\n",
            "Sally\n",
            "HRM Personal Assistant\n"
          ]
        }
      ],
      "source": [
        "print(chain.invoke(\"Oversized Sweaters\"))"
      ],
      "metadata": {
        "id": "jL6P3IoydyXr",
        "outputId": "2da2ba0f-6b3d-45df-ed42-f2144ead2814"
      }
    },
    {
      "cell_type": "code",
      "execution_count": null,
      "outputs": [
        {
          "name": "stdout",
          "output_type": "stream",
          "text": [
            "Dear Alex Smith,\n",
            "\n",
            "I hope this email finds you well. As the weather gets cooler and the holiday season approaches, I wanted to share some of our latest products that I think you will love, especially our western boots collection.\n",
            "\n",
            "1. Brush Western Boot: These ankle boots in imitation leather feature covered elastication at the sides and decorative tabs and buckles. With a comfortable heel height of approximately 4 cm, they are perfect for both casual and dressy occasions. You can find them [here](https://representative-domain/product/806766).\n",
            "\n",
            "2. Lindsay Western Boot: Made from imitation suede, these ankle boots have a zip on one side and a loop at the back for easy wear. The fabric linings, insoles, and rubber soles ensure comfort and durability. The heel measures 7.5 cm, adding a stylish touch to any outfit. Check them out [here](https://representative-domain/product/673580).\n",
            "\n",
            "3. Wilma Western Boot SPEED: If you prefer pointed toes and elastic gores, these ankle boots are a great choice. They feature fabric linings, insoles, and rubber soles for maximum comfort. The heel height is approximately 5 cm. You can find them [here](https://representative-domain/product/635392).\n",
            "\n",
            "4. Tony Wedge: For a trendy and comfortable option, these ankle boots in grained imitation leather are perfect. They have a zip on one side and wedge heels, adding height without compromising on comfort. The faux fur linings and insoles, along with sturdy fluted soles, make them ideal for all-day wear. Check them out [here](https://representative-domain/product/820139).\n",
            "\n",
            "In addition to our western boots collection, I wanted to mention a few other products that you might be interested in:\n",
            "\n",
            "1. Jimmy Drawstring Tee: This cropped, wide T-shirt in cotton jersey features a drawstring at the hem, adding a unique touch to your casual outfits. You can find it [here](https://representative-domain/product/871281).\n",
            "\n",
            "2. Svenne Sneaker: These slip-on trainers in cotton twill are both comfortable and stylish. With elastic gores on the sides and a loop at the back, they are easy to put on and take off. Check them out [here](https://representative-domain/product/580684).\n",
            "\n",
            "3. DIV Morgan Leggings: Made from cotton jersey, these leggings feature a print motif on the front and a regular waist with covered elastication. They are perfect for lounging or pairing with your favorite tops. You can find them [here](https://representative-domain/product/795400).\n",
            "\n",
            "4. Alice Braided Belt New: Complete your outfits with these narrow, braided belts featuring a round metal buckle. Available in both imitation leather and imitation suede, they add a stylish touch to any look. Check them out [here](https://representative-domain/product/891469).\n",
            "\n",
            "5. Brighton Ribbed Bikers: If you're looking for comfortable and stylish cycling shorts, these are perfect for you. Made from stretch fabric with a high, elasticated waist and ribbed section at the sides, they provide both comfort and style. You can find them [here](https://representative-domain/product/873103).\n",
            "\n",
            "I hope you find these products appealing and suitable for the current season. If you have any questions or need further assistance, please feel free to reach out to me. Happy shopping!\n",
            "\n",
            "Best regards,\n",
            "\n",
            "Sally\n",
            "HRM Personal Assistant\n"
          ]
        }
      ],
      "source": [
        "print(chain.invoke(\"western boots\"))"
      ],
      "metadata": {
        "id": "2E50XJ_3dyXr",
        "outputId": "84e8b286-ceda-49a2-9190-c719ba36bd92"
      }
    },
    {
      "cell_type": "code",
      "source": [
        "import gradio as gr\n",
        "from langchain.memory import ConversationBufferMemory\n",
        "\n",
        "memory = ConversationBufferMemory(memory_key = \"chat_history\", return_messages = True)\n",
        "agent_chain = chain\n",
        "\n",
        "def chat_response(input_text, history=None):\n",
        "    if history is None:\n",
        "        history = []\n",
        "    return agent_chain.invoke(input_text)\n",
        "    #try:\n",
        "    #    return agent_chain.run(input_text)\n",
        "    #except:\n",
        "    #    # a bit of protection against exposed error messages\n",
        "    #    # we could log these situations in the backend to revisit later in development\n",
        "    #    return \"I'm sorry, there was an error retrieving the information you requested.\"\n",
        "\n",
        "interface = gr.ChatInterface(fn = chat_response,\n",
        "                             title = \"Message Writer\",\n",
        "                             description = \"powered by Neo4j\",\n",
        "                             theme = \"soft\",\n",
        "                             chatbot = gr.Chatbot(height=500),\n",
        "                             undo_btn = None,\n",
        "                             clear_btn = \"\\U0001F5D1 Clear chat\",\n",
        "                             examples = [\"winter sweaters with zipper?\",\n",
        "                                         \"Oversized Sweaters\", \"Cowboy Boots\"])\n",
        "\n",
        "interface.launch(share=True, debug=True)"
      ],
      "metadata": {
        "colab": {
          "base_uri": "https://localhost:8080/",
          "height": 612
        },
        "id": "d--1AwMqlRXe",
        "outputId": "b8216d09-5912-4a1c-cf95-aaa6540676e8"
      },
      "execution_count": null,
      "outputs": [
        {
          "output_type": "stream",
          "name": "stdout",
          "text": [
            "Colab notebook detected. This cell will run indefinitely so that you can see errors and logs. To turn off, set debug=False in launch().\n",
            "Running on public URL: https://a7dbd916736ca91ce6.gradio.live\n",
            "\n",
            "This share link expires in 72 hours. For free permanent hosting and GPU upgrades, run `gradio deploy` from Terminal to deploy to Spaces (https://huggingface.co/spaces)\n"
          ]
        },
        {
          "output_type": "display_data",
          "data": {
            "text/plain": [
              "<IPython.core.display.HTML object>"
            ],
            "text/html": [
              "<div><iframe src=\"https://a7dbd916736ca91ce6.gradio.live\" width=\"100%\" height=\"500\" allow=\"autoplay; camera; microphone; clipboard-read; clipboard-write;\" frameborder=\"0\" allowfullscreen></iframe></div>"
            ]
          },
          "metadata": {}
        }
      ]
    },
    {
      "cell_type": "code",
      "execution_count": null,
      "outputs": [],
      "source": [
        "#TODO\n",
        "# Example with just recommendations....no recent search\n",
        "# Put in email generator in Gradio app for demo"
      ],
      "metadata": {
        "id": "j-AMcGKSdyXr"
      }
    },
    {
      "cell_type": "markdown",
      "source": [
        "## Wrap Up"
      ],
      "metadata": {
        "collapsed": false,
        "id": "Slb6MNH0dyXr"
      }
    },
    {
      "cell_type": "code",
      "execution_count": null,
      "outputs": [],
      "source": [],
      "metadata": {
        "id": "eDjWNPQXdyXr"
      }
    }
  ],
  "metadata": {
    "kernelspec": {
      "display_name": "Python 3",
      "language": "python",
      "name": "python3"
    },
    "language_info": {
      "codemirror_mode": {
        "name": "ipython",
        "version": 2
      },
      "file_extension": ".py",
      "mimetype": "text/x-python",
      "name": "python",
      "nbconvert_exporter": "python",
      "pygments_lexer": "ipython2",
      "version": "2.7.6"
    },
    "colab": {
      "provenance": [],
      "toc_visible": true
    }
  },
  "nbformat": 4,
  "nbformat_minor": 0
}