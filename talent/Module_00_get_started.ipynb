{
 "cells": [
  {
   "cell_type": "markdown",
   "metadata": {},
   "source": [
    "# Module objectives\n",
    "- Navigation and instructions\n"
   ]
  },
  {
   "cell_type": "markdown",
   "metadata": {},
   "source": [
    "## How to open module on the Jupyter Server\n",
    "Select File -> Open from URL ... \n",
    "\n",
    "Module 1:\n",
    "https://raw.githubusercontent.com/neo4j-product-examples/genai-workshop/refs/heads/main/talent/module_01_graph_basics.ipynb\n",
    "\n",
    "Module 2: \n",
    "https://raw.githubusercontent.com/neo4j-product-examples/genai-workshop/refs/heads/main/talent/module_02_unstructured_data.ipynb\n",
    "\n",
    "Module 3: \n",
    "https://raw.githubusercontent.com/neo4j-product-examples/genai-workshop/refs/heads/main/talent/module_03_graphrag_agent.ipynb\n"
   ]
  },
  {
   "cell_type": "markdown",
   "metadata": {},
   "source": [
    "## Neo4j Browser\n",
    "https://browser.neo4j.io/preview/"
   ]
  }
 ],
 "metadata": {
  "colab": {
   "provenance": []
  },
  "kernelspec": {
   "display_name": "Python 3 (ipykernel)",
   "language": "python",
   "name": "python3"
  },
  "language_info": {
   "codemirror_mode": {
    "name": "ipython",
    "version": 3
   },
   "file_extension": ".py",
   "mimetype": "text/x-python",
   "name": "python",
   "nbconvert_exporter": "python",
   "pygments_lexer": "ipython3",
   "version": "3.11.5"
  }
 },
 "nbformat": 4,
 "nbformat_minor": 4
}
