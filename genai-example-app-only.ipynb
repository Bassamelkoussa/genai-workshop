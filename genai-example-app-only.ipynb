{
 "cells": [
  {
   "cell_type": "markdown",
   "metadata": {
    "collapsed": false,
    "id": "I8F3XGz_dyXc"
   },
   "source": [
    "# Neo4j Generative AI Workshop Example Application\n",
    "[![Open In Colab](https://colab.research.google.com/assets/colab-badge.svg)](https://colab.research.google.com/github/neo4j-product-examples/genai-workshop/blob/main/genai-example-app-only.ipynb)\n",
    "\n",
    " __This notebook contains just the demo application for the LLM content generator and assumes you have already run the main workshop notebook `genai-example-app-only.ipynb`__\n",
    "\n",
    "In this workshop, you will learn how to use Neo4j Knowledge Graphs to make Large Language Models (LLMs) useful for more real-world use cases.\n",
    "\n",
    "We walk through an example that uses real-world customer and product data from a fashion, style, and beauty retailer. We show how you can use a knowledge graph to ground an LLM, enabling it to build tailored marketing content personalized to each customer based on their interests and shared purchase histories. We use a pattern called Retrieval-Augmented Generation (RAG) to accomplish this.  Specifically, one that leverages not only vector search but also graph pattern matching and graph machine learning to provide more relevant personalized results to customers.\n",
    "\n",
    "The workshop walks through the end-to-end process, including the below.  This notebook contains just the final demo application for the LLM content generator.\n",
    "- Building the knowledge graph\n",
    "- Vector search & text embedding\n",
    "- Using graph patterns in Cypher to improve semantic search with context\n",
    "- Further augmenting semantic search with knowledge graph inference & ML\n",
    "- Building the LLM chain and demo app for generating content"
   ]
  },
  {
   "cell_type": "markdown",
   "metadata": {
    "collapsed": false,
    "id": "cmjr1dz8dyXd"
   },
   "source": [
    "## Setup"
   ]
  },
  {
   "cell_type": "markdown",
   "source": [
    "### Some Logics\n",
    "1. Make a copy of this notebook in Colab by [clicking here](https://colab.research.google.com/github/neo4j-product-examples/genai-workshop/blob/main/genai-workshop.ipynb).\n",
    "2. Run the pip install below to get the necessary dependencies.  this can take a while. Then run the following cell to import relevant libraries\n"
   ],
   "metadata": {
    "collapsed": false,
    "id": "8yxD7Ah0ZACB"
   }
  },
  {
   "cell_type": "code",
   "execution_count": 15,
   "outputs": [],
   "source": [
    "%%capture\n",
    "%pip install langchain langchain-openai openai tiktoken python-dotenv gradio neo4j"
   ],
   "metadata": {
    "pycharm": {
     "name": "#%%capture\n"
    },
    "id": "yY1XylsiZACB"
   }
  },
  {
   "cell_type": "code",
   "execution_count": 16,
   "metadata": {
    "id": "7psF1otOdyXe"
   },
   "outputs": [],
   "source": [
    "import pandas as pd\n",
    "import numpy as np\n",
    "from dotenv import load_dotenv\n",
    "import os\n",
    "from langchain_openai import OpenAIEmbeddings, ChatOpenAI\n",
    "from langchain.vectorstores.neo4j_vector import Neo4jVector\n",
    "from langchain.graphs import Neo4jGraph\n",
    "from langchain.prompts import SystemMessagePromptTemplate, HumanMessagePromptTemplate, ChatPromptTemplate\n",
    "from langchain.schema import StrOutputParser\n",
    "from langchain.schema.runnable import RunnableLambda\n",
    "import gradio as gr\n",
    "\n",
    "pd.set_option('display.max_rows', 10)\n",
    "pd.set_option('display.max_colwidth', 500)\n",
    "pd.set_option('display.width', 0)"
   ]
  },
  {
   "cell_type": "markdown",
   "metadata": {
    "collapsed": false,
    "id": "_ar1ZFhPdyXe"
   },
   "source": [
    "### Setup Credentials and Environment Variables\n",
    "\n",
    "There are two things you need here.\n",
    "1. Start a blank [Neo4j Sandbox](https://sandbox.neo4j.com/). Get your URI and password and plug them in below.  Do not change the Neo4j username.\n",
    "2. Get your OpenAI API key.  You can use [this one](https://docs.google.com/document/d/19Lqjd0MqRs088KUVnd23ZrVU9G0OAg-53U72VrFwwms/edit) if you do not have one already\n",
    "\n",
    "To make this easy, you can write the credentials and env variables directly into the below cell."
   ]
  },
  {
   "cell_type": "code",
   "execution_count": 17,
   "metadata": {
    "id": "BQ9s0ZWhekd8"
   },
   "outputs": [],
   "source": [
    "import os\n",
    "\n",
    "# Neo4j\n",
    "NEO4J_URI = 'bolt://34.202.229.218:7687' #change this\n",
    "NEO4J_PASSWORD = 'terminologies-fire-planet' #change this\n",
    "NEO4J_USERNAME = 'neo4j'\n",
    "AURA_DS = False\n",
    "\n",
    "# AI\n",
    "LLM = 'gpt-4'\n",
    "\n",
    "# OpenAI - Required when using OpenAI models\n",
    "os.environ['OPENAI_API_KEY'] = 'sk-...' #change this"
   ]
  },
  {
   "cell_type": "code",
   "execution_count": 26,
   "metadata": {
    "id": "o-98NuINdyXe"
   },
   "outputs": [],
   "source": [
    "# You can skip this cell if not using a ws.env file - alternative to above\n",
    "from dotenv import load_dotenv\n",
    "import os\n",
    "\n",
    "if os.path.exists('ws-aura.env'):\n",
    "    load_dotenv('ws-aura.env', override=True)\n",
    "\n",
    "    # Neo4j\n",
    "    NEO4J_URI = os.getenv('NEO4J_URI')\n",
    "    NEO4J_USERNAME = os.getenv('NEO4J_USERNAME')\n",
    "    NEO4J_PASSWORD = os.getenv('NEO4J_PASSWORD')\n",
    "    AURA_DS = eval(os.getenv('AURA_DS').title())\n",
    "\n",
    "    # AI\n",
    "    LLM = os.getenv('LLM')"
   ]
  },
  {
   "cell_type": "markdown",
   "metadata": {
    "collapsed": false,
    "id": "90E9HGu4dyXq"
   },
   "source": [
    "## LLM For Generating Grounded Content\n",
    "\n",
    "Let's use an LLM to automatically generate content for targeted marketing campaigns grounded with our knowledge graph using the above tools.\n",
    "Here is a quick example for generating promotional messages, but you can create all sorts of content with this!\n",
    "\n",
    "For our first message, let's consider a scenario where a user recently searched for products, but perhaps didn't commit to a purchase yet. We now want to send a message to promote relevant products."
   ]
  },
  {
   "cell_type": "code",
   "execution_count": 27,
   "outputs": [],
   "source": [
    "from langchain_openai import OpenAIEmbeddings\n",
    "\n",
    "embedding_model = OpenAIEmbeddings()\n",
    "embedding_dimension = 1536"
   ],
   "metadata": {
    "collapsed": false
   }
  },
  {
   "cell_type": "code",
   "execution_count": 28,
   "metadata": {
    "id": "JI9LVEdKekeH"
   },
   "outputs": [],
   "source": [
    "# Import relevant libraries\n",
    "from langchain.prompts import SystemMessagePromptTemplate, HumanMessagePromptTemplate, ChatPromptTemplate\n",
    "from langchain_openai import ChatOpenAI\n",
    "from langchain.schema import StrOutputParser\n",
    "\n",
    "#Instantiate LLM\n",
    "llm = ChatOpenAI(temperature=0, model_name=LLM, streaming=True)"
   ]
  },
  {
   "cell_type": "markdown",
   "metadata": {
    "collapsed": false,
    "id": "8I6JesV0ekeH"
   },
   "source": [
    "### Create Knowledge Graph Stores for Retrieval\n",
    "\n",
    "To ground our content generation, we need to define retrievers to pull information from our knowledge graph.  Let's make two stores:\n",
    "1. Personalized Search Retriever (`kg_personalized_search`): Based on recent customer searches and purchase history, pull relevant products.\n",
    "2. Recommendations retriever (`kg_recommendations_app`): Based on our Graph ML, what else can we recommend to them to pair with the relevant products?\n"
   ]
  },
  {
   "cell_type": "code",
   "execution_count": 43,
   "metadata": {
    "id": "WLBBVRXwdyXq"
   },
   "outputs": [],
   "source": [
    "# We will use a mock URL for our sources in the metadata\n",
    "\n",
    "def kg_personalized_search_gen(customer_id):\n",
    "    return Neo4jVector.from_existing_index(\n",
    "        embedding=embedding_model,\n",
    "        url=NEO4J_URI,\n",
    "        username=NEO4J_USERNAME,\n",
    "        password=NEO4J_PASSWORD,\n",
    "        index_name='product_text_embeddings',\n",
    "        retrieval_query=f\"\"\"\n",
    "        WITH node AS product, score AS searchScore\n",
    "\n",
    "        OPTIONAL MATCH(product)<-[:VARIANT_OF]-(:Article)<-[:PURCHASED]-(:Customer)\n",
    "        -[:PURCHASED]->(a:Article)<-[:PURCHASED]-(:Customer {{customerId: '{customer_id}'}})\n",
    "        WITH count(a) AS purchaseScore, product, searchScore\n",
    "        RETURN product.text + '\\nurl: ' + 'https://representative-domain/product/' + product.productCode  AS text,\n",
    "            (1.0+purchaseScore)*searchScore AS score,\n",
    "            {{source: 'https://representative-domain/product/' + product.productCode}} AS metadata\n",
    "        ORDER BY purchaseScore DESC, searchScore DESC LIMIT 5\n",
    "\n",
    "    \"\"\"\n",
    "    )\n",
    "\n",
    "# Use the same personalized recommendations as above but with a smaller limit\n",
    "kg = Neo4jGraph(url=NEO4J_URI, username=NEO4J_USERNAME, password=NEO4J_PASSWORD)\n",
    "def kg_recommendations_app(customer_id, k=30):\n",
    "    res = kg.query(\"\"\"\n",
    "    MATCH(:Customer {customerId:$customerId})-[:PURCHASED]->(:Article)\n",
    "    -[r:CUSTOMERS_ALSO_LIKE]->(:Article)-[:VARIANT_OF]->(product)\n",
    "    RETURN product.text + '\\nurl: ' + 'https://representative-domain/product/' + product.productCode  AS text,\n",
    "        sum(r.score) AS recommenderScore\n",
    "    ORDER BY recommenderScore DESC LIMIT $k\n",
    "    \"\"\", params={'customerId': customer_id, 'k':k})\n",
    "\n",
    "    return \"\\n\\n\".join([d['text'] for d in res])"
   ]
  },
  {
   "cell_type": "markdown",
   "metadata": {
    "collapsed": false,
    "id": "i7sCt8roekeH"
   },
   "source": [
    "### Prompt Engineering\n",
    "\n",
    "Now, let's define our prompts. We will combine two:\n",
    "1. A system prompt which, in this case, tells the LLM how to generate the message\n",
    "2. A human prompt that just wraps the customer search(es)/interest(s)\n",
    "\n",
    "This will allow us to pass the customer interest(s) to the retriever but then also to the LLM for additional context when drafting the message.\n"
   ]
  },
  {
   "cell_type": "code",
   "execution_count": 44,
   "metadata": {
    "id": "aUAROR6aekeI"
   },
   "outputs": [],
   "source": [
    "general_system_template = '''\n",
    "You are a personal assistant named Sally for a fashion, home, and beauty company called HRM.\n",
    "write an email to {customerName}, one of your customers, to promote and summarize products relevant for them given the current season / time of year: {timeOfYear} .\n",
    "Please only mention the products listed below. Do not come up with or add any new products to the list.\n",
    "Each product comes with an https `url` field. Make sure to provide that https url with descriptive name text in markdown for each product.\n",
    "\n",
    "---\n",
    "# Relevant Products:\n",
    "{searchProds}\n",
    "\n",
    "# Customer May Also Be Interested In the following\n",
    " (pick items from here that pair with the above products well for the current season / time of year: {timeOfYear}.\n",
    " prioritize those higher in the list if possible):\n",
    "{recProds}\n",
    "---\n",
    "'''\n",
    "general_user_template = \"{searchPrompt}\"\n",
    "messages = [\n",
    "    SystemMessagePromptTemplate.from_template(general_system_template),\n",
    "    HumanMessagePromptTemplate.from_template(general_user_template),\n",
    "]\n",
    "prompt = ChatPromptTemplate.from_messages(messages)"
   ]
  },
  {
   "cell_type": "markdown",
   "metadata": {
    "collapsed": false,
    "id": "TgFbaUt6ekeI"
   },
   "source": [
    "### Create a Chain\n",
    "\n",
    "Now let's put a chain together that will leverage the retrievers, prompts, and LLM model. This is where Langchain shines, putting RAG together in a simple way.\n",
    "\n",
    "In addition to the personalized search and recommendations context, we will allow for some other parameters.\n",
    "\n",
    "1. `timeOfYear`: The time of year as a date, season, month, etc. so the LLM can tailor the language appropriately.\n",
    "2. `customerName`: Ordinarily, this can be pulled from the DB, but it has been scrubbed to maintain anonymity, so we will provide our own name here.\n",
    "\n",
    "You can potentially add other creative parameters here to help the LLM write relevant messages.\n"
   ]
  },
  {
   "cell_type": "code",
   "execution_count": 45,
   "metadata": {
    "id": "nUpih07QdyXr"
   },
   "outputs": [],
   "source": [
    "from langchain.schema.runnable import RunnableLambda\n",
    "\n",
    "# helper function\n",
    "def format_docs(docs):\n",
    "    return \"\\n\\n\".join([d.page_content for d in docs])\n",
    "\n",
    "# LLM chain\n",
    "def chain_gen(customer_id):\n",
    "    return ({'searchProds': (lambda x:x['searchPrompt']) | kg_personalized_search_gen(customer_id).as_retriever(search_kwargs={\"k\": 100}) | format_docs,\n",
    "             'recProds': (lambda x:customer_id) |  RunnableLambda(kg_recommendations_app),\n",
    "             'customerName': lambda x:x['customerName'],\n",
    "             'timeOfYear': lambda x:x['timeOfYear'],\n",
    "             \"searchPrompt\":  lambda x:x['searchPrompt']}\n",
    "            | prompt\n",
    "            | llm\n",
    "            | StrOutputParser())"
   ]
  },
  {
   "cell_type": "markdown",
   "metadata": {
    "collapsed": false,
    "id": "JjbUGH6WekeI"
   },
   "source": [
    "### Example Runs"
   ]
  },
  {
   "cell_type": "code",
   "execution_count": 46,
   "outputs": [],
   "source": [
    "# example inputs\n",
    "CUSTOMER_ID = \"daae10780ecd14990ea190a1e9917da33fe96cd8cfa5e80b67b4600171aa77e0\"\n",
    "search_prompt = 'Oversized Sweaters'"
   ],
   "metadata": {
    "collapsed": false
   }
  },
  {
   "cell_type": "code",
   "execution_count": 47,
   "metadata": {
    "id": "lkBdqOVjekeI"
   },
   "outputs": [],
   "source": [
    "chain = chain_gen(CUSTOMER_ID)"
   ]
  },
  {
   "cell_type": "code",
   "execution_count": 48,
   "outputs": [
    {
     "name": "stdout",
     "output_type": "stream",
     "text": [
      "Dear Alex Smith,\n",
      "\n",
      "I hope this email finds you well. As we are in the heart of winter, I wanted to share some of our cozy and stylish products that are perfect for this season. \n",
      "\n",
      "Firstly, our [3p Sneaker Socks](https://representative-domain/product/160442) are short, fine-knit socks designed to be hidden by your shoes with a silicone trim at the back of the heel to keep them in place. They are perfect for keeping your feet warm and comfortable.\n",
      "\n",
      "Next, our [Hathaway Top](https://representative-domain/product/575141) is a long-sleeved jersey top that is perfect for layering under sweaters or jackets. It's a versatile piece that can be dressed up or down.\n",
      "\n",
      "For your comfort, we have two bras that you might like. The [Beast wireless push chicago](https://representative-domain/product/751282) is a non-wired lace bra with padded cups for a larger bust and fuller cleavage. The [Orlando C&S Push](https://representative-domain/product/810557) is an underwired bra in lace with removable inserts that shape the bust and provide good support.\n",
      "\n",
      "Our [Sky HW jogger](https://representative-domain/product/759814) is a pair of joggers in sweatshirt fabric with a high elasticated drawstring waist, side pockets, and elasticated hems. They have a soft brushed inside for extra warmth.\n",
      "\n",
      "To complete your winter wardrobe, I recommend pairing these items with our [Lead Superskinny Trousers](https://representative-domain/product/731142) and [Dixie Tee](https://representative-domain/product/598806). The trousers are chinos in stretch twill with a zip fly and button, side pockets, welt back pockets, and skinny legs. The Dixie Tee is a short top in soft cotton jersey with short sleeves and contrasting color trims around the neckline and sleeves.\n",
      "\n",
      "Lastly, for those extra chilly days, our [Petar Sweater](https://representative-domain/product/557247) is an oversized top in sturdy sweatshirt fabric with dropped shoulders and ribbing around the neckline, cuffs, and hem. It has a soft brushed inside for added warmth.\n",
      "\n",
      "I hope you find these suggestions helpful. Please let me know if you have any questions or need further assistance.\n",
      "\n",
      "Best Regards,\n",
      "Sally\n",
      "HRM Personal Assistant\n"
     ]
    }
   ],
   "source": [
    "#print(chain.invoke({'searchPrompt':search_prompt, 'customerName':'Alex Smith', 'timeOfYear':'Feb, 2024'}))"
   ],
   "metadata": {
    "collapsed": false
   }
  },
  {
   "cell_type": "markdown",
   "source": [
    "#### Inspecting the Prompt Sent to the LLM\n",
    "In the above run, the LLM should only be using results from our Neo4j database to populate recommendations. Run the below cell to see the final prompt that was sent to the LLM."
   ],
   "metadata": {
    "id": "Vy3fKoC1E0CC"
   }
  },
  {
   "cell_type": "code",
   "source": [
    "def format_final_prompt(x):\n",
    "   return f'''=== Prompt to send to LLM ===\n",
    "   {x.to_string()}\n",
    "   === End Prompt ===\n",
    "   '''\n",
    "\n",
    "def chain_print_prompt(customer_id):\n",
    "    return ({'searchProds': (lambda x:x['searchPrompt']) | kg_personalized_search_gen(customer_id).as_retriever(search_kwargs={\"k\": 100}) | format_docs,\n",
    "             'recProds': (lambda x:customer_id) |  RunnableLambda(kg_recommendations_app),\n",
    "             'customerName': lambda x:x['customerName'],\n",
    "             'timeOfYear': lambda x:x['timeOfYear'],\n",
    "             \"searchPrompt\":  lambda x:x['searchPrompt']}\n",
    "            | prompt\n",
    "            | format_final_prompt\n",
    "            | StrOutputParser())\n",
    "\n",
    "print( chain_print_prompt(CUSTOMER_ID)\\\n",
    "      .invoke({'searchPrompt':search_prompt, 'customerName':'Alex Smith', 'timeOfYear':'Feb, 2024'}))"
   ],
   "metadata": {
    "colab": {
     "base_uri": "https://localhost:8080/"
    },
    "id": "Z7-yDDUaD6FD",
    "outputId": "686d5f56-2cb8-49bc-8e29-6eb47cb40762"
   },
   "execution_count": 49,
   "outputs": [
    {
     "name": "stdout",
     "output_type": "stream",
     "text": [
      "=== Prompt to send to LLM ===\n",
      "   System: \n",
      "You are a personal assistant named Sally for a fashion, home, and beauty company called HRM.\n",
      "write an email to Alex Smith, one of your customers, to promote and summarize products relevant for them given the current season / time of year: Feb, 2024 .\n",
      "Please only mention the products listed below. Do not come up with or add any new products to the list.\n",
      "Each product comes with an https `url` field. Make sure to provide that https url with descriptive name text in markdown for each product.\n",
      "\n",
      "---\n",
      "# Relevant Products:\n",
      "##Product\n",
      "Name: 3p Sneaker Socks\n",
      "Type: Socks\n",
      "Group: Socks & Tights\n",
      "Garment Type: Socks and Tights\n",
      "Description: Short, fine-knit socks designed to be hidden by your shoes with a silicone trim at the back of the heel to keep them in place.\n",
      "url: https://representative-domain/product/160442\n",
      "\n",
      "##Product\n",
      "Name: Hathaway\n",
      "Type: Top\n",
      "Group: Garment Upper body\n",
      "Garment Type: Jersey Basic\n",
      "Description: Long-sleeved jersey top.\n",
      "url: https://representative-domain/product/575141\n",
      "\n",
      "##Product\n",
      "Name: Beast wireless push chicago\n",
      "Type: Bra\n",
      "Group: Underwear\n",
      "Garment Type: Under-, Nightwear\n",
      "Description: Non-wired lace bra with padded cups for a larger bust and fuller cleavage. Narrow, adjustable shoulder straps and a hook-and-eye fastening at the back.\n",
      "url: https://representative-domain/product/751282\n",
      "\n",
      "##Product\n",
      "Name: Sky HW jogger\n",
      "Type: Trousers\n",
      "Group: Garment Lower body\n",
      "Garment Type: Jersey Basic\n",
      "Description: Joggers in sweatshirt fabric with a high elasticated drawstring waist, side pockets and elasticated hems. Soft brushed inside.\n",
      "url: https://representative-domain/product/759814\n",
      "\n",
      "##Product\n",
      "Name: Orlando C&S Push\n",
      "Type: Bra\n",
      "Group: Underwear\n",
      "Garment Type: Under-, Nightwear\n",
      "Description: Underwired bra in lace with removable inserts that shape the bust and provide good support. Adjustable shoulder straps, a hook-and-eye fastening at the back, and a wide lace trim at the hem.\n",
      "url: https://representative-domain/product/810557\n",
      "\n",
      "# Customer May Also Be Interested In the following\n",
      " (pick items from here that pair with the above products well for the current season / time of year: Feb, 2024.\n",
      " prioritize those higher in the list if possible):\n",
      "##Product\n",
      "Name: Lead Superskinny\n",
      "Type: Trousers\n",
      "Group: Garment Lower body\n",
      "Garment Type: Trousers\n",
      "Description: Chinos in stretch twill with a zip fly and button, side pockets, welt back pockets and skinny legs.\n",
      "url: https://representative-domain/product/731142\n",
      "\n",
      "##Product\n",
      "Name: Dixie tee\n",
      "Type: T-shirt\n",
      "Group: Garment Upper body\n",
      "Garment Type: Jersey Fancy\n",
      "Description: Short top in soft cotton jersey with short sleeves. Contrasting colour trims around the neckline and sleeves.\n",
      "url: https://representative-domain/product/598806\n",
      "\n",
      "##Product\n",
      "Name: Skinny  RW Ankle Milo Zip\n",
      "Type: Trousers\n",
      "Group: Garment Lower body\n",
      "Garment Type: Trousers Denim\n",
      "Description: 5-pocket, ankle-length jeans in washed stretch denim with hard-worn details, a regular waist, zip fly and button, and skinny legs with a zip at the hems. The jeans are made partly from recycled cotton.\n",
      "url: https://representative-domain/product/682848\n",
      "\n",
      "##Product\n",
      "Name: Rosemary\n",
      "Type: Dress\n",
      "Group: Garment Full body\n",
      "Garment Type: Dresses Ladies\n",
      "Description: Short dress in woven fabric with 3/4-length sleeves with an opening and ties at the cuffs, and a gently rounded hem. Unlined.\n",
      "url: https://representative-domain/product/753724\n",
      "\n",
      "##Product\n",
      "Name: Leona Push Mirny\n",
      "Type: Bra\n",
      "Group: Underwear\n",
      "Garment Type: Under-, Nightwear\n",
      "Description: Push-up bra in lace and mesh with underwired, moulded, padded cups for a larger bust and fuller cleavage. Lace racer back, narrow adjustable shoulder straps, a wide mesh strap at the back and metal fastener at the front.\n",
      "url: https://representative-domain/product/511924\n",
      "\n",
      "##Product\n",
      "Name: DONT USE ROLAND HOOD\n",
      "Type: Hoodie\n",
      "Group: Garment Upper body\n",
      "Garment Type: Jersey Basic\n",
      "Description: Top in sweatshirt fabric with a lined drawstring hood, kangaroo pocket, long raglan sleeves and ribbing at the cuffs and hem.\n",
      "url: https://representative-domain/product/569974\n",
      "\n",
      "##Product\n",
      "Name: PASTRY SWEATER\n",
      "Type: Sweater\n",
      "Group: Garment Upper body\n",
      "Garment Type: Knitwear\n",
      "Description: Jumper in soft, textured-knit cotton with long raglan sleeves and ribbing around the neckline, cuffs and hem.\n",
      "url: https://representative-domain/product/656401\n",
      "\n",
      "##Product\n",
      "Name: Haven back detail\n",
      "Type: Bra\n",
      "Group: Underwear\n",
      "Garment Type: Under-, Nightwear\n",
      "Description: Push-up bra in lace and mesh with underwired, moulded, padded cups for a larger bust and fuller cleavage. Lace racer back, narrow adjustable shoulder straps, a wide mesh strap at the back and a metal fastener at the front.\n",
      "url: https://representative-domain/product/660519\n",
      "\n",
      "##Product\n",
      "Name: Banks\n",
      "Type: Hoodie\n",
      "Group: Garment Upper body\n",
      "Garment Type: Jersey Basic\n",
      "Description: Long-sleeved top in sweatshirt fabric made from a cotton blend with a double-layered hood, gently dropped shoulders and ribbing at the cuffs and hem. Soft brushed inside.\n",
      "url: https://representative-domain/product/752193\n",
      "\n",
      "##Product\n",
      "Name: Rylee flatform\n",
      "Type: Heeled sandals\n",
      "Group: Shoes\n",
      "Garment Type: Shoes\n",
      "Description: Sandals with imitation suede straps, an elastic heel strap and wedge heels. Satin insoles and thermoplastic rubber (TPR) soles. Platform front 2 cm, heel 6 cm.\n",
      "url: https://representative-domain/product/606711\n",
      "\n",
      "##Product\n",
      "Name: Eden SP Andes\n",
      "Type: Bra\n",
      "Group: Underwear\n",
      "Garment Type: Under-, Nightwear\n",
      "Description: Super push-up bra in lace with underwired, thickly padded cups to maximise the bust and create a fuller cleavage. Adjustable shoulder straps, a racer back and metal front fastenings.\n",
      "url: https://representative-domain/product/640129\n",
      "\n",
      "##Product\n",
      "Name: Bubble Bum Bandeau (1)\n",
      "Type: Bikini top\n",
      "Group: Swimwear\n",
      "Garment Type: Swimwear\n",
      "Description: Fully lined bandeau bikini top with padded cups and removable inserts. Detachable ties at the back of the neck, ties at the back, side support and a silicone trim at the top.\n",
      "url: https://representative-domain/product/642498\n",
      "\n",
      "##Product\n",
      "Name: Karin headband\n",
      "Type: Hairband\n",
      "Group: Accessories\n",
      "Garment Type: Accessories\n",
      "Description: Wide hairband in cotton jersey with a twisted detail.\n",
      "url: https://representative-domain/product/620425\n",
      "\n",
      "##Product\n",
      "Name: Malte r-neck\n",
      "Type: Sweater\n",
      "Group: Garment Upper body\n",
      "Garment Type: Knitwear\n",
      "Description: Jumper in soft, patterned, fine-knit cotton with ribbing around the neckline, cuffs and hem.\n",
      "url: https://representative-domain/product/713577\n",
      "\n",
      "##Product\n",
      "Name: Petar Sweater(1)\n",
      "Type: Sweater\n",
      "Group: Garment Upper body\n",
      "Garment Type: Jersey Basic\n",
      "Description: Oversized top in sturdy sweatshirt fabric with dropped shoulders and ribbing around the neckline, cuffs and hem. Soft brushed inside.\n",
      "url: https://representative-domain/product/557247\n",
      "\n",
      "##Product\n",
      "Name: Survivor\n",
      "Type: Blouse\n",
      "Group: Garment Upper body\n",
      "Garment Type: Blouses\n",
      "Description: Straight-cut blouse in a crêpe weave with a collar, concealed buttons down the front and fake flap front pockets. Yoke with a pleat at the back, long sleeves with pleats and buttoned cuffs, and a straight cut hem with slits in the sides.\n",
      "url: https://representative-domain/product/662328\n",
      "\n",
      "##Product\n",
      "Name: Silver lake\n",
      "Type: Sweater\n",
      "Group: Garment Upper body\n",
      "Garment Type: Knitwear\n",
      "Description: Purl-knit jumper in a cotton blend with a slightly wider neckline and 3/4-length sleeves.\n",
      "url: https://representative-domain/product/244267\n",
      "\n",
      "##Product\n",
      "Name: Babe L/S\n",
      "Type: Top\n",
      "Group: Garment Upper body\n",
      "Garment Type: Jersey Fancy\n",
      "Description: Long top in soft, ribbed jersey with long sleeves, high slits in the sides and a rounded, raw-edge hem. Longer at the back.\n",
      "url: https://representative-domain/product/509210\n",
      "\n",
      "##Product\n",
      "Name: L Lilo Pile Coat\n",
      "Type: Jacket\n",
      "Group: Garment Upper body\n",
      "Garment Type: Outdoor\n",
      "Description: Coat in soft pile with narrow notch lapels, concealed press-studs down the front, and side pockets. Lined.\n",
      "url: https://representative-domain/product/790006\n",
      "\n",
      "##Product\n",
      "Name: Casey HW straight trousers\n",
      "Type: Trousers\n",
      "Group: Garment Lower body\n",
      "Garment Type: Jersey Fancy\n",
      "Description: Ankle-length trousers in sturdy cotton jersey. High waist with pleats, a zip fly with a hook-and-eye fastening, and tapered legs with a slit at the front.\n",
      "url: https://representative-domain/product/736708\n",
      "\n",
      "##Product\n",
      "Name: Johanna\n",
      "Type: Sweater\n",
      "Group: Garment Upper body\n",
      "Garment Type: Knitwear\n",
      "Description: Top in ribbed jersey containing glittery threads. V-neck, spaghetti shoulder straps and a straight-cut hem.\n",
      "url: https://representative-domain/product/716759\n",
      "\n",
      "##Product\n",
      "Name: ROBIE ISW 19\n",
      "Type: T-shirt\n",
      "Group: Garment Upper body\n",
      "Garment Type: Jersey Fancy\n",
      "Description: T-shirt in soft, printed cotton jersey with a round neck and straight-cut hem.\n",
      "url: https://representative-domain/product/651082\n",
      "\n",
      "##Product\n",
      "Name: Tess Tee\n",
      "Type: T-shirt\n",
      "Group: Garment Upper body\n",
      "Garment Type: Jersey Basic\n",
      "Description: Long T-shirt in jersey with sewn-in turn-ups on the sleeves.\n",
      "url: https://representative-domain/product/571436\n",
      "\n",
      "##Product\n",
      "Name: DORIS CREW\n",
      "Type: Sweater\n",
      "Group: Garment Upper body\n",
      "Garment Type: Jersey Fancy\n",
      "Description: Top in sweatshirt fabric with a motif on the front and ribbing around the neckline, cuffs and hem. Soft brushed inside.\n",
      "url: https://representative-domain/product/687016\n",
      "\n",
      "##Product\n",
      "Name: Griezman\n",
      "Type: Blouse\n",
      "Group: Garment Upper body\n",
      "Garment Type: Blouses\n",
      "Description: Blouse in a crinkled viscose weave with a V-neck, short dolman sleeves with sewn-in turn-ups, and a gently rounded hem. Wide fit, longer at the back.\n",
      "url: https://representative-domain/product/707743\n",
      "\n",
      "##Product\n",
      "Name: Baby shark top\n",
      "Type: Bikini top\n",
      "Group: Swimwear\n",
      "Garment Type: Swimwear\n",
      "Description: Lined, non-wired bikini top with flounces. Adjustable shoulder straps, cups with removable inserts that shape the bust and provide good support, and a metal fastener at the back.\n",
      "url: https://representative-domain/product/861410\n",
      "\n",
      "##Product\n",
      "Name: Derek\n",
      "Type: Dress\n",
      "Group: Garment Full body\n",
      "Garment Type: Dresses Ladies\n",
      "Description: Calf-length dress in woven fabric with a collar, long sleeves and wide cuffs with a slit. Narrow elasticated seam at the waist, a pleated skirt and laser-cut hem. Unlined.\n",
      "url: https://representative-domain/product/706366\n",
      "\n",
      "##Product\n",
      "Name: BISCUIT\n",
      "Type: Sweater\n",
      "Group: Garment Upper body\n",
      "Garment Type: Knitwear\n",
      "Description: Long-sleeved jumper in a soft, fine knit with ribbing around the neckline, cuffs and hem.\n",
      "url: https://representative-domain/product/657852\n",
      "\n",
      "##Product\n",
      "Name: Maja Cardigan\n",
      "Type: Cardigan\n",
      "Group: Garment Upper body\n",
      "Garment Type: Knitwear\n",
      "Description: Cardigan in a soft, fine knit with slits in the sides and no buttons.\n",
      "url: https://representative-domain/product/446224\n",
      "\n",
      "##Product\n",
      "Name: Elena sneaker\n",
      "Type: Sneakers\n",
      "Group: Shoes\n",
      "Garment Type: Shoes\n",
      "Description: Slip-on fabric trainers with a decorative knot detail at the front. Canvas linings and insoles and thermoplastic rubber (TPR) soles.\n",
      "url: https://representative-domain/product/698470\n",
      "---\n",
      "\n",
      "Human: Oversized Sweaters\n",
      "   === End Prompt ===\n",
      "   \n"
     ]
    }
   ]
  },
  {
   "cell_type": "markdown",
   "metadata": {
    "collapsed": false,
    "id": "8G_vdFviekeI"
   },
   "source": [
    "Feel free to experiment and try more!"
   ]
  },
  {
   "cell_type": "code",
   "execution_count": null,
   "outputs": [],
   "source": [
    "#print(chain.invoke({'searchPrompt':\"western boots\", 'customerName':'Alex Smith', 'timeOfYear':'Feb, 2024'}))"
   ],
   "metadata": {
    "id": "qeOts3Q4ZACL"
   }
  },
  {
   "cell_type": "markdown",
   "metadata": {
    "collapsed": false,
    "id": "1IU_gedrekeI"
   },
   "source": [
    "### Demo App\n",
    "Now let’s use the above tools to create a demo app with Gradio.  We will need to make a couple more functions, but otherwise easy to fire up from a Notebook!"
   ]
  },
  {
   "cell_type": "code",
   "execution_count": 50,
   "metadata": {
    "id": "A1F0ve3cekeI"
   },
   "outputs": [],
   "source": [
    "# Create a means to generate and cache chains...so we can quickly try different customer ids\n",
    "personalized_search_chain_cache = dict()\n",
    "def get_chain(customer_id):\n",
    "    if customer_id in personalized_search_chain_cache:\n",
    "        return personalized_search_chain_cache[customer_id]\n",
    "    chain = chain_gen(customer_id)\n",
    "    personalized_search_chain_cache[customer_id] = chain\n",
    "    return chain\n",
    "\n",
    "# create multiple demo examples to try\n",
    "examples = [\n",
    "    [\n",
    "        CUSTOMER_ID,\n",
    "        'Feb, 2024',\n",
    "        'Alex Smith',\n",
    "        'Oversized Sweaters'\n",
    "    ],\n",
    "    [\n",
    "        '819f4eab1fd76b932fd403ae9f427de8eb9c5b64411d763bb26b5c8c3c30f16f',\n",
    "        'Feb, 2024',\n",
    "        'Robin Fischer',\n",
    "        'Oversized Sweaters'\n",
    "    ],\n",
    "    [\n",
    "        '44b0898ecce6cc1268dfdb0f91e053db014b973f67e34ed8ae28211410910693',\n",
    "        'Feb, 2024',\n",
    "        'Chris Johnson',\n",
    "        'Oversized Sweaters'\n",
    "    ],\n",
    "    [\n",
    "        '819f4eab1fd76b932fd403ae9f427de8eb9c5b64411d763bb26b5c8c3c30f16f',\n",
    "        'Feb, 2024',\n",
    "        'Robin Fischer',\n",
    "        'denim jeans'\n",
    "    ],\n",
    "]"
   ]
  },
  {
   "cell_type": "code",
   "execution_count": 34,
   "metadata": {
    "id": "XsBcFQLlekeI",
    "outputId": "974df8d3-1e34-44e2-e355-3c452f3844c6",
    "colab": {
     "base_uri": "https://localhost:8080/",
     "height": 1000
    }
   },
   "outputs": [
    {
     "name": "stdout",
     "output_type": "stream",
     "text": [
      "Running on local URL:  http://127.0.0.1:7860\n",
      "\n",
      "Could not create share link. Missing file: /Users/zachblumenfeld/demo/genai-workshop/env/lib/python3.10/site-packages/gradio/frpc_darwin_arm64_v0.2. \n",
      "\n",
      "Please check your internet connection. This can happen if your antivirus software blocks the download of this file. You can install manually by following these steps: \n",
      "\n",
      "1. Download this file: https://cdn-media.huggingface.co/frpc-gradio-0.2/frpc_darwin_arm64\n",
      "2. Rename the downloaded file to: frpc_darwin_arm64_v0.2\n",
      "3. Move the file to this location: /Users/zachblumenfeld/demo/genai-workshop/env/lib/python3.10/site-packages/gradio\n"
     ]
    },
    {
     "name": "stderr",
     "output_type": "stream",
     "text": [
      "\n"
     ]
    },
    {
     "data": {
      "text/plain": "<IPython.core.display.HTML object>",
      "text/html": "<div><iframe src=\"http://127.0.0.1:7860/\" width=\"100%\" height=\"500\" allow=\"autoplay; camera; microphone; clipboard-read; clipboard-write;\" frameborder=\"0\" allowfullscreen></iframe></div>"
     },
     "metadata": {},
     "output_type": "display_data"
    },
    {
     "name": "stdout",
     "output_type": "stream",
     "text": [
      "Keyboard interruption in main thread... closing server.\n",
      "Killing tunnel 127.0.0.1:7860 <> None\n"
     ]
    },
    {
     "data": {
      "text/plain": ""
     },
     "execution_count": 34,
     "metadata": {},
     "output_type": "execute_result"
    }
   ],
   "source": [
    "import gradio as gr\n",
    "\n",
    "def message_generator(*x):\n",
    "    chain = get_chain(x[0])\n",
    "    return chain.invoke({'searchPrompt':x[3], 'customerName':x[2], 'timeOfYear': x[1]})\n",
    "\n",
    "customer_id = gr.Textbox(value=CUSTOMER_ID, label=\"Customer ID\")\n",
    "time_of_year = gr.Textbox(value=\"Feb, 2024\", label=\"Time Of Year\")\n",
    "search_prompt_txt = gr.Textbox(value='Oversized Sweaters', label=\"Customer Interests(s)\")\n",
    "customer_name = gr.Textbox(value='Alex Smith', label=\"Customer Name\")\n",
    "message_result = gr.Markdown( label=\"Message\")\n",
    "\n",
    "demo = gr.Interface(fn=message_generator,\n",
    "                    inputs=[customer_id, time_of_year, customer_name, search_prompt_txt],\n",
    "                    outputs=message_result,\n",
    "                    examples=examples,\n",
    "                    title=\"🪄 Message Generator 🥳\")\n",
    "demo.launch(share=True, debug=True)"
   ]
  }
 ],
 "metadata": {
  "colab": {
   "provenance": [],
   "toc_visible": true
  },
  "kernelspec": {
   "display_name": "Python 3",
   "language": "python",
   "name": "python3"
  },
  "language_info": {
   "codemirror_mode": {
    "name": "ipython",
    "version": 2
   },
   "file_extension": ".py",
   "mimetype": "text/x-python",
   "name": "python",
   "nbconvert_exporter": "python",
   "pygments_lexer": "ipython2",
   "version": "2.7.6"
  }
 },
 "nbformat": 4,
 "nbformat_minor": 0
}
